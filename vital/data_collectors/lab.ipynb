{
 "cells": [
  {
   "cell_type": "code",
   "execution_count": 1,
   "metadata": {},
   "outputs": [],
   "source": [
    "# from ncbi_genome import NCBIGenome\n",
    "from covid19_genome import Covid19Genome"
   ]
  },
  {
   "cell_type": "code",
   "execution_count": 2,
   "metadata": {},
   "outputs": [],
   "source": [
    "# ncbi_genome = NCBIGenome()\n",
    "\n",
    "# ## Extract the taxa names from the file\n",
    "# with open(\"pathogenic-bacteria-taxa.txt\", \"r\") as f:\n",
    "#     taxa = [line.strip() for line in f]\n",
    "\n",
    "# ## Download the accessions\n",
    "# ncbi_genome.downloadAccessions(taxa, 100)"
   ]
  },
  {
   "cell_type": "code",
   "execution_count": 3,
   "metadata": {},
   "outputs": [
    {
     "name": "stdout",
     "output_type": "stream",
     "text": [
      "Building Data frame\n",
      "Done building Data frame\n",
      "Building remote dicts\n",
      "Done building remote dicts\n",
      "Building local dicts\n",
      "Done building local dicts\n",
      "java -jar cdp-file-downloader.jar --domain=VIRAL_SEQUENCES --datatype=SEQUENCES --format=FASTA --location=/host/home/user_7321/user_7321_backup/user_7321/docker/ProjectB---Vital/vital/data_collectors/data/covid19_genome//tmp/ --email=NONE --accessions=MW703031,MW070035,OD901188,MW705310,OD900951,OU079377,OU182365,OL816664,FR999252,MW065159,OK547999,MZ910911,OU369572,OU008745,MW562760,MT843753,LR881531,OL381151,MW885922,OL756900,MT474126,MW702812,ON159861,OK653838,MT873234,MW064744,MT920001,MZ141311,FR998656,LR794400,LR794681,OL915019,OL332559,MW645762,MZ002517,OL817173,ON174280,OK549101,MT520357,MZ681208,OU183816,OA992400,LR881734,OU085899,MT811197,OL739783,MT512419,MW493840,OL816981,OK659676,OD904928,OL816600,OK547322,MZ907535,MT877360,OU078294,MW986991,MT532437,OU181888,MZ503986,MZ072017,MW635549,OK598340,MT520470,OL756460,MZ180861,MW593188,MW064752,MW943731,MT835027,OK425510,MW049021,MW635642,MZ914822,MZ916341,OL691504,MW133994,OK465739,OM169306,MT821687,OL518870,MZ842486,MW902659,MW858564,OL408772,OK466468,OK466540,OA980728,LR814158,MT810774,MT614504,MT506690,OL840806,MW973920,MT509696,MW540135,MZ332297,MT370933,MZ373681,MT520479,FR993516,OB983214,MW645764,MT451385,MW539943,MW565617,MW190384,MW593380,OL365721,MT873111,MZ906181,OA977280,OL465225,OL434273,MT520530,OK401824,OK424980,MZ917693,OK546903,MZ780953,MZ155140,MZ253666,OA976085,MZ906400,MT937317,OL844385,MW584912,LR824458 --protocol=FTP --asperaLocation=null\n",
      "\n",
      "             #. ///////////////////       @@@@@@@      @@@@@@@@   @@@@    @@@    @@@@   @@@@@@@@@             @@@    @@@@@@@@\n",
      "        ###. #. /.   /////////////      @@@@  @@@@    @@@   @@@   @@@@   @@@    @@@@   @@@@  @@@@           @@@@   @@@   @@@@\n",
      "    #### #####.     /    /////////     @@@@          @@@    @@@   @@@@  @@@    @@@@   @@@@   @@@@          @@@@  @@@@   @@@@\n",
      "  ##  ########.        //  //////      @@@@         @@@@   @@@@   @@@@ @@@    @@@@   @@@@   @@@@   @@@@@  @@@@  @@@@@@@@@@@\n",
      " #############.             /////      @@@@   @@@   @@@    @@@    @@@@@@@    @@@@   @@@@   @@@@          @@@@         @@@\n",
      "(#############.             ////       @@@@ @@@@    @@@   @@@     @@@@@@    @@@@   @@@@@@@@@@           @@@@   @@@@  @@@\n",
      "(#############.          .  ////        @@@@@@@     @@@@@@@@      @@@@@    @@@@   @@@@@@@@@            @@@@    @@@@@@@@\n",
      " #############.             ///                                                                                              \n",
      "  ##  ########.        //  ////        ######    ##  #####  ##      #####   ####  #####  #####  ##    #\n",
      "    #### #####.     /    /////,        #    #   ###   ##   # #      #   #  #   #  #   #   #    # #   #\n",
      "        ###. #. /.   /////////         #    #  #  #   #   #  #     #####  #   #  ## ##   #    #  #  #\n",
      "             #, //////////////        ######  #   #  ##  #   #    #      ### #  #   #   #    #   # ####\n",
      "\n",
      " (Copyright © EMBL 2021)\n",
      "\n",
      "Welcome to the Covid-19 Data Portal's data downloader utility!\n",
      "----------------------------------------------\n"
     ]
    },
    {
     "name": "stderr",
     "output_type": "stream",
     "text": [
      "Downloading   ? % [        =                                                  ] 3/?MB (0:00:30 / ?) \n"
     ]
    },
    {
     "name": "stdout",
     "output_type": "stream",
     "text": [
      "Download completed to /host/home/user_7321/user_7321_backup/user_7321/docker/ProjectB---Vital/vital/data_collectors/data/covid19_genome//tmp//viral_sequences/sequences/fasta/20240214-2135.fasta.\n",
      "java -jar cdp-file-downloader.jar --domain=VIRAL_SEQUENCES --datatype=SEQUENCES --format=FASTA --location=/host/home/user_7321/user_7321_backup/user_7321/docker/ProjectB---Vital/vital/data_collectors/data/covid19_genome//tmp/ --email=NONE --accessions=MZ332284,OA978086,OA974851,FR994194,FR993712,OU490978,OA994555,MW751299,OM811370,OA983022,OK001946,OA973657,OA970571,GWHAOOT01000001,OD949506,OD913782,OA971944,OA964940,OA990409,OA970104,OA965756,OA969014,OK297030,FR999486,OA977493,OC999056,OA980394,OA971045,MW422127,OA971290,OA971987,OU161874,MW134536,FR993985,OA967350,OA990810,FR996740,OA979672,OA967638,OB990210,OD905943,FR995597,OD899509,OA971679,OK425742,OB996601,OA980003,MW030250,FR994118,MW452531,OA969933,OA973290,OA977394,OA979041,OD921232,OA970852,OC997911,OU471689,OB986965,OB986169,OA967872,MZ232364,MW266955,OA970075,OU182194,OA990165,FR999457,OA978924,OA979373,OA968726,OA970503,OA974862,OA984005,FR996845,OA965922,OA982027,OD919185,OA980147,OA976943,OA994911,OC998170,FR996327,MW705954,OC998189,OA998446,FR994826,MT451341,FR996805,MT745660,MZ323730,FR994272,GWHAOMN01000001,OB996594,OA971037,MW422066,OW109696,OA981954,GWHAOJY01000001,LR877901,OA976615,FR999532,OA972631,OA999028,MW780467,OA979078,MW030276,MT451568,OA973682,OB983704,OA969235,OA970270,MW985687,FR994793,OA980988,MW030262,OA978871,OA969385,OD939611,MZ332275,OA972802,OK001949,OB990674,OD909543,OD949751,OA967929,OA976117,OA973803,OA980157 --protocol=FTP --asperaLocation=null\n",
      "\n",
      "             #. ///////////////////       @@@@@@@      @@@@@@@@   @@@@    @@@    @@@@   @@@@@@@@@             @@@    @@@@@@@@\n",
      "        ###. #. /.   /////////////      @@@@  @@@@    @@@   @@@   @@@@   @@@    @@@@   @@@@  @@@@           @@@@   @@@   @@@@\n",
      "    #### #####.     /    /////////     @@@@          @@@    @@@   @@@@  @@@    @@@@   @@@@   @@@@          @@@@  @@@@   @@@@\n",
      "  ##  ########.        //  //////      @@@@         @@@@   @@@@   @@@@ @@@    @@@@   @@@@   @@@@   @@@@@  @@@@  @@@@@@@@@@@\n",
      " #############.             /////      @@@@   @@@   @@@    @@@    @@@@@@@    @@@@   @@@@   @@@@          @@@@         @@@\n",
      "(#############.             ////       @@@@ @@@@    @@@   @@@     @@@@@@    @@@@   @@@@@@@@@@           @@@@   @@@@  @@@\n",
      "(#############.          .  ////        @@@@@@@     @@@@@@@@      @@@@@    @@@@   @@@@@@@@@            @@@@    @@@@@@@@\n",
      " #############.             ///                                                                                              \n",
      "  ##  ########.        //  ////        ######    ##  #####  ##      #####   ####  #####  #####  ##    #\n",
      "    #### #####.     /    /////,        #    #   ###   ##   # #      #   #  #   #  #   #   #    # #   #\n",
      "        ###. #. /.   /////////         #    #  #  #   #   #  #     #####  #   #  ## ##   #    #  #  #\n",
      "             #, //////////////        ######  #   #  ##  #   #    #      ### #  #   #   #    #   # ####\n",
      "\n",
      " (Copyright © EMBL 2021)\n",
      "\n",
      "Welcome to the Covid-19 Data Portal's data downloader utility!\n",
      "----------------------------------------------\n"
     ]
    },
    {
     "name": "stderr",
     "output_type": "stream",
     "text": [
      "Downloading   ? % [  =                                                        ] 0/?MB (0:00:00 / ?) \n"
     ]
    },
    {
     "name": "stdout",
     "output_type": "stream",
     "text": [
      "Download completed to /host/home/user_7321/user_7321_backup/user_7321/docker/ProjectB---Vital/vital/data_collectors/data/covid19_genome//tmp//viral_sequences/sequences/fasta/20240214-2135.fasta.\n",
      "java -jar cdp-file-downloader.jar --domain=VIRAL_SEQUENCES --datatype=SEQUENCES --format=FASTA --location=/host/home/user_7321/user_7321_backup/user_7321/docker/ProjectB---Vital/vital/data_collectors/data/covid19_genome//tmp/ --email=NONE --accessions=OB987586,OA979083,OA973147,OK425688,FR998071,FR998076,FR995671,MW960280,MZ332314,FR994168,OA982129,OA994711,OA979395,HG999249,OB988185,OA964754,GWHAOKM01000001,OA973565,MZ332312,FR998570,OA979056,OA985200,OA965734,MT745692,OA973907,OB981768,OD949872,OA976507,OB982327,OU180756,OA977084,MW669022,OA974179,OB992359,OA978711,OA996181,OA981131,FR999998,OA967193,OB983200,OA979820,OA976809,FR996816,OA975949,MT745639,MW693427,MW497104,OA968009,OA976600,OA980451,OA976521,FR994829,OA964768,OA983211,FR998013,OB984081,MW030260,MW693626,GWHAOMP01000001,GWHAOMO01000001,GWHAOMK01000001,OA980832,OA975332,OB988345,OU815488,OD898100,OA980904,OA969688,OA974085,OD922505,HG994251,OU162957,OA983828,OA973158,OU182030,OD975308,MW030197,OA968276,OU166611,OA978418,OA973630,FR994625,OA969115,FR998129,OB982313,FR998000,OA978622,OB984020,OA972401,OB989372,OA979881,LR883630,MW639780,OA974878,OA978161,OA965892,OA976661,LR883633,OA970391,MW422128,MT745667,OA976824,OL913330,OA967037,OA996527,OA980466,OU806074,OU795823,FR995769,OA968428,OA977757,FR996479,OA971949,OA973661,FR997966,MW030241,MW327532,MW467504,OA979073,OA972157,OA965105,OA981342,OB982076,OA980524,OU802288,MZ779512,OM129036,LR883628 --protocol=FTP --asperaLocation=null\n",
      "\n",
      "             #. ///////////////////       @@@@@@@      @@@@@@@@   @@@@    @@@    @@@@   @@@@@@@@@             @@@    @@@@@@@@\n",
      "        ###. #. /.   /////////////      @@@@  @@@@    @@@   @@@   @@@@   @@@    @@@@   @@@@  @@@@           @@@@   @@@   @@@@\n",
      "    #### #####.     /    /////////     @@@@          @@@    @@@   @@@@  @@@    @@@@   @@@@   @@@@          @@@@  @@@@   @@@@\n",
      "  ##  ########.        //  //////      @@@@         @@@@   @@@@   @@@@ @@@    @@@@   @@@@   @@@@   @@@@@  @@@@  @@@@@@@@@@@\n",
      " #############.             /////      @@@@   @@@   @@@    @@@    @@@@@@@    @@@@   @@@@   @@@@          @@@@         @@@\n",
      "(#############.             ////       @@@@ @@@@    @@@   @@@     @@@@@@    @@@@   @@@@@@@@@@           @@@@   @@@@  @@@\n",
      "(#############.          .  ////        @@@@@@@     @@@@@@@@      @@@@@    @@@@   @@@@@@@@@            @@@@    @@@@@@@@\n",
      " #############.             ///                                                                                              \n",
      "  ##  ########.        //  ////        ######    ##  #####  ##      #####   ####  #####  #####  ##    #\n",
      "    #### #####.     /    /////,        #    #   ###   ##   # #      #   #  #   #  #   #   #    # #   #\n",
      "        ###. #. /.   /////////         #    #  #  #   #   #  #     #####  #   #  ## ##   #    #  #  #\n",
      "             #, //////////////        ######  #   #  ##  #   #    #      ### #  #   #   #    #   # ####\n",
      "\n",
      " (Copyright © EMBL 2021)\n",
      "\n",
      "Welcome to the Covid-19 Data Portal's data downloader utility!\n",
      "----------------------------------------------\n"
     ]
    },
    {
     "name": "stderr",
     "output_type": "stream",
     "text": [
      "Downloading   ? % [  =                                                        ] 0/?MB (0:00:00 / ?) \n"
     ]
    },
    {
     "name": "stdout",
     "output_type": "stream",
     "text": [
      "Download completed to /host/home/user_7321/user_7321_backup/user_7321/docker/ProjectB---Vital/vital/data_collectors/data/covid19_genome//tmp//viral_sequences/sequences/fasta/20240214-2135.fasta.\n",
      "java -jar cdp-file-downloader.jar --domain=VIRAL_SEQUENCES --datatype=SEQUENCES --format=FASTA --location=/host/home/user_7321/user_7321_backup/user_7321/docker/ProjectB---Vital/vital/data_collectors/data/covid19_genome//tmp/ --email=NONE --accessions=OA979013,OB991259,OA980766,OA968957,OA974921,OD907403,OA968743,OA966679,GWHAOOC01000001,OB991484,OA978961,OL756148,OU797673,OA977856,OU166435,OA969617,OA981251,OA977304,MZ155573,FR998125,OA968277,OA969974,OA979952,OA971395,MW422071,OD903316,OA980469,OD980670,LR877824,OB991555,OA982431,OA977695,MT459877,OA974441,OA980409,OA973929,OD904178,OA978638,MW780491,OA991080,OA991295,OA976851,OA977209,OM898301,OA975800,MW030199,OA974850,FR999817,OB984555,OA968268,MT972179,OK449068,OU599038,OA980429,OB985531,MW327516,OA971684,OA978084,OA975109,OA964275,OA980441,ON017184,OA975803,MW030273,OU807063,OD900265,OA964607,OA976819,OK449093,OA975962,OM725348,OA996488,OU000436,OA977451,OA970089,GWHAOOI01000001,FR999495,OC996457,FR991831,OA977214,OA978632,OA965742,OA979072,OA978183,OC996871,OM433246,OA969271,OA971221,OA975330,FR995170,OA976294,OA991400,OA970534,OA969350,LR814166,MZ001461,OA971692,OB993593,FR995202,FR990243,OA965751,OA968990,OM252786,OA982490,OA974906,OA970206,OA979695,OA991079,LR882116,OA970633,GWHAOLK01000001,OA965750,OA969870,OA972123,GWHAOLZ01000001,MW751327,FR993826,OA993914,OB997392,OC998079,OD965291,GWHAOML01000001,FR993728,MT972178,OA977210,OB984805,OA977047,OU171646 --protocol=FTP --asperaLocation=null\n",
      "\n",
      "             #. ///////////////////       @@@@@@@      @@@@@@@@   @@@@    @@@    @@@@   @@@@@@@@@             @@@    @@@@@@@@\n",
      "        ###. #. /.   /////////////      @@@@  @@@@    @@@   @@@   @@@@   @@@    @@@@   @@@@  @@@@           @@@@   @@@   @@@@\n",
      "    #### #####.     /    /////////     @@@@          @@@    @@@   @@@@  @@@    @@@@   @@@@   @@@@          @@@@  @@@@   @@@@\n",
      "  ##  ########.        //  //////      @@@@         @@@@   @@@@   @@@@ @@@    @@@@   @@@@   @@@@   @@@@@  @@@@  @@@@@@@@@@@\n",
      " #############.             /////      @@@@   @@@   @@@    @@@    @@@@@@@    @@@@   @@@@   @@@@          @@@@         @@@\n",
      "(#############.             ////       @@@@ @@@@    @@@   @@@     @@@@@@    @@@@   @@@@@@@@@@           @@@@   @@@@  @@@\n",
      "(#############.          .  ////        @@@@@@@     @@@@@@@@      @@@@@    @@@@   @@@@@@@@@            @@@@    @@@@@@@@\n",
      " #############.             ///                                                                                              \n",
      "  ##  ########.        //  ////        ######    ##  #####  ##      #####   ####  #####  #####  ##    #\n",
      "    #### #####.     /    /////,        #    #   ###   ##   # #      #   #  #   #  #   #   #    # #   #\n",
      "        ###. #. /.   /////////         #    #  #  #   #   #  #     #####  #   #  ## ##   #    #  #  #\n",
      "             #, //////////////        ######  #   #  ##  #   #    #      ### #  #   #   #    #   # ####\n",
      "\n",
      " (Copyright © EMBL 2021)\n",
      "\n",
      "Welcome to the Covid-19 Data Portal's data downloader utility!\n",
      "----------------------------------------------\n"
     ]
    },
    {
     "name": "stderr",
     "output_type": "stream",
     "text": [
      "Downloading   ? % [  =                                                        ] 0/?MB (0:00:00 / ?) \n"
     ]
    },
    {
     "name": "stdout",
     "output_type": "stream",
     "text": [
      "Download completed to /host/home/user_7321/user_7321_backup/user_7321/docker/ProjectB---Vital/vital/data_collectors/data/covid19_genome//tmp//viral_sequences/sequences/fasta/20240214-2135.fasta.\n",
      "java -jar cdp-file-downloader.jar --domain=VIRAL_SEQUENCES --datatype=SEQUENCES --format=FASTA --location=/host/home/user_7321/user_7321_backup/user_7321/docker/ProjectB---Vital/vital/data_collectors/data/covid19_genome//tmp/ --email=NONE --accessions=FR994223,OA977393,OK425531,OA976996,FR998133,OA983203,OA975963,OL756458,OA995671,OA965894,OA975346,OA969894,MW422041,OA994188,OA973334,OA974423,OA977561,OA964780,OB988375,OA983885,LR883186,FR999181,FR994677,OA990556,FR999182,OA979780,OA984092,FR993669,OD949617,OB989180,OA980411,OA976888,MT612120,OD903085,OK425595,OD920722,OU347684,OA981183,MT745648,FR995897,OB984141,OA973772,MW633901,OA969634,LR883782,FR996801,OA990696,OA969241,FR994804,FR995752,OU814239,FR993659,OA970122,FR994771,FR994237,OA978474,FR999020,OD921187,FR993637,MW467444,OU575969,FR994093,OA973338,OA973320,OA968749,OA975086,OA980214,FR995368,OA970284,OA975398,OA970323,OA976345,OA977256,OD910581,OA979835,OA981816,OA990604,OU413313,OA966475,LR883622,FR999093,OD908686,OU278318,LR824349,OA968755,OB995458,OA969910,OU447543,OM725338,OA996197,OA977537,OA990795,MT883499,OB982457,OA983530,OD920292,MW422016,MZ332350,FR990256,LR824308,OU421229,OA975516,OA993488,FR995918,OA972799,MZ323729,OL548960,FR995865,OA979075,OA973809,OK001942,OA968488,OU278309,FR996035,OB983496,OA978981,MW422006,FR994975,OA968052,OA969276,OA976828,OA996062,OB991103,MW030259,FR999097,OU448465,OL473821,OD925932 --protocol=FTP --asperaLocation=null\n",
      "\n",
      "             #. ///////////////////       @@@@@@@      @@@@@@@@   @@@@    @@@    @@@@   @@@@@@@@@             @@@    @@@@@@@@\n",
      "        ###. #. /.   /////////////      @@@@  @@@@    @@@   @@@   @@@@   @@@    @@@@   @@@@  @@@@           @@@@   @@@   @@@@\n",
      "    #### #####.     /    /////////     @@@@          @@@    @@@   @@@@  @@@    @@@@   @@@@   @@@@          @@@@  @@@@   @@@@\n",
      "  ##  ########.        //  //////      @@@@         @@@@   @@@@   @@@@ @@@    @@@@   @@@@   @@@@   @@@@@  @@@@  @@@@@@@@@@@\n",
      " #############.             /////      @@@@   @@@   @@@    @@@    @@@@@@@    @@@@   @@@@   @@@@          @@@@         @@@\n",
      "(#############.             ////       @@@@ @@@@    @@@   @@@     @@@@@@    @@@@   @@@@@@@@@@           @@@@   @@@@  @@@\n",
      "(#############.          .  ////        @@@@@@@     @@@@@@@@      @@@@@    @@@@   @@@@@@@@@            @@@@    @@@@@@@@\n",
      " #############.             ///                                                                                              \n",
      "  ##  ########.        //  ////        ######    ##  #####  ##      #####   ####  #####  #####  ##    #\n",
      "    #### #####.     /    /////,        #    #   ###   ##   # #      #   #  #   #  #   #   #    # #   #\n",
      "        ###. #. /.   /////////         #    #  #  #   #   #  #     #####  #   #  ## ##   #    #  #  #\n",
      "             #, //////////////        ######  #   #  ##  #   #    #      ### #  #   #   #    #   # ####\n",
      "\n",
      " (Copyright © EMBL 2021)\n",
      "\n",
      "Welcome to the Covid-19 Data Portal's data downloader utility!\n",
      "----------------------------------------------\n"
     ]
    },
    {
     "name": "stderr",
     "output_type": "stream",
     "text": [
      "Downloading   ? % [                                        =                  ] 3/?MB (0:00:16 / ?) \n"
     ]
    },
    {
     "name": "stdout",
     "output_type": "stream",
     "text": [
      "Download completed to /host/home/user_7321/user_7321_backup/user_7321/docker/ProjectB---Vital/vital/data_collectors/data/covid19_genome//tmp//viral_sequences/sequences/fasta/20240214-2135.fasta.\n",
      "java -jar cdp-file-downloader.jar --domain=VIRAL_SEQUENCES --datatype=SEQUENCES --format=FASTA --location=/host/home/user_7321/user_7321_backup/user_7321/docker/ProjectB---Vital/vital/data_collectors/data/covid19_genome//tmp/ --email=NONE --accessions=OD975918,OM766141,OA977869,FR995159,OA975114,FR998126,LR883093,OA970211,OA963919,OA973675,OA979298,OA968183,LR963225,OA969210,OA996455,OD925609,OA989870,GWHAOOU01000001,OA979087,FR991865,GWHAOOO01000001,OA977468,OU447082,OA979822,OA983973,OA965741,OA965908,OA979047,FR996281,OA970065,OA975115,OU799544,OA979989,OA969819,OA977150,OA980006,FR994031,FR997105,OA992328,OK234883,OC997567,LR860849,OA967652,OA965903,MW643838,OA969277,OA972629,OA980059,MW332239,OA980296,OA968380,OU218460,OA983032,OB982216,MZ323732,FR996973,FR996820,FR994631,OA976169,MW030207,OA976715,OB988184,OA971278,FR995315,OA978170,OD983556,MW030235,OA984113,OA967510,MW023935,OA982882,OA980959,OA978165,OA973567,FR994225,OU000432,OA973402,FR995703,OU181572,FR994196,OL471645,OA969244,OA978807,OA970208,OA978317,FR996391,OA979323,OA966348,OA980452,OA969865,OA971410,OU797245,MW147522,OD949522,OA970183,OA976551,OA965743,FR994875,OA977850,OA976898,OL691385,OA973443,OA975996,OA975511,OA967168,MW327526,OU488637,OA997303,OD914508,OA977400,FR994720,OU181578,MT745710,FR999821,OA970155,OA984480,OU162004,OA998552,GWHAOJV01000001,OD908692,FR996227,OA976677,FR999484,OA970274,MW030230,OB984308,OU798278,FR998031 --protocol=FTP --asperaLocation=null\n",
      "\n",
      "             #. ///////////////////       @@@@@@@      @@@@@@@@   @@@@    @@@    @@@@   @@@@@@@@@             @@@    @@@@@@@@\n",
      "        ###. #. /.   /////////////      @@@@  @@@@    @@@   @@@   @@@@   @@@    @@@@   @@@@  @@@@           @@@@   @@@   @@@@\n",
      "    #### #####.     /    /////////     @@@@          @@@    @@@   @@@@  @@@    @@@@   @@@@   @@@@          @@@@  @@@@   @@@@\n",
      "  ##  ########.        //  //////      @@@@         @@@@   @@@@   @@@@ @@@    @@@@   @@@@   @@@@   @@@@@  @@@@  @@@@@@@@@@@\n",
      " #############.             /////      @@@@   @@@   @@@    @@@    @@@@@@@    @@@@   @@@@   @@@@          @@@@         @@@\n",
      "(#############.             ////       @@@@ @@@@    @@@   @@@     @@@@@@    @@@@   @@@@@@@@@@           @@@@   @@@@  @@@\n",
      "(#############.          .  ////        @@@@@@@     @@@@@@@@      @@@@@    @@@@   @@@@@@@@@            @@@@    @@@@@@@@\n",
      " #############.             ///                                                                                              \n",
      "  ##  ########.        //  ////        ######    ##  #####  ##      #####   ####  #####  #####  ##    #\n",
      "    #### #####.     /    /////,        #    #   ###   ##   # #      #   #  #   #  #   #   #    # #   #\n",
      "        ###. #. /.   /////////         #    #  #  #   #   #  #     #####  #   #  ## ##   #    #  #  #\n",
      "             #, //////////////        ######  #   #  ##  #   #    #      ### #  #   #   #    #   # ####\n",
      "\n",
      " (Copyright © EMBL 2021)\n",
      "\n",
      "Welcome to the Covid-19 Data Portal's data downloader utility!\n",
      "----------------------------------------------\n"
     ]
    },
    {
     "name": "stderr",
     "output_type": "stream",
     "text": [
      "Downloading   ? % [  =                                                        ] 0/?MB (0:00:00 / ?) \n"
     ]
    },
    {
     "name": "stdout",
     "output_type": "stream",
     "text": [
      "Download completed to /host/home/user_7321/user_7321_backup/user_7321/docker/ProjectB---Vital/vital/data_collectors/data/covid19_genome//tmp//viral_sequences/sequences/fasta/20240214-2136.fasta.\n",
      "java -jar cdp-file-downloader.jar --domain=VIRAL_SEQUENCES --datatype=SEQUENCES --format=FASTA --location=/host/home/user_7321/user_7321_backup/user_7321/docker/ProjectB---Vital/vital/data_collectors/data/covid19_genome//tmp/ --email=NONE --accessions=FR999482,FR995928,OA982963,OA971054,FR999397,OA977401 --protocol=FTP --asperaLocation=null\n",
      "\n",
      "             #. ///////////////////       @@@@@@@      @@@@@@@@   @@@@    @@@    @@@@   @@@@@@@@@             @@@    @@@@@@@@\n",
      "        ###. #. /.   /////////////      @@@@  @@@@    @@@   @@@   @@@@   @@@    @@@@   @@@@  @@@@           @@@@   @@@   @@@@\n",
      "    #### #####.     /    /////////     @@@@          @@@    @@@   @@@@  @@@    @@@@   @@@@   @@@@          @@@@  @@@@   @@@@\n",
      "  ##  ########.        //  //////      @@@@         @@@@   @@@@   @@@@ @@@    @@@@   @@@@   @@@@   @@@@@  @@@@  @@@@@@@@@@@\n",
      " #############.             /////      @@@@   @@@   @@@    @@@    @@@@@@@    @@@@   @@@@   @@@@          @@@@         @@@\n",
      "(#############.             ////       @@@@ @@@@    @@@   @@@     @@@@@@    @@@@   @@@@@@@@@@           @@@@   @@@@  @@@\n",
      "(#############.          .  ////        @@@@@@@     @@@@@@@@      @@@@@    @@@@   @@@@@@@@@            @@@@    @@@@@@@@\n",
      " #############.             ///                                                                                              \n",
      "  ##  ########.        //  ////        ######    ##  #####  ##      #####   ####  #####  #####  ##    #\n",
      "    #### #####.     /    /////,        #    #   ###   ##   # #      #   #  #   #  #   #   #    # #   #\n",
      "        ###. #. /.   /////////         #    #  #  #   #   #  #     #####  #   #  ## ##   #    #  #  #\n",
      "             #, //////////////        ######  #   #  ##  #   #    #      ### #  #   #   #    #   # ####\n",
      "\n",
      " (Copyright © EMBL 2021)\n",
      "\n",
      "Welcome to the Covid-19 Data Portal's data downloader utility!\n",
      "----------------------------------------------\n"
     ]
    },
    {
     "name": "stderr",
     "output_type": "stream",
     "text": [
      "Downloading   ? % [                                  =                        ] 0/?MB (0:00:00 / ?) \n"
     ]
    },
    {
     "name": "stdout",
     "output_type": "stream",
     "text": [
      "Download completed to /host/home/user_7321/user_7321_backup/user_7321/docker/ProjectB---Vital/vital/data_collectors/data/covid19_genome//tmp//viral_sequences/sequences/fasta/20240214-2136.fasta.\n",
      "java -jar cdp-file-downloader.jar --domain=VIRAL_SEQUENCES --datatype=SEQUENCES --format=FASTA --location=/host/home/user_7321/user_7321_backup/user_7321/docker/ProjectB---Vital/vital/data_collectors/data/covid19_genome//tmp/ --email=NONE --accessions=OL980910,OL980988,OK427097,MW960291,OU066593,GWHAZOS01000001,OK548812,MW447632,OD920681,OU062575,OL980798,OA996176,OA974225,OB995544,OD917806,MZ305017,OV079399,MZ145288,OK650165,OB996440,OK399372,OL981138,OL981014,MW757208,OU277682,OL980615,OD945172,OV090744,OC999977,OL981131,OD901174,OD989755,OL980719,OK433504,OD953939,OU140766,OL980711,OL980964,MW447619,MW960276,OL980687,MZ578003,OU365513,MZ000340,OL980528,MT745634,MZ310510,OA996683,MZ266460,OL980652,OL981063,OL980676,OL980771,OV090867,OB986802,MT921782,MZ261728,OU995997,OL981101,OU281372,OD900531,OA994600,OL980952,MT921784,MT745694,OL980970,OV082485,MT955173,MT658508,OU368675,OD961121,OL981139,OV024164,OL981127,OL980824,MW783028,OL980973,OK426725,OV091520,OL981030,OL980568,OL980688,MZ841946,OD913248,MZ266506,OD949344,OL981045,OE996627,MW850576,OD906979,OL980754,OU159915,OA996293,OL980695,OL981185,MW181732,OC999623,OV087999,OD900631,OL980777,OA991292,OL980815,MW447640,OD904067,OL981162,MZ179500,OL981086,OD904579,MW691225,OU277870,OD945348,OL981091,OD900915,OU283095,OU069316,OV091476,OU078099,OL980599,MW595918,OL980806,MZ269100,OL551528,OL980890,OU011873,OL980753,OU170024,LR992088,MZ261635 --protocol=FTP --asperaLocation=null\n",
      "\n",
      "             #. ///////////////////       @@@@@@@      @@@@@@@@   @@@@    @@@    @@@@   @@@@@@@@@             @@@    @@@@@@@@\n",
      "        ###. #. /.   /////////////      @@@@  @@@@    @@@   @@@   @@@@   @@@    @@@@   @@@@  @@@@           @@@@   @@@   @@@@\n",
      "    #### #####.     /    /////////     @@@@          @@@    @@@   @@@@  @@@    @@@@   @@@@   @@@@          @@@@  @@@@   @@@@\n",
      "  ##  ########.        //  //////      @@@@         @@@@   @@@@   @@@@ @@@    @@@@   @@@@   @@@@   @@@@@  @@@@  @@@@@@@@@@@\n",
      " #############.             /////      @@@@   @@@   @@@    @@@    @@@@@@@    @@@@   @@@@   @@@@          @@@@         @@@\n",
      "(#############.             ////       @@@@ @@@@    @@@   @@@     @@@@@@    @@@@   @@@@@@@@@@           @@@@   @@@@  @@@\n",
      "(#############.          .  ////        @@@@@@@     @@@@@@@@      @@@@@    @@@@   @@@@@@@@@            @@@@    @@@@@@@@\n",
      " #############.             ///                                                                                              \n",
      "  ##  ########.        //  ////        ######    ##  #####  ##      #####   ####  #####  #####  ##    #\n",
      "    #### #####.     /    /////,        #    #   ###   ##   # #      #   #  #   #  #   #   #    # #   #\n",
      "        ###. #. /.   /////////         #    #  #  #   #   #  #     #####  #   #  ## ##   #    #  #  #\n",
      "             #, //////////////        ######  #   #  ##  #   #    #      ### #  #   #   #    #   # ####\n",
      "\n",
      " (Copyright © EMBL 2021)\n",
      "\n",
      "Welcome to the Covid-19 Data Portal's data downloader utility!\n",
      "----------------------------------------------\n"
     ]
    },
    {
     "name": "stderr",
     "output_type": "stream",
     "text": [
      "Downloading   ? % [  =                                                        ] 0/?MB (0:00:00 / ?) \n"
     ]
    },
    {
     "name": "stdout",
     "output_type": "stream",
     "text": [
      "Download completed to /host/home/user_7321/user_7321_backup/user_7321/docker/ProjectB---Vital/vital/data_collectors/data/covid19_genome//tmp//viral_sequences/sequences/fasta/20240214-2136.fasta.\n",
      "java -jar cdp-file-downloader.jar --domain=VIRAL_SEQUENCES --datatype=SEQUENCES --format=FASTA --location=/host/home/user_7321/user_7321_backup/user_7321/docker/ProjectB---Vital/vital/data_collectors/data/covid19_genome//tmp/ --email=NONE --accessions=OL980670,MZ266483,OL981081,OD914105,OL981135,OL981057,OL980744,OL980943,OK426941,MT972113,OL981156,MW960293,OL980982,OL981001,MZ317894,OL981069,OV024256,MW555320,OL981017,OL980962,OL980928,OL980732,OB986818,OV090802,MW751055,MZ266512,OL980740,OU368727,OD907660,OL980693,OA998698,OL980842,OU277715,OB987266,OL980643,OL980839,MT940474,OC996708,OD898523,OL980683,OD900899,OV091502,OA991765,OL980618,OL981175,FR990920,OL980550,OL981126,OL981096,OC996662,OL980742,OE996959,OA995665,MZ255008,OE997040,MZ562755,OL981108,OL981168,OV091541,OL980773,OA984715,OL980788,OL980738,OV090911,MZ266463,OD945311,OD908932,OV081755,OD917740,OL981029,OL980977,OU999390,OD907872,OL981155,OK426414,OU990181,OL981179,GWHAZJB01000001,MZ266456,OL981013,OL980851,OL981056,OC997877,MW447628,OL980775,OL980563,OA990553,OL981105,OL980878,OC999418,OL980789,OL980884,MZ262301,OL981019,OD920392,OD997221,OL980619,MZ340512,MZ266569,OU062599,OB985705,OL980768,OL980956,OL980790,OL981100,OD940834,OU282675,OM073914,MZ907431,OL980976,OB987264,OL980734,OV090027,MZ254987,OV082451,MW960282,OL980791,OD978914,OL981181,OL849335,OL980892,OL981171,OL980718,OD926103,MZ001142,OL980756,OA968215,OL980691 --protocol=FTP --asperaLocation=null\n",
      "\n",
      "             #. ///////////////////       @@@@@@@      @@@@@@@@   @@@@    @@@    @@@@   @@@@@@@@@             @@@    @@@@@@@@\n",
      "        ###. #. /.   /////////////      @@@@  @@@@    @@@   @@@   @@@@   @@@    @@@@   @@@@  @@@@           @@@@   @@@   @@@@\n",
      "    #### #####.     /    /////////     @@@@          @@@    @@@   @@@@  @@@    @@@@   @@@@   @@@@          @@@@  @@@@   @@@@\n",
      "  ##  ########.        //  //////      @@@@         @@@@   @@@@   @@@@ @@@    @@@@   @@@@   @@@@   @@@@@  @@@@  @@@@@@@@@@@\n",
      " #############.             /////      @@@@   @@@   @@@    @@@    @@@@@@@    @@@@   @@@@   @@@@          @@@@         @@@\n",
      "(#############.             ////       @@@@ @@@@    @@@   @@@     @@@@@@    @@@@   @@@@@@@@@@           @@@@   @@@@  @@@\n",
      "(#############.          .  ////        @@@@@@@     @@@@@@@@      @@@@@    @@@@   @@@@@@@@@            @@@@    @@@@@@@@\n",
      " #############.             ///                                                                                              \n",
      "  ##  ########.        //  ////        ######    ##  #####  ##      #####   ####  #####  #####  ##    #\n",
      "    #### #####.     /    /////,        #    #   ###   ##   # #      #   #  #   #  #   #   #    # #   #\n",
      "        ###. #. /.   /////////         #    #  #  #   #   #  #     #####  #   #  ## ##   #    #  #  #\n",
      "             #, //////////////        ######  #   #  ##  #   #    #      ### #  #   #   #    #   # ####\n",
      "\n",
      " (Copyright © EMBL 2021)\n",
      "\n",
      "Welcome to the Covid-19 Data Portal's data downloader utility!\n",
      "----------------------------------------------\n"
     ]
    },
    {
     "name": "stderr",
     "output_type": "stream",
     "text": [
      "Downloading   ? % [  =                                                        ] 0/?MB (0:00:00 / ?) \n"
     ]
    },
    {
     "name": "stdout",
     "output_type": "stream",
     "text": [
      "Download completed to /host/home/user_7321/user_7321_backup/user_7321/docker/ProjectB---Vital/vital/data_collectors/data/covid19_genome//tmp//viral_sequences/sequences/fasta/20240214-2136.fasta.\n",
      "java -jar cdp-file-downloader.jar --domain=VIRAL_SEQUENCES --datatype=SEQUENCES --format=FASTA --location=/host/home/user_7321/user_7321_backup/user_7321/docker/ProjectB---Vital/vital/data_collectors/data/covid19_genome//tmp/ --email=NONE --accessions=OA990543,OV090780,OB983415,OU174771,OU088545,OV081320,OL981137,OA991752,OD968810,OV002587,OV091512,MZ268626,OK249968,LC654326,OD915536,OL981059,MZ266470,OB998640,OB991976,OL980825,GWHAZPF01000001,OV079373,MZ266488,OL980551,OL981133,OV091521,OL980810,OD955010,OD918749,OL981153,OL981099,OD925320,OL980881,MW545314,OD948617,OL980933,OU996357,OD907965,OD919051,OV090859,OB990228,OL981116,OV081705,OL980572,GWHAOLQ01000001,OL981144,OV040467,OL980606,OV082531,OD902886,OL980862,OL981047,OV024247,OB987662,OL980766,OL981074,OL981083,OD945155,MT745616,MZ315011,OD923292,OU200297,OL980725,OL981093,OL980500,OL980576,OU137241,OL981064,OL980700,MW768958,MT560682,OL980702,OV009572,OD939543,OA975488,OU087476,OB987286,OU068588,OV029560,MW974389,OU388005,OL980686,OL980645,OA976969,OL980946,OL980761,MZ268642,OE999309,OL981161,FR990951,OL980524,OB998645,OL981113,MT972190,OV005925,OL980672,OV087928,MW332213,OV006218,OL981020,OA995998,OD916087,OE997240,OC997084,OD942935,OL980996,OL980713,HG994250,OL980705,OL980758,OL981046,GWHAOLJ01000001,OA974734,OV081790,OL980883,OL980991,OL980845,OU278171,OL980930,OL980759,OL980908,MT972111,OL981031,OL980783,MT972568,OV082456,OL980833,OD942708 --protocol=FTP --asperaLocation=null\n",
      "\n",
      "             #. ///////////////////       @@@@@@@      @@@@@@@@   @@@@    @@@    @@@@   @@@@@@@@@             @@@    @@@@@@@@\n",
      "        ###. #. /.   /////////////      @@@@  @@@@    @@@   @@@   @@@@   @@@    @@@@   @@@@  @@@@           @@@@   @@@   @@@@\n",
      "    #### #####.     /    /////////     @@@@          @@@    @@@   @@@@  @@@    @@@@   @@@@   @@@@          @@@@  @@@@   @@@@\n",
      "  ##  ########.        //  //////      @@@@         @@@@   @@@@   @@@@ @@@    @@@@   @@@@   @@@@   @@@@@  @@@@  @@@@@@@@@@@\n",
      " #############.             /////      @@@@   @@@   @@@    @@@    @@@@@@@    @@@@   @@@@   @@@@          @@@@         @@@\n",
      "(#############.             ////       @@@@ @@@@    @@@   @@@     @@@@@@    @@@@   @@@@@@@@@@           @@@@   @@@@  @@@\n",
      "(#############.          .  ////        @@@@@@@     @@@@@@@@      @@@@@    @@@@   @@@@@@@@@            @@@@    @@@@@@@@\n",
      " #############.             ///                                                                                              \n",
      "  ##  ########.        //  ////        ######    ##  #####  ##      #####   ####  #####  #####  ##    #\n",
      "    #### #####.     /    /////,        #    #   ###   ##   # #      #   #  #   #  #   #   #    # #   #\n",
      "        ###. #. /.   /////////         #    #  #  #   #   #  #     #####  #   #  ## ##   #    #  #  #\n",
      "             #, //////////////        ######  #   #  ##  #   #    #      ### #  #   #   #    #   # ####\n",
      "\n",
      " (Copyright © EMBL 2021)\n",
      "\n",
      "Welcome to the Covid-19 Data Portal's data downloader utility!\n",
      "----------------------------------------------\n"
     ]
    },
    {
     "name": "stderr",
     "output_type": "stream",
     "text": [
      "Downloading   ? % [  =                                                        ] 0/?MB (0:00:00 / ?) \n"
     ]
    },
    {
     "name": "stdout",
     "output_type": "stream",
     "text": [
      "Download completed to /host/home/user_7321/user_7321_backup/user_7321/docker/ProjectB---Vital/vital/data_collectors/data/covid19_genome//tmp//viral_sequences/sequences/fasta/20240214-2136.fasta.\n",
      "java -jar cdp-file-downloader.jar --domain=VIRAL_SEQUENCES --datatype=SEQUENCES --format=FASTA --location=/host/home/user_7321/user_7321_backup/user_7321/docker/ProjectB---Vital/vital/data_collectors/data/covid19_genome//tmp/ --email=NONE --accessions=MZ266484,OU054715,OL981132,OD999390,OL980809,MZ266473,GWHAOLC01000001,OL980679,OU175365 --protocol=FTP --asperaLocation=null\n",
      "\n",
      "             #. ///////////////////       @@@@@@@      @@@@@@@@   @@@@    @@@    @@@@   @@@@@@@@@             @@@    @@@@@@@@\n",
      "        ###. #. /.   /////////////      @@@@  @@@@    @@@   @@@   @@@@   @@@    @@@@   @@@@  @@@@           @@@@   @@@   @@@@\n",
      "    #### #####.     /    /////////     @@@@          @@@    @@@   @@@@  @@@    @@@@   @@@@   @@@@          @@@@  @@@@   @@@@\n",
      "  ##  ########.        //  //////      @@@@         @@@@   @@@@   @@@@ @@@    @@@@   @@@@   @@@@   @@@@@  @@@@  @@@@@@@@@@@\n",
      " #############.             /////      @@@@   @@@   @@@    @@@    @@@@@@@    @@@@   @@@@   @@@@          @@@@         @@@\n",
      "(#############.             ////       @@@@ @@@@    @@@   @@@     @@@@@@    @@@@   @@@@@@@@@@           @@@@   @@@@  @@@\n",
      "(#############.          .  ////        @@@@@@@     @@@@@@@@      @@@@@    @@@@   @@@@@@@@@            @@@@    @@@@@@@@\n",
      " #############.             ///                                                                                              \n",
      "  ##  ########.        //  ////        ######    ##  #####  ##      #####   ####  #####  #####  ##    #\n",
      "    #### #####.     /    /////,        #    #   ###   ##   # #      #   #  #   #  #   #   #    # #   #\n",
      "        ###. #. /.   /////////         #    #  #  #   #   #  #     #####  #   #  ## ##   #    #  #  #\n",
      "             #, //////////////        ######  #   #  ##  #   #    #      ### #  #   #   #    #   # ####\n",
      "\n",
      " (Copyright © EMBL 2021)\n",
      "\n",
      "Welcome to the Covid-19 Data Portal's data downloader utility!\n",
      "----------------------------------------------\n"
     ]
    },
    {
     "name": "stderr",
     "output_type": "stream",
     "text": [
      "Downloading   ? % [  =                                                        ] 0/?MB (0:00:00 / ?) \n"
     ]
    },
    {
     "name": "stdout",
     "output_type": "stream",
     "text": [
      "Download completed to /host/home/user_7321/user_7321_backup/user_7321/docker/ProjectB---Vital/vital/data_collectors/data/covid19_genome//tmp//viral_sequences/sequences/fasta/20240214-2136.fasta.\n",
      "java -jar cdp-file-downloader.jar --domain=VIRAL_SEQUENCES --datatype=SEQUENCES --format=FASTA --location=/host/home/user_7321/user_7321_backup/user_7321/docker/ProjectB---Vital/vital/data_collectors/data/covid19_genome//tmp/ --email=NONE --accessions=OM182247,OM078554,OL556224,OL317152,OL329618,OK352791,OL459050,OL637254,OL324759,OK179474,OL775736,OK088008,OL923621,OL785997,OM050756,MZ841325,OL736719,OM043151,OK543188,OL349717,OL930573,OL496589,MZ987979,MZ798323,MZ878383,MZ933884,OM045318,OL811385,OL949866,OL852729,OK179965,OL903168,OL239095,OK609235,OM019782,OK370849,OL883573,OK108505,OK121261,OM076926,MZ989159,OK020767,OM052173,OK500812,OL306685,OK460152,OK090159,OL610087,OL823273,OK175989,OL718628,OK466897,OL637879,OL945391,OL926146,OL804988,OM031668,OL401312,OL557847,OL809393,OL967533,OL930801,OK034674,OL796049,OK133035,OK457623,OK525903,OK089941,MZ669513,OK217553,MZ839139,OK176875,OK180355,MZ941674,OL355975,OK237328,OL362955,OL833592,OL846398,OL836053,OL860417,OK005499,OK406334,MZ948562,OK472076,OM018942,OM101491,OL774216,OL714097,OL420609,OK401432,OL785470,OL995278,OL719506,OV004907,OK260810,OL940615,OL600253,ON132036,OL706654,OL948159,OL486030,OL741456,OK140580,OK286357,OK627291,OL500521,OM258919,OM053626,OL307524,OL673081,OL875488,OK355958,OM653871,OM087892,OL802443,OK441495,OK494760,OK542790,OK621270,OL976335,OM432902,OL746748,OK285472,OL352564,OL745748,OM046954,OL596707 --protocol=FTP --asperaLocation=null\n",
      "\n",
      "             #. ///////////////////       @@@@@@@      @@@@@@@@   @@@@    @@@    @@@@   @@@@@@@@@             @@@    @@@@@@@@\n",
      "        ###. #. /.   /////////////      @@@@  @@@@    @@@   @@@   @@@@   @@@    @@@@   @@@@  @@@@           @@@@   @@@   @@@@\n",
      "    #### #####.     /    /////////     @@@@          @@@    @@@   @@@@  @@@    @@@@   @@@@   @@@@          @@@@  @@@@   @@@@\n",
      "  ##  ########.        //  //////      @@@@         @@@@   @@@@   @@@@ @@@    @@@@   @@@@   @@@@   @@@@@  @@@@  @@@@@@@@@@@\n",
      " #############.             /////      @@@@   @@@   @@@    @@@    @@@@@@@    @@@@   @@@@   @@@@          @@@@         @@@\n",
      "(#############.             ////       @@@@ @@@@    @@@   @@@     @@@@@@    @@@@   @@@@@@@@@@           @@@@   @@@@  @@@\n",
      "(#############.          .  ////        @@@@@@@     @@@@@@@@      @@@@@    @@@@   @@@@@@@@@            @@@@    @@@@@@@@\n",
      " #############.             ///                                                                                              \n",
      "  ##  ########.        //  ////        ######    ##  #####  ##      #####   ####  #####  #####  ##    #\n",
      "    #### #####.     /    /////,        #    #   ###   ##   # #      #   #  #   #  #   #   #    # #   #\n",
      "        ###. #. /.   /////////         #    #  #  #   #   #  #     #####  #   #  ## ##   #    #  #  #\n",
      "             #, //////////////        ######  #   #  ##  #   #    #      ### #  #   #   #    #   # ####\n",
      "\n",
      " (Copyright © EMBL 2021)\n",
      "\n",
      "Welcome to the Covid-19 Data Portal's data downloader utility!\n",
      "----------------------------------------------\n"
     ]
    },
    {
     "name": "stderr",
     "output_type": "stream",
     "text": [
      "Downloading   ? % [            =                                              ] 3/?MB (0:00:26 / ?) \n"
     ]
    },
    {
     "name": "stdout",
     "output_type": "stream",
     "text": [
      "Download completed to /host/home/user_7321/user_7321_backup/user_7321/docker/ProjectB---Vital/vital/data_collectors/data/covid19_genome//tmp//viral_sequences/sequences/fasta/20240214-2136.fasta.\n",
      "java -jar cdp-file-downloader.jar --domain=VIRAL_SEQUENCES --datatype=SEQUENCES --format=FASTA --location=/host/home/user_7321/user_7321_backup/user_7321/docker/ProjectB---Vital/vital/data_collectors/data/covid19_genome//tmp/ --email=NONE --accessions=OK520291,OV077486,OK542149,OK186769,OK287663,OK486706,OK238426,ON339050,OL325850,OL387285,OL551003,MZ532205,OM401152,MZ967598,OM014534,MZ887830,MZ581252,OK378688,OK158956,OL429431,OK116935,MZ650865,OL901764,OK061085,OK117643,OM295511,MZ809393,MZ776381,OK378744,OL820294,MZ929496,MZ477981,OL680711,OK039514,OK397700,ON085125,OK016348,OM127187,OL426771,OK397767,MZ729235,OK363621,OM031941,OL591669,OK117752,OK276109,OM316511,OL421680,MZ843464,OK099489,OK606551,OL735686,OL512621,OL694973,OK056608,OL366117,OL488117,ON085113,MZ688322,OK518425,MZ532306,OL695108,OL705495,OL946508,OK459373,OL695145,OL731900,OL708954,OM316467,MZ843230,OK362099,OL902194,OL970195,OL681473,OL482053,OK068356,OL516054,OK390852,MZ952077,OK133986,OK406314,OK056670,MZ801219,OM095771,OL368786,OL740940,MZ634285,MZ662148,OL452369,OM280761,OL824164,OL418633,OK410572,OK293038,OK485903,MZ893369,OL323412,MZ784281,OK349728,MZ477932,OL613119,OL379101,OL732811,OM146831,OK519754,MZ532311,OL787664,OM052554,OK487066,OK301406,OK366480,MZ952256,MZ714680,OK577780,OK139867,ON084999,OL832639,OK308325,MZ815132,OL404639,OK057623,MZ815123,OL541311,OK058047,OK288794,OM111272,MZ866288,MZ917009 --protocol=FTP --asperaLocation=null\n",
      "\n",
      "             #. ///////////////////       @@@@@@@      @@@@@@@@   @@@@    @@@    @@@@   @@@@@@@@@             @@@    @@@@@@@@\n",
      "        ###. #. /.   /////////////      @@@@  @@@@    @@@   @@@   @@@@   @@@    @@@@   @@@@  @@@@           @@@@   @@@   @@@@\n",
      "    #### #####.     /    /////////     @@@@          @@@    @@@   @@@@  @@@    @@@@   @@@@   @@@@          @@@@  @@@@   @@@@\n",
      "  ##  ########.        //  //////      @@@@         @@@@   @@@@   @@@@ @@@    @@@@   @@@@   @@@@   @@@@@  @@@@  @@@@@@@@@@@\n",
      " #############.             /////      @@@@   @@@   @@@    @@@    @@@@@@@    @@@@   @@@@   @@@@          @@@@         @@@\n",
      "(#############.             ////       @@@@ @@@@    @@@   @@@     @@@@@@    @@@@   @@@@@@@@@@           @@@@   @@@@  @@@\n",
      "(#############.          .  ////        @@@@@@@     @@@@@@@@      @@@@@    @@@@   @@@@@@@@@            @@@@    @@@@@@@@\n",
      " #############.             ///                                                                                              \n",
      "  ##  ########.        //  ////        ######    ##  #####  ##      #####   ####  #####  #####  ##    #\n",
      "    #### #####.     /    /////,        #    #   ###   ##   # #      #   #  #   #  #   #   #    # #   #\n",
      "        ###. #. /.   /////////         #    #  #  #   #   #  #     #####  #   #  ## ##   #    #  #  #\n",
      "             #, //////////////        ######  #   #  ##  #   #    #      ### #  #   #   #    #   # ####\n",
      "\n",
      " (Copyright © EMBL 2021)\n",
      "\n",
      "Welcome to the Covid-19 Data Portal's data downloader utility!\n",
      "----------------------------------------------\n"
     ]
    },
    {
     "name": "stderr",
     "output_type": "stream",
     "text": [
      "Downloading   ? % [                =                                          ] 3/?MB (0:00:21 / ?) \n"
     ]
    },
    {
     "name": "stdout",
     "output_type": "stream",
     "text": [
      "Download completed to /host/home/user_7321/user_7321_backup/user_7321/docker/ProjectB---Vital/vital/data_collectors/data/covid19_genome//tmp//viral_sequences/sequences/fasta/20240214-2136.fasta.\n",
      "java -jar cdp-file-downloader.jar --domain=VIRAL_SEQUENCES --datatype=SEQUENCES --format=FASTA --location=/host/home/user_7321/user_7321_backup/user_7321/docker/ProjectB---Vital/vital/data_collectors/data/covid19_genome//tmp/ --email=NONE --accessions=OM210889,OK361662,OL808824,OM316526,OL555054,ON120746,MZ878162,OK039839,OL563847,OK486916,OL554642,OK068078,OK301515,OK165803,OK542276,MZ768442,OK610699,OM643145,OL482665,OK137587,OM458674,OL584661,MZ877943,OL943166,OL566130,OL842429,OL341817,OM503351,OK265022,OK454708,OK080305,OK374968,OL368091,OL428282,MZ581209,MZ992484,OM316465,OM401156,MZ532204,OM182530,OK111561,OM316528,OL622326,OM316469,OL325790,OK033012,OK254738,OL388022,OK411377,OK068093,OM689144,OM316522,OK556967,MZ581309,MZ591172,MZ766116,OK364929,MZ967517,OL550064,MZ581146,OK024174,MZ616559,OL356721,MZ686026,OK464309,OK161851,OK397652,MZ893389,MZ878121,OK607422,OK623088,OL748808,OL347199,OK101337,OK262509,OL348571,MZ591252,OK276531,OL688330,OK387983,OK268600,OL553903,OL340876,OL553926,MZ878148,OL573411,OK380516,MZ555042,MZ717151,OK374963,OK302176,OK507261,OL399368,OK523510,OK608921,OK055387,OL791559,OK134965,OK269904,OL610953,OM316464,OL391738,OL388995,OL571669,OK058197,OM460370,OL427069,MZ882761,OL240755,OK143703,OK484295,OL922092,OK494923,OM690707,OL341219,OL418793,OK385472,MZ995420,OK079925,OK650376,MZ916862,OL399342,OL626044,OK572075,OL675569,OK655065,OL666271,OL422095 --protocol=FTP --asperaLocation=null\n",
      "\n",
      "             #. ///////////////////       @@@@@@@      @@@@@@@@   @@@@    @@@    @@@@   @@@@@@@@@             @@@    @@@@@@@@\n",
      "        ###. #. /.   /////////////      @@@@  @@@@    @@@   @@@   @@@@   @@@    @@@@   @@@@  @@@@           @@@@   @@@   @@@@\n",
      "    #### #####.     /    /////////     @@@@          @@@    @@@   @@@@  @@@    @@@@   @@@@   @@@@          @@@@  @@@@   @@@@\n",
      "  ##  ########.        //  //////      @@@@         @@@@   @@@@   @@@@ @@@    @@@@   @@@@   @@@@   @@@@@  @@@@  @@@@@@@@@@@\n",
      " #############.             /////      @@@@   @@@   @@@    @@@    @@@@@@@    @@@@   @@@@   @@@@          @@@@         @@@\n",
      "(#############.             ////       @@@@ @@@@    @@@   @@@     @@@@@@    @@@@   @@@@@@@@@@           @@@@   @@@@  @@@\n",
      "(#############.          .  ////        @@@@@@@     @@@@@@@@      @@@@@    @@@@   @@@@@@@@@            @@@@    @@@@@@@@\n",
      " #############.             ///                                                                                              \n",
      "  ##  ########.        //  ////        ######    ##  #####  ##      #####   ####  #####  #####  ##    #\n",
      "    #### #####.     /    /////,        #    #   ###   ##   # #      #   #  #   #  #   #   #    # #   #\n",
      "        ###. #. /.   /////////         #    #  #  #   #   #  #     #####  #   #  ## ##   #    #  #  #\n",
      "             #, //////////////        ######  #   #  ##  #   #    #      ### #  #   #   #    #   # ####\n",
      "\n",
      " (Copyright © EMBL 2021)\n",
      "\n",
      "Welcome to the Covid-19 Data Portal's data downloader utility!\n",
      "----------------------------------------------\n"
     ]
    },
    {
     "name": "stderr",
     "output_type": "stream",
     "text": [
      "Downloading   ? % [                  =                                        ] 3/?MB (0:00:19 / ?) \n"
     ]
    },
    {
     "name": "stdout",
     "output_type": "stream",
     "text": [
      "Download completed to /host/home/user_7321/user_7321_backup/user_7321/docker/ProjectB---Vital/vital/data_collectors/data/covid19_genome//tmp//viral_sequences/sequences/fasta/20240214-2137.fasta.\n",
      "java -jar cdp-file-downloader.jar --domain=VIRAL_SEQUENCES --datatype=SEQUENCES --format=FASTA --location=/host/home/user_7321/user_7321_backup/user_7321/docker/ProjectB---Vital/vital/data_collectors/data/covid19_genome//tmp/ --email=NONE --accessions=OL356777,OU983023,OL684249,OK451165,OK201969,MZ581312,OL453079,OL368244,OK557052,OL850280,OL328792,OK609897,OK359633,OL730873,OK362232,OK116165,OK144486,OL546851,OK134239,MZ952100,OK309056,OL740921,MZ993728,OL688173,OK068163,OK482001,OK365171,OM045349,OU531107,OK507251,MZ634283,OL379623,OK166244,OK458063,OM316468,MZ441040,OK026857,MZ797092,OM642972,OM634790,MZ544765,OK608964,OM316531,OK606592,OL433338,MZ878152,OL974031,OK523743,MZ713878,OK292444,OK516588,OK557159,OL421813,OM316530,OM139596,OL340296,OL577692,MZ843197,OL558039,MZ532076,OL904539,OL886217,OM000776,OL916340,MZ581182,OK366669,OL570805,OK134069,MZ581310,OK288386,OK380646,OL402438,OK612334,MZ832635,OK519610,OL488659,OK608121,OK396410,OK117699,OK608459,OM109022,MZ988024,OK229997,OL575920,OL783589,MZ952365,MZ592672,MZ532339,OK110700,MZ843272,OK107944,OL749056,OK007256,OK219256,OK599125,OK629989,ON165833,OK518639,OL558907,OK495257,OM121190,OK578176,OK154926,OK058204,OK361693,OK305818,OL682810,OL317718,MZ815288,OK296270,OK363586,OK486957,OK295895,OK447489,OM111972,OL368237,OK366884,OK453687,OM402560,OK379736,OK039778,MZ683671,OK126378,OL495989,OK154525,OK137670,OK408960,OL541102 --protocol=FTP --asperaLocation=null\n",
      "\n",
      "             #. ///////////////////       @@@@@@@      @@@@@@@@   @@@@    @@@    @@@@   @@@@@@@@@             @@@    @@@@@@@@\n",
      "        ###. #. /.   /////////////      @@@@  @@@@    @@@   @@@   @@@@   @@@    @@@@   @@@@  @@@@           @@@@   @@@   @@@@\n",
      "    #### #####.     /    /////////     @@@@          @@@    @@@   @@@@  @@@    @@@@   @@@@   @@@@          @@@@  @@@@   @@@@\n",
      "  ##  ########.        //  //////      @@@@         @@@@   @@@@   @@@@ @@@    @@@@   @@@@   @@@@   @@@@@  @@@@  @@@@@@@@@@@\n",
      " #############.             /////      @@@@   @@@   @@@    @@@    @@@@@@@    @@@@   @@@@   @@@@          @@@@         @@@\n",
      "(#############.             ////       @@@@ @@@@    @@@   @@@     @@@@@@    @@@@   @@@@@@@@@@           @@@@   @@@@  @@@\n",
      "(#############.          .  ////        @@@@@@@     @@@@@@@@      @@@@@    @@@@   @@@@@@@@@            @@@@    @@@@@@@@\n",
      " #############.             ///                                                                                              \n",
      "  ##  ########.        //  ////        ######    ##  #####  ##      #####   ####  #####  #####  ##    #\n",
      "    #### #####.     /    /////,        #    #   ###   ##   # #      #   #  #   #  #   #   #    # #   #\n",
      "        ###. #. /.   /////////         #    #  #  #   #   #  #     #####  #   #  ## ##   #    #  #  #\n",
      "             #, //////////////        ######  #   #  ##  #   #    #      ### #  #   #   #    #   # ####\n",
      "\n",
      " (Copyright © EMBL 2021)\n",
      "\n",
      "Welcome to the Covid-19 Data Portal's data downloader utility!\n",
      "----------------------------------------------\n"
     ]
    },
    {
     "name": "stderr",
     "output_type": "stream",
     "text": [
      "Downloading   ? % [                                        =                  ] 3/?MB (0:00:17 / ?) \n"
     ]
    },
    {
     "name": "stdout",
     "output_type": "stream",
     "text": [
      "Download completed to /host/home/user_7321/user_7321_backup/user_7321/docker/ProjectB---Vital/vital/data_collectors/data/covid19_genome//tmp//viral_sequences/sequences/fasta/20240214-2137.fasta.\n",
      "java -jar cdp-file-downloader.jar --domain=VIRAL_SEQUENCES --datatype=SEQUENCES --format=FASTA --location=/host/home/user_7321/user_7321_backup/user_7321/docker/ProjectB---Vital/vital/data_collectors/data/covid19_genome//tmp/ --email=NONE --accessions=OK364444,MZ768743,MZ686048,OL850184,OK508128,OM109044,OK223365,MZ992486,OK374951,MZ878136,OK608559,OL682863,OK319757,OK229837,MZ634273,OL926195,OK056975,OL747382,OK594707,OL404155,MZ815173,OK379569,OM111362,OL550860,OL591415,OM052729,OK237136,OK608372,MZ783874,OL900466,OK396170,OK654784,OM014586,OL488414,OL594763,MZ835779,OL402683,OK116997,OK252539,OK380365,OK117777,MZ970908,OL340910,MZ993287,OL553087,OK397116,OK137568,OK538635,OK158992,OK374829,MZ967778,MZ787459,MZ952085,OL986449,OK397798,OM460390,OK521560,OK137575,OL520663,OL625944,OK137429,OL379088,MZ616568,OK241074,OK085287,OK301819,MZ683757,OK450477,OK258239,OK117438,OL569977,OL424683,OL845454,MZ724294,OL516226,MZ766099,MZ866149,OL427523,OM121419,OK577257,OK667701,OK542251,OK158987,MZ981575,OL326545,OL954801,OK614208,OL732265,MZ929458,MZ616484,OL357385,OL775953,MZ766117,OK476459,OL883538,OL928473,OK007702,OL554877,OL396045,MZ729361,OK460930,OK164989,OL583230,OL791656,OL508395,OK542372,OL240718,OL323605,OK116086,OK609677,OK275453,OL844865,OL759658,OL452760,OL959089,OL871998,MZ965402,OK275866,OL367753,OK287456,OK111748,OL791448,MZ648964,OL520611,MZ613544,OK162443,MZ866791,OK523907 --protocol=FTP --asperaLocation=null\n",
      "\n",
      "             #. ///////////////////       @@@@@@@      @@@@@@@@   @@@@    @@@    @@@@   @@@@@@@@@             @@@    @@@@@@@@\n",
      "        ###. #. /.   /////////////      @@@@  @@@@    @@@   @@@   @@@@   @@@    @@@@   @@@@  @@@@           @@@@   @@@   @@@@\n",
      "    #### #####.     /    /////////     @@@@          @@@    @@@   @@@@  @@@    @@@@   @@@@   @@@@          @@@@  @@@@   @@@@\n",
      "  ##  ########.        //  //////      @@@@         @@@@   @@@@   @@@@ @@@    @@@@   @@@@   @@@@   @@@@@  @@@@  @@@@@@@@@@@\n",
      " #############.             /////      @@@@   @@@   @@@    @@@    @@@@@@@    @@@@   @@@@   @@@@          @@@@         @@@\n",
      "(#############.             ////       @@@@ @@@@    @@@   @@@     @@@@@@    @@@@   @@@@@@@@@@           @@@@   @@@@  @@@\n",
      "(#############.          .  ////        @@@@@@@     @@@@@@@@      @@@@@    @@@@   @@@@@@@@@            @@@@    @@@@@@@@\n",
      " #############.             ///                                                                                              \n",
      "  ##  ########.        //  ////        ######    ##  #####  ##      #####   ####  #####  #####  ##    #\n",
      "    #### #####.     /    /////,        #    #   ###   ##   # #      #   #  #   #  #   #   #    # #   #\n",
      "        ###. #. /.   /////////         #    #  #  #   #   #  #     #####  #   #  ## ##   #    #  #  #\n",
      "             #, //////////////        ######  #   #  ##  #   #    #      ### #  #   #   #    #   # ####\n",
      "\n",
      " (Copyright © EMBL 2021)\n",
      "\n",
      "Welcome to the Covid-19 Data Portal's data downloader utility!\n",
      "----------------------------------------------\n"
     ]
    },
    {
     "name": "stderr",
     "output_type": "stream",
     "text": [
      "Downloading   ? % [                             =                             ] 3/?MB (0:00:15 / ?) \n"
     ]
    },
    {
     "name": "stdout",
     "output_type": "stream",
     "text": [
      "Download completed to /host/home/user_7321/user_7321_backup/user_7321/docker/ProjectB---Vital/vital/data_collectors/data/covid19_genome//tmp//viral_sequences/sequences/fasta/20240214-2137.fasta.\n",
      "java -jar cdp-file-downloader.jar --domain=VIRAL_SEQUENCES --datatype=SEQUENCES --format=FASTA --location=/host/home/user_7321/user_7321_backup/user_7321/docker/ProjectB---Vital/vital/data_collectors/data/covid19_genome//tmp/ --email=NONE --accessions=OM000417,OM120516,OK616832,OL686064,OL909761,OK495496,OK020436,OK515402,OK134236,OL583212,OL809302,OK453314,ON085018,OK279247,MZ763530,OK227638,OL368006,ON085485,OL770828,OK616009,OK324474,OK233353,OK350868,OM097751,OM698992,OL374939,OK054967,OK239581,OL410756,OK006867,MZ815130,OK307907,OK275424,OM121329,OL901965,MZ838985,OK650406,OL844952,OM130062,OL475300,OL955393,MZ783493,MZ970898,OM280889,OL433767,OL478749,OM357395,OL367856,MZ952262,MZ976883,OL716332,OK452258,OK166354,OK134968,OK364563,OL509586,OL326414,MZ554848,OK486719,OL842436,MZ988621,OL499371,OL592560,MZ603786,OK656309,OV059995,OL550536,OK068062,OL592697,MZ714975,OL476173,OL378887,MZ877913,OL612104,MZ788383,OK516228,OL736216,MZ882712,OK453733,OL340326,OK421218,MZ882661,OL480295,OL612443,OL805182,OK572428,MZ668347,OK656642,OK177020,OM059394,MZ535754,OK304783,OM046790,ON085471,OL419094,OK660216,ON085006,MZ634281,MZ634290,OK309233,MZ616535,OK276411,OK166388,OL910161,OK616250,OK244046,OK222121,OL817759,OK542250,OL676473,OL731701,OM131496,OL685995,OK165685,OK301576,MZ664816,OK020311,OK489046,OM169863,OK463067,MZ992972,OK531958,OK366089,OK155514,OK137504,MZ871479,ON343683,OK154924 --protocol=FTP --asperaLocation=null\n",
      "\n",
      "             #. ///////////////////       @@@@@@@      @@@@@@@@   @@@@    @@@    @@@@   @@@@@@@@@             @@@    @@@@@@@@\n",
      "        ###. #. /.   /////////////      @@@@  @@@@    @@@   @@@   @@@@   @@@    @@@@   @@@@  @@@@           @@@@   @@@   @@@@\n",
      "    #### #####.     /    /////////     @@@@          @@@    @@@   @@@@  @@@    @@@@   @@@@   @@@@          @@@@  @@@@   @@@@\n",
      "  ##  ########.        //  //////      @@@@         @@@@   @@@@   @@@@ @@@    @@@@   @@@@   @@@@   @@@@@  @@@@  @@@@@@@@@@@\n",
      " #############.             /////      @@@@   @@@   @@@    @@@    @@@@@@@    @@@@   @@@@   @@@@          @@@@         @@@\n",
      "(#############.             ////       @@@@ @@@@    @@@   @@@     @@@@@@    @@@@   @@@@@@@@@@           @@@@   @@@@  @@@\n",
      "(#############.          .  ////        @@@@@@@     @@@@@@@@      @@@@@    @@@@   @@@@@@@@@            @@@@    @@@@@@@@\n",
      " #############.             ///                                                                                              \n",
      "  ##  ########.        //  ////        ######    ##  #####  ##      #####   ####  #####  #####  ##    #\n",
      "    #### #####.     /    /////,        #    #   ###   ##   # #      #   #  #   #  #   #   #    # #   #\n",
      "        ###. #. /.   /////////         #    #  #  #   #   #  #     #####  #   #  ## ##   #    #  #  #\n",
      "             #, //////////////        ######  #   #  ##  #   #    #      ### #  #   #   #    #   # ####\n",
      "\n",
      " (Copyright © EMBL 2021)\n",
      "\n",
      "Welcome to the Covid-19 Data Portal's data downloader utility!\n",
      "----------------------------------------------\n"
     ]
    },
    {
     "name": "stderr",
     "output_type": "stream",
     "text": [
      "Downloading   ? % [                                  =                        ] 3/?MB (0:00:15 / ?) \n"
     ]
    },
    {
     "name": "stdout",
     "output_type": "stream",
     "text": [
      "Download completed to /host/home/user_7321/user_7321_backup/user_7321/docker/ProjectB---Vital/vital/data_collectors/data/covid19_genome//tmp//viral_sequences/sequences/fasta/20240214-2138.fasta.\n",
      "java -jar cdp-file-downloader.jar --domain=VIRAL_SEQUENCES --datatype=SEQUENCES --format=FASTA --location=/host/home/user_7321/user_7321_backup/user_7321/docker/ProjectB---Vital/vital/data_collectors/data/covid19_genome//tmp/ --email=NONE --accessions=MZ967581,MZ993015,OK109413,OL330058,OL323423,ON085193,OL373805,OK137574,OL384643,OK474142,OM316532,MZ976932,OK627593,OK361671,OL695094,OK576330,OK411726,MZ877956,MZ866547,OK129996,OL765026,OL823703,OM994745,OL507976,OK111739,OL571952,OK166241,OK368591,MZ768234,OL740573,MZ952182,OK276316,OK402820,MZ433739,OK382334,OK606877,OK201557,OL399347,MZ768398,OL503700,OK487073,OK147246,MZ981478,MZ916942,OL596041,OM080811,OK364565,OK134599,OL367811,OL907647,ON328247,OK374953,OK090816,OK116092,OK612722,OK117786,OM046721,OL607363,OK287805,OL341442,OK379720,OK399822,OL393025,OK098917,OL902370,OM054288,OM698995,OK517372,OK373701,MZ882698,OL727467,OL418637,OM075862,OK485726,OK368587,OL850277,OL378324,OK111825,OK566177,OK301611,OK272677,OL567729,OM316472,OK498915,OL686942,OK607346,OK233681,MZ843200,MZ729410,OL326195,OL926260,MZ532266,OM702021,OK084819,MZ965382,OL561421,OL489099,OK382325,OL666797,OK449617,MZ477936,OK453452,OK155015,OL368613,OU927229,OK486516,OL809407,MZ945184,OL452771,OK224625,OL421879,OM316508,MZ943751,MZ565734,OL390512,OL509122,OL349068,OK366021,OK667731,OL411169,OL387765,OK261787,OK116568,ON085283,OK165792,OL724762,OK486905,OK045247 --protocol=FTP --asperaLocation=null\n",
      "\n",
      "             #. ///////////////////       @@@@@@@      @@@@@@@@   @@@@    @@@    @@@@   @@@@@@@@@             @@@    @@@@@@@@\n",
      "        ###. #. /.   /////////////      @@@@  @@@@    @@@   @@@   @@@@   @@@    @@@@   @@@@  @@@@           @@@@   @@@   @@@@\n",
      "    #### #####.     /    /////////     @@@@          @@@    @@@   @@@@  @@@    @@@@   @@@@   @@@@          @@@@  @@@@   @@@@\n",
      "  ##  ########.        //  //////      @@@@         @@@@   @@@@   @@@@ @@@    @@@@   @@@@   @@@@   @@@@@  @@@@  @@@@@@@@@@@\n",
      " #############.             /////      @@@@   @@@   @@@    @@@    @@@@@@@    @@@@   @@@@   @@@@          @@@@         @@@\n",
      "(#############.             ////       @@@@ @@@@    @@@   @@@     @@@@@@    @@@@   @@@@@@@@@@           @@@@   @@@@  @@@\n",
      "(#############.          .  ////        @@@@@@@     @@@@@@@@      @@@@@    @@@@   @@@@@@@@@            @@@@    @@@@@@@@\n",
      " #############.             ///                                                                                              \n",
      "  ##  ########.        //  ////        ######    ##  #####  ##      #####   ####  #####  #####  ##    #\n",
      "    #### #####.     /    /////,        #    #   ###   ##   # #      #   #  #   #  #   #   #    # #   #\n",
      "        ###. #. /.   /////////         #    #  #  #   #   #  #     #####  #   #  ## ##   #    #  #  #\n",
      "             #, //////////////        ######  #   #  ##  #   #    #      ### #  #   #   #    #   # ####\n",
      "\n",
      " (Copyright © EMBL 2021)\n",
      "\n",
      "Welcome to the Covid-19 Data Portal's data downloader utility!\n",
      "----------------------------------------------\n"
     ]
    },
    {
     "name": "stderr",
     "output_type": "stream",
     "text": [
      "Downloading   ? % [                            =                              ] 3/?MB (0:00:11 / ?) \n"
     ]
    },
    {
     "name": "stdout",
     "output_type": "stream",
     "text": [
      "Download completed to /host/home/user_7321/user_7321_backup/user_7321/docker/ProjectB---Vital/vital/data_collectors/data/covid19_genome//tmp//viral_sequences/sequences/fasta/20240214-2138.fasta.\n",
      "java -jar cdp-file-downloader.jar --domain=VIRAL_SEQUENCES --datatype=SEQUENCES --format=FASTA --location=/host/home/user_7321/user_7321_backup/user_7321/docker/ProjectB---Vital/vital/data_collectors/data/covid19_genome//tmp/ --email=NONE --accessions=MZ877932,OM074176,OL540938,MZ668355,OK278186,OL460039,MZ843214,OL240992,OK363920,OM316471,OK108914,OK650392,OK641214,MZ768744,OK457768,OL900521,OK166416,OL676533,MZ993726,MZ843223,OK229863,OK264906,OK567498,OK068334,OK305529,OK657516,OK616049,OK276476,OK616281,OM000556,OL407622,OL317809,MZ761243,OK593183,OL582973,OL790922,OM316466,OM315494,OK515815,OL611324,OK647815,MZ995776,OK134073,OK117425,OM111903,MZ993072,OK262629,OK068059,OM014795,OK154552,MZ952128,OK396452,MZ866525,OL478607,OK516672,OM316721,OK551369,OL404520,MZ878149,OL845040,OK137564,OK498895,OK561420,OK137284,MZ882719,OK134229,OL902405,MZ815167,OL582327,MZ664726,OL583294,OK362152,OK498955,OL901769,MZ888397,MZ967806,OK107920,OL486943,OL342055,OK379939,OL716829,OL734582,MZ581183,OK467813,OK517993,OK507244,OL550094,OK171565,OK287755,OK394710,OL359912,MZ768214,OK608759,OK306310,OM058640,OK164466,OK039776,OL366071,MZ981373,OM046717,MZ729275,OK511406,OK652159,OL912201,OL843453,OM123580,MZ993577,OM294929,MZ809364,OM295307,MZ992690,OL547106,OM147793,OM059441,OL948529,OL604825,OK005705,OL901723,OK451007,OK137841,OK606259,OL559949,OL357193,OK305137,OK579085,MZ895994,OK386754,MZ835892 --protocol=FTP --asperaLocation=null\n",
      "\n",
      "             #. ///////////////////       @@@@@@@      @@@@@@@@   @@@@    @@@    @@@@   @@@@@@@@@             @@@    @@@@@@@@\n",
      "        ###. #. /.   /////////////      @@@@  @@@@    @@@   @@@   @@@@   @@@    @@@@   @@@@  @@@@           @@@@   @@@   @@@@\n",
      "    #### #####.     /    /////////     @@@@          @@@    @@@   @@@@  @@@    @@@@   @@@@   @@@@          @@@@  @@@@   @@@@\n",
      "  ##  ########.        //  //////      @@@@         @@@@   @@@@   @@@@ @@@    @@@@   @@@@   @@@@   @@@@@  @@@@  @@@@@@@@@@@\n",
      " #############.             /////      @@@@   @@@   @@@    @@@    @@@@@@@    @@@@   @@@@   @@@@          @@@@         @@@\n",
      "(#############.             ////       @@@@ @@@@    @@@   @@@     @@@@@@    @@@@   @@@@@@@@@@           @@@@   @@@@  @@@\n",
      "(#############.          .  ////        @@@@@@@     @@@@@@@@      @@@@@    @@@@   @@@@@@@@@            @@@@    @@@@@@@@\n",
      " #############.             ///                                                                                              \n",
      "  ##  ########.        //  ////        ######    ##  #####  ##      #####   ####  #####  #####  ##    #\n",
      "    #### #####.     /    /////,        #    #   ###   ##   # #      #   #  #   #  #   #   #    # #   #\n",
      "        ###. #. /.   /////////         #    #  #  #   #   #  #     #####  #   #  ## ##   #    #  #  #\n",
      "             #, //////////////        ######  #   #  ##  #   #    #      ### #  #   #   #    #   # ####\n",
      "\n",
      " (Copyright © EMBL 2021)\n",
      "\n",
      "Welcome to the Covid-19 Data Portal's data downloader utility!\n",
      "----------------------------------------------\n"
     ]
    },
    {
     "name": "stderr",
     "output_type": "stream",
     "text": [
      "Downloading   ? % [                                                   =       ] 3/?MB (0:00:14 / ?) \n"
     ]
    },
    {
     "name": "stdout",
     "output_type": "stream",
     "text": [
      "Download completed to /host/home/user_7321/user_7321_backup/user_7321/docker/ProjectB---Vital/vital/data_collectors/data/covid19_genome//tmp//viral_sequences/sequences/fasta/20240214-2138.fasta.\n",
      "java -jar cdp-file-downloader.jar --domain=VIRAL_SEQUENCES --datatype=SEQUENCES --format=FASTA --location=/host/home/user_7321/user_7321_backup/user_7321/docker/ProjectB---Vital/vital/data_collectors/data/covid19_genome//tmp/ --email=NONE --accessions=OL764867,OK370798,OK241891,OL431030,OL481370,OK319468,OK489071,OK201935,OL357092,MZ797788,OK378916,OL541346,OK378715,OK137702,MZ878142,MZ882703,OK287608,OK134966,OK550772,OK368605,MZ993907,OK137452,MZ895982,OK556959,OK134503,OK451371,OL743739,OM316724,OK371944,OK421272,OL240133,MZ866505,OL919602,OL323503,OK365033,OK108820,OK486791,MZ616601,OK587074,OK464208,MZ952239,MZ967748,OL453108,MZ554847,OK557040,OK614557,OL325847,OK308080,OM059736,OK599380,MZ992201,OL368484,OM356013,OL368598,OL485940,OM007279,OK657257,OK298140,OK275269,OL421648,OL541322,OK523754,OM097770,OL356650,OL597486,OL583080,OL526727,OL508672,OM130757,OL844950,OL361062,OM386933,OL329546,OK082052,OL480010,OK068330,OL392131,OK397864,OK451247,OK647822,OK555639,OM316507,OL384189,OM147982,MZ993107,OK039715,OK587241,OL590200,MZ647183,OK582102,OK254645,OL853362,MZ914180,MZ768262,OK083315,OL304466,OL881617,MZ532475,MZ952333,MZ877916,MZ682064,OL583503,OK362131,OL915942,OL704081,OL541265,OK580201,MZ952103,OM653938,OK612724,MZ816733,OK362025,OK320608,OK486818,ON085247,OK186405,OL684046,OL882948,OL771503,OK039747,OL384253,MZ835850,OK147384,OK254431,OK204243,OK464146,OL705973,OM152000 --protocol=FTP --asperaLocation=null\n",
      "\n",
      "             #. ///////////////////       @@@@@@@      @@@@@@@@   @@@@    @@@    @@@@   @@@@@@@@@             @@@    @@@@@@@@\n",
      "        ###. #. /.   /////////////      @@@@  @@@@    @@@   @@@   @@@@   @@@    @@@@   @@@@  @@@@           @@@@   @@@   @@@@\n",
      "    #### #####.     /    /////////     @@@@          @@@    @@@   @@@@  @@@    @@@@   @@@@   @@@@          @@@@  @@@@   @@@@\n",
      "  ##  ########.        //  //////      @@@@         @@@@   @@@@   @@@@ @@@    @@@@   @@@@   @@@@   @@@@@  @@@@  @@@@@@@@@@@\n",
      " #############.             /////      @@@@   @@@   @@@    @@@    @@@@@@@    @@@@   @@@@   @@@@          @@@@         @@@\n",
      "(#############.             ////       @@@@ @@@@    @@@   @@@     @@@@@@    @@@@   @@@@@@@@@@           @@@@   @@@@  @@@\n",
      "(#############.          .  ////        @@@@@@@     @@@@@@@@      @@@@@    @@@@   @@@@@@@@@            @@@@    @@@@@@@@\n",
      " #############.             ///                                                                                              \n",
      "  ##  ########.        //  ////        ######    ##  #####  ##      #####   ####  #####  #####  ##    #\n",
      "    #### #####.     /    /////,        #    #   ###   ##   # #      #   #  #   #  #   #   #    # #   #\n",
      "        ###. #. /.   /////////         #    #  #  #   #   #  #     #####  #   #  ## ##   #    #  #  #\n",
      "             #, //////////////        ######  #   #  ##  #   #    #      ### #  #   #   #    #   # ####\n",
      "\n",
      " (Copyright © EMBL 2021)\n",
      "\n",
      "Welcome to the Covid-19 Data Portal's data downloader utility!\n",
      "----------------------------------------------\n"
     ]
    },
    {
     "name": "stderr",
     "output_type": "stream",
     "text": [
      "Downloading   ? % [                                                 =         ] 3/?MB (0:00:13 / ?) \n"
     ]
    },
    {
     "name": "stdout",
     "output_type": "stream",
     "text": [
      "Download completed to /host/home/user_7321/user_7321_backup/user_7321/docker/ProjectB---Vital/vital/data_collectors/data/covid19_genome//tmp//viral_sequences/sequences/fasta/20240214-2138.fasta.\n",
      "java -jar cdp-file-downloader.jar --domain=VIRAL_SEQUENCES --datatype=SEQUENCES --format=FASTA --location=/host/home/user_7321/user_7321_backup/user_7321/docker/ProjectB---Vital/vital/data_collectors/data/covid19_genome//tmp/ --email=NONE --accessions=OU670654,OK140080,OU516868,OU745518,OL328085,OU610915,OV430087,OU381343,OU286750,OU763276,OU276580,OV223485,OU445197,OV216268,OU893783,OU344666,OU440478,OV354135,OU301164,OV339997,OK371407,OU311025,OV034716,OU371067,OU463396,OU530977,OU503940,OU314123,OU416022,OV464203,OU718454,OU712190,OV584365,OV595235,OU685006,OM057103,OU336338,OV010575,OV199726,OU777509,OU426131,OU522820,OV438790,OV006544,OV021306,OU931045,OV135044,OV542708,OU911960,OU355446,OV066046,OV028214,OL888222,OU975804,OU786452,OU710541,OU416245,OU544588,OU416544,OU930039,OU515280,OU335892,OU775606,OV410748,OU587883,OU833999,OU511155,OK369666,OV060809,OU976795,OV921536,OU332471,OU309593,OV467015,OU694509,OV341022,OU900663,OU826240,OL415671,OK496576,OU925263,OV200962,OU759767,OU668155,OU599389,OU494221,OU769244,OU353029,OV526644,OU294568,OU845979,OU950465,OV030358,OV622305,OU882425,OU293567,OU974437,OV070784,OK490792,OU347571,OU782930,OV166936,OV594750,OV046005,OV342837,OU336109,OU990001,OU626037,OU819882,OV608987,MZ786198,OU608292,OU529422,OU345617,OU914544,OU382654,OW312828,OV233721,MZ592032,OU456999,OU494865,OU630655,OU570240,OU953942,OU557131,OU557086,OV328253,OU305655 --protocol=FTP --asperaLocation=null\n",
      "\n",
      "             #. ///////////////////       @@@@@@@      @@@@@@@@   @@@@    @@@    @@@@   @@@@@@@@@             @@@    @@@@@@@@\n",
      "        ###. #. /.   /////////////      @@@@  @@@@    @@@   @@@   @@@@   @@@    @@@@   @@@@  @@@@           @@@@   @@@   @@@@\n",
      "    #### #####.     /    /////////     @@@@          @@@    @@@   @@@@  @@@    @@@@   @@@@   @@@@          @@@@  @@@@   @@@@\n",
      "  ##  ########.        //  //////      @@@@         @@@@   @@@@   @@@@ @@@    @@@@   @@@@   @@@@   @@@@@  @@@@  @@@@@@@@@@@\n",
      " #############.             /////      @@@@   @@@   @@@    @@@    @@@@@@@    @@@@   @@@@   @@@@          @@@@         @@@\n",
      "(#############.             ////       @@@@ @@@@    @@@   @@@     @@@@@@    @@@@   @@@@@@@@@@           @@@@   @@@@  @@@\n",
      "(#############.          .  ////        @@@@@@@     @@@@@@@@      @@@@@    @@@@   @@@@@@@@@            @@@@    @@@@@@@@\n",
      " #############.             ///                                                                                              \n",
      "  ##  ########.        //  ////        ######    ##  #####  ##      #####   ####  #####  #####  ##    #\n",
      "    #### #####.     /    /////,        #    #   ###   ##   # #      #   #  #   #  #   #   #    # #   #\n",
      "        ###. #. /.   /////////         #    #  #  #   #   #  #     #####  #   #  ## ##   #    #  #  #\n",
      "             #, //////////////        ######  #   #  ##  #   #    #      ### #  #   #   #    #   # ####\n",
      "\n",
      " (Copyright © EMBL 2021)\n",
      "\n",
      "Welcome to the Covid-19 Data Portal's data downloader utility!\n",
      "----------------------------------------------\n"
     ]
    },
    {
     "name": "stderr",
     "output_type": "stream",
     "text": [
      "Downloading   ? % [                                              =            ] 3/?MB (0:00:21 / ?) \n"
     ]
    },
    {
     "name": "stdout",
     "output_type": "stream",
     "text": [
      "Download completed to /host/home/user_7321/user_7321_backup/user_7321/docker/ProjectB---Vital/vital/data_collectors/data/covid19_genome//tmp//viral_sequences/sequences/fasta/20240214-2139.fasta.\n",
      "java -jar cdp-file-downloader.jar --domain=VIRAL_SEQUENCES --datatype=SEQUENCES --format=FASTA --location=/host/home/user_7321/user_7321_backup/user_7321/docker/ProjectB---Vital/vital/data_collectors/data/covid19_genome//tmp/ --email=NONE --accessions=OU506024,OV313957,OU908019,OU649340,OK097301,OU515349,OU880930,OU599417,OU355481,OV496700,OU893542,OV304974,OV025296,OV336901,OU506793,OV525986,OU663511,OV441444,OU522093,OU895412,OU320785,OU277742,OU774371,OU552411,OU501555,OU402520,OU615359,OU820628,OU913778,OU415382,OK174914,OV292038,OV159134,OU431152,OV330076,OU730618,OU688498,OU276104,OV026116,OU453827,OU774316,OV316214,OU727241,OU548221,OU686547,OU880357,OU530078,OU501956,OV305832,OV015510,OV651082,OU544969,OU506344,OU683313,OU826331,OK250400,OU803987,OK501717,OU344478,OU547450,OK545134,OU911710,OV265522,OV645146,OV569640,OU393328,OV266151,OV283453,OU861335,OU826429,OV279830,OU738835,OU677961,OV117033,OW248936,OV280100,OU679956,OK551044,OU520383,OU860068,OU991425,OU450811,OV526929,OU977339,OV140338,OU999351,OU607840,OU426141,OV396120,OV078940,OV605026,OV538999,OK289269,OU785442,OU544577,OK057685,OU696301,OK530524,OU869033,OU328177,OU861101,OU918975,OU494810,OU906051,OV028767,OU465746,OV200194,OU694341,OU649812,OU457985,OU494376,OK239346,OU433489,OV196851,OV088345,OU966077,OU547007,OU309222,OU912537,OV003761,OU290676,OV100069,OV209677,OU328308,OV383070,OU593181,OU329076,OU573454 --protocol=FTP --asperaLocation=null\n",
      "\n",
      "             #. ///////////////////       @@@@@@@      @@@@@@@@   @@@@    @@@    @@@@   @@@@@@@@@             @@@    @@@@@@@@\n",
      "        ###. #. /.   /////////////      @@@@  @@@@    @@@   @@@   @@@@   @@@    @@@@   @@@@  @@@@           @@@@   @@@   @@@@\n",
      "    #### #####.     /    /////////     @@@@          @@@    @@@   @@@@  @@@    @@@@   @@@@   @@@@          @@@@  @@@@   @@@@\n",
      "  ##  ########.        //  //////      @@@@         @@@@   @@@@   @@@@ @@@    @@@@   @@@@   @@@@   @@@@@  @@@@  @@@@@@@@@@@\n",
      " #############.             /////      @@@@   @@@   @@@    @@@    @@@@@@@    @@@@   @@@@   @@@@          @@@@         @@@\n",
      "(#############.             ////       @@@@ @@@@    @@@   @@@     @@@@@@    @@@@   @@@@@@@@@@           @@@@   @@@@  @@@\n",
      "(#############.          .  ////        @@@@@@@     @@@@@@@@      @@@@@    @@@@   @@@@@@@@@            @@@@    @@@@@@@@\n",
      " #############.             ///                                                                                              \n",
      "  ##  ########.        //  ////        ######    ##  #####  ##      #####   ####  #####  #####  ##    #\n",
      "    #### #####.     /    /////,        #    #   ###   ##   # #      #   #  #   #  #   #   #    # #   #\n",
      "        ###. #. /.   /////////         #    #  #  #   #   #  #     #####  #   #  ## ##   #    #  #  #\n",
      "             #, //////////////        ######  #   #  ##  #   #    #      ### #  #   #   #    #   # ####\n",
      "\n",
      " (Copyright © EMBL 2021)\n",
      "\n",
      "Welcome to the Covid-19 Data Portal's data downloader utility!\n",
      "----------------------------------------------\n"
     ]
    },
    {
     "name": "stderr",
     "output_type": "stream",
     "text": [
      "Downloading   ? % [                                              =            ] 3/?MB (0:00:17 / ?) \n"
     ]
    },
    {
     "name": "stdout",
     "output_type": "stream",
     "text": [
      "Download completed to /host/home/user_7321/user_7321_backup/user_7321/docker/ProjectB---Vital/vital/data_collectors/data/covid19_genome//tmp//viral_sequences/sequences/fasta/20240214-2139.fasta.\n",
      "java -jar cdp-file-downloader.jar --domain=VIRAL_SEQUENCES --datatype=SEQUENCES --format=FASTA --location=/host/home/user_7321/user_7321_backup/user_7321/docker/ProjectB---Vital/vital/data_collectors/data/covid19_genome//tmp/ --email=NONE --accessions=OL557319,OU799794,OV610215,OV211105,OU272442,OU292981,OV536322,OV338337,OU293275,OV354605,OU503103,OU580928,OV310161,OU689137,OV047795,OU875391,OU738355,OU631030,OU307797,OU553357,OU360102,OK499186,OU306282,OU476374,OU741218,OV226646,OV211413,OV389500,OU775915,OU468192,OU729128,OU429277,OU377474,OU631166,OU414153,OU882490,OV490015,OU727596,OU680662,OU570883,OU618628,OU544166,OV277768,OU293078,OV037258,OU749512,OU518500,OU479328,OU307106,OV293360,OU827550,OU655586,OU789637,OU583428,OV252617,OU626674,OU892468,OU527178,OU293508,OU295391,OU328328,OV568891,OU757354,OU311275,OM009841,OU298517,OV151759,OU297838,OV070908,OV452801,OU479330,OV002568,OU317803,OV439384,OV099403,OU966372,OU624790,OU913682,OU273224,OU998928,OU513943,OV175519,OK395560,OK200888,OU482863,OU276509,OK451455,OU299138,OU284121,OU918919,OU698383,OU824022,OU684368,OU677677,OU726210,MZ857952,OU443532,OU530755,OU385908,OU312268,OV044104,OV259952,OU676837,OU956340,OU546340,OU701901,OV121309,OK225450,OU464553,OU948691,OV295026,OU891483,OU742185,OU529537,OU428932,OU601061,OU654875,OU751894,OU809990,OU426676,OU431940,OU934595,OV416421,OU583351,OU688274,OV068831,OU568802,OU494504 --protocol=FTP --asperaLocation=null\n",
      "\n",
      "             #. ///////////////////       @@@@@@@      @@@@@@@@   @@@@    @@@    @@@@   @@@@@@@@@             @@@    @@@@@@@@\n",
      "        ###. #. /.   /////////////      @@@@  @@@@    @@@   @@@   @@@@   @@@    @@@@   @@@@  @@@@           @@@@   @@@   @@@@\n",
      "    #### #####.     /    /////////     @@@@          @@@    @@@   @@@@  @@@    @@@@   @@@@   @@@@          @@@@  @@@@   @@@@\n",
      "  ##  ########.        //  //////      @@@@         @@@@   @@@@   @@@@ @@@    @@@@   @@@@   @@@@   @@@@@  @@@@  @@@@@@@@@@@\n",
      " #############.             /////      @@@@   @@@   @@@    @@@    @@@@@@@    @@@@   @@@@   @@@@          @@@@         @@@\n",
      "(#############.             ////       @@@@ @@@@    @@@   @@@     @@@@@@    @@@@   @@@@@@@@@@           @@@@   @@@@  @@@\n",
      "(#############.          .  ////        @@@@@@@     @@@@@@@@      @@@@@    @@@@   @@@@@@@@@            @@@@    @@@@@@@@\n",
      " #############.             ///                                                                                              \n",
      "  ##  ########.        //  ////        ######    ##  #####  ##      #####   ####  #####  #####  ##    #\n",
      "    #### #####.     /    /////,        #    #   ###   ##   # #      #   #  #   #  #   #   #    # #   #\n",
      "        ###. #. /.   /////////         #    #  #  #   #   #  #     #####  #   #  ## ##   #    #  #  #\n",
      "             #, //////////////        ######  #   #  ##  #   #    #      ### #  #   #   #    #   # ####\n",
      "\n",
      " (Copyright © EMBL 2021)\n",
      "\n",
      "Welcome to the Covid-19 Data Portal's data downloader utility!\n",
      "----------------------------------------------\n"
     ]
    },
    {
     "name": "stderr",
     "output_type": "stream",
     "text": [
      "Downloading   ? % [                         =                                 ] 3/?MB (0:00:15 / ?) \n"
     ]
    },
    {
     "name": "stdout",
     "output_type": "stream",
     "text": [
      "Download completed to /host/home/user_7321/user_7321_backup/user_7321/docker/ProjectB---Vital/vital/data_collectors/data/covid19_genome//tmp//viral_sequences/sequences/fasta/20240214-2139.fasta.\n",
      "java -jar cdp-file-downloader.jar --domain=VIRAL_SEQUENCES --datatype=SEQUENCES --format=FASTA --location=/host/home/user_7321/user_7321_backup/user_7321/docker/ProjectB---Vital/vital/data_collectors/data/covid19_genome//tmp/ --email=NONE --accessions=OK100335,OU839344,OV010510,OU934234,OU458260,OV137360,OV114287,OV521325,OU284287,OU458086,OV406073,OV181776,OU619368,OU607483,OV259879,OU589551,OU401325,OV410035,OV302314,OU711470,OU524874,OU988284,OU784506,OU399851,OU572219,OU766753,OU545391,OU795952,OV335240,OV278801,OU664890,OU889186,OL400288,OU457393,OU822166,OV226073,OV274020,OV490353,OV149873,OV047998,OU838765,OU320153,OU787050,OU639873,OU511698,OU567428,OV060066,OU381676,OU751484,OU745663,OU522924,OU514932,OU665898,OU759747,MZ531383,OU328017,OV357100,OU414973,OU484015,OU584589,OU773582,OU791976,OU431946,OV302082,ON170942,OU597970,OU856115,OU440092,OV279484,OU271309,OU468510,OU343824,OU917082,OW103295,OV262853,OU505774,OU288694,OU604202,OV176489,OU276547,OU376410,OU689950,OU503696,OU357476,OU748231,OU902035,OU353719,OU460939,OK388465,OU607414,OV360641,OU652701,OV077866,OU652381,OU577400,OV231549,OU419403,OU581132,OU699044,OU864348,OU426347,OV185003,OU527250,OU295658,OU432003,OU492546,OU537350,OV318742,OV381384,OV329135,OV434950,OU880976,OV140306,OV157555,OU542754,OU459191,OU769769,OU671692,OV196361,OU530451,OU987560,OK229696,OU417739,OU626278,OW300783,MZ940122,OU739941,OU984496 --protocol=FTP --asperaLocation=null\n",
      "\n",
      "             #. ///////////////////       @@@@@@@      @@@@@@@@   @@@@    @@@    @@@@   @@@@@@@@@             @@@    @@@@@@@@\n",
      "        ###. #. /.   /////////////      @@@@  @@@@    @@@   @@@   @@@@   @@@    @@@@   @@@@  @@@@           @@@@   @@@   @@@@\n",
      "    #### #####.     /    /////////     @@@@          @@@    @@@   @@@@  @@@    @@@@   @@@@   @@@@          @@@@  @@@@   @@@@\n",
      "  ##  ########.        //  //////      @@@@         @@@@   @@@@   @@@@ @@@    @@@@   @@@@   @@@@   @@@@@  @@@@  @@@@@@@@@@@\n",
      " #############.             /////      @@@@   @@@   @@@    @@@    @@@@@@@    @@@@   @@@@   @@@@          @@@@         @@@\n",
      "(#############.             ////       @@@@ @@@@    @@@   @@@     @@@@@@    @@@@   @@@@@@@@@@           @@@@   @@@@  @@@\n",
      "(#############.          .  ////        @@@@@@@     @@@@@@@@      @@@@@    @@@@   @@@@@@@@@            @@@@    @@@@@@@@\n",
      " #############.             ///                                                                                              \n",
      "  ##  ########.        //  ////        ######    ##  #####  ##      #####   ####  #####  #####  ##    #\n",
      "    #### #####.     /    /////,        #    #   ###   ##   # #      #   #  #   #  #   #   #    # #   #\n",
      "        ###. #. /.   /////////         #    #  #  #   #   #  #     #####  #   #  ## ##   #    #  #  #\n",
      "             #, //////////////        ######  #   #  ##  #   #    #      ### #  #   #   #    #   # ####\n",
      "\n",
      " (Copyright © EMBL 2021)\n",
      "\n",
      "Welcome to the Covid-19 Data Portal's data downloader utility!\n",
      "----------------------------------------------\n"
     ]
    },
    {
     "name": "stderr",
     "output_type": "stream",
     "text": [
      "Downloading   ? % [                                     =                     ] 3/?MB (0:00:19 / ?) \n"
     ]
    },
    {
     "name": "stdout",
     "output_type": "stream",
     "text": [
      "Download completed to /host/home/user_7321/user_7321_backup/user_7321/docker/ProjectB---Vital/vital/data_collectors/data/covid19_genome//tmp//viral_sequences/sequences/fasta/20240214-2140.fasta.\n",
      "java -jar cdp-file-downloader.jar --domain=VIRAL_SEQUENCES --datatype=SEQUENCES --format=FASTA --location=/host/home/user_7321/user_7321_backup/user_7321/docker/ProjectB---Vital/vital/data_collectors/data/covid19_genome//tmp/ --email=NONE --accessions=OU458588,OU736787,OU442782,OU679274,OU555959,OV021564,OV458671,OU433560,MZ727088,OU508371,OU429655,OU436757,OU861115,OU688632,MZ745079,OU833871,OU593295,MZ946825,OU591080,OU811641,OK119392,OV509122,OV351891,OU679066,OU375882,OV133898,OV005071,OU844139,OV081339,OV246824,OU459911,MZ946099,OU900811,OU312653,OV354335,OV030985,OU787345,OU724731,OK317147,OV527274,OL398742,OV320195,OU520132,OV156769,OU306697,OU349538,OV686954,OL779726,OU461072,OV094246,OU797960,OV015504,OU762096,OV471262,OU295447,OV562585,OU550724,OU999435,OU826851,OU535037,OU706370,OL929384,OU709120,OU980583,OV126402,OU707925,OV655608,OU610459,OU399670,OV432910,OU563836,OU867575,OU382473,OU696082,OW104971,OU916347,OU637231,OU308079,OU749940,OV092612,OL561146,OV426406,OV398536,OU457990,OU877189,OU417465,OU628637,OU760774,OV372631,OL994589,OU780767,OU873256,OU608904,OV010746,OU977402,OU829004,OU770880,OU273265,OU378758,OV134728,OU786299,OU339554,OU749322,OU658348,OU848291,OU791965,OU401409,OK256331,OK456408,OU419346,OU426228,OU864237,OU711101,OV553690,OU765779,OU886076,OU480356,OU905774,OU681839,OU581925,OU479163,OU884294,MZ928502,OU783832,OU600235,OV028869,OV193127,OU462444 --protocol=FTP --asperaLocation=null\n",
      "\n",
      "             #. ///////////////////       @@@@@@@      @@@@@@@@   @@@@    @@@    @@@@   @@@@@@@@@             @@@    @@@@@@@@\n",
      "        ###. #. /.   /////////////      @@@@  @@@@    @@@   @@@   @@@@   @@@    @@@@   @@@@  @@@@           @@@@   @@@   @@@@\n",
      "    #### #####.     /    /////////     @@@@          @@@    @@@   @@@@  @@@    @@@@   @@@@   @@@@          @@@@  @@@@   @@@@\n",
      "  ##  ########.        //  //////      @@@@         @@@@   @@@@   @@@@ @@@    @@@@   @@@@   @@@@   @@@@@  @@@@  @@@@@@@@@@@\n",
      " #############.             /////      @@@@   @@@   @@@    @@@    @@@@@@@    @@@@   @@@@   @@@@          @@@@         @@@\n",
      "(#############.             ////       @@@@ @@@@    @@@   @@@     @@@@@@    @@@@   @@@@@@@@@@           @@@@   @@@@  @@@\n",
      "(#############.          .  ////        @@@@@@@     @@@@@@@@      @@@@@    @@@@   @@@@@@@@@            @@@@    @@@@@@@@\n",
      " #############.             ///                                                                                              \n",
      "  ##  ########.        //  ////        ######    ##  #####  ##      #####   ####  #####  #####  ##    #\n",
      "    #### #####.     /    /////,        #    #   ###   ##   # #      #   #  #   #  #   #   #    # #   #\n",
      "        ###. #. /.   /////////         #    #  #  #   #   #  #     #####  #   #  ## ##   #    #  #  #\n",
      "             #, //////////////        ######  #   #  ##  #   #    #      ### #  #   #   #    #   # ####\n",
      "\n",
      " (Copyright © EMBL 2021)\n",
      "\n",
      "Welcome to the Covid-19 Data Portal's data downloader utility!\n",
      "----------------------------------------------\n"
     ]
    },
    {
     "name": "stderr",
     "output_type": "stream",
     "text": [
      "Downloading   ? % [                                                =          ] 3/?MB (0:00:20 / ?) \n"
     ]
    },
    {
     "name": "stdout",
     "output_type": "stream",
     "text": [
      "Download completed to /host/home/user_7321/user_7321_backup/user_7321/docker/ProjectB---Vital/vital/data_collectors/data/covid19_genome//tmp//viral_sequences/sequences/fasta/20240214-2140.fasta.\n",
      "java -jar cdp-file-downloader.jar --domain=VIRAL_SEQUENCES --datatype=SEQUENCES --format=FASTA --location=/host/home/user_7321/user_7321_backup/user_7321/docker/ProjectB---Vital/vital/data_collectors/data/covid19_genome//tmp/ --email=NONE --accessions=OV055845,OU668131,OU762197,OL344762,OU663425,OU669685,OU465124,OV214961,OW093503,OK130899,OU876650,OU792199,OU768005,OK221540,OU665837,OU800275,OU748562,OU311642,OU528399,OV467007,OU473675,OV043368,OV276185,OU328282,OL819003,OK238171,OV419127,OV313410,OU525477,OU409205,OU783070,OU523064,OV260215,OU648801,OU651633,OU736136,OU279512,OU743662,OV297032,OU416852,OU856961,OU918338,OM463090,OV096921,OV397072,OU461525,OU818271,OU375356,OV077660,OV296793,OU701330,OU544209,OV041582,OU910019,OU696607,OU507441,OU427197,OU449513,OV472424,OU327144,OV637355,OU557336,OU546855,OU383127,OU377178,OU412405,OK222928,OL340182,OK125609,OU284407,OV017439,OV024630,OU770157,OU790156,OU424828,OV013676,OV171115,OU763908,OU416051,OU744147,OU897038,OU718397,OU531685,OU400781,OV139977,OU962799,ON017258,OU493793,OW298894,OU905421,OU635344,OU951076,OV692399,OU868513,OV293945,OV302791,OU777083,OV913590,OV018266,OV588572,OU561340,OU655651,OU315968,OU893083,OU873905,OU824234,OV172221,OU677860,OU775308,OU665383,OU512141,OV051227,OV399189,OU718919,OU332664,OV093648,OL929389,OU403492,OU578481,OV247198,OV000170,OV462481,OU901985,OU791366,OU779792,OV100027,OV320059,OU524642 --protocol=FTP --asperaLocation=null\n",
      "\n",
      "             #. ///////////////////       @@@@@@@      @@@@@@@@   @@@@    @@@    @@@@   @@@@@@@@@             @@@    @@@@@@@@\n",
      "        ###. #. /.   /////////////      @@@@  @@@@    @@@   @@@   @@@@   @@@    @@@@   @@@@  @@@@           @@@@   @@@   @@@@\n",
      "    #### #####.     /    /////////     @@@@          @@@    @@@   @@@@  @@@    @@@@   @@@@   @@@@          @@@@  @@@@   @@@@\n",
      "  ##  ########.        //  //////      @@@@         @@@@   @@@@   @@@@ @@@    @@@@   @@@@   @@@@   @@@@@  @@@@  @@@@@@@@@@@\n",
      " #############.             /////      @@@@   @@@   @@@    @@@    @@@@@@@    @@@@   @@@@   @@@@          @@@@         @@@\n",
      "(#############.             ////       @@@@ @@@@    @@@   @@@     @@@@@@    @@@@   @@@@@@@@@@           @@@@   @@@@  @@@\n",
      "(#############.          .  ////        @@@@@@@     @@@@@@@@      @@@@@    @@@@   @@@@@@@@@            @@@@    @@@@@@@@\n",
      " #############.             ///                                                                                              \n",
      "  ##  ########.        //  ////        ######    ##  #####  ##      #####   ####  #####  #####  ##    #\n",
      "    #### #####.     /    /////,        #    #   ###   ##   # #      #   #  #   #  #   #   #    # #   #\n",
      "        ###. #. /.   /////////         #    #  #  #   #   #  #     #####  #   #  ## ##   #    #  #  #\n",
      "             #, //////////////        ######  #   #  ##  #   #    #      ### #  #   #   #    #   # ####\n",
      "\n",
      " (Copyright © EMBL 2021)\n",
      "\n",
      "Welcome to the Covid-19 Data Portal's data downloader utility!\n",
      "----------------------------------------------\n"
     ]
    },
    {
     "name": "stderr",
     "output_type": "stream",
     "text": [
      "Downloading   ? % [                                       =                   ] 3/?MB (0:00:16 / ?) \n"
     ]
    },
    {
     "name": "stdout",
     "output_type": "stream",
     "text": [
      "Download completed to /host/home/user_7321/user_7321_backup/user_7321/docker/ProjectB---Vital/vital/data_collectors/data/covid19_genome//tmp//viral_sequences/sequences/fasta/20240214-2140.fasta.\n",
      "java -jar cdp-file-downloader.jar --domain=VIRAL_SEQUENCES --datatype=SEQUENCES --format=FASTA --location=/host/home/user_7321/user_7321_backup/user_7321/docker/ProjectB---Vital/vital/data_collectors/data/covid19_genome//tmp/ --email=NONE --accessions=OU994836,OU364819,OU746716,OV318981,OU361848,OU393843,OU574063,OU819270,OU643533,OV122595,OU373272,OU789108,OV331311,OU509332,OU561508,OU828863,OV023758,OU787577,OV146596,OU457724,OU909175,OU590725,OU725081,OK427140,OU985143,OU311010,OU818202,OU774738,OU477298,OU612778,OU550765,OK274538,OU304702,OU757562,OU816304,OU616903,OU726196,OU591891,OU695392,OU845159,OU530297,OU899499,OU558676,OV351561,OV527102,OU642859,OU381349,OU486296,OU442737,OU997819,OK457818,OU588820,OV032469,OU363445,OU461180,OK320058,OU596914,OU693560,OV156210,OU647010,OU614060,OU656128,OK268702,OV363206,OV176398,OU522607,OV213353,OU408150,OU919085,OU752564,OU353912,OU482687,OU632569,OU462637,OU611367,OV594407,OU806633,OU722684,MZ928469,OU521355,OU686145,OU449505,OU414834,OU434152,OU704848,OV458367,OK006361,OL727531,OV223140,OU824044,OV272121,OL870942,OU805831,OU448741,OV229569,OU983313,OU863507,OV253959,OV274774,OU605725,OV077451,OU329301,OU817448,OU555161,OU390044,OV343584,OU877948,OW097536,OU533272,OU543354,OU494827,OV294982,OU493574,OU329944,OV020011,OU709632,OV540953,OV595390,OV057958,OU822355,OU679935,OU693325,OU401722,OV385697,OV323528,OU699734,OU493599,OU861388 --protocol=FTP --asperaLocation=null\n",
      "\n",
      "             #. ///////////////////       @@@@@@@      @@@@@@@@   @@@@    @@@    @@@@   @@@@@@@@@             @@@    @@@@@@@@\n",
      "        ###. #. /.   /////////////      @@@@  @@@@    @@@   @@@   @@@@   @@@    @@@@   @@@@  @@@@           @@@@   @@@   @@@@\n",
      "    #### #####.     /    /////////     @@@@          @@@    @@@   @@@@  @@@    @@@@   @@@@   @@@@          @@@@  @@@@   @@@@\n",
      "  ##  ########.        //  //////      @@@@         @@@@   @@@@   @@@@ @@@    @@@@   @@@@   @@@@   @@@@@  @@@@  @@@@@@@@@@@\n",
      " #############.             /////      @@@@   @@@   @@@    @@@    @@@@@@@    @@@@   @@@@   @@@@          @@@@         @@@\n",
      "(#############.             ////       @@@@ @@@@    @@@   @@@     @@@@@@    @@@@   @@@@@@@@@@           @@@@   @@@@  @@@\n",
      "(#############.          .  ////        @@@@@@@     @@@@@@@@      @@@@@    @@@@   @@@@@@@@@            @@@@    @@@@@@@@\n",
      " #############.             ///                                                                                              \n",
      "  ##  ########.        //  ////        ######    ##  #####  ##      #####   ####  #####  #####  ##    #\n",
      "    #### #####.     /    /////,        #    #   ###   ##   # #      #   #  #   #  #   #   #    # #   #\n",
      "        ###. #. /.   /////////         #    #  #  #   #   #  #     #####  #   #  ## ##   #    #  #  #\n",
      "             #, //////////////        ######  #   #  ##  #   #    #      ### #  #   #   #    #   # ####\n",
      "\n",
      " (Copyright © EMBL 2021)\n",
      "\n",
      "Welcome to the Covid-19 Data Portal's data downloader utility!\n",
      "----------------------------------------------\n"
     ]
    },
    {
     "name": "stderr",
     "output_type": "stream",
     "text": [
      "Downloading   ? % [                                                        =  ] 3/?MB (0:00:17 / ?) \n"
     ]
    },
    {
     "name": "stdout",
     "output_type": "stream",
     "text": [
      "Download completed to /host/home/user_7321/user_7321_backup/user_7321/docker/ProjectB---Vital/vital/data_collectors/data/covid19_genome//tmp//viral_sequences/sequences/fasta/20240214-2141.fasta.\n",
      "java -jar cdp-file-downloader.jar --domain=VIRAL_SEQUENCES --datatype=SEQUENCES --format=FASTA --location=/host/home/user_7321/user_7321_backup/user_7321/docker/ProjectB---Vital/vital/data_collectors/data/covid19_genome//tmp/ --email=NONE --accessions=OU349241,OU311030,OV696071,OU657111,OU384298,OU426373,OV138095,OV002909,OU759028,OU480678,OV199202,OU317069,OU546290,OV300687,OU905888,OV050078,OU512797,OV311621,OU720312,OU507143,OV152921,OV082128,OU729372,OU600002,OU292800,OU552699,OV066734,OK579727,OW319714,OU614200,OV280791,OV427364,OU795251,OV278290,OV447274,OU327864,OU769873,OU551374,OV517974,OU895382,OU683004,OV420141,OV244247,OL960996,OM035030,OU725991,OK171208,OU628136,OU864356,OV323485,OV132690,OU898558,OU343829,OL763121,OU491780,OK567751,OU576378,OU435048,OU467874,OK298097,OU543642,OV258139,OU512513,OV254566,OU761531,OU312829,OU340061,OU408000,OU654718,OK350785,OU814740,OV179958,OU605101,OU373598,OU570721,OU693637,OU544645,OU722712,OU310757,OV236161,OV070383,OU625368,OU844572,OU590635,OV047907,OU306205,OU760617,OU688803,OV099934,OU556596,OU580795,OU316534,OU556689,OV088700,OU292782,OU683074,OV036236,OU556656,OK369224,OU839609,OU764296,OK525382,OU714260,OU363146,OU613328,OU535377,OL746530,OU482622,OU579468,OU602608,OV446456,OV194604,OV129540,OU521305,OV148774,OV030451,OL479009,OV113056,OV629453,OU928897,OV277429,OU776661,OU409309,OK505190,OU484664,OV087672,OV428054,OU977846 --protocol=FTP --asperaLocation=null\n",
      "\n",
      "             #. ///////////////////       @@@@@@@      @@@@@@@@   @@@@    @@@    @@@@   @@@@@@@@@             @@@    @@@@@@@@\n",
      "        ###. #. /.   /////////////      @@@@  @@@@    @@@   @@@   @@@@   @@@    @@@@   @@@@  @@@@           @@@@   @@@   @@@@\n",
      "    #### #####.     /    /////////     @@@@          @@@    @@@   @@@@  @@@    @@@@   @@@@   @@@@          @@@@  @@@@   @@@@\n",
      "  ##  ########.        //  //////      @@@@         @@@@   @@@@   @@@@ @@@    @@@@   @@@@   @@@@   @@@@@  @@@@  @@@@@@@@@@@\n",
      " #############.             /////      @@@@   @@@   @@@    @@@    @@@@@@@    @@@@   @@@@   @@@@          @@@@         @@@\n",
      "(#############.             ////       @@@@ @@@@    @@@   @@@     @@@@@@    @@@@   @@@@@@@@@@           @@@@   @@@@  @@@\n",
      "(#############.          .  ////        @@@@@@@     @@@@@@@@      @@@@@    @@@@   @@@@@@@@@            @@@@    @@@@@@@@\n",
      " #############.             ///                                                                                              \n",
      "  ##  ########.        //  ////        ######    ##  #####  ##      #####   ####  #####  #####  ##    #\n",
      "    #### #####.     /    /////,        #    #   ###   ##   # #      #   #  #   #  #   #   #    # #   #\n",
      "        ###. #. /.   /////////         #    #  #  #   #   #  #     #####  #   #  ## ##   #    #  #  #\n",
      "             #, //////////////        ######  #   #  ##  #   #    #      ### #  #   #   #    #   # ####\n",
      "\n",
      " (Copyright © EMBL 2021)\n",
      "\n",
      "Welcome to the Covid-19 Data Portal's data downloader utility!\n",
      "----------------------------------------------\n"
     ]
    },
    {
     "name": "stderr",
     "output_type": "stream",
     "text": [
      "Downloading   ? % [                         =                                 ] 3/?MB (0:00:14 / ?) \n"
     ]
    },
    {
     "name": "stdout",
     "output_type": "stream",
     "text": [
      "Download completed to /host/home/user_7321/user_7321_backup/user_7321/docker/ProjectB---Vital/vital/data_collectors/data/covid19_genome//tmp//viral_sequences/sequences/fasta/20240214-2141.fasta.\n",
      "java -jar cdp-file-downloader.jar --domain=VIRAL_SEQUENCES --datatype=SEQUENCES --format=FASTA --location=/host/home/user_7321/user_7321_backup/user_7321/docker/ProjectB---Vital/vital/data_collectors/data/covid19_genome//tmp/ --email=NONE --accessions=OK387702,OM072269,OM241256,OK017543,MZ875491,OK270517,ON028808,OK344240,OM053640,OK565331,OL948949,OK601295,OK595802,OK130490,OL527159,OM130931,MZ634228,OK117920,MZ762094,MZ816375,MZ995985,OK408792,OL459015,OK543091,OL403984,OK227911,OK470494,OL924836,OK305178,OM495984,MZ986881,OK269784,OL398439,OM074142,OK449660,MZ851373,OL707005,OL453690,OK379384,OL705503,MZ712834,ON135656,OL513314,OK586336,OL517440,OK023950,OK447438,OL392213,OK578489,OL863885,OK224394,OK027664,OK443211,OK150401,OL357595,OK298318,MZ892683,OK321439,OK571425,MZ930148,OL574340,OK445407,OK305240,OK118207,OL316633,OK577987,OK189735,OK454409,MZ634263,ON155870,OK195105,OL608465,OK514507,OK125508,OL995961,OK459778,OL418520,OK538343,OK370574,OK521351,OK221640,OL976708,MZ937598,OK515634,OK056269,OL608069,OL828375,OK006955,OL382167,OK444773,OM053653,OK498610,OL446462,OL864683,OK025132,OK450324,OK044927,OK097775,OK415452,OK195091,OM341455,MZ827553,ON137486,OK338258,OL800639,MZ927927,MZ952775,OL518517,OK033138,OM292557,OL735267,MZ904720,OL324427,OK388141,OL314706,OK186270,OK172393,OK489189,OK520045,OK055824,OM084982,OL957360,OL469846,OK238269,OL841784,MZ744576,OL618734,OK579894 --protocol=FTP --asperaLocation=null\n",
      "\n",
      "             #. ///////////////////       @@@@@@@      @@@@@@@@   @@@@    @@@    @@@@   @@@@@@@@@             @@@    @@@@@@@@\n",
      "        ###. #. /.   /////////////      @@@@  @@@@    @@@   @@@   @@@@   @@@    @@@@   @@@@  @@@@           @@@@   @@@   @@@@\n",
      "    #### #####.     /    /////////     @@@@          @@@    @@@   @@@@  @@@    @@@@   @@@@   @@@@          @@@@  @@@@   @@@@\n",
      "  ##  ########.        //  //////      @@@@         @@@@   @@@@   @@@@ @@@    @@@@   @@@@   @@@@   @@@@@  @@@@  @@@@@@@@@@@\n",
      " #############.             /////      @@@@   @@@   @@@    @@@    @@@@@@@    @@@@   @@@@   @@@@          @@@@         @@@\n",
      "(#############.             ////       @@@@ @@@@    @@@   @@@     @@@@@@    @@@@   @@@@@@@@@@           @@@@   @@@@  @@@\n",
      "(#############.          .  ////        @@@@@@@     @@@@@@@@      @@@@@    @@@@   @@@@@@@@@            @@@@    @@@@@@@@\n",
      " #############.             ///                                                                                              \n",
      "  ##  ########.        //  ////        ######    ##  #####  ##      #####   ####  #####  #####  ##    #\n",
      "    #### #####.     /    /////,        #    #   ###   ##   # #      #   #  #   #  #   #   #    # #   #\n",
      "        ###. #. /.   /////////         #    #  #  #   #   #  #     #####  #   #  ## ##   #    #  #  #\n",
      "             #, //////////////        ######  #   #  ##  #   #    #      ### #  #   #   #    #   # ####\n",
      "\n",
      " (Copyright © EMBL 2021)\n",
      "\n",
      "Welcome to the Covid-19 Data Portal's data downloader utility!\n",
      "----------------------------------------------\n"
     ]
    },
    {
     "name": "stderr",
     "output_type": "stream",
     "text": [
      "Downloading   ? % [                                     =                     ] 3/?MB (0:00:19 / ?) \n"
     ]
    },
    {
     "name": "stdout",
     "output_type": "stream",
     "text": [
      "Download completed to /host/home/user_7321/user_7321_backup/user_7321/docker/ProjectB---Vital/vital/data_collectors/data/covid19_genome//tmp//viral_sequences/sequences/fasta/20240214-2141.fasta.\n",
      "java -jar cdp-file-downloader.jar --domain=VIRAL_SEQUENCES --datatype=SEQUENCES --format=FASTA --location=/host/home/user_7321/user_7321_backup/user_7321/docker/ProjectB---Vital/vital/data_collectors/data/covid19_genome//tmp/ --email=NONE --accessions=OK291116,OK011390,OL528030,OL815702,OK506860,OL316625,OL432030,OL407993,OK217311,OL329563,OK568518,OL469844,OK309815,OK121376,OM080806,OK654315,OL241729,OK340167,OK196937,OL329706,OK477046,OL407259,OK033896,OL341346,OL915648,MZ958541,OK196481,OK597846,OM922763,OK526987,OL685911,MZ978875,OK184519,OK140850,OM210218,OK100842,OL968747,OL425310,OL869027,OK458538,OK536034,OL744769,OL382133,OL722170,OK604548,OK606508,OL626553,OK097343,OL704414,OK596482,OL533477,ON131482,OL681165,OK350182,OL240678,OK195073,OK444732,OK277255,OK601961,OL514655,OL515031,MZ895250,MZ812745,OL394053,MZ864905,OM389294,OL676517,OM322380,OK344171,OK371250,OM014909,OM444808,OK522775,OL507270,MZ979724,OK603346,OL974113,OL477843,OK224731,OL363974,OK398816,OL431887,OK252375,OL393224,MZ857666,MZ860273,OK279665,OK133662,OL360591,MZ945416,OL431395,OL910458,OK428395,OL636737,OK611469,MZ928156,OL624242,OL569883,OK203309,OM035200,OK289311,OK131768,OL330260,MZ740584,OL605981,OK153607,OL835081,MZ979649,OL562660,MZ956727,OK198678,OK660587,OL525878,OL478938,OK379196,OL514887,OK002545,OK415488,OL829662,OK494227,MZ850367,OL885192,OK367056,OM097375,MZ986944,OL521562,OK479835,OL857495 --protocol=FTP --asperaLocation=null\n",
      "\n",
      "             #. ///////////////////       @@@@@@@      @@@@@@@@   @@@@    @@@    @@@@   @@@@@@@@@             @@@    @@@@@@@@\n",
      "        ###. #. /.   /////////////      @@@@  @@@@    @@@   @@@   @@@@   @@@    @@@@   @@@@  @@@@           @@@@   @@@   @@@@\n",
      "    #### #####.     /    /////////     @@@@          @@@    @@@   @@@@  @@@    @@@@   @@@@   @@@@          @@@@  @@@@   @@@@\n",
      "  ##  ########.        //  //////      @@@@         @@@@   @@@@   @@@@ @@@    @@@@   @@@@   @@@@   @@@@@  @@@@  @@@@@@@@@@@\n",
      " #############.             /////      @@@@   @@@   @@@    @@@    @@@@@@@    @@@@   @@@@   @@@@          @@@@         @@@\n",
      "(#############.             ////       @@@@ @@@@    @@@   @@@     @@@@@@    @@@@   @@@@@@@@@@           @@@@   @@@@  @@@\n",
      "(#############.          .  ////        @@@@@@@     @@@@@@@@      @@@@@    @@@@   @@@@@@@@@            @@@@    @@@@@@@@\n",
      " #############.             ///                                                                                              \n",
      "  ##  ########.        //  ////        ######    ##  #####  ##      #####   ####  #####  #####  ##    #\n",
      "    #### #####.     /    /////,        #    #   ###   ##   # #      #   #  #   #  #   #   #    # #   #\n",
      "        ###. #. /.   /////////         #    #  #  #   #   #  #     #####  #   #  ## ##   #    #  #  #\n",
      "             #, //////////////        ######  #   #  ##  #   #    #      ### #  #   #   #    #   # ####\n",
      "\n",
      " (Copyright © EMBL 2021)\n",
      "\n",
      "Welcome to the Covid-19 Data Portal's data downloader utility!\n",
      "----------------------------------------------\n"
     ]
    },
    {
     "name": "stderr",
     "output_type": "stream",
     "text": [
      "Downloading   ? % [                            =                              ] 3/?MB (0:00:16 / ?) \n"
     ]
    },
    {
     "name": "stdout",
     "output_type": "stream",
     "text": [
      "Download completed to /host/home/user_7321/user_7321_backup/user_7321/docker/ProjectB---Vital/vital/data_collectors/data/covid19_genome//tmp//viral_sequences/sequences/fasta/20240214-2142.fasta.\n",
      "java -jar cdp-file-downloader.jar --domain=VIRAL_SEQUENCES --datatype=SEQUENCES --format=FASTA --location=/host/home/user_7321/user_7321_backup/user_7321/docker/ProjectB---Vital/vital/data_collectors/data/covid19_genome//tmp/ --email=NONE --accessions=MZ893448,OK516343,MZ983183,OL837871,OL428879,OK121532,OL511910,OK337978,OK304297,OL957382,OM097756,OK383112,OK620633,OK568108,OL442538,OK287759,OL593057,OL557267,OL821680,OK190332,OK197749,OL611520,OK531476,OK607941,OK367781,OK289248,OL318338,OL514391,OK354478,OK238036,OK497198,MZ989944,OK238823,OK241580,OM241249,OL490275,OL722930,OK196636,OK607979,OK286911,OL722014,OL568637,OM061485,MZ891886,OL761353,MZ899430,OK440520,OL921079,OM074164,OL412515,OM099593,OK237013,OL745312,OL469813,OL506029,OK185445,OK279831,OL559834,OM011836,OK012917,OL829387,OL483239,OL769629,OK068849,OL914274,OK343423,OK302709,OL811228,OL804859,OK494159,OL514497,OK061204,OK468972,OK374997,OL945376,OK136412,OL769869,OK514608,OK030028,OK129519,OL939280,OM095484,OK048307,OL867329,OL881006,OL460773,OK468246,MZ863382,OK227192,OL325196,MZ432960,OK238073,MZ797087,OL318265,OL612641,OK520917,OL582211,OL747901,OL352944,OK398944,MZ891756,OL928145,OL940926,OM036236,OL957359,OK187420,MZ938684,OK368024,OK302605,OK152929,OK266677,OL792715,OK319118,MZ882596,OL828414,OK162618,OK114645,OK355155,OK607494,OL530718,OL759548,OK582108,OL466406,OK398829,OL575831,MZ748282,OL934030,MZ577500 --protocol=FTP --asperaLocation=null\n",
      "\n",
      "             #. ///////////////////       @@@@@@@      @@@@@@@@   @@@@    @@@    @@@@   @@@@@@@@@             @@@    @@@@@@@@\n",
      "        ###. #. /.   /////////////      @@@@  @@@@    @@@   @@@   @@@@   @@@    @@@@   @@@@  @@@@           @@@@   @@@   @@@@\n",
      "    #### #####.     /    /////////     @@@@          @@@    @@@   @@@@  @@@    @@@@   @@@@   @@@@          @@@@  @@@@   @@@@\n",
      "  ##  ########.        //  //////      @@@@         @@@@   @@@@   @@@@ @@@    @@@@   @@@@   @@@@   @@@@@  @@@@  @@@@@@@@@@@\n",
      " #############.             /////      @@@@   @@@   @@@    @@@    @@@@@@@    @@@@   @@@@   @@@@          @@@@         @@@\n",
      "(#############.             ////       @@@@ @@@@    @@@   @@@     @@@@@@    @@@@   @@@@@@@@@@           @@@@   @@@@  @@@\n",
      "(#############.          .  ////        @@@@@@@     @@@@@@@@      @@@@@    @@@@   @@@@@@@@@            @@@@    @@@@@@@@\n",
      " #############.             ///                                                                                              \n",
      "  ##  ########.        //  ////        ######    ##  #####  ##      #####   ####  #####  #####  ##    #\n",
      "    #### #####.     /    /////,        #    #   ###   ##   # #      #   #  #   #  #   #   #    # #   #\n",
      "        ###. #. /.   /////////         #    #  #  #   #   #  #     #####  #   #  ## ##   #    #  #  #\n",
      "             #, //////////////        ######  #   #  ##  #   #    #      ### #  #   #   #    #   # ####\n",
      "\n",
      " (Copyright © EMBL 2021)\n",
      "\n",
      "Welcome to the Covid-19 Data Portal's data downloader utility!\n",
      "----------------------------------------------\n"
     ]
    },
    {
     "name": "stderr",
     "output_type": "stream",
     "text": [
      "Downloading   ? % [    =                                                      ] 3/?MB (0:00:14 / ?) \n"
     ]
    },
    {
     "name": "stdout",
     "output_type": "stream",
     "text": [
      "Download completed to /host/home/user_7321/user_7321_backup/user_7321/docker/ProjectB---Vital/vital/data_collectors/data/covid19_genome//tmp//viral_sequences/sequences/fasta/20240214-2142.fasta.\n",
      "java -jar cdp-file-downloader.jar --domain=VIRAL_SEQUENCES --datatype=SEQUENCES --format=FASTA --location=/host/home/user_7321/user_7321_backup/user_7321/docker/ProjectB---Vital/vital/data_collectors/data/covid19_genome//tmp/ --email=NONE --accessions=MZ897856,MZ997552,OK305927,OL562697,OL433270,MZ797457,OK398762,OK008486,OK060557,OL521984,OK627061,OK474861,OL612732,OK343488,OK398942,OK300665,OL376091,OL398341,OK506293,OM170007,OK279304,OL404888,OL493011,OK497478,OL868561,OK567170,OM034078,OK343447,OK186452,MZ904836,OL432321,OL774975,OK201235,OK088967,MZ897927,OL380118,MZ862246,OK368836,OL334621,OK475253,OM019645,MZ798313,OL590680,OL736462,OK236936,OM221935,OL729662,OK059175,OL424073,OL577640,MZ863910,OL836396,MZ849009,OK524723,OK066988,OL525784,OL694016,OL417530,MZ940697,MZ705957,OK129187,MZ681756,OL566366,MZ926868,OL388508,OK520417,OL390998,OL373088,OL464603,MZ849415,OL387856,OL828360,OK005937,MZ760765,OK042633,OL347140,OM525180,OM047869,OL534868,OK227366,OL557316,OK203847,OL696750,OL509691,MZ998070,OK210378,OL757704,OK294534,OK405269,OK260303,OK025403,OL460491,OK028574,OL530981,OL514308,OK652363,OK218712,OK445859,OK343877,OL955023,OL427220,OK011029,OL745822,OK317375,MZ877000,OL349816,OM061502,OL429070,OK131034,OL709287,OK370636,MZ786543,OK398834,OM226718,OK008595,OL501305,OL797794,OL782794,MZ896614,OK114455,OM503293,OK506424,OK172395,OK030185,OM246713,OK577654,OK524743,OL469989 --protocol=FTP --asperaLocation=null\n",
      "\n",
      "             #. ///////////////////       @@@@@@@      @@@@@@@@   @@@@    @@@    @@@@   @@@@@@@@@             @@@    @@@@@@@@\n",
      "        ###. #. /.   /////////////      @@@@  @@@@    @@@   @@@   @@@@   @@@    @@@@   @@@@  @@@@           @@@@   @@@   @@@@\n",
      "    #### #####.     /    /////////     @@@@          @@@    @@@   @@@@  @@@    @@@@   @@@@   @@@@          @@@@  @@@@   @@@@\n",
      "  ##  ########.        //  //////      @@@@         @@@@   @@@@   @@@@ @@@    @@@@   @@@@   @@@@   @@@@@  @@@@  @@@@@@@@@@@\n",
      " #############.             /////      @@@@   @@@   @@@    @@@    @@@@@@@    @@@@   @@@@   @@@@          @@@@         @@@\n",
      "(#############.             ////       @@@@ @@@@    @@@   @@@     @@@@@@    @@@@   @@@@@@@@@@           @@@@   @@@@  @@@\n",
      "(#############.          .  ////        @@@@@@@     @@@@@@@@      @@@@@    @@@@   @@@@@@@@@            @@@@    @@@@@@@@\n",
      " #############.             ///                                                                                              \n",
      "  ##  ########.        //  ////        ######    ##  #####  ##      #####   ####  #####  #####  ##    #\n",
      "    #### #####.     /    /////,        #    #   ###   ##   # #      #   #  #   #  #   #   #    # #   #\n",
      "        ###. #. /.   /////////         #    #  #  #   #   #  #     #####  #   #  ## ##   #    #  #  #\n",
      "             #, //////////////        ######  #   #  ##  #   #    #      ### #  #   #   #    #   # ####\n",
      "\n",
      " (Copyright © EMBL 2021)\n",
      "\n",
      "Welcome to the Covid-19 Data Portal's data downloader utility!\n",
      "----------------------------------------------\n"
     ]
    },
    {
     "name": "stderr",
     "output_type": "stream",
     "text": [
      "Downloading   ? % [                         =                                 ] 3/?MB (0:00:15 / ?) \n"
     ]
    },
    {
     "name": "stdout",
     "output_type": "stream",
     "text": [
      "Download completed to /host/home/user_7321/user_7321_backup/user_7321/docker/ProjectB---Vital/vital/data_collectors/data/covid19_genome//tmp//viral_sequences/sequences/fasta/20240214-2142.fasta.\n",
      "java -jar cdp-file-downloader.jar --domain=VIRAL_SEQUENCES --datatype=SEQUENCES --format=FASTA --location=/host/home/user_7321/user_7321_backup/user_7321/docker/ProjectB---Vital/vital/data_collectors/data/covid19_genome//tmp/ --email=NONE --accessions=OL722695,OK186443,OL769351,OK085973,MZ694151,OL593075,OL864927,OK116594,OL373260,OK486485,OK248726,OL804650,MZ997625,OK611831,OK277017,OL859774,OK116506,OK356182,OK197192,ON131109,OL568616,OK516379,OK594417,OL569017,OL736581,OL521122,OK454426,OK095957,OL514484,MZ591533,OK309744,OK007152,OL523859,OM053792,OL676505,OL397872,OK337969,ON031431,OL384218,OK398782,OL595673,OL796123,OK016381,OK576882,OL521250,OK200837,MZ755154,OK341579,MZ968627,OL241763,OL337910,OK400011,OL888161,OL553815,OK341500,OK567233,MZ712936,OK618277,OK131663,OL815565,OK014877,OK009611,OK237560,MZ997554,OM121878,OK603095,OK198513,OK535416,OL596977,OL762107,OL419736,MZ883476,OK581928,OK162631,OM072516,OM975675,OL594257,OL533847,OL383296,MZ850369,MZ929929,MZ864361,OL328484,OK292193,OK660076,OL394291,OK398940,OK164494,OK601111,OL612969,OK371542,OM083219,OK117212,OK185432,OL523780,OL736069,OL685922,OK434236,OK628955,OL725501,MZ576131,MZ821597,OK454485,OK118526,OK433907,OK495107,OK615456,OK520416,OL547275,OK288692,OK350875,OL319846,OL940481,OK131668,OK060100,OL326277,OL316124,OM116780,OK579236,MZ727587,OK449512,OK262915,OK229892,OL859485,MZ859775,OL615704,OK130779,OK152629 --protocol=FTP --asperaLocation=null\n",
      "\n",
      "             #. ///////////////////       @@@@@@@      @@@@@@@@   @@@@    @@@    @@@@   @@@@@@@@@             @@@    @@@@@@@@\n",
      "        ###. #. /.   /////////////      @@@@  @@@@    @@@   @@@   @@@@   @@@    @@@@   @@@@  @@@@           @@@@   @@@   @@@@\n",
      "    #### #####.     /    /////////     @@@@          @@@    @@@   @@@@  @@@    @@@@   @@@@   @@@@          @@@@  @@@@   @@@@\n",
      "  ##  ########.        //  //////      @@@@         @@@@   @@@@   @@@@ @@@    @@@@   @@@@   @@@@   @@@@@  @@@@  @@@@@@@@@@@\n",
      " #############.             /////      @@@@   @@@   @@@    @@@    @@@@@@@    @@@@   @@@@   @@@@          @@@@         @@@\n",
      "(#############.             ////       @@@@ @@@@    @@@   @@@     @@@@@@    @@@@   @@@@@@@@@@           @@@@   @@@@  @@@\n",
      "(#############.          .  ////        @@@@@@@     @@@@@@@@      @@@@@    @@@@   @@@@@@@@@            @@@@    @@@@@@@@\n",
      " #############.             ///                                                                                              \n",
      "  ##  ########.        //  ////        ######    ##  #####  ##      #####   ####  #####  #####  ##    #\n",
      "    #### #####.     /    /////,        #    #   ###   ##   # #      #   #  #   #  #   #   #    # #   #\n",
      "        ###. #. /.   /////////         #    #  #  #   #   #  #     #####  #   #  ## ##   #    #  #  #\n",
      "             #, //////////////        ######  #   #  ##  #   #    #      ### #  #   #   #    #   # ####\n",
      "\n",
      " (Copyright © EMBL 2021)\n",
      "\n",
      "Welcome to the Covid-19 Data Portal's data downloader utility!\n",
      "----------------------------------------------\n"
     ]
    },
    {
     "name": "stderr",
     "output_type": "stream",
     "text": [
      "Downloading   ? % [        =                                                  ] 3/?MB (0:00:16 / ?) \n"
     ]
    },
    {
     "name": "stdout",
     "output_type": "stream",
     "text": [
      "Download completed to /host/home/user_7321/user_7321_backup/user_7321/docker/ProjectB---Vital/vital/data_collectors/data/covid19_genome//tmp//viral_sequences/sequences/fasta/20240214-2143.fasta.\n",
      "java -jar cdp-file-downloader.jar --domain=VIRAL_SEQUENCES --datatype=SEQUENCES --format=FASTA --location=/host/home/user_7321/user_7321_backup/user_7321/docker/ProjectB---Vital/vital/data_collectors/data/covid19_genome//tmp/ --email=NONE --accessions=OK120171,OK496440,MZ654829,MZ950100,OM165401,OK143039,OK003847,OK287875,OL968326,OK508706,OK506798,OL316752,OL774497,OM018744,MZ821632,OK449434,OK566877,OM274409,OL940272,OL608552,OK506767,OK457865,MZ886520,OK627240,MZ778132,OL355864,OL470008,OL569231,OM076400,OL459479,MZ927925,OK276600,OK343801,OL748577,OL779384,OK444341,ON339273,OK518594,OL510175,OL428398,OK210512,MZ766223,MZ927708,OL325874,OK241498,MZ946222,OL819360,OL509867,OL741386,OK495066,OK521693,OK247321,MZ754992,ON149064,OK652376,OK586435,OK411416,OK527469,MZ998508,OM080626,OK607468,OK388117,OK017542,OL514650,MZ760639,OK046815,OM064326,OL756132,OK612419,OL454344,OL323293,OK575635,OK171868,OK189008,MZ994561,OL499538,OK537255,OK306831,OL968910,OL348701,MZ990604,MZ730551,OL809399,OL404481,OK025859,OK571683,OK645067,OM064421,OL593076,MZ897123,OL856650,MZ979706,OK238256,MZ811050,MZ986772,OK226192,OL383900,OK373153,OL508766,OK056261,OK368684,OK606862,OK027342,OK300851,OL559087,MZ782243,OL600422,OL735580,OL485932,MZ845258,OL964087,MZ965357,OK087645,MZ958359,OK570580,OK060790,OK365827,OK563900,OL868524,OK004961,OK452040,OL454318,OK645973,OK003044,MZ681778,OK621696,MZ858538,OL686920 --protocol=FTP --asperaLocation=null\n",
      "\n",
      "             #. ///////////////////       @@@@@@@      @@@@@@@@   @@@@    @@@    @@@@   @@@@@@@@@             @@@    @@@@@@@@\n",
      "        ###. #. /.   /////////////      @@@@  @@@@    @@@   @@@   @@@@   @@@    @@@@   @@@@  @@@@           @@@@   @@@   @@@@\n",
      "    #### #####.     /    /////////     @@@@          @@@    @@@   @@@@  @@@    @@@@   @@@@   @@@@          @@@@  @@@@   @@@@\n",
      "  ##  ########.        //  //////      @@@@         @@@@   @@@@   @@@@ @@@    @@@@   @@@@   @@@@   @@@@@  @@@@  @@@@@@@@@@@\n",
      " #############.             /////      @@@@   @@@   @@@    @@@    @@@@@@@    @@@@   @@@@   @@@@          @@@@         @@@\n",
      "(#############.             ////       @@@@ @@@@    @@@   @@@     @@@@@@    @@@@   @@@@@@@@@@           @@@@   @@@@  @@@\n",
      "(#############.          .  ////        @@@@@@@     @@@@@@@@      @@@@@    @@@@   @@@@@@@@@            @@@@    @@@@@@@@\n",
      " #############.             ///                                                                                              \n",
      "  ##  ########.        //  ////        ######    ##  #####  ##      #####   ####  #####  #####  ##    #\n",
      "    #### #####.     /    /////,        #    #   ###   ##   # #      #   #  #   #  #   #   #    # #   #\n",
      "        ###. #. /.   /////////         #    #  #  #   #   #  #     #####  #   #  ## ##   #    #  #  #\n",
      "             #, //////////////        ######  #   #  ##  #   #    #      ### #  #   #   #    #   # ####\n",
      "\n",
      " (Copyright © EMBL 2021)\n",
      "\n",
      "Welcome to the Covid-19 Data Portal's data downloader utility!\n",
      "----------------------------------------------\n"
     ]
    },
    {
     "name": "stderr",
     "output_type": "stream",
     "text": [
      "Downloading   ? % [        =                                                  ] 3/?MB (0:00:14 / ?) \n"
     ]
    },
    {
     "name": "stdout",
     "output_type": "stream",
     "text": [
      "Download completed to /host/home/user_7321/user_7321_backup/user_7321/docker/ProjectB---Vital/vital/data_collectors/data/covid19_genome//tmp//viral_sequences/sequences/fasta/20240214-2143.fasta.\n",
      "java -jar cdp-file-downloader.jar --domain=VIRAL_SEQUENCES --datatype=SEQUENCES --format=FASTA --location=/host/home/user_7321/user_7321_backup/user_7321/docker/ProjectB---Vital/vital/data_collectors/data/covid19_genome//tmp/ --email=NONE --accessions=OK022899,OK147209,OK388631,OL565834,OK152970,OM035233,MZ839392,OK567732,MZ852573,OM921626,OL513367,OK590504,OL523661,OK190118,OL445939,MZ745472,OM083236,OK069358,OM116487,OL358804,OL941677,OK385308,OK319286,MZ864018,OL534794,MZ946221,OK291112,OL386786,OK496163,MZ821166,OL558059,OK239561,OK131555,OL708345,OK164589,OK398305,OK569419,OK350844,OL373878,OM100071,OK141255,OK016668,OK506577,OK410828,OL959453,OL499348,OK273155,OK056833,OL577523,OK579658,OL535805,OL610938,OK403493,OK542522,OL364333,OK116777,OK486437,OL348731,OK369495,OL754331,OK600540,OK291118,MZ862669,OK140009,OK629022,OK013968,OK196058,MZ731804,OL324861,OK469105,OL724587,MZ745130,OL427019,OK064359,OL358323,OK138129,OK576954,MZ787227,OK468897,OL464955,OL995093,OK566979,OK083861,MZ694263,OK462687,OL990061,OL592993,OL568034,OM439257,OK620026,OL968274,OM079798,OL809030,OL475866,OL837837,OL883861,OK098735,OL697025,OK218107,OK580672,OL890163,MZ761095,MZ703483,OL391381,ON120494,OK619894,OK129647,OL357870,OK128444,OL318282,OL726331,OL567606,OM922582,OL315763,OL968160,MZ885796,MZ876763,OK398290,OK373133,OK566381,OM071835,OL427018,OL997140,OL389967,OK009139,OK113157,OK309017,OK228363 --protocol=FTP --asperaLocation=null\n",
      "\n",
      "             #. ///////////////////       @@@@@@@      @@@@@@@@   @@@@    @@@    @@@@   @@@@@@@@@             @@@    @@@@@@@@\n",
      "        ###. #. /.   /////////////      @@@@  @@@@    @@@   @@@   @@@@   @@@    @@@@   @@@@  @@@@           @@@@   @@@   @@@@\n",
      "    #### #####.     /    /////////     @@@@          @@@    @@@   @@@@  @@@    @@@@   @@@@   @@@@          @@@@  @@@@   @@@@\n",
      "  ##  ########.        //  //////      @@@@         @@@@   @@@@   @@@@ @@@    @@@@   @@@@   @@@@   @@@@@  @@@@  @@@@@@@@@@@\n",
      " #############.             /////      @@@@   @@@   @@@    @@@    @@@@@@@    @@@@   @@@@   @@@@          @@@@         @@@\n",
      "(#############.             ////       @@@@ @@@@    @@@   @@@     @@@@@@    @@@@   @@@@@@@@@@           @@@@   @@@@  @@@\n",
      "(#############.          .  ////        @@@@@@@     @@@@@@@@      @@@@@    @@@@   @@@@@@@@@            @@@@    @@@@@@@@\n",
      " #############.             ///                                                                                              \n",
      "  ##  ########.        //  ////        ######    ##  #####  ##      #####   ####  #####  #####  ##    #\n",
      "    #### #####.     /    /////,        #    #   ###   ##   # #      #   #  #   #  #   #   #    # #   #\n",
      "        ###. #. /.   /////////         #    #  #  #   #   #  #     #####  #   #  ## ##   #    #  #  #\n",
      "             #, //////////////        ######  #   #  ##  #   #    #      ### #  #   #   #    #   # ####\n",
      "\n",
      " (Copyright © EMBL 2021)\n",
      "\n",
      "Welcome to the Covid-19 Data Portal's data downloader utility!\n",
      "----------------------------------------------\n"
     ]
    },
    {
     "name": "stderr",
     "output_type": "stream",
     "text": [
      "Downloading   ? % [                      =                                    ] 3/?MB (0:00:20 / ?) \n"
     ]
    },
    {
     "name": "stdout",
     "output_type": "stream",
     "text": [
      "Download completed to /host/home/user_7321/user_7321_backup/user_7321/docker/ProjectB---Vital/vital/data_collectors/data/covid19_genome//tmp//viral_sequences/sequences/fasta/20240214-2143.fasta.\n",
      "java -jar cdp-file-downloader.jar --domain=VIRAL_SEQUENCES --datatype=SEQUENCES --format=FASTA --location=/host/home/user_7321/user_7321_backup/user_7321/docker/ProjectB---Vital/vital/data_collectors/data/covid19_genome//tmp/ --email=NONE --accessions=OK277030,MZ937596,OL571236,OK568424,OM258434,OK609857,MZ929172,OK289548,OL402266,OL316285,OK055533,OL618112,OK002896,OK408073,OK046207,OK165381,OL729132,OK162036,OL238228,OL470569,OK237368,MZ929580,OK428509,OL478528,OK454573,OK447329,OK368034,OK007415,OL745615,OK109415,OL612966,MZ796312,OK407198,OK567905,OM146740,OM077174,OM493789,OL433499,OL857695,OK100500,OK359951,MZ852730,OK222374,OL389110,MZ881038,OL774506,OL373240,MZ671719,OK046750,OK443434,OM922801,OL721403,OL525986,OK533512,OL329572,OL430036,OK610091,OK601948,OL412480,OM280589,OK639061,OK098095,OK645615,OK411700,OK278560,OL952105,OL896088,MZ802026,OL355197,OK370202,OK500568,MZ994515,OL777676,OK555132,MZ720644,OK337568,OL525602,MZ994308,OK009463,OK499365,OL491462,OL907690,OL475752,OK407767,OK567345,OK229965,OK525966,OK630818,OK443607,MZ837861,OL708163,OK387918,OK112474,OL514656,OK525572,MZ634201,OK039739,OK580942,OK250723,OK305003,OK037268,OK066849,OL562162,OL846039,OL637158,OK475199,OL443173,OL470026,OL344006,OK310026,MZ978535,OL785558,OL346913,OL757471,OL831911,OM084214,OL928967,OK368413,OM041995,MZ577509,MZ862304,OK471708,OM096534,OL922328,OL459436,OK462284,OK401332,MZ928180 --protocol=FTP --asperaLocation=null\n",
      "\n",
      "             #. ///////////////////       @@@@@@@      @@@@@@@@   @@@@    @@@    @@@@   @@@@@@@@@             @@@    @@@@@@@@\n",
      "        ###. #. /.   /////////////      @@@@  @@@@    @@@   @@@   @@@@   @@@    @@@@   @@@@  @@@@           @@@@   @@@   @@@@\n",
      "    #### #####.     /    /////////     @@@@          @@@    @@@   @@@@  @@@    @@@@   @@@@   @@@@          @@@@  @@@@   @@@@\n",
      "  ##  ########.        //  //////      @@@@         @@@@   @@@@   @@@@ @@@    @@@@   @@@@   @@@@   @@@@@  @@@@  @@@@@@@@@@@\n",
      " #############.             /////      @@@@   @@@   @@@    @@@    @@@@@@@    @@@@   @@@@   @@@@          @@@@         @@@\n",
      "(#############.             ////       @@@@ @@@@    @@@   @@@     @@@@@@    @@@@   @@@@@@@@@@           @@@@   @@@@  @@@\n",
      "(#############.          .  ////        @@@@@@@     @@@@@@@@      @@@@@    @@@@   @@@@@@@@@            @@@@    @@@@@@@@\n",
      " #############.             ///                                                                                              \n",
      "  ##  ########.        //  ////        ######    ##  #####  ##      #####   ####  #####  #####  ##    #\n",
      "    #### #####.     /    /////,        #    #   ###   ##   # #      #   #  #   #  #   #   #    # #   #\n",
      "        ###. #. /.   /////////         #    #  #  #   #   #  #     #####  #   #  ## ##   #    #  #  #\n",
      "             #, //////////////        ######  #   #  ##  #   #    #      ### #  #   #   #    #   # ####\n",
      "\n",
      " (Copyright © EMBL 2021)\n",
      "\n",
      "Welcome to the Covid-19 Data Portal's data downloader utility!\n",
      "----------------------------------------------\n"
     ]
    },
    {
     "name": "stderr",
     "output_type": "stream",
     "text": [
      "Downloading   ? % [                                              =            ] 3/?MB (0:00:21 / ?) \n"
     ]
    },
    {
     "name": "stdout",
     "output_type": "stream",
     "text": [
      "Download completed to /host/home/user_7321/user_7321_backup/user_7321/docker/ProjectB---Vital/vital/data_collectors/data/covid19_genome//tmp//viral_sequences/sequences/fasta/20240214-2143.fasta.\n",
      "java -jar cdp-file-downloader.jar --domain=VIRAL_SEQUENCES --datatype=SEQUENCES --format=FASTA --location=/host/home/user_7321/user_7321_backup/user_7321/docker/ProjectB---Vital/vital/data_collectors/data/covid19_genome//tmp/ --email=NONE --accessions=OV648568,OV529145,OU937135,OU933827,OV142766,OV200095,OM190360,OV516024,OV623318,OM126815,OV498914,OV624623,OV116166,OU999923,OU948301,OV843679,OV352569,OV209372,OV233054,OV542165,OV532406,OU451843,OU902693,OV681822,OV138824,OV685142,OV377751,OV663504,OV556171,OV219381,OV854022,OV504588,OM462938,OV651546,OV225292,OV114838,OV603380,OV111370,OV651597,OV663458,OV211551,OV263677,OL532426,OU965515,OV404721,OV403026,OV197982,OV261007,OV478475,OW302267,OU932642,OV623032,OU854160,OV580361,OL984782,OM013108,OV367051,OV622323,OU967154,OV351426,OV341787,OV735349,OV501324,OV109277,OV373622,OV859658,OU987304,OV219946,OV335165,OV235338,OU427938,OV351980,OV351652,OK427532,OV511481,OU732549,OV354593,OV231126,OL403007,OV592141,OV372893,OU927768,OV586092,OV378882,MZ769240,OV204374,OV661496,OV243426,OU896680,OW297289,OV115387,OV178543,OV338570,OU964258,OV201108,OV137735,OK030048,OV357162,OV672487,OV674180,OV539739,OU938487,OV466701,OU727339,OV414865,OU930906,OU926464,OU927225,OV398261,OV514613,OV220468,OV208467,OM542009,OV800567,OM190120,OW104348,OV685759,OV853196,OU911159,OV010770,OV123080,OU968265,OV379372,OL428820,OV347750,OV515252,OL762209,OV415895 --protocol=FTP --asperaLocation=null\n",
      "\n",
      "             #. ///////////////////       @@@@@@@      @@@@@@@@   @@@@    @@@    @@@@   @@@@@@@@@             @@@    @@@@@@@@\n",
      "        ###. #. /.   /////////////      @@@@  @@@@    @@@   @@@   @@@@   @@@    @@@@   @@@@  @@@@           @@@@   @@@   @@@@\n",
      "    #### #####.     /    /////////     @@@@          @@@    @@@   @@@@  @@@    @@@@   @@@@   @@@@          @@@@  @@@@   @@@@\n",
      "  ##  ########.        //  //////      @@@@         @@@@   @@@@   @@@@ @@@    @@@@   @@@@   @@@@   @@@@@  @@@@  @@@@@@@@@@@\n",
      " #############.             /////      @@@@   @@@   @@@    @@@    @@@@@@@    @@@@   @@@@   @@@@          @@@@         @@@\n",
      "(#############.             ////       @@@@ @@@@    @@@   @@@     @@@@@@    @@@@   @@@@@@@@@@           @@@@   @@@@  @@@\n",
      "(#############.          .  ////        @@@@@@@     @@@@@@@@      @@@@@    @@@@   @@@@@@@@@            @@@@    @@@@@@@@\n",
      " #############.             ///                                                                                              \n",
      "  ##  ########.        //  ////        ######    ##  #####  ##      #####   ####  #####  #####  ##    #\n",
      "    #### #####.     /    /////,        #    #   ###   ##   # #      #   #  #   #  #   #   #    # #   #\n",
      "        ###. #. /.   /////////         #    #  #  #   #   #  #     #####  #   #  ## ##   #    #  #  #\n",
      "             #, //////////////        ######  #   #  ##  #   #    #      ### #  #   #   #    #   # ####\n",
      "\n",
      " (Copyright © EMBL 2021)\n",
      "\n",
      "Welcome to the Covid-19 Data Portal's data downloader utility!\n",
      "----------------------------------------------\n"
     ]
    },
    {
     "name": "stderr",
     "output_type": "stream",
     "text": [
      "Downloading   ? % [                                            =              ] 3/?MB (0:00:27 / ?) \n"
     ]
    },
    {
     "name": "stdout",
     "output_type": "stream",
     "text": [
      "Download completed to /host/home/user_7321/user_7321_backup/user_7321/docker/ProjectB---Vital/vital/data_collectors/data/covid19_genome//tmp//viral_sequences/sequences/fasta/20240214-2144.fasta.\n",
      "java -jar cdp-file-downloader.jar --domain=VIRAL_SEQUENCES --datatype=SEQUENCES --format=FASTA --location=/host/home/user_7321/user_7321_backup/user_7321/docker/ProjectB---Vital/vital/data_collectors/data/covid19_genome//tmp/ --email=NONE --accessions=OV515280,OU924777,OV292739,OU873568,OV355268,OU744718,OV425960,OU930457,OV662214,OW306691,OU992898,OV311498,OV216989,OV407108,OU927523,OV322272,OV233739,OV361194,OV020688,OK644841,OV491551,OU516144,OV634559,OL553763,OU848576,OV356153,OV301221,OV245487,OV008804,OV350999,OV513463,OU518124,OK243009,OU871273,OU929671,OV219675,OU841711,OV858027,OV459852,OV009822,OV888519,OU952645,OV371434,OV689891,OV293019,OV665716,OV200418,OV307048,OM090999,OV506247,OV638898,OV300524,OV036596,OL865758,OV516231,OV636881,OV229846,OV681266,OV293481,OV218176,OV828819,MZ995779,OV532615,OV516106,OV394897,OV105990,OV606790,OU844187,OV206266,OV503937,OV503922,OV541996,OV216401,OV352043,OV217072,OV656164,OV020913,OU908337,OV219406,OV465267,OU451813,OV311906,OV231108,OU839887,OV012492,OV202048,OM490111,OV367492,OV018339,OV116095,OV919401,OV672906,OV485848,OU735788,OM241129,OV204433,OU967711,OV513957,OV235366,OV510993,OV192383,OV657523,OV245872,OV386528,OL555324,OV292067,OV334438,OV023656,OU997831,OV303593,OV201143,OV491904,OM153260,OV406485,OV513206,OV847047,OV099195,OU701481,OV415129,OV854625,OV239489,OU484919,OV523948,OV456258,OV857491,OV509583,OV519651,OV080179 --protocol=FTP --asperaLocation=null\n",
      "\n",
      "             #. ///////////////////       @@@@@@@      @@@@@@@@   @@@@    @@@    @@@@   @@@@@@@@@             @@@    @@@@@@@@\n",
      "        ###. #. /.   /////////////      @@@@  @@@@    @@@   @@@   @@@@   @@@    @@@@   @@@@  @@@@           @@@@   @@@   @@@@\n",
      "    #### #####.     /    /////////     @@@@          @@@    @@@   @@@@  @@@    @@@@   @@@@   @@@@          @@@@  @@@@   @@@@\n",
      "  ##  ########.        //  //////      @@@@         @@@@   @@@@   @@@@ @@@    @@@@   @@@@   @@@@   @@@@@  @@@@  @@@@@@@@@@@\n",
      " #############.             /////      @@@@   @@@   @@@    @@@    @@@@@@@    @@@@   @@@@   @@@@          @@@@         @@@\n",
      "(#############.             ////       @@@@ @@@@    @@@   @@@     @@@@@@    @@@@   @@@@@@@@@@           @@@@   @@@@  @@@\n",
      "(#############.          .  ////        @@@@@@@     @@@@@@@@      @@@@@    @@@@   @@@@@@@@@            @@@@    @@@@@@@@\n",
      " #############.             ///                                                                                              \n",
      "  ##  ########.        //  ////        ######    ##  #####  ##      #####   ####  #####  #####  ##    #\n",
      "    #### #####.     /    /////,        #    #   ###   ##   # #      #   #  #   #  #   #   #    # #   #\n",
      "        ###. #. /.   /////////         #    #  #  #   #   #  #     #####  #   #  ## ##   #    #  #  #\n",
      "             #, //////////////        ######  #   #  ##  #   #    #      ### #  #   #   #    #   # ####\n",
      "\n",
      " (Copyright © EMBL 2021)\n",
      "\n",
      "Welcome to the Covid-19 Data Portal's data downloader utility!\n",
      "----------------------------------------------\n"
     ]
    },
    {
     "name": "stderr",
     "output_type": "stream",
     "text": [
      "Downloading   ? % [                                  =                        ] 3/?MB (0:00:32 / ?) \n"
     ]
    },
    {
     "name": "stdout",
     "output_type": "stream",
     "text": [
      "Download completed to /host/home/user_7321/user_7321_backup/user_7321/docker/ProjectB---Vital/vital/data_collectors/data/covid19_genome//tmp//viral_sequences/sequences/fasta/20240214-2144.fasta.\n",
      "java -jar cdp-file-downloader.jar --domain=VIRAL_SEQUENCES --datatype=SEQUENCES --format=FASTA --location=/host/home/user_7321/user_7321_backup/user_7321/docker/ProjectB---Vital/vital/data_collectors/data/covid19_genome//tmp/ --email=NONE --accessions=OV428614,OV264005,OV341357,OV222843,OV208733,OU846496,OV429305,OV214733,OV395768,OV637299,OV114521,OV382732,OV229732,OV668779,OV513921,OU840369,OV662189,OL784246,OV235984,OU936485,OK254058,OV359107,OL918276,OV201500,OV237826,OL389126,OV353309,OV539120,OV240583,OV464280,OU721407,OV274915,OV387417,OV612639,OV218191,OV358052,OV413623,OW298756,OV413564,OV090678,OV506193,OV130465,OU966328,OV321712,OV192931,OV489540,MZ914481,OV653568,OV535835,OU931531,OV475087,OU979904,OV669911,OU937471,OV456916,OU910631,OV509736,OV753242,OV371990,OU735465,OV239587,OU932959,OL433409,OV380192,OW304210,OU947333,OV503880,OV848091,OV181966,OU977970,OV223845,OV478101,ON338938,OV118608,OV235758,OV665875,OU952818,OV011607,OV086994,OV220704,OV239025,OV426682,OV110593,OU974339,OW319811,OV349642,OV243609,OV326530,OV205901,OW304917,OV114938,OV239330,MZ730084,OV356523,OV115554,OV029706,OK645129,OV676245,OV067648,OM197979,OV233754,OV108093,OV062720,OV623967,OV694096,OV378322,OV570842,OV372460,OV325835,OV238793,OV456555,OV372073,OV118668,OL760126,OU928915,OV212247,OV002765,OV532008,OV270039,OV653179,OU964416,OV532121,OV378227,OV530306,OV682934,OV685355,OV356218,OV217807 --protocol=FTP --asperaLocation=null\n",
      "\n",
      "             #. ///////////////////       @@@@@@@      @@@@@@@@   @@@@    @@@    @@@@   @@@@@@@@@             @@@    @@@@@@@@\n",
      "        ###. #. /.   /////////////      @@@@  @@@@    @@@   @@@   @@@@   @@@    @@@@   @@@@  @@@@           @@@@   @@@   @@@@\n",
      "    #### #####.     /    /////////     @@@@          @@@    @@@   @@@@  @@@    @@@@   @@@@   @@@@          @@@@  @@@@   @@@@\n",
      "  ##  ########.        //  //////      @@@@         @@@@   @@@@   @@@@ @@@    @@@@   @@@@   @@@@   @@@@@  @@@@  @@@@@@@@@@@\n",
      " #############.             /////      @@@@   @@@   @@@    @@@    @@@@@@@    @@@@   @@@@   @@@@          @@@@         @@@\n",
      "(#############.             ////       @@@@ @@@@    @@@   @@@     @@@@@@    @@@@   @@@@@@@@@@           @@@@   @@@@  @@@\n",
      "(#############.          .  ////        @@@@@@@     @@@@@@@@      @@@@@    @@@@   @@@@@@@@@            @@@@    @@@@@@@@\n",
      " #############.             ///                                                                                              \n",
      "  ##  ########.        //  ////        ######    ##  #####  ##      #####   ####  #####  #####  ##    #\n",
      "    #### #####.     /    /////,        #    #   ###   ##   # #      #   #  #   #  #   #   #    # #   #\n",
      "        ###. #. /.   /////////         #    #  #  #   #   #  #     #####  #   #  ## ##   #    #  #  #\n",
      "             #, //////////////        ######  #   #  ##  #   #    #      ### #  #   #   #    #   # ####\n",
      "\n",
      " (Copyright © EMBL 2021)\n",
      "\n",
      "Welcome to the Covid-19 Data Portal's data downloader utility!\n",
      "----------------------------------------------\n"
     ]
    },
    {
     "name": "stderr",
     "output_type": "stream",
     "text": [
      "Downloading   ? % [                                           =               ] 3/?MB (0:00:28 / ?) \n"
     ]
    },
    {
     "name": "stdout",
     "output_type": "stream",
     "text": [
      "Download completed to /host/home/user_7321/user_7321_backup/user_7321/docker/ProjectB---Vital/vital/data_collectors/data/covid19_genome//tmp//viral_sequences/sequences/fasta/20240214-2145.fasta.\n",
      "java -jar cdp-file-downloader.jar --domain=VIRAL_SEQUENCES --datatype=SEQUENCES --format=FASTA --location=/host/home/user_7321/user_7321_backup/user_7321/docker/ProjectB---Vital/vital/data_collectors/data/covid19_genome//tmp/ --email=NONE --accessions=OV676321,OV300053,OU842470,OV383214,OV487178,OU965004,OV634630,OV357411,OV445908,OV220207,OK159814,OK178133,OV850783,OU516265,OV109014,OV516988,OV612968,OU848795,OV336628,OV110201,OV417455,OV427252,OV538133,OV346303,OV469507,OU867013,OV670643,OV279747,OV215267,OV416308,OV514156,OK201859,OV591856,OV261979,OV240011,OV686979,OV020814,OU842097,OU929470,OM097796,OU734842,OV475715,OL389323,OV226554,OV696400,OU977117,OV664414,OV531078,OV667674,OV089122,OV224046,OV016047,OV218770,OV398193,OV233925,OV499492,OV387720,OL487813,OV527301,OV111357,OV526653,OV666456,OV637700,OW296692,OV198253,OW106125,OV301328,OV514682,OV431666,OV205362,OV373096,OV245911,OV200343,OV657093,OV109222,OV516138,OV655838,OV201253,OW313734,OV219350,OU933197,OV059940,OV375941,OV245379,OV220879,OV477128,OV362969,OV106481,OV052508,OV116599,OV851907,OV465597,OV523244,OV677531,OV521951,OV888371,OV216820,OV301005,OU958822,OV420510,OV486880,OU427662,OV110658,OV538320,OU927441,OW315266,OV433311,OV376087,OV321113,OV327501,OL427427,OV120094,OU964093,OV333678,OV316199,OV535329,OV245293,OL607323,OV530850,OV241220,OV355677,OV388388,OV368874,OV654928,OV501913,OU935831,OV136311,OV182047 --protocol=FTP --asperaLocation=null\n",
      "\n",
      "             #. ///////////////////       @@@@@@@      @@@@@@@@   @@@@    @@@    @@@@   @@@@@@@@@             @@@    @@@@@@@@\n",
      "        ###. #. /.   /////////////      @@@@  @@@@    @@@   @@@   @@@@   @@@    @@@@   @@@@  @@@@           @@@@   @@@   @@@@\n",
      "    #### #####.     /    /////////     @@@@          @@@    @@@   @@@@  @@@    @@@@   @@@@   @@@@          @@@@  @@@@   @@@@\n",
      "  ##  ########.        //  //////      @@@@         @@@@   @@@@   @@@@ @@@    @@@@   @@@@   @@@@   @@@@@  @@@@  @@@@@@@@@@@\n",
      " #############.             /////      @@@@   @@@   @@@    @@@    @@@@@@@    @@@@   @@@@   @@@@          @@@@         @@@\n",
      "(#############.             ////       @@@@ @@@@    @@@   @@@     @@@@@@    @@@@   @@@@@@@@@@           @@@@   @@@@  @@@\n",
      "(#############.          .  ////        @@@@@@@     @@@@@@@@      @@@@@    @@@@   @@@@@@@@@            @@@@    @@@@@@@@\n",
      " #############.             ///                                                                                              \n",
      "  ##  ########.        //  ////        ######    ##  #####  ##      #####   ####  #####  #####  ##    #\n",
      "    #### #####.     /    /////,        #    #   ###   ##   # #      #   #  #   #  #   #   #    # #   #\n",
      "        ###. #. /.   /////////         #    #  #  #   #   #  #     #####  #   #  ## ##   #    #  #  #\n",
      "             #, //////////////        ######  #   #  ##  #   #    #      ### #  #   #   #    #   # ####\n",
      "\n",
      " (Copyright © EMBL 2021)\n",
      "\n",
      "Welcome to the Covid-19 Data Portal's data downloader utility!\n",
      "----------------------------------------------\n"
     ]
    },
    {
     "name": "stderr",
     "output_type": "stream",
     "text": [
      "Downloading   ? % [            =                                              ] 3/?MB (0:00:24 / ?) \n"
     ]
    },
    {
     "name": "stdout",
     "output_type": "stream",
     "text": [
      "Download completed to /host/home/user_7321/user_7321_backup/user_7321/docker/ProjectB---Vital/vital/data_collectors/data/covid19_genome//tmp//viral_sequences/sequences/fasta/20240214-2145.fasta.\n",
      "java -jar cdp-file-downloader.jar --domain=VIRAL_SEQUENCES --datatype=SEQUENCES --format=FASTA --location=/host/home/user_7321/user_7321_backup/user_7321/docker/ProjectB---Vital/vital/data_collectors/data/covid19_genome//tmp/ --email=NONE --accessions=OU965773,MZ786251,OV244580,OV492798,OU847153,OV238801,OV378315,OV218661,OV847276,OU982026,OV519271,OW098034,OV845746,OV370363,OU839827,OV830977,OU937761,OW306436,OV233974,OV502236,OU905923,OV217935,OV195908,OL959107,OV245029,OV518521,OV080915,OV543381,OV086857,OV402465,OW301082,OV174844,OM057133,OV318112,MZ999228,OV351387,OV683745,OV265608,OU849172,OU727345,OV652834,OV112257,OV245187,OU644828,OV018475,OU979788,OV626385,OV119559,OV229803,OW273731,OV351638,OV451531,OV203160,OV494161,OV220938,OV108935,OK654410,OV178013,OM120420,OV848402,OV113493,OV388324,OU935643,OV672748,OV502860,OV388789,OV311252,OV379909,OV377148,OV673096,OM196739,OV442371,OV297587,OV498473,OV219551,MZ888489,OV496856,OV884784,OV015077,OV011322,OV597700,OK609944,OV018056,OU965849,OV321569,OV036812,OU935411,OV442191,OV201724,OV532609,OV200493,OV027601,OV242146,OV506740,OV205000,OM270149,OV205894,OU938587,OW247403,OV216766,OV501217,OW110135,OV105139,OV104299,OV239852,OU963966,OV477852,OV665838,OU966027,OV237704,OV111280,OV115954,OV244375,OV037879,OU822214,OV116002,OV019330,OV510571,OV636525,OU997675,OV476118,OV410339,OV038154,OU399064,OV264841,OV241132,OV420637,OU983832 --protocol=FTP --asperaLocation=null\n",
      "\n",
      "             #. ///////////////////       @@@@@@@      @@@@@@@@   @@@@    @@@    @@@@   @@@@@@@@@             @@@    @@@@@@@@\n",
      "        ###. #. /.   /////////////      @@@@  @@@@    @@@   @@@   @@@@   @@@    @@@@   @@@@  @@@@           @@@@   @@@   @@@@\n",
      "    #### #####.     /    /////////     @@@@          @@@    @@@   @@@@  @@@    @@@@   @@@@   @@@@          @@@@  @@@@   @@@@\n",
      "  ##  ########.        //  //////      @@@@         @@@@   @@@@   @@@@ @@@    @@@@   @@@@   @@@@   @@@@@  @@@@  @@@@@@@@@@@\n",
      " #############.             /////      @@@@   @@@   @@@    @@@    @@@@@@@    @@@@   @@@@   @@@@          @@@@         @@@\n",
      "(#############.             ////       @@@@ @@@@    @@@   @@@     @@@@@@    @@@@   @@@@@@@@@@           @@@@   @@@@  @@@\n",
      "(#############.          .  ////        @@@@@@@     @@@@@@@@      @@@@@    @@@@   @@@@@@@@@            @@@@    @@@@@@@@\n",
      " #############.             ///                                                                                              \n",
      "  ##  ########.        //  ////        ######    ##  #####  ##      #####   ####  #####  #####  ##    #\n",
      "    #### #####.     /    /////,        #    #   ###   ##   # #      #   #  #   #  #   #   #    # #   #\n",
      "        ###. #. /.   /////////         #    #  #  #   #   #  #     #####  #   #  ## ##   #    #  #  #\n",
      "             #, //////////////        ######  #   #  ##  #   #    #      ### #  #   #   #    #   # ####\n",
      "\n",
      " (Copyright © EMBL 2021)\n",
      "\n",
      "Welcome to the Covid-19 Data Portal's data downloader utility!\n",
      "----------------------------------------------\n"
     ]
    },
    {
     "name": "stderr",
     "output_type": "stream",
     "text": [
      "Downloading   ? % [            =                                              ] 3/?MB (0:00:21 / ?) \n"
     ]
    },
    {
     "name": "stdout",
     "output_type": "stream",
     "text": [
      "Download completed to /host/home/user_7321/user_7321_backup/user_7321/docker/ProjectB---Vital/vital/data_collectors/data/covid19_genome//tmp//viral_sequences/sequences/fasta/20240214-2146.fasta.\n",
      "java -jar cdp-file-downloader.jar --domain=VIRAL_SEQUENCES --datatype=SEQUENCES --format=FASTA --location=/host/home/user_7321/user_7321_backup/user_7321/docker/ProjectB---Vital/vital/data_collectors/data/covid19_genome//tmp/ --email=NONE --accessions=OV269321,OV666667,OV493665,OV681581,OV136360,OV625199,OV227557,OV240027,OV423066,OV685516,OV405390,OV248075,OV693980,OV526593,OV115876,OV247820,OU928690,OV533302,OV258887,OV354307,OV238815,OV204487,OV510304,OV498149,OU959058,OL622923,OV386464,OV681750,OV356456,OV389152,OV573014,OV357850,OV407736,OV538611,OV351042,OU642874,OU965703,OL930567,OV227711,OV237767,OV348859,OL894655,OV383587,OV361910,OV535362,OV524332,OV516529,OV548574,OV271674,OV209644,OK645085,OV420482,OV231031,OK296759,OU846539,OV385685,OV404414,OV113934,OV522910,OV886973,OV241178,OV407403,OV828782,OV416545,OV198430,OV444389,OV461614,OL969439,OV013941,OU929799,OV359452,OV589030,OV406046,OV082830,OV416735,OV109439,OV530089,OV018629,OL393875,OV509387,OV359449,OU569697,OV113940,OL823411,OL876583,OV444697,OV193178,OV371495,OU948232,OV348230,OV242639,OV884144,OV240501,OV655928,OV518317,OV245709,OV135870,OV530734,OV658498,OV633401,OV202547,OV354245,OL563395,OV513904,OV421780,OV242987,OV230789,OU998530,OV215431,OV232636,OL240170,OV198219,OV244464,OV231664,OV109169,OW297940,OV378389,OV200709,OL765080,OK465075,OV177852,OV037491,OV664269,OM269655,OV013385,OL837486,OK102200,OV200266 --protocol=FTP --asperaLocation=null\n",
      "\n",
      "             #. ///////////////////       @@@@@@@      @@@@@@@@   @@@@    @@@    @@@@   @@@@@@@@@             @@@    @@@@@@@@\n",
      "        ###. #. /.   /////////////      @@@@  @@@@    @@@   @@@   @@@@   @@@    @@@@   @@@@  @@@@           @@@@   @@@   @@@@\n",
      "    #### #####.     /    /////////     @@@@          @@@    @@@   @@@@  @@@    @@@@   @@@@   @@@@          @@@@  @@@@   @@@@\n",
      "  ##  ########.        //  //////      @@@@         @@@@   @@@@   @@@@ @@@    @@@@   @@@@   @@@@   @@@@@  @@@@  @@@@@@@@@@@\n",
      " #############.             /////      @@@@   @@@   @@@    @@@    @@@@@@@    @@@@   @@@@   @@@@          @@@@         @@@\n",
      "(#############.             ////       @@@@ @@@@    @@@   @@@     @@@@@@    @@@@   @@@@@@@@@@           @@@@   @@@@  @@@\n",
      "(#############.          .  ////        @@@@@@@     @@@@@@@@      @@@@@    @@@@   @@@@@@@@@            @@@@    @@@@@@@@\n",
      " #############.             ///                                                                                              \n",
      "  ##  ########.        //  ////        ######    ##  #####  ##      #####   ####  #####  #####  ##    #\n",
      "    #### #####.     /    /////,        #    #   ###   ##   # #      #   #  #   #  #   #   #    # #   #\n",
      "        ###. #. /.   /////////         #    #  #  #   #   #  #     #####  #   #  ## ##   #    #  #  #\n",
      "             #, //////////////        ######  #   #  ##  #   #    #      ### #  #   #   #    #   # ####\n",
      "\n",
      " (Copyright © EMBL 2021)\n",
      "\n",
      "Welcome to the Covid-19 Data Portal's data downloader utility!\n",
      "----------------------------------------------\n"
     ]
    },
    {
     "name": "stderr",
     "output_type": "stream",
     "text": [
      "Downloading   ? % [                                            =              ] 3/?MB (0:00:22 / ?) \n"
     ]
    },
    {
     "name": "stdout",
     "output_type": "stream",
     "text": [
      "Download completed to /host/home/user_7321/user_7321_backup/user_7321/docker/ProjectB---Vital/vital/data_collectors/data/covid19_genome//tmp//viral_sequences/sequences/fasta/20240214-2146.fasta.\n",
      "java -jar cdp-file-downloader.jar --domain=VIRAL_SEQUENCES --datatype=SEQUENCES --format=FASTA --location=/host/home/user_7321/user_7321_backup/user_7321/docker/ProjectB---Vital/vital/data_collectors/data/covid19_genome//tmp/ --email=NONE --accessions=OV407703,OV535608,OV510890,OM012966,OU964760,OV228918,OU923776,OV428789,OV529972,OV239168,OV192346,OL897628,OW302768,OV281864,OV218946,OV518465,OV673153,OU929958,OK664780,OV117548,OV064417,OV201594,OU932488,OV119906,OU616210,OV679383,OV885900,OV119474,OV210405,OV488840,OV245365,OV651715,OV020999,OV261320,OV530395,OU577771,OU924774,OW316067,OV368708,OV480435,OV250130,OV207260,OL403310,OV680761,OL463330,OU974778,OV654218,OU753821,OV541725,OU569876,OV519734,OV341479,OV659725,OV462960,OV654264,OV666243,OV305593,OV106542,OU845884,OV245750,OM058864,OV105929,OV482187,OV236780,OV489827,OV237114,OV845723,OV528444,OV523378,OU643462,OL328310,OV535341,OV687271,OV015455,OW306488,OL728807,OV529117,OV538814,OV366975,OV509059,OL890002,OV319520,OV372772,OV524609,OV640599,OV342224,OV112162,OU621153,OV110374,OV258439,OV007616,OV397744,OV193887,OV004544,OV162866,OM106116,OV682252,OL836720,OK284035,OV662798,OV318658,OU975205,OW314152,OV659783,OU968145,OM433189,OU933664,OV116102,OV336983,OV651903,OV529428,OV445282,OV259406,OV020953,OW310313,OV274394,OU980895,OV518177,OV293485,OW297665,OU847499,OM653814,OV527362,MZ928368,OU977062,OV479811,OK052655,OV086934 --protocol=FTP --asperaLocation=null\n",
      "\n",
      "             #. ///////////////////       @@@@@@@      @@@@@@@@   @@@@    @@@    @@@@   @@@@@@@@@             @@@    @@@@@@@@\n",
      "        ###. #. /.   /////////////      @@@@  @@@@    @@@   @@@   @@@@   @@@    @@@@   @@@@  @@@@           @@@@   @@@   @@@@\n",
      "    #### #####.     /    /////////     @@@@          @@@    @@@   @@@@  @@@    @@@@   @@@@   @@@@          @@@@  @@@@   @@@@\n",
      "  ##  ########.        //  //////      @@@@         @@@@   @@@@   @@@@ @@@    @@@@   @@@@   @@@@   @@@@@  @@@@  @@@@@@@@@@@\n",
      " #############.             /////      @@@@   @@@   @@@    @@@    @@@@@@@    @@@@   @@@@   @@@@          @@@@         @@@\n",
      "(#############.             ////       @@@@ @@@@    @@@   @@@     @@@@@@    @@@@   @@@@@@@@@@           @@@@   @@@@  @@@\n",
      "(#############.          .  ////        @@@@@@@     @@@@@@@@      @@@@@    @@@@   @@@@@@@@@            @@@@    @@@@@@@@\n",
      " #############.             ///                                                                                              \n",
      "  ##  ########.        //  ////        ######    ##  #####  ##      #####   ####  #####  #####  ##    #\n",
      "    #### #####.     /    /////,        #    #   ###   ##   # #      #   #  #   #  #   #   #    # #   #\n",
      "        ###. #. /.   /////////         #    #  #  #   #   #  #     #####  #   #  ## ##   #    #  #  #\n",
      "             #, //////////////        ######  #   #  ##  #   #    #      ### #  #   #   #    #   # ####\n",
      "\n",
      " (Copyright © EMBL 2021)\n",
      "\n",
      "Welcome to the Covid-19 Data Portal's data downloader utility!\n",
      "----------------------------------------------\n"
     ]
    },
    {
     "name": "stderr",
     "output_type": "stream",
     "text": [
      "Downloading   ? % [             =                                             ] 3/?MB (0:00:20 / ?) \n"
     ]
    },
    {
     "name": "stdout",
     "output_type": "stream",
     "text": [
      "Download completed to /host/home/user_7321/user_7321_backup/user_7321/docker/ProjectB---Vital/vital/data_collectors/data/covid19_genome//tmp//viral_sequences/sequences/fasta/20240214-2147.fasta.\n",
      "java -jar cdp-file-downloader.jar --domain=VIRAL_SEQUENCES --datatype=SEQUENCES --format=FASTA --location=/host/home/user_7321/user_7321_backup/user_7321/docker/ProjectB---Vital/vital/data_collectors/data/covid19_genome//tmp/ --email=NONE --accessions=OV461595,OV318097,OV423014,OL784561,OV401555,OU938163,OV678863,OV463813,OU948008,OV392351,OV112193,OL874228,OU938204,OV672056,OV536360,OV830177,OV672529,OV524649,OV240244,OL950447,OU979608,OV224355,OV560689,OV390107,OV693070,OU623074,OV690138,OL432870,OV475108,OV133501,OV210143,OU967405,OL896264,OV151330,OV519429,OV345585,OV661856,OV528101,OV518297,OV240198,OV226182,OV106828,OV460054,OV012809,OV649293,OV346031,OV014740,OV004194,OV476317,OV200330,OV664318,OV679619,OV666902,OL418207,OV386839,OU614017,OV196246,OV226096,OM839649,OV485052,OV521330,OV685933,OW299317,OU924912,OM037304,OV301574,OV218889,OV167509,OV418778,OV332325,OV120811,OV412589,OV243864,OU974174,OV120133,OV584464,OV523141,OU928413,OW102532,OU936190,OV470713,OV345666,OV661208,OV066525,OL691271,OV085071,OW297888,OK464653,OV201361,OV205329,OV130296,OW319763,OV219355,OU567413,OV375446,OV485054,OV375887,OV308094,OU981971,OL987957,OV202908,OM129901,OV845592,OV516157,OL853415,OV235002,OW304944,OU573498,OV201937,OV207754,OU517300,OV231676,OV524578,OW297521,OL788637,OV524376,OV665453,OV152922,OV258836,OV248950,OL417666,OU964178,OV357468,OV530672,OV014773,OV426448,OV375576,OL886168 --protocol=FTP --asperaLocation=null\n",
      "\n",
      "             #. ///////////////////       @@@@@@@      @@@@@@@@   @@@@    @@@    @@@@   @@@@@@@@@             @@@    @@@@@@@@\n",
      "        ###. #. /.   /////////////      @@@@  @@@@    @@@   @@@   @@@@   @@@    @@@@   @@@@  @@@@           @@@@   @@@   @@@@\n",
      "    #### #####.     /    /////////     @@@@          @@@    @@@   @@@@  @@@    @@@@   @@@@   @@@@          @@@@  @@@@   @@@@\n",
      "  ##  ########.        //  //////      @@@@         @@@@   @@@@   @@@@ @@@    @@@@   @@@@   @@@@   @@@@@  @@@@  @@@@@@@@@@@\n",
      " #############.             /////      @@@@   @@@   @@@    @@@    @@@@@@@    @@@@   @@@@   @@@@          @@@@         @@@\n",
      "(#############.             ////       @@@@ @@@@    @@@   @@@     @@@@@@    @@@@   @@@@@@@@@@           @@@@   @@@@  @@@\n",
      "(#############.          .  ////        @@@@@@@     @@@@@@@@      @@@@@    @@@@   @@@@@@@@@            @@@@    @@@@@@@@\n",
      " #############.             ///                                                                                              \n",
      "  ##  ########.        //  ////        ######    ##  #####  ##      #####   ####  #####  #####  ##    #\n",
      "    #### #####.     /    /////,        #    #   ###   ##   # #      #   #  #   #  #   #   #    # #   #\n",
      "        ###. #. /.   /////////         #    #  #  #   #   #  #     #####  #   #  ## ##   #    #  #  #\n",
      "             #, //////////////        ######  #   #  ##  #   #    #      ### #  #   #   #    #   # ####\n",
      "\n",
      " (Copyright © EMBL 2021)\n",
      "\n",
      "Welcome to the Covid-19 Data Portal's data downloader utility!\n",
      "----------------------------------------------\n"
     ]
    },
    {
     "name": "stderr",
     "output_type": "stream",
     "text": [
      "Downloading   ? % [                       =                                   ] 3/?MB (0:00:22 / ?) \n"
     ]
    },
    {
     "name": "stdout",
     "output_type": "stream",
     "text": [
      "Download completed to /host/home/user_7321/user_7321_backup/user_7321/docker/ProjectB---Vital/vital/data_collectors/data/covid19_genome//tmp//viral_sequences/sequences/fasta/20240214-2147.fasta.\n",
      "java -jar cdp-file-downloader.jar --domain=VIRAL_SEQUENCES --datatype=SEQUENCES --format=FASTA --location=/host/home/user_7321/user_7321_backup/user_7321/docker/ProjectB---Vital/vital/data_collectors/data/covid19_genome//tmp/ --email=NONE --accessions=OL806360,MZ887687,OL817562,OL346643,MZ861503,OK046852,OL558095,OL486616,OK665035,OL924482,OK538204,OK337607,MZ898898,OL584393,MZ832196,OK663938,OK451757,ON149281,OL811595,OL379206,OL798478,OK440971,OL328479,OL465465,MZ937307,OK066379,OK214683,OM192406,OK118282,OK208991,OL567250,OM125771,MZ946664,ON133324,OK013225,OK089922,OL563686,OL618669,OM082067,OL833862,OK477066,MZ728648,OL323592,OK519381,OL480378,OM077627,OL820891,OL736156,OL927486,OL588166,OM193740,OK525338,MZ940782,OK575188,OK241240,OL460400,OK165798,OL867455,OK015081,OK270565,OM122483,OM224086,OL922656,OK618286,ON132337,OK014338,OL416009,OL611447,OK519424,OK258923,OL700980,OL368592,OK618284,OL751241,OL529890,ON148928,OL714469,MZ867345,OL320434,OL544899,OK197775,MZ710295,OK277782,OL526558,OK171130,OM007008,OK593823,MZ648918,OL664912,OM033847,OK535117,OM120489,OK662931,OK446277,ON148893,OK421792,OL504456,OK458819,OL320371,OK564366,MZ797144,OK521367,OK213312,OK377659,OM046655,OK226213,OL877491,OK403994,MZ993563,MZ875523,OL977148,OK149393,OK488254,OL420051,OM278446,OL588098,MZ990464,OK109278,OM124649,OL827452,OL447540,OL935824,OL705780,OK068782,OK518497,OK464938,OL913333,OK519439 --protocol=FTP --asperaLocation=null\n",
      "\n",
      "             #. ///////////////////       @@@@@@@      @@@@@@@@   @@@@    @@@    @@@@   @@@@@@@@@             @@@    @@@@@@@@\n",
      "        ###. #. /.   /////////////      @@@@  @@@@    @@@   @@@   @@@@   @@@    @@@@   @@@@  @@@@           @@@@   @@@   @@@@\n",
      "    #### #####.     /    /////////     @@@@          @@@    @@@   @@@@  @@@    @@@@   @@@@   @@@@          @@@@  @@@@   @@@@\n",
      "  ##  ########.        //  //////      @@@@         @@@@   @@@@   @@@@ @@@    @@@@   @@@@   @@@@   @@@@@  @@@@  @@@@@@@@@@@\n",
      " #############.             /////      @@@@   @@@   @@@    @@@    @@@@@@@    @@@@   @@@@   @@@@          @@@@         @@@\n",
      "(#############.             ////       @@@@ @@@@    @@@   @@@     @@@@@@    @@@@   @@@@@@@@@@           @@@@   @@@@  @@@\n",
      "(#############.          .  ////        @@@@@@@     @@@@@@@@      @@@@@    @@@@   @@@@@@@@@            @@@@    @@@@@@@@\n",
      " #############.             ///                                                                                              \n",
      "  ##  ########.        //  ////        ######    ##  #####  ##      #####   ####  #####  #####  ##    #\n",
      "    #### #####.     /    /////,        #    #   ###   ##   # #      #   #  #   #  #   #   #    # #   #\n",
      "        ###. #. /.   /////////         #    #  #  #   #   #  #     #####  #   #  ## ##   #    #  #  #\n",
      "             #, //////////////        ######  #   #  ##  #   #    #      ### #  #   #   #    #   # ####\n",
      "\n",
      " (Copyright © EMBL 2021)\n",
      "\n",
      "Welcome to the Covid-19 Data Portal's data downloader utility!\n",
      "----------------------------------------------\n"
     ]
    },
    {
     "name": "stderr",
     "output_type": "stream",
     "text": [
      "Downloading   ? % [                                                     =     ] 3/?MB (0:00:21 / ?) \n"
     ]
    },
    {
     "name": "stdout",
     "output_type": "stream",
     "text": [
      "Download completed to /host/home/user_7321/user_7321_backup/user_7321/docker/ProjectB---Vital/vital/data_collectors/data/covid19_genome//tmp//viral_sequences/sequences/fasta/20240214-2147.fasta.\n",
      "java -jar cdp-file-downloader.jar --domain=VIRAL_SEQUENCES --datatype=SEQUENCES --format=FASTA --location=/host/home/user_7321/user_7321_backup/user_7321/docker/ProjectB---Vital/vital/data_collectors/data/covid19_genome//tmp/ --email=NONE --accessions=OM081384,OL921906,OK023511,OM143818,MZ991443,OK095615,OL732928,OK610666,OL521351,OL403870,OK410432,OK622970,OK577626,OK389584,MZ990797,OK341759,OM063230,OM032048,MZ827981,OL668986,OK579628,OL725910,OK408855,MZ953167,OM356518,OL613431,OL506159,OK142059,OL883692,MZ986949,OL428868,OL997744,MZ590890,OK186010,OK389763,OM063417,MZ616542,OK459663,OK025761,MZ705602,OM445067,OL516824,OL720577,OK496234,OL732210,OL459619,OL929888,OM010054,OL404289,OL798256,OL592234,OK321458,OK629908,OK620204,OK403747,OL487616,MZ988986,OL433014,OL376269,OL425613,ON133326,OK369951,OK385327,OK571650,OL403718,OK477104,OK424289,MZ688218,OU981286,OL490020,OL834254,OK174864,OK019347,OK020504,OM047585,OL917789,OL722495,OK130271,OK486478,MZ785169,OK397055,MZ990190,OL815994,OM282756,OK225461,OL883304,OK645842,OM161297,OL879242,OL483530,OL407723,OL990306,OL511285,OL315420,MZ532866,OL955254,OM149473,OL459069,MZ786978,OK134242,OL373148,OK276281,OK200219,OL831753,OK236014,OL476709,OL716252,OK611159,OM082082,OL445786,OK083414,MZ764372,OK542576,ON031175,OK266528,OK498419,OL485937,OK578609,OK390054,OL668307,OL305254,OL778444,OL895840,OL431262,MZ990405,OK164828,OL722518,OL817520 --protocol=FTP --asperaLocation=null\n",
      "\n",
      "             #. ///////////////////       @@@@@@@      @@@@@@@@   @@@@    @@@    @@@@   @@@@@@@@@             @@@    @@@@@@@@\n",
      "        ###. #. /.   /////////////      @@@@  @@@@    @@@   @@@   @@@@   @@@    @@@@   @@@@  @@@@           @@@@   @@@   @@@@\n",
      "    #### #####.     /    /////////     @@@@          @@@    @@@   @@@@  @@@    @@@@   @@@@   @@@@          @@@@  @@@@   @@@@\n",
      "  ##  ########.        //  //////      @@@@         @@@@   @@@@   @@@@ @@@    @@@@   @@@@   @@@@   @@@@@  @@@@  @@@@@@@@@@@\n",
      " #############.             /////      @@@@   @@@   @@@    @@@    @@@@@@@    @@@@   @@@@   @@@@          @@@@         @@@\n",
      "(#############.             ////       @@@@ @@@@    @@@   @@@     @@@@@@    @@@@   @@@@@@@@@@           @@@@   @@@@  @@@\n",
      "(#############.          .  ////        @@@@@@@     @@@@@@@@      @@@@@    @@@@   @@@@@@@@@            @@@@    @@@@@@@@\n",
      " #############.             ///                                                                                              \n",
      "  ##  ########.        //  ////        ######    ##  #####  ##      #####   ####  #####  #####  ##    #\n",
      "    #### #####.     /    /////,        #    #   ###   ##   # #      #   #  #   #  #   #   #    # #   #\n",
      "        ###. #. /.   /////////         #    #  #  #   #   #  #     #####  #   #  ## ##   #    #  #  #\n",
      "             #, //////////////        ######  #   #  ##  #   #    #      ### #  #   #   #    #   # ####\n",
      "\n",
      " (Copyright © EMBL 2021)\n",
      "\n",
      "Welcome to the Covid-19 Data Portal's data downloader utility!\n",
      "----------------------------------------------\n"
     ]
    },
    {
     "name": "stderr",
     "output_type": "stream",
     "text": [
      "Downloading   ? % [                                                    =      ] 3/?MB (0:00:20 / ?) \n"
     ]
    },
    {
     "name": "stdout",
     "output_type": "stream",
     "text": [
      "Download completed to /host/home/user_7321/user_7321_backup/user_7321/docker/ProjectB---Vital/vital/data_collectors/data/covid19_genome//tmp//viral_sequences/sequences/fasta/20240214-2148.fasta.\n",
      "java -jar cdp-file-downloader.jar --domain=VIRAL_SEQUENCES --datatype=SEQUENCES --format=FASTA --location=/host/home/user_7321/user_7321_backup/user_7321/docker/ProjectB---Vital/vital/data_collectors/data/covid19_genome//tmp/ --email=NONE --accessions=OK566213,OL356918,OL359795,OK521227,OL550774,OL885001,OK003876,OL798426,OK362692,MZ946711,OK241000,OL868674,OL701129,OL877681,OL696441,OK456247,OK341708,OK362027,OL305473,OK194867,OL750093,OL907714,OL805173,OL556245,OK620087,OK396913,OK564169,OK276091,OL447766,OK461905,OL518323,OK479963,OK568818,OK085928,OK224029,OK177763,OL590734,OK482843,OL832047,OM011475,OL330229,OK443136,OK152926,OL791506,OL617943,MZ845794,MZ897936,OL924624,OK162730,OL486746,OL579100,OM255347,MZ797562,OL786464,OK258983,OL591704,OL996340,OK565354,OK593069,OK037356,OL625769,OK660386,OK433371,OL350734,OL730347,OK628470,OL538170,OK349824,OK408747,OM150897,OL572470,OM043154,OK499891,OL868130,OL842440,ON130339,OK450987,OL917135,OL811375,OL876855,OL961847,OL403435,OK450885,OL240293,OK262667,OL611303,OK514316,OK190548,MZ593888,OK408405,OK013540,OK660271,OL820685,OL838599,OK099196,OK578793,OK379456,OK106080,OK133312,OK003912,OL751474,OK309337,ON173703,OK606729,OK059482,OK034553,OK543535,OL667769,OL426535,OK450612,OK470480,OK695293,OK469717,OK362493,OL348688,OL682463,OL391392,OL445128,OM463338,OK498001,OL732849,OM050373,MZ755191,OK220779,OL838918,OK273353,OK178185,OM064582 --protocol=FTP --asperaLocation=null\n",
      "\n",
      "             #. ///////////////////       @@@@@@@      @@@@@@@@   @@@@    @@@    @@@@   @@@@@@@@@             @@@    @@@@@@@@\n",
      "        ###. #. /.   /////////////      @@@@  @@@@    @@@   @@@   @@@@   @@@    @@@@   @@@@  @@@@           @@@@   @@@   @@@@\n",
      "    #### #####.     /    /////////     @@@@          @@@    @@@   @@@@  @@@    @@@@   @@@@   @@@@          @@@@  @@@@   @@@@\n",
      "  ##  ########.        //  //////      @@@@         @@@@   @@@@   @@@@ @@@    @@@@   @@@@   @@@@   @@@@@  @@@@  @@@@@@@@@@@\n",
      " #############.             /////      @@@@   @@@   @@@    @@@    @@@@@@@    @@@@   @@@@   @@@@          @@@@         @@@\n",
      "(#############.             ////       @@@@ @@@@    @@@   @@@     @@@@@@    @@@@   @@@@@@@@@@           @@@@   @@@@  @@@\n",
      "(#############.          .  ////        @@@@@@@     @@@@@@@@      @@@@@    @@@@   @@@@@@@@@            @@@@    @@@@@@@@\n",
      " #############.             ///                                                                                              \n",
      "  ##  ########.        //  ////        ######    ##  #####  ##      #####   ####  #####  #####  ##    #\n",
      "    #### #####.     /    /////,        #    #   ###   ##   # #      #   #  #   #  #   #   #    # #   #\n",
      "        ###. #. /.   /////////         #    #  #  #   #   #  #     #####  #   #  ## ##   #    #  #  #\n",
      "             #, //////////////        ######  #   #  ##  #   #    #      ### #  #   #   #    #   # ####\n",
      "\n",
      " (Copyright © EMBL 2021)\n",
      "\n",
      "Welcome to the Covid-19 Data Portal's data downloader utility!\n",
      "----------------------------------------------\n"
     ]
    },
    {
     "name": "stderr",
     "output_type": "stream",
     "text": [
      "Downloading   ? % [                          =                                ] 3/?MB (0:00:16 / ?) \n"
     ]
    },
    {
     "name": "stdout",
     "output_type": "stream",
     "text": [
      "Download completed to /host/home/user_7321/user_7321_backup/user_7321/docker/ProjectB---Vital/vital/data_collectors/data/covid19_genome//tmp//viral_sequences/sequences/fasta/20240214-2148.fasta.\n",
      "java -jar cdp-file-downloader.jar --domain=VIRAL_SEQUENCES --datatype=SEQUENCES --format=FASTA --location=/host/home/user_7321/user_7321_backup/user_7321/docker/ProjectB---Vital/vital/data_collectors/data/covid19_genome//tmp/ --email=NONE --accessions=OL521280,OK470176,OL387412,OL536215,OL817775,OK406095,MZ618078,OK639735,OL486327,OL555647,OK631107,OK461666,MZ864625,OM275236,OK619381,OL825185,OK214685,OK152915,MZ713721,OK590752,OL305256,OK521039,OL829298,MZ993522,OK497032,MZ535606,OK606503,MZ618137,OL486468,ON031121,OL373363,OK384983,OL580605,OK479954,ON133020,OK228676,OL835657,OL510055,OL544961,OK081983,OM048080,MZ940618,MZ860885,OK515786,OK200525,OK527040,OL719165,OL330011,OL761504,OL799395,OL330038,MZ886645,OK461733,OL510203,OL757304,OM124122,OK610206,OK022908,OK128523,MZ897924,OK302236,OL769982,OK558906,OK159797,OK021893,OL727503,OM136661,MZ908723,MZ593887,OL428469,OL336209,OL373238,OM048502,OL360101,OL883402,OK015360,OM360190,OL372684,OL800081,OL925668,OK569382,OK119226,OL879359,OM702573,OK281204,OK280037,MZ751174,OL475675,OK371514,OV903159,OK185768,OL889075,OL516614,OK279269,OM019423,OM164691,OL391146,OL785620,OL778540,OL924787,OK139345,OK606261,OL511142,OL612511,OK067182,OL815557,OL240043,OK142605,OL941352,OL319395,MZ801872,OK450858,OL724604,OK506998,OK526998,OL913054,OL715240,OK363654,OL746933,OL464734,OL511011,OU574219,OK166035,OK066465,OL238624,OK476195,OL923793,OL817943 --protocol=FTP --asperaLocation=null\n",
      "\n",
      "             #. ///////////////////       @@@@@@@      @@@@@@@@   @@@@    @@@    @@@@   @@@@@@@@@             @@@    @@@@@@@@\n",
      "        ###. #. /.   /////////////      @@@@  @@@@    @@@   @@@   @@@@   @@@    @@@@   @@@@  @@@@           @@@@   @@@   @@@@\n",
      "    #### #####.     /    /////////     @@@@          @@@    @@@   @@@@  @@@    @@@@   @@@@   @@@@          @@@@  @@@@   @@@@\n",
      "  ##  ########.        //  //////      @@@@         @@@@   @@@@   @@@@ @@@    @@@@   @@@@   @@@@   @@@@@  @@@@  @@@@@@@@@@@\n",
      " #############.             /////      @@@@   @@@   @@@    @@@    @@@@@@@    @@@@   @@@@   @@@@          @@@@         @@@\n",
      "(#############.             ////       @@@@ @@@@    @@@   @@@     @@@@@@    @@@@   @@@@@@@@@@           @@@@   @@@@  @@@\n",
      "(#############.          .  ////        @@@@@@@     @@@@@@@@      @@@@@    @@@@   @@@@@@@@@            @@@@    @@@@@@@@\n",
      " #############.             ///                                                                                              \n",
      "  ##  ########.        //  ////        ######    ##  #####  ##      #####   ####  #####  #####  ##    #\n",
      "    #### #####.     /    /////,        #    #   ###   ##   # #      #   #  #   #  #   #   #    # #   #\n",
      "        ###. #. /.   /////////         #    #  #  #   #   #  #     #####  #   #  ## ##   #    #  #  #\n",
      "             #, //////////////        ######  #   #  ##  #   #    #      ### #  #   #   #    #   # ####\n",
      "\n",
      " (Copyright © EMBL 2021)\n",
      "\n",
      "Welcome to the Covid-19 Data Portal's data downloader utility!\n",
      "----------------------------------------------\n"
     ]
    },
    {
     "name": "stderr",
     "output_type": "stream",
     "text": [
      "Downloading   ? % [                     =                                     ] 3/?MB (0:00:21 / ?) \n"
     ]
    },
    {
     "name": "stdout",
     "output_type": "stream",
     "text": [
      "Download completed to /host/home/user_7321/user_7321_backup/user_7321/docker/ProjectB---Vital/vital/data_collectors/data/covid19_genome//tmp//viral_sequences/sequences/fasta/20240214-2149.fasta.\n",
      "java -jar cdp-file-downloader.jar --domain=VIRAL_SEQUENCES --datatype=SEQUENCES --format=FASTA --location=/host/home/user_7321/user_7321_backup/user_7321/docker/ProjectB---Vital/vital/data_collectors/data/covid19_genome//tmp/ --email=NONE --accessions=OK629767,OL736507,OK003247,OL932584,OL789093,OL430865,OM084173,OK458845,OK459685,OK534773,OL357871,MZ492292,OK622585,ON133064,OL922396,OM280530,OL321055,OL486539,ON138283,OL479386,OL480099,MZ863717,OL429333,OK437546,OL511213,OL927052,OL745571,OL691282,MZ637371,OK329123,OK538438,OL530136,OK372765,OM188933,OL379306,OK615602,OL317814,OL736429,OL447807,OM961014,MZ991848,OL392521,OK387074,OL528767,OK477169,OL329881,OM089313,OK268837,OM047577,OL446892,OL769967,OK292478,OL430186,OM268741,OK471331,OK140489,OL238500,OK411888,OL501299,OK302654,OL570168,OL388957,OL857385,OL592345,OM075327,OK014885,OK075198,OL681542,ON138326,OM080812,OK260612,OL447082,ON133292,OK102892,OL992353,ON132341,MZ881118,OL709300,OM036212,OL683648,ON199090,OL753756,OW325137,OL829153,MZ928022,OL951703,OK370726,OK695129,OK558383,OL547221,OK154227,OK519405,MZ862064,OK204450,OM016303,OK408118,OW323933,OM288502,OK476729,MZ854643,ON133067,OL321127,OK523890,MZ985439,OU931152,OM069919,OM126079,OV381246,OL398804,OL430147,OK408570,OK622971,OL961026,OL736428,OK025059,OK048578,OL413282,OK174724,OL942661,OL593975,OL383475,OK621537,ON138338,MZ941218,OK544857,OL574519,OL883968,OL802188 --protocol=FTP --asperaLocation=null\n",
      "\n",
      "             #. ///////////////////       @@@@@@@      @@@@@@@@   @@@@    @@@    @@@@   @@@@@@@@@             @@@    @@@@@@@@\n",
      "        ###. #. /.   /////////////      @@@@  @@@@    @@@   @@@   @@@@   @@@    @@@@   @@@@  @@@@           @@@@   @@@   @@@@\n",
      "    #### #####.     /    /////////     @@@@          @@@    @@@   @@@@  @@@    @@@@   @@@@   @@@@          @@@@  @@@@   @@@@\n",
      "  ##  ########.        //  //////      @@@@         @@@@   @@@@   @@@@ @@@    @@@@   @@@@   @@@@   @@@@@  @@@@  @@@@@@@@@@@\n",
      " #############.             /////      @@@@   @@@   @@@    @@@    @@@@@@@    @@@@   @@@@   @@@@          @@@@         @@@\n",
      "(#############.             ////       @@@@ @@@@    @@@   @@@     @@@@@@    @@@@   @@@@@@@@@@           @@@@   @@@@  @@@\n",
      "(#############.          .  ////        @@@@@@@     @@@@@@@@      @@@@@    @@@@   @@@@@@@@@            @@@@    @@@@@@@@\n",
      " #############.             ///                                                                                              \n",
      "  ##  ########.        //  ////        ######    ##  #####  ##      #####   ####  #####  #####  ##    #\n",
      "    #### #####.     /    /////,        #    #   ###   ##   # #      #   #  #   #  #   #   #    # #   #\n",
      "        ###. #. /.   /////////         #    #  #  #   #   #  #     #####  #   #  ## ##   #    #  #  #\n",
      "             #, //////////////        ######  #   #  ##  #   #    #      ### #  #   #   #    #   # ####\n",
      "\n",
      " (Copyright © EMBL 2021)\n",
      "\n",
      "Welcome to the Covid-19 Data Portal's data downloader utility!\n",
      "----------------------------------------------\n"
     ]
    },
    {
     "name": "stderr",
     "output_type": "stream",
     "text": [
      "Downloading   ? % [                                                         = ] 3/?MB (0:00:20 / ?) \n"
     ]
    },
    {
     "name": "stdout",
     "output_type": "stream",
     "text": [
      "Download completed to /host/home/user_7321/user_7321_backup/user_7321/docker/ProjectB---Vital/vital/data_collectors/data/covid19_genome//tmp//viral_sequences/sequences/fasta/20240214-2149.fasta.\n",
      "java -jar cdp-file-downloader.jar --domain=VIRAL_SEQUENCES --datatype=SEQUENCES --format=FASTA --location=/host/home/user_7321/user_7321_backup/user_7321/docker/ProjectB---Vital/vital/data_collectors/data/covid19_genome//tmp/ --email=NONE --accessions=OK261131,ON137964,OM046085,OV381506,OK287621,OL838936,MZ937230,OK558248,MZ997739,OL317307,OL529303,OL393650,OL623202,OL498442,OK207459,OK501315,OL761330,OL535404,OK096772,OL687885,OK218072,OK558894,OM180735,OL531080,OK523506,OK054658,OL931226,OK106171,OL594967,OK543336,OK103288,OL487926,MZ753410,OL618203,OK116004,OK664256,OK578548,MZ943370,OK144554,OK362087,OL316341,OL752928,OL998195,OK268437,OL958254,OK516313,OL510879,OL761369,OK069052,OL715861,OK515214,OK099870,OL750503,OL749728,OK449854,OK069049,OL990901,OL963318,OL383762,OK514296,OK383367,OL716395,OL428874,OL843633,OK344895,OK589940,OL859069,OM031125,OM779605,MZ860908,OK602848,OK128343,OK200911,OK286232,OL453912,ON149287,OL877729,OM085286,OK390136,OL776896,OL569843,OM506606,OL883022,OL859576,OK463687,OK130323,OK224615,OL667096,OK641057,MZ987482,OK614771,OK362817,ON157749,OL770385,OM137384,OL751412,OK581691,OK619098,OK280861,OK529698,OK592014,OL684034,OK133348,OL560857,MZ886967,OM192395,OM084046,OK579554,OL420019,OL400269,OL746977,OK048126,OK590373,OK568028,OK375158,OK639788,OK201521,OL424035,OL922393,OL974177,OK516211,OL705538,OL426743,OK499426,OK222509,OL665617,OK629714,ON137806 --protocol=FTP --asperaLocation=null\n",
      "\n",
      "             #. ///////////////////       @@@@@@@      @@@@@@@@   @@@@    @@@    @@@@   @@@@@@@@@             @@@    @@@@@@@@\n",
      "        ###. #. /.   /////////////      @@@@  @@@@    @@@   @@@   @@@@   @@@    @@@@   @@@@  @@@@           @@@@   @@@   @@@@\n",
      "    #### #####.     /    /////////     @@@@          @@@    @@@   @@@@  @@@    @@@@   @@@@   @@@@          @@@@  @@@@   @@@@\n",
      "  ##  ########.        //  //////      @@@@         @@@@   @@@@   @@@@ @@@    @@@@   @@@@   @@@@   @@@@@  @@@@  @@@@@@@@@@@\n",
      " #############.             /////      @@@@   @@@   @@@    @@@    @@@@@@@    @@@@   @@@@   @@@@          @@@@         @@@\n",
      "(#############.             ////       @@@@ @@@@    @@@   @@@     @@@@@@    @@@@   @@@@@@@@@@           @@@@   @@@@  @@@\n",
      "(#############.          .  ////        @@@@@@@     @@@@@@@@      @@@@@    @@@@   @@@@@@@@@            @@@@    @@@@@@@@\n",
      " #############.             ///                                                                                              \n",
      "  ##  ########.        //  ////        ######    ##  #####  ##      #####   ####  #####  #####  ##    #\n",
      "    #### #####.     /    /////,        #    #   ###   ##   # #      #   #  #   #  #   #   #    # #   #\n",
      "        ###. #. /.   /////////         #    #  #  #   #   #  #     #####  #   #  ## ##   #    #  #  #\n",
      "             #, //////////////        ######  #   #  ##  #   #    #      ### #  #   #   #    #   # ####\n",
      "\n",
      " (Copyright © EMBL 2021)\n",
      "\n",
      "Welcome to the Covid-19 Data Portal's data downloader utility!\n",
      "----------------------------------------------\n"
     ]
    },
    {
     "name": "stderr",
     "output_type": "stream",
     "text": [
      "Downloading   ? % [=                                                          ] 3/?MB (0:00:15 / ?) \n"
     ]
    },
    {
     "name": "stdout",
     "output_type": "stream",
     "text": [
      "Download completed to /host/home/user_7321/user_7321_backup/user_7321/docker/ProjectB---Vital/vital/data_collectors/data/covid19_genome//tmp//viral_sequences/sequences/fasta/20240214-2149.fasta.\n",
      "java -jar cdp-file-downloader.jar --domain=VIRAL_SEQUENCES --datatype=SEQUENCES --format=FASTA --location=/host/home/user_7321/user_7321_backup/user_7321/docker/ProjectB---Vital/vital/data_collectors/data/covid19_genome//tmp/ --email=NONE --accessions=ON170722,OM053527,OL558766,OM041356,OM063706,OK196705,OK515291,OL384193,ON148952,OL452821,OK068818,OK565500,OL490087,OM184973,OL356520,OL316582,OL783908,OL479381,OK155188,OK276873,MZ992276,OL582483,OL508702,OL669132,MZ705603,OK223031,OL595485,OK654826,OM161606,OK403732,OM055008,OL923109,OL946207,OK372490,OL461158,OK565375,OL387173,OK242804,OL953332,MZ897802,OL506653,MZ980902,OL941736,OL400602,OK434534,OL433086,MZ992232,OM162940,ON338135,OL727240,OL612206,OK133383,OM210352,OL941350,OK387406,OM043856,OM192530,OL983347,OK318908,OK408473,OL776482,OL788634,OK446466,OL975641,OK652515,OL418305,ON132338,OK357655,OL668164,OK181573,OK369379,OM095918,OL746991,OL309776,OM064245,OK363258,OM098685,OK589915,OK460263,OK089916,OL609314,OL777577,OK401404,OL567085,OK389375,OK337849,OM274182,OK499776,OL393663,OK338334,OK535135,OK574707,OK083415,OM064164,OK564805,MZ797405,ON133027,OL430740,MZ889532,OL595439,OK099039,OK258656,OK366931,OK381436,OK198124,OL992826,OM244439,OL317193,OL240801,OK021057,OM922068,OM077272,OL799724,OL738468,MZ863676,OL571837,OL433254,OM111835,ON133506,OK381101,OL568851,OK613396,OK397927,OK361697,MZ617875,OL669908,MZ877829,OL668306 --protocol=FTP --asperaLocation=null\n",
      "\n",
      "             #. ///////////////////       @@@@@@@      @@@@@@@@   @@@@    @@@    @@@@   @@@@@@@@@             @@@    @@@@@@@@\n",
      "        ###. #. /.   /////////////      @@@@  @@@@    @@@   @@@   @@@@   @@@    @@@@   @@@@  @@@@           @@@@   @@@   @@@@\n",
      "    #### #####.     /    /////////     @@@@          @@@    @@@   @@@@  @@@    @@@@   @@@@   @@@@          @@@@  @@@@   @@@@\n",
      "  ##  ########.        //  //////      @@@@         @@@@   @@@@   @@@@ @@@    @@@@   @@@@   @@@@   @@@@@  @@@@  @@@@@@@@@@@\n",
      " #############.             /////      @@@@   @@@   @@@    @@@    @@@@@@@    @@@@   @@@@   @@@@          @@@@         @@@\n",
      "(#############.             ////       @@@@ @@@@    @@@   @@@     @@@@@@    @@@@   @@@@@@@@@@           @@@@   @@@@  @@@\n",
      "(#############.          .  ////        @@@@@@@     @@@@@@@@      @@@@@    @@@@   @@@@@@@@@            @@@@    @@@@@@@@\n",
      " #############.             ///                                                                                              \n",
      "  ##  ########.        //  ////        ######    ##  #####  ##      #####   ####  #####  #####  ##    #\n",
      "    #### #####.     /    /////,        #    #   ###   ##   # #      #   #  #   #  #   #   #    # #   #\n",
      "        ###. #. /.   /////////         #    #  #  #   #   #  #     #####  #   #  ## ##   #    #  #  #\n",
      "             #, //////////////        ######  #   #  ##  #   #    #      ### #  #   #   #    #   # ####\n",
      "\n",
      " (Copyright © EMBL 2021)\n",
      "\n",
      "Welcome to the Covid-19 Data Portal's data downloader utility!\n",
      "----------------------------------------------\n"
     ]
    },
    {
     "name": "stderr",
     "output_type": "stream",
     "text": [
      "Downloading   ? % [                                                       =   ] 3/?MB (0:00:14 / ?) \n"
     ]
    },
    {
     "name": "stdout",
     "output_type": "stream",
     "text": [
      "Download completed to /host/home/user_7321/user_7321_backup/user_7321/docker/ProjectB---Vital/vital/data_collectors/data/covid19_genome//tmp//viral_sequences/sequences/fasta/20240214-2150.fasta.\n",
      "java -jar cdp-file-downloader.jar --domain=VIRAL_SEQUENCES --datatype=SEQUENCES --format=FASTA --location=/host/home/user_7321/user_7321_backup/user_7321/docker/ProjectB---Vital/vital/data_collectors/data/covid19_genome//tmp/ --email=NONE --accessions=OL387405,OK619912,OL612771,MZ802232,MZ710663,OL821641,OK388580,MZ888162,MZ939772,OL920843,OL590428,MZ705830,OK538454,OK424364,OL498457,OL481248,OL802099,OL708261,OL817755,OL898361,OK100904,OK132424,OL382633,OK460886,OL316866,OL492854,OM839568,OL433885,OL579513,OK396856,OL349398,OL725393,MZ866010,OK132641,MZ787290,OM129173,OL487065,MZ991500,OL310325,OL829678,OL953322,OK244065,OK470301,OL749054,OK289260,OL592349,OL443755,OK373650,OL545221,OM105269,OK359476,OL865243,OL528670,OL514916,OL320458,OL382765,OL386621,OL305587,OL594990,ON172095,OK388017,OM035308,OL777197,OL667546,MZ821469,OK595729,OL953825,OL944375,OK109182,OL324831,OL609337,OK110675,OL524606,OL336754,OL682894,ON133336,OV080488,OK577627,OM044238,OL708776,OK178071,OV380553,MZ958285,OK186289,OK663988,OK513111,OL514666,OL815770,OK069113,MZ843448,OK476924,ON169364,ON129701,OL804879,OL765039,OK297935,OK354769,MZ688295,OK114178,MZ938758,OL900817,OL669302,OK198025,OK630504,OL924752,OK387775,OK563873,OM193908,OM147642,OM432291,OL566591,OL556678,OL795632,OL386616,OL431602,OK177665,ON138327,OK600835,OK024797,OM038207,MZ894855,OM245971,OK097922,OK495786,MZ593871,OK561170,OK198440,OL501592 --protocol=FTP --asperaLocation=null\n",
      "\n",
      "             #. ///////////////////       @@@@@@@      @@@@@@@@   @@@@    @@@    @@@@   @@@@@@@@@             @@@    @@@@@@@@\n",
      "        ###. #. /.   /////////////      @@@@  @@@@    @@@   @@@   @@@@   @@@    @@@@   @@@@  @@@@           @@@@   @@@   @@@@\n",
      "    #### #####.     /    /////////     @@@@          @@@    @@@   @@@@  @@@    @@@@   @@@@   @@@@          @@@@  @@@@   @@@@\n",
      "  ##  ########.        //  //////      @@@@         @@@@   @@@@   @@@@ @@@    @@@@   @@@@   @@@@   @@@@@  @@@@  @@@@@@@@@@@\n",
      " #############.             /////      @@@@   @@@   @@@    @@@    @@@@@@@    @@@@   @@@@   @@@@          @@@@         @@@\n",
      "(#############.             ////       @@@@ @@@@    @@@   @@@     @@@@@@    @@@@   @@@@@@@@@@           @@@@   @@@@  @@@\n",
      "(#############.          .  ////        @@@@@@@     @@@@@@@@      @@@@@    @@@@   @@@@@@@@@            @@@@    @@@@@@@@\n",
      " #############.             ///                                                                                              \n",
      "  ##  ########.        //  ////        ######    ##  #####  ##      #####   ####  #####  #####  ##    #\n",
      "    #### #####.     /    /////,        #    #   ###   ##   # #      #   #  #   #  #   #   #    # #   #\n",
      "        ###. #. /.   /////////         #    #  #  #   #   #  #     #####  #   #  ## ##   #    #  #  #\n",
      "             #, //////////////        ######  #   #  ##  #   #    #      ### #  #   #   #    #   # ####\n",
      "\n",
      " (Copyright © EMBL 2021)\n",
      "\n",
      "Welcome to the Covid-19 Data Portal's data downloader utility!\n",
      "----------------------------------------------\n"
     ]
    },
    {
     "name": "stderr",
     "output_type": "stream",
     "text": [
      "Downloading   ? % [                     =                                     ] 3/?MB (0:00:16 / ?) \n"
     ]
    },
    {
     "name": "stdout",
     "output_type": "stream",
     "text": [
      "Download completed to /host/home/user_7321/user_7321_backup/user_7321/docker/ProjectB---Vital/vital/data_collectors/data/covid19_genome//tmp//viral_sequences/sequences/fasta/20240214-2150.fasta.\n",
      "java -jar cdp-file-downloader.jar --domain=VIRAL_SEQUENCES --datatype=SEQUENCES --format=FASTA --location=/host/home/user_7321/user_7321_backup/user_7321/docker/ProjectB---Vital/vital/data_collectors/data/covid19_genome//tmp/ --email=NONE --accessions=OK268588,OW326732,OL534231,OM432949,OL871969,OU325148,OK197572,OK452976,OV671232,OV335949,OU906059,OV416780,OK471098,OK590646,OV109320,OL241580,OU976473,OV324807,OK532290,OL363088,OL718056,OV481764,OV173166,OK514265,OM014732,OU927939,OK590946,OU566138,OL611175,OV363537,OV196242,OV422414,OV406988,OV362300,OL837637,OL344988,OL241391,OV267439,OL308490,OM309514,OU375049,OL443739,OK520439,OW325343,OV178156,OL717581,OL637821,OK154434,OL940476,OK222383,OU978562,OW305310,OU926579,OV344383,OV642557,OV388092,OL700362,OV016134,MZ862450,OM042174,OV886669,OK355108,OL749015,OV375608,OW324082,OM228301,OL722040,OU710366,OL718099,OK575072,OV246583,OV362301,OU966358,MZ937724,OV460967,OK122610,OV374909,OL510199,OK365018,OL533930,MZ865518,OV352623,OV209881,OK269665,OL833286,OL428530,ON343843,OL506701,OV211467,OL413746,OL591527,OV640617,OL949578,OL601436,OK578699,OL758536,OU523228,OK627551,OV351396,OL367475,OV117915,OK645041,OV118293,OL442942,OV829198,OK569668,OU201971,OV329384,OK579367,OL739603,OU451213,OL758010,OK140891,OK592807,OM056297,OV311840,OL353816,OV266524,OV296583,OK053114,OL736628,OM202765,OK029217,OL345625,OM143436,OL506131,OL777805,OV112678 --protocol=FTP --asperaLocation=null\n",
      "\n",
      "             #. ///////////////////       @@@@@@@      @@@@@@@@   @@@@    @@@    @@@@   @@@@@@@@@             @@@    @@@@@@@@\n",
      "        ###. #. /.   /////////////      @@@@  @@@@    @@@   @@@   @@@@   @@@    @@@@   @@@@  @@@@           @@@@   @@@   @@@@\n",
      "    #### #####.     /    /////////     @@@@          @@@    @@@   @@@@  @@@    @@@@   @@@@   @@@@          @@@@  @@@@   @@@@\n",
      "  ##  ########.        //  //////      @@@@         @@@@   @@@@   @@@@ @@@    @@@@   @@@@   @@@@   @@@@@  @@@@  @@@@@@@@@@@\n",
      " #############.             /////      @@@@   @@@   @@@    @@@    @@@@@@@    @@@@   @@@@   @@@@          @@@@         @@@\n",
      "(#############.             ////       @@@@ @@@@    @@@   @@@     @@@@@@    @@@@   @@@@@@@@@@           @@@@   @@@@  @@@\n",
      "(#############.          .  ////        @@@@@@@     @@@@@@@@      @@@@@    @@@@   @@@@@@@@@            @@@@    @@@@@@@@\n",
      " #############.             ///                                                                                              \n",
      "  ##  ########.        //  ////        ######    ##  #####  ##      #####   ####  #####  #####  ##    #\n",
      "    #### #####.     /    /////,        #    #   ###   ##   # #      #   #  #   #  #   #   #    # #   #\n",
      "        ###. #. /.   /////////         #    #  #  #   #   #  #     #####  #   #  ## ##   #    #  #  #\n",
      "             #, //////////////        ######  #   #  ##  #   #    #      ### #  #   #   #    #   # ####\n",
      "\n",
      " (Copyright © EMBL 2021)\n",
      "\n",
      "Welcome to the Covid-19 Data Portal's data downloader utility!\n",
      "----------------------------------------------\n"
     ]
    },
    {
     "name": "stderr",
     "output_type": "stream",
     "text": [
      "Downloading   ? % [                             =                             ] 3/?MB (0:00:17 / ?) \n"
     ]
    },
    {
     "name": "stdout",
     "output_type": "stream",
     "text": [
      "Download completed to /host/home/user_7321/user_7321_backup/user_7321/docker/ProjectB---Vital/vital/data_collectors/data/covid19_genome//tmp//viral_sequences/sequences/fasta/20240214-2150.fasta.\n",
      "java -jar cdp-file-downloader.jar --domain=VIRAL_SEQUENCES --datatype=SEQUENCES --format=FASTA --location=/host/home/user_7321/user_7321_backup/user_7321/docker/ProjectB---Vital/vital/data_collectors/data/covid19_genome//tmp/ --email=NONE --accessions=OM102742,OL801602,OV422767,OK461495,OV382871,OU933894,OK363467,OW325135,OU965155,OL888363,OV387395,OL718121,OV353348,OL717590,OL533983,OU927405,OK404522,OV357557,OL667836,OM009545,OU924594,OL822711,OK465024,OV017044,OM089851,OU514072,OV302224,OL527362,OM274213,OL728642,OV200442,OL316152,OV118081,OU388487,OV216797,OL346198,OM275199,OL851467,OM180822,OL925410,OL821893,OM053434,OL406617,OM444281,OV374269,OK456647,OL993536,OV216855,OK307673,OU516118,OV241574,OM035841,OL424061,OK329656,OM149588,OL796149,OU930104,OM099837,OV514673,OM024447,OL599114,OV554451,OK141462,OL880678,OM164792,OK478384,OK532305,OV264233,MZ851907,OK242965,OV355269,OL966227,OM177434,OW101925,OV265021,OU606162,OV418372,OM192956,OL366625,OM018391,OV626406,OM072029,OV363329,OK370227,OL969604,OL637772,OL533876,OL797163,MZ937725,OK394842,MZ933666,OM268194,OL830212,OL373483,OK310523,OV000716,OV469101,OM024059,OK499681,MZ886629,OK137643,OV415287,OL904498,OL387333,MZ998282,OL935418,OK477319,OV115158,OK356449,OK443724,OL993059,OM052064,OK630803,OK162741,OL724248,OK446188,OL492511,OL818921,OM002705,OL864815,OV317872,OL851302,OV422878,OV664241,OL506869,OM072371,OU515491,OL595520 --protocol=FTP --asperaLocation=null\n",
      "\n",
      "             #. ///////////////////       @@@@@@@      @@@@@@@@   @@@@    @@@    @@@@   @@@@@@@@@             @@@    @@@@@@@@\n",
      "        ###. #. /.   /////////////      @@@@  @@@@    @@@   @@@   @@@@   @@@    @@@@   @@@@  @@@@           @@@@   @@@   @@@@\n",
      "    #### #####.     /    /////////     @@@@          @@@    @@@   @@@@  @@@    @@@@   @@@@   @@@@          @@@@  @@@@   @@@@\n",
      "  ##  ########.        //  //////      @@@@         @@@@   @@@@   @@@@ @@@    @@@@   @@@@   @@@@   @@@@@  @@@@  @@@@@@@@@@@\n",
      " #############.             /////      @@@@   @@@   @@@    @@@    @@@@@@@    @@@@   @@@@   @@@@          @@@@         @@@\n",
      "(#############.             ////       @@@@ @@@@    @@@   @@@     @@@@@@    @@@@   @@@@@@@@@@           @@@@   @@@@  @@@\n",
      "(#############.          .  ////        @@@@@@@     @@@@@@@@      @@@@@    @@@@   @@@@@@@@@            @@@@    @@@@@@@@\n",
      " #############.             ///                                                                                              \n",
      "  ##  ########.        //  ////        ######    ##  #####  ##      #####   ####  #####  #####  ##    #\n",
      "    #### #####.     /    /////,        #    #   ###   ##   # #      #   #  #   #  #   #   #    # #   #\n",
      "        ###. #. /.   /////////         #    #  #  #   #   #  #     #####  #   #  ## ##   #    #  #  #\n",
      "             #, //////////////        ######  #   #  ##  #   #    #      ### #  #   #   #    #   # ####\n",
      "\n",
      " (Copyright © EMBL 2021)\n",
      "\n",
      "Welcome to the Covid-19 Data Portal's data downloader utility!\n",
      "----------------------------------------------\n"
     ]
    },
    {
     "name": "stderr",
     "output_type": "stream",
     "text": [
      "Downloading   ? % [                                                    =      ] 3/?MB (0:00:15 / ?) \n"
     ]
    },
    {
     "name": "stdout",
     "output_type": "stream",
     "text": [
      "Download completed to /host/home/user_7321/user_7321_backup/user_7321/docker/ProjectB---Vital/vital/data_collectors/data/covid19_genome//tmp//viral_sequences/sequences/fasta/20240214-2150.fasta.\n",
      "java -jar cdp-file-downloader.jar --domain=VIRAL_SEQUENCES --datatype=SEQUENCES --format=FASTA --location=/host/home/user_7321/user_7321_backup/user_7321/docker/ProjectB---Vital/vital/data_collectors/data/covid19_genome//tmp/ --email=NONE --accessions=OM130568,OL888423,OL601514,OV591818,OV204251,OV359637,OK580556,OV657965,OK469380,OV164922,OK522828,OM010142,OM268776,OL940286,OU926047,OV298512,OL346151,OL931678,OM002807,OL601431,OU643646,OL864070,OV013259,OK390639,OK260764,OL845649,OV333135,OM129717,OL325082,OL798540,OL317977,OL797126,OK567177,OU958303,OK280394,OV054804,OL346293,OL482356,OM221969,OV406512,OL966131,OK336249,OV587742,OL796999,OV015061,OM466707,OM081124,MZ958472,OV218321,OK410800,OK629042,OL717139,OV265121,OL666103,OM060203,OV259412,OL545665,OL316007,OV363937,OL466004,OK270492,MZ617822,OU924170,OL722614,OU755397,OL749898,OV200475,OV348506,OL375085,OL637668,OL820416,OV340624,OL479569,OL463545,OK343864,OV015727,OL562030,OL718536,OK476801,OK364214,OU516361,OL887357,OV414557,OV346029,OK336229,OK589874,OK184932,OL829362,OL241582,OV137748,MZ751205,OV422324,OK433722,OL910616,OU965709,OK451134,OL595572,OK132176,OL925221,OK411688,OL425090,OM069792,OU325234,OK428195,OU649722,OL709975,OL947877,OL925762,OL796596,OV213072,OK542569,OL380023,OV657386,OL817622,OL928239,OK310090,OV691615,OL756090,OW325804,OV431700,OV669773,ON170786,OK645028,OK535829,OK525714,OV236918,OM024500,OV403994 --protocol=FTP --asperaLocation=null\n",
      "\n",
      "             #. ///////////////////       @@@@@@@      @@@@@@@@   @@@@    @@@    @@@@   @@@@@@@@@             @@@    @@@@@@@@\n",
      "        ###. #. /.   /////////////      @@@@  @@@@    @@@   @@@   @@@@   @@@    @@@@   @@@@  @@@@           @@@@   @@@   @@@@\n",
      "    #### #####.     /    /////////     @@@@          @@@    @@@   @@@@  @@@    @@@@   @@@@   @@@@          @@@@  @@@@   @@@@\n",
      "  ##  ########.        //  //////      @@@@         @@@@   @@@@   @@@@ @@@    @@@@   @@@@   @@@@   @@@@@  @@@@  @@@@@@@@@@@\n",
      " #############.             /////      @@@@   @@@   @@@    @@@    @@@@@@@    @@@@   @@@@   @@@@          @@@@         @@@\n",
      "(#############.             ////       @@@@ @@@@    @@@   @@@     @@@@@@    @@@@   @@@@@@@@@@           @@@@   @@@@  @@@\n",
      "(#############.          .  ////        @@@@@@@     @@@@@@@@      @@@@@    @@@@   @@@@@@@@@            @@@@    @@@@@@@@\n",
      " #############.             ///                                                                                              \n",
      "  ##  ########.        //  ////        ######    ##  #####  ##      #####   ####  #####  #####  ##    #\n",
      "    #### #####.     /    /////,        #    #   ###   ##   # #      #   #  #   #  #   #   #    # #   #\n",
      "        ###. #. /.   /////////         #    #  #  #   #   #  #     #####  #   #  ## ##   #    #  #  #\n",
      "             #, //////////////        ######  #   #  ##  #   #    #      ### #  #   #   #    #   # ####\n",
      "\n",
      " (Copyright © EMBL 2021)\n",
      "\n",
      "Welcome to the Covid-19 Data Portal's data downloader utility!\n",
      "----------------------------------------------\n"
     ]
    },
    {
     "name": "stderr",
     "output_type": "stream",
     "text": [
      "Downloading   ? % [              =                                            ] 3/?MB (0:00:14 / ?) \n"
     ]
    },
    {
     "name": "stdout",
     "output_type": "stream",
     "text": [
      "Download completed to /host/home/user_7321/user_7321_backup/user_7321/docker/ProjectB---Vital/vital/data_collectors/data/covid19_genome//tmp//viral_sequences/sequences/fasta/20240214-2151.fasta.\n",
      "java -jar cdp-file-downloader.jar --domain=VIRAL_SEQUENCES --datatype=SEQUENCES --format=FASTA --location=/host/home/user_7321/user_7321_backup/user_7321/docker/ProjectB---Vital/vital/data_collectors/data/covid19_genome//tmp/ --email=NONE --accessions=OV226380,OM009676,OL392099,OL846274,OV112047,OL599029,OK359026,OM086449,OM005737,OK268533,OK450269,OV118360,OM048063,OV458921,OK633968,OK399411,OL847041,OL904548,OV349953,OL351388,OU923854,OL590925,OK495929,OV403844,OV496929,OL502338,OV468822,OL863925,OU935566,OK286428,OV414876,OV017785,OL346723,MZ999846,OK203335,OM130402,OM069265,OL425092,OL378846,OM432874,OL682068,OL510790,OL637173,OV266516,OK279802,OV351734,OL700425,OV367457,MZ813350,OK359801,OL758518,OV452239,OV108912,OK203280,OV353383,OL599124,OV409603,OL782867,OK101169,OV355148,OV510691,OK477391,OK516419,OM322374,OL790887,OL904712,OK567704,OL481821,OL797120,OL925717,OL637627,OK592721,OV059458,OV625706,OU935246,OV376186,OL437243,OV481781,OL758547,OU998775,OK238239,OL880999,OL374083,OM095625,OK575135,OV363968,OL816003,OU930788,MZ938911,OL324447,OK180265,OK261261,OL904635,OL454161,OW110129,OL994486,OU933263,OK397392,OL944786,OV115568,OK284610,OU961029,OU776134,OK343984,OM328629,OL363003,MZ730649,OK566829,OK152626,OL686772,OL901956,OV348613,OU643319,OK108039,OU570273,OV240545,OU566117,OV696530,OL542127,OK517243,OL984963,OL373669,OM139608,OL925704,OV111999,OL324892,OW308505,OU934208 --protocol=FTP --asperaLocation=null\n",
      "\n",
      "             #. ///////////////////       @@@@@@@      @@@@@@@@   @@@@    @@@    @@@@   @@@@@@@@@             @@@    @@@@@@@@\n",
      "        ###. #. /.   /////////////      @@@@  @@@@    @@@   @@@   @@@@   @@@    @@@@   @@@@  @@@@           @@@@   @@@   @@@@\n",
      "    #### #####.     /    /////////     @@@@          @@@    @@@   @@@@  @@@    @@@@   @@@@   @@@@          @@@@  @@@@   @@@@\n",
      "  ##  ########.        //  //////      @@@@         @@@@   @@@@   @@@@ @@@    @@@@   @@@@   @@@@   @@@@@  @@@@  @@@@@@@@@@@\n",
      " #############.             /////      @@@@   @@@   @@@    @@@    @@@@@@@    @@@@   @@@@   @@@@          @@@@         @@@\n",
      "(#############.             ////       @@@@ @@@@    @@@   @@@     @@@@@@    @@@@   @@@@@@@@@@           @@@@   @@@@  @@@\n",
      "(#############.          .  ////        @@@@@@@     @@@@@@@@      @@@@@    @@@@   @@@@@@@@@            @@@@    @@@@@@@@\n",
      " #############.             ///                                                                                              \n",
      "  ##  ########.        //  ////        ######    ##  #####  ##      #####   ####  #####  #####  ##    #\n",
      "    #### #####.     /    /////,        #    #   ###   ##   # #      #   #  #   #  #   #   #    # #   #\n",
      "        ###. #. /.   /////////         #    #  #  #   #   #  #     #####  #   #  ## ##   #    #  #  #\n",
      "             #, //////////////        ######  #   #  ##  #   #    #      ### #  #   #   #    #   # ####\n",
      "\n",
      " (Copyright © EMBL 2021)\n",
      "\n",
      "Welcome to the Covid-19 Data Portal's data downloader utility!\n",
      "----------------------------------------------\n"
     ]
    },
    {
     "name": "stderr",
     "output_type": "stream",
     "text": [
      "Downloading   ? % [                                                       =   ] 3/?MB (0:00:14 / ?) \n"
     ]
    },
    {
     "name": "stdout",
     "output_type": "stream",
     "text": [
      "Download completed to /host/home/user_7321/user_7321_backup/user_7321/docker/ProjectB---Vital/vital/data_collectors/data/covid19_genome//tmp//viral_sequences/sequences/fasta/20240214-2151.fasta.\n",
      "java -jar cdp-file-downloader.jar --domain=VIRAL_SEQUENCES --datatype=SEQUENCES --format=FASTA --location=/host/home/user_7321/user_7321_backup/user_7321/docker/ProjectB---Vital/vital/data_collectors/data/covid19_genome//tmp/ --email=NONE --accessions=OU936824,OU597920,OK590658,OL903710,OV828324,OL600516,OM120848,OU569555,OL675589,OK370929,OL482241,OL708281,OK105303,OL758838,OV515167,OK373511,OL886191,OV615308,OL717606,OL490895,OL374082,OU436561,OL533803,OL241559,OL636881,MZ991970,OK655122,OM457430,OM002753,OK633898,MZ987103,OU735296,OL463231,OL995318,OL904598,OL797159,OV353624,MZ434196,OL923640,OV209046,OK445053,OL700354,OU923965,OL554556,OK328770,OV215143,OL775320,OL915527,OK476874,OL637752,OL576042,OU934449,OK515296,OK587133,OL717147,OK434736,OL991003,OK658160,OL761458,OW299456,OK654753,OV386120,OL818850,OM805492,OL796609,OV660660,OL938971,OM149453,OK662791,OL443761,OV363878,OK474964,OL822887,ON100922,OK336995,OV849606,OK390637,OL425554,OV683763,OM083908,OK558438,OW325493,OV263998,MZ694820,OK599895,OV261018,OV360947,OV664999,OV216439,OV847461,OM050885,OK293531,OL848965,OM130427,OL890389,OL680608,OV242363,OU838556,OK489084,MZ884578,OK394405,OV017937,OW325730,OL850954,OU936344,OM195240,OV016626,OM214211,OK359021,OL458908,OL748120,OL914215,MZ777728,OL326309,OL401566,OM186373,OL365939,OL349257,OV363387,OL758440,OL398052,OL759424,OW313554,OL934983,OK525545,OU568507,OU396661,OL430279 --protocol=FTP --asperaLocation=null\n",
      "\n",
      "             #. ///////////////////       @@@@@@@      @@@@@@@@   @@@@    @@@    @@@@   @@@@@@@@@             @@@    @@@@@@@@\n",
      "        ###. #. /.   /////////////      @@@@  @@@@    @@@   @@@   @@@@   @@@    @@@@   @@@@  @@@@           @@@@   @@@   @@@@\n",
      "    #### #####.     /    /////////     @@@@          @@@    @@@   @@@@  @@@    @@@@   @@@@   @@@@          @@@@  @@@@   @@@@\n",
      "  ##  ########.        //  //////      @@@@         @@@@   @@@@   @@@@ @@@    @@@@   @@@@   @@@@   @@@@@  @@@@  @@@@@@@@@@@\n",
      " #############.             /////      @@@@   @@@   @@@    @@@    @@@@@@@    @@@@   @@@@   @@@@          @@@@         @@@\n",
      "(#############.             ////       @@@@ @@@@    @@@   @@@     @@@@@@    @@@@   @@@@@@@@@@           @@@@   @@@@  @@@\n",
      "(#############.          .  ////        @@@@@@@     @@@@@@@@      @@@@@    @@@@   @@@@@@@@@            @@@@    @@@@@@@@\n",
      " #############.             ///                                                                                              \n",
      "  ##  ########.        //  ////        ######    ##  #####  ##      #####   ####  #####  #####  ##    #\n",
      "    #### #####.     /    /////,        #    #   ###   ##   # #      #   #  #   #  #   #   #    # #   #\n",
      "        ###. #. /.   /////////         #    #  #  #   #   #  #     #####  #   #  ## ##   #    #  #  #\n",
      "             #, //////////////        ######  #   #  ##  #   #    #      ### #  #   #   #    #   # ####\n",
      "\n",
      " (Copyright © EMBL 2021)\n",
      "\n",
      "Welcome to the Covid-19 Data Portal's data downloader utility!\n",
      "----------------------------------------------\n"
     ]
    },
    {
     "name": "stderr",
     "output_type": "stream",
     "text": [
      "Downloading   ? % [=                                                          ] 3/?MB (0:00:14 / ?) \n"
     ]
    },
    {
     "name": "stdout",
     "output_type": "stream",
     "text": [
      "Download completed to /host/home/user_7321/user_7321_backup/user_7321/docker/ProjectB---Vital/vital/data_collectors/data/covid19_genome//tmp//viral_sequences/sequences/fasta/20240214-2151.fasta.\n",
      "java -jar cdp-file-downloader.jar --domain=VIRAL_SEQUENCES --datatype=SEQUENCES --format=FASTA --location=/host/home/user_7321/user_7321_backup/user_7321/docker/ProjectB---Vital/vital/data_collectors/data/covid19_genome//tmp/ --email=NONE --accessions=OM141779,OU933845,OK395693,OK639571,OK454045,OV018111,OK060170,OV015697,OL818785,OL790891,OK478766,OK336262,OK538602,OL847161,OL851465,OL735520,OM090139,OK452972,OL959355,OV232282,OL460788,OK644893,MZ991139,OU838800,OL695820,OV460356,OV116442,OV264479,OM016159,OM139218,OL951334,OL382897,OL869885,OV230500,OK563965,OL998033,OL453137,OV115483,OV531746,OK667240,OV536451,OL459213,OL718204,OL443691,OL346240,MZ888703,OU933719,OL737110,OL345980,OW325128,OV117661,OM080909,OK060152,OK154304,OL796879,OL924719,OV824996,OU566905,OL986925,OL575752,OM010942,OL985314,OV628010,OL953860,OV231959,OU934573,OK517061,OL629798,OL822801,OL758586,OM188840,OK387826,OK002572,OV405846,OL962259,OL427494,OV116998,ON100921,OV641542,OK633977,OK104645,OV327632,OK299407,OV557202,OU518366,OL446674,MZ864281,OU930095,OL315798,OV884704,OV422332,OV198079,OV828395,OM015181,OM961099,OV365888,OV281450,OK187346,MZ933721,OV687215,OV422668,OW319061,OU935336,OK461683,OK111114,OM098605,OL700946,OK590601,OV511623,OL350084,OM137510,OU644576,OU952397,OV259844,OK353086,OV362612,MZ992565,OV504607,OM075377,OK367048,OK057885,OK387322,OV359882,OK621549,OV388168,OL924625,OL907862,OV106497 --protocol=FTP --asperaLocation=null\n",
      "\n",
      "             #. ///////////////////       @@@@@@@      @@@@@@@@   @@@@    @@@    @@@@   @@@@@@@@@             @@@    @@@@@@@@\n",
      "        ###. #. /.   /////////////      @@@@  @@@@    @@@   @@@   @@@@   @@@    @@@@   @@@@  @@@@           @@@@   @@@   @@@@\n",
      "    #### #####.     /    /////////     @@@@          @@@    @@@   @@@@  @@@    @@@@   @@@@   @@@@          @@@@  @@@@   @@@@\n",
      "  ##  ########.        //  //////      @@@@         @@@@   @@@@   @@@@ @@@    @@@@   @@@@   @@@@   @@@@@  @@@@  @@@@@@@@@@@\n",
      " #############.             /////      @@@@   @@@   @@@    @@@    @@@@@@@    @@@@   @@@@   @@@@          @@@@         @@@\n",
      "(#############.             ////       @@@@ @@@@    @@@   @@@     @@@@@@    @@@@   @@@@@@@@@@           @@@@   @@@@  @@@\n",
      "(#############.          .  ////        @@@@@@@     @@@@@@@@      @@@@@    @@@@   @@@@@@@@@            @@@@    @@@@@@@@\n",
      " #############.             ///                                                                                              \n",
      "  ##  ########.        //  ////        ######    ##  #####  ##      #####   ####  #####  #####  ##    #\n",
      "    #### #####.     /    /////,        #    #   ###   ##   # #      #   #  #   #  #   #   #    # #   #\n",
      "        ###. #. /.   /////////         #    #  #  #   #   #  #     #####  #   #  ## ##   #    #  #  #\n",
      "             #, //////////////        ######  #   #  ##  #   #    #      ### #  #   #   #    #   # ####\n",
      "\n",
      " (Copyright © EMBL 2021)\n",
      "\n",
      "Welcome to the Covid-19 Data Portal's data downloader utility!\n",
      "----------------------------------------------\n"
     ]
    },
    {
     "name": "stderr",
     "output_type": "stream",
     "text": [
      "Downloading   ? % [                                                   =       ] 3/?MB (0:00:15 / ?) \n"
     ]
    },
    {
     "name": "stdout",
     "output_type": "stream",
     "text": [
      "Download completed to /host/home/user_7321/user_7321_backup/user_7321/docker/ProjectB---Vital/vital/data_collectors/data/covid19_genome//tmp//viral_sequences/sequences/fasta/20240214-2152.fasta.\n",
      "java -jar cdp-file-downloader.jar --domain=VIRAL_SEQUENCES --datatype=SEQUENCES --format=FASTA --location=/host/home/user_7321/user_7321_backup/user_7321/docker/ProjectB---Vital/vital/data_collectors/data/covid19_genome//tmp/ --email=NONE --accessions=OW301611,OK514350,OL362944,OM123991,OL429710,OM095945,OV658982,OK296717,OL383413,OV406749,OL758609,OV672020,OW324736,OL796456,OV363549,OV262936,OK391054,OU430228,OW307723,OK564034,MZ887592,OL951460,OL441398,OL669218,OV370832,OU896735,OL887836,OL863937,OL459798,OL637893,OV360266,OV116993,OL796668,OV016052,OL358188,OM504859,OK248830,OV362304,OL524923,OK015067,OL864079,OK022233,OU905873,OV016934,OK538696,OU924440,OK229079,OU651257,OU974739,OK542646,OV197425,OL839013,OL929251,OL545870,OL818753,OL465460,OL887811,OV657763,OU965328,OV015306,OV302875,OL942971,MZ754134,OU783541,OL727663,OK484126,OK060889,OM203372,OL350272,OK517179,OV226342,OV282901,OK452790,OL590283,OK003785,OU930130,OU532859,OK600816,MZ990051,OM192846,OM876593,OL599127,OK178517,OL735660,OL946400,OM136380,OU516295,OV264143,OL822654,OL306611,OL623548,OM130774,OM147320,OM007894,OV015314,OU511674,OL446909,OL846835,OU428732,OL718359,OV217228,OV626715,OL529911,OL719142,OL583347,OK301280,OK059864,OU975392,OL700368,OL904486,OL899660,OL758776,OK627209,OV345999,MZ716146,OV247280,OK471101,OK155429,OV323529,OL372705,OW299558,OL910545,OU902952,OV363957,MZ987353,OU733992,OV519577,OL359323 --protocol=FTP --asperaLocation=null\n",
      "\n",
      "             #. ///////////////////       @@@@@@@      @@@@@@@@   @@@@    @@@    @@@@   @@@@@@@@@             @@@    @@@@@@@@\n",
      "        ###. #. /.   /////////////      @@@@  @@@@    @@@   @@@   @@@@   @@@    @@@@   @@@@  @@@@           @@@@   @@@   @@@@\n",
      "    #### #####.     /    /////////     @@@@          @@@    @@@   @@@@  @@@    @@@@   @@@@   @@@@          @@@@  @@@@   @@@@\n",
      "  ##  ########.        //  //////      @@@@         @@@@   @@@@   @@@@ @@@    @@@@   @@@@   @@@@   @@@@@  @@@@  @@@@@@@@@@@\n",
      " #############.             /////      @@@@   @@@   @@@    @@@    @@@@@@@    @@@@   @@@@   @@@@          @@@@         @@@\n",
      "(#############.             ////       @@@@ @@@@    @@@   @@@     @@@@@@    @@@@   @@@@@@@@@@           @@@@   @@@@  @@@\n",
      "(#############.          .  ////        @@@@@@@     @@@@@@@@      @@@@@    @@@@   @@@@@@@@@            @@@@    @@@@@@@@\n",
      " #############.             ///                                                                                              \n",
      "  ##  ########.        //  ////        ######    ##  #####  ##      #####   ####  #####  #####  ##    #\n",
      "    #### #####.     /    /////,        #    #   ###   ##   # #      #   #  #   #  #   #   #    # #   #\n",
      "        ###. #. /.   /////////         #    #  #  #   #   #  #     #####  #   #  ## ##   #    #  #  #\n",
      "             #, //////////////        ######  #   #  ##  #   #    #      ### #  #   #   #    #   # ####\n",
      "\n",
      " (Copyright © EMBL 2021)\n",
      "\n",
      "Welcome to the Covid-19 Data Portal's data downloader utility!\n",
      "----------------------------------------------\n"
     ]
    },
    {
     "name": "stderr",
     "output_type": "stream",
     "text": [
      "Downloading   ? % [  =                                                        ] 3/?MB (0:00:12 / ?) \n"
     ]
    },
    {
     "name": "stdout",
     "output_type": "stream",
     "text": [
      "Download completed to /host/home/user_7321/user_7321_backup/user_7321/docker/ProjectB---Vital/vital/data_collectors/data/covid19_genome//tmp//viral_sequences/sequences/fasta/20240214-2152.fasta.\n",
      "java -jar cdp-file-downloader.jar --domain=VIRAL_SEQUENCES --datatype=SEQUENCES --format=FASTA --location=/host/home/user_7321/user_7321_backup/user_7321/docker/ProjectB---Vital/vital/data_collectors/data/covid19_genome//tmp/ --email=NONE --accessions=OK460267,OL442933,OL637709,OM160043,OU928961,OK590818,OL680490,OV264540,OU565941,OM069024,OV350077,OL920783,OL454231,OV830822,OV324231,OL570423,OL590969,OL718353,OL724206,OV407812,OK362315,OW301390,OL997573,OV857606,OL573646,OL443294,OU569998,OU322731,OV362927,OV363583,OM038565,OK565931,OL933387,OV349043,OL968589,OK569686,OL636858,OV504567,OV263782,OU924064,OL820384,OK446171,OL343832,OM177736,OL433962,OK424479,OV624039,OL637578,OV333017,OV018946,OL969065,OK411400,OL868320,OL459889,OK456155,OV214257,OK228267,OM214250,OK359024,OL904917,OL906811,OK224256,OL608965,MZ713387,OM164677,OV387645,OL446820,OK224667,OK138772,OV203291,OL593437,OL909612,OL846160,OV663137,OK603343,OL880944,OU516293,OK113236,OL902753,OV200732,OV487386,OK308682,OV015809,OK542586,OV193208,OK215784,OM081139,OL775072,OL829294,OL940452,OL513289,OV828037,OV120417,OK629543,OV037915,OL896612,OL886111,OK402628,OU930902,OU925562,OL483992,OL961890,OV381878,OV324016,OK452835,OU427990,OL748122,OL418169,OV231968,MZ777958,OL486114,OL802473,MZ993679,OM466043,OK199639,OV408078,OU974520,OK123956,OK159225,OL717565,OV379546,OK288486,OL736052,OU975011,OL567633,OV516922,OV303146,OM097932 --protocol=FTP --asperaLocation=null\n",
      "\n",
      "             #. ///////////////////       @@@@@@@      @@@@@@@@   @@@@    @@@    @@@@   @@@@@@@@@             @@@    @@@@@@@@\n",
      "        ###. #. /.   /////////////      @@@@  @@@@    @@@   @@@   @@@@   @@@    @@@@   @@@@  @@@@           @@@@   @@@   @@@@\n",
      "    #### #####.     /    /////////     @@@@          @@@    @@@   @@@@  @@@    @@@@   @@@@   @@@@          @@@@  @@@@   @@@@\n",
      "  ##  ########.        //  //////      @@@@         @@@@   @@@@   @@@@ @@@    @@@@   @@@@   @@@@   @@@@@  @@@@  @@@@@@@@@@@\n",
      " #############.             /////      @@@@   @@@   @@@    @@@    @@@@@@@    @@@@   @@@@   @@@@          @@@@         @@@\n",
      "(#############.             ////       @@@@ @@@@    @@@   @@@     @@@@@@    @@@@   @@@@@@@@@@           @@@@   @@@@  @@@\n",
      "(#############.          .  ////        @@@@@@@     @@@@@@@@      @@@@@    @@@@   @@@@@@@@@            @@@@    @@@@@@@@\n",
      " #############.             ///                                                                                              \n",
      "  ##  ########.        //  ////        ######    ##  #####  ##      #####   ####  #####  #####  ##    #\n",
      "    #### #####.     /    /////,        #    #   ###   ##   # #      #   #  #   #  #   #   #    # #   #\n",
      "        ###. #. /.   /////////         #    #  #  #   #   #  #     #####  #   #  ## ##   #    #  #  #\n",
      "             #, //////////////        ######  #   #  ##  #   #    #      ### #  #   #   #    #   # ####\n",
      "\n",
      " (Copyright © EMBL 2021)\n",
      "\n",
      "Welcome to the Covid-19 Data Portal's data downloader utility!\n",
      "----------------------------------------------\n"
     ]
    },
    {
     "name": "stderr",
     "output_type": "stream",
     "text": [
      "Downloading   ? % [                                                 =         ] 3/?MB (0:00:12 / ?) \n"
     ]
    },
    {
     "name": "stdout",
     "output_type": "stream",
     "text": [
      "Download completed to /host/home/user_7321/user_7321_backup/user_7321/docker/ProjectB---Vital/vital/data_collectors/data/covid19_genome//tmp//viral_sequences/sequences/fasta/20240214-2152.fasta.\n",
      "java -jar cdp-file-downloader.jar --domain=VIRAL_SEQUENCES --datatype=SEQUENCES --format=FASTA --location=/host/home/user_7321/user_7321_backup/user_7321/docker/ProjectB---Vital/vital/data_collectors/data/covid19_genome//tmp/ --email=NONE --accessions=OL559533,OL490436,OK459454,OK314462,OM073599,OL738178,OK057240,OM124032,OK152685,MZ733495,MZ990148,OL993353,OK108898,OL761263,OM072325,OV659111,OK068728,OK387583,OK486417,OK469388,OK269938,OK434998,OK508535,MZ997767,OL373035,OK366261,OL622594,OK016791,OL514571,OK304603,MZ991675,OL829436,ON169358,MZ933595,OK100656,OM057852,OL345884,OK455691,OK403601,OL442419,OM130160,OL527577,OK450292,OK110520,OL741586,MZ764287,OL431908,OL359723,OK125437,OK604814,OM040998,OK172842,OK599211,OL529272,MZ862585,OL748035,OM104519,OL799643,OL558261,OK460866,OL533499,OU360331,OK266104,MZ899670,OK462518,OK276060,OK012643,OL866543,MZ877121,OL867732,OL352956,OK219794,OL241478,OK654265,OK207425,MZ761679,OL545816,OL447515,OL867991,OK163673,OL833223,OK013898,OM297124,OM076342,OK516114,MZ810340,ON131199,ON065306,OK568917,OK370173,OL330468,OK280658,OL374767,OL694014,OL568519,OK285981,MZ786109,OL477780,OK279318,OK277268,OL569313,OK311227,MZ999254,OL804339,OK408914,OK552127,OK259197,OK044524,OK368787,MZ887156,OL330470,OK085889,OK176819,MZ984813,OK472379,OL637374,OK123925,OV887922,MZ980478,OL489290,OL447984,OL501786,OL399031,OK711826,OK154706,OK222962,OL939016,MZ875208 --protocol=FTP --asperaLocation=null\n",
      "\n",
      "             #. ///////////////////       @@@@@@@      @@@@@@@@   @@@@    @@@    @@@@   @@@@@@@@@             @@@    @@@@@@@@\n",
      "        ###. #. /.   /////////////      @@@@  @@@@    @@@   @@@   @@@@   @@@    @@@@   @@@@  @@@@           @@@@   @@@   @@@@\n",
      "    #### #####.     /    /////////     @@@@          @@@    @@@   @@@@  @@@    @@@@   @@@@   @@@@          @@@@  @@@@   @@@@\n",
      "  ##  ########.        //  //////      @@@@         @@@@   @@@@   @@@@ @@@    @@@@   @@@@   @@@@   @@@@@  @@@@  @@@@@@@@@@@\n",
      " #############.             /////      @@@@   @@@   @@@    @@@    @@@@@@@    @@@@   @@@@   @@@@          @@@@         @@@\n",
      "(#############.             ////       @@@@ @@@@    @@@   @@@     @@@@@@    @@@@   @@@@@@@@@@           @@@@   @@@@  @@@\n",
      "(#############.          .  ////        @@@@@@@     @@@@@@@@      @@@@@    @@@@   @@@@@@@@@            @@@@    @@@@@@@@\n",
      " #############.             ///                                                                                              \n",
      "  ##  ########.        //  ////        ######    ##  #####  ##      #####   ####  #####  #####  ##    #\n",
      "    #### #####.     /    /////,        #    #   ###   ##   # #      #   #  #   #  #   #   #    # #   #\n",
      "        ###. #. /.   /////////         #    #  #  #   #   #  #     #####  #   #  ## ##   #    #  #  #\n",
      "             #, //////////////        ######  #   #  ##  #   #    #      ### #  #   #   #    #   # ####\n",
      "\n",
      " (Copyright © EMBL 2021)\n",
      "\n",
      "Welcome to the Covid-19 Data Portal's data downloader utility!\n",
      "----------------------------------------------\n"
     ]
    },
    {
     "name": "stderr",
     "output_type": "stream",
     "text": [
      "Downloading   ? % [             =                                             ] 3/?MB (0:00:13 / ?) \n"
     ]
    },
    {
     "name": "stdout",
     "output_type": "stream",
     "text": [
      "Download completed to /host/home/user_7321/user_7321_backup/user_7321/docker/ProjectB---Vital/vital/data_collectors/data/covid19_genome//tmp//viral_sequences/sequences/fasta/20240214-2152.fasta.\n",
      "java -jar cdp-file-downloader.jar --domain=VIRAL_SEQUENCES --datatype=SEQUENCES --format=FASTA --location=/host/home/user_7321/user_7321_backup/user_7321/docker/ProjectB---Vital/vital/data_collectors/data/covid19_genome//tmp/ --email=NONE --accessions=OK399490,OK211799,OV363647,OL566161,OK097915,OK593535,OM218735,OK153730,OK610622,OL991800,OK313623,OL398123,MZ984957,OK484707,OM256012,OK479688,OK353015,MZ850054,MZ728009,OK353571,OL665188,OL881629,OK339335,OL851493,OK200729,MZ699973,OK321869,OM061226,OK321654,OL395013,MZ968308,MZ860942,MZ887263,MZ649963,OL515674,OK422103,OK551679,OL996107,OL917573,MZ939036,OL364396,OK201593,OL867233,OK155842,OL427536,OL392145,OK591934,OL418953,OK261458,OK405457,OL665154,OM241281,OK164255,MZ875502,OK578237,OK352533,OK613668,OL333021,OM895789,OK131330,OL761953,OK311508,MZ929932,OK228736,OL608689,OM262579,OL442387,OL474667,MZ828350,OK475826,OL431051,MZ934001,OK088601,OK533519,OL609654,OM081336,OL942313,OL997901,OL506928,OK013736,OK195453,OK228211,OK311092,OK085857,OL430830,OK059776,OM073418,MZ801458,OL673169,OK619744,OK642603,OL789643,OL694006,OL868952,MZ704443,OL565720,OL736332,MZ885984,OK382520,OK329054,OL696909,OK311229,OK133166,OL593282,OL320662,OL397613,OK642644,OK084844,OK569316,OL760691,OL931116,OL339669,MZ637459,OK159621,OK057009,OK523870,OK327178,OK106374,OL754148,OL761775,OM151888,OL974262,MZ787196,MZ707031,OK288200,MZ861893,OK226905,MZ862049 --protocol=FTP --asperaLocation=null\n",
      "\n",
      "             #. ///////////////////       @@@@@@@      @@@@@@@@   @@@@    @@@    @@@@   @@@@@@@@@             @@@    @@@@@@@@\n",
      "        ###. #. /.   /////////////      @@@@  @@@@    @@@   @@@   @@@@   @@@    @@@@   @@@@  @@@@           @@@@   @@@   @@@@\n",
      "    #### #####.     /    /////////     @@@@          @@@    @@@   @@@@  @@@    @@@@   @@@@   @@@@          @@@@  @@@@   @@@@\n",
      "  ##  ########.        //  //////      @@@@         @@@@   @@@@   @@@@ @@@    @@@@   @@@@   @@@@   @@@@@  @@@@  @@@@@@@@@@@\n",
      " #############.             /////      @@@@   @@@   @@@    @@@    @@@@@@@    @@@@   @@@@   @@@@          @@@@         @@@\n",
      "(#############.             ////       @@@@ @@@@    @@@   @@@     @@@@@@    @@@@   @@@@@@@@@@           @@@@   @@@@  @@@\n",
      "(#############.          .  ////        @@@@@@@     @@@@@@@@      @@@@@    @@@@   @@@@@@@@@            @@@@    @@@@@@@@\n",
      " #############.             ///                                                                                              \n",
      "  ##  ########.        //  ////        ######    ##  #####  ##      #####   ####  #####  #####  ##    #\n",
      "    #### #####.     /    /////,        #    #   ###   ##   # #      #   #  #   #  #   #   #    # #   #\n",
      "        ###. #. /.   /////////         #    #  #  #   #   #  #     #####  #   #  ## ##   #    #  #  #\n",
      "             #, //////////////        ######  #   #  ##  #   #    #      ### #  #   #   #    #   # ####\n",
      "\n",
      " (Copyright © EMBL 2021)\n",
      "\n",
      "Welcome to the Covid-19 Data Portal's data downloader utility!\n",
      "----------------------------------------------\n"
     ]
    },
    {
     "name": "stderr",
     "output_type": "stream",
     "text": [
      "Downloading   ? % [                                      =                    ] 3/?MB (0:00:17 / ?) \n"
     ]
    },
    {
     "name": "stdout",
     "output_type": "stream",
     "text": [
      "Download completed to /host/home/user_7321/user_7321_backup/user_7321/docker/ProjectB---Vital/vital/data_collectors/data/covid19_genome//tmp//viral_sequences/sequences/fasta/20240214-2153.fasta.\n",
      "java -jar cdp-file-downloader.jar --domain=VIRAL_SEQUENCES --datatype=SEQUENCES --format=FASTA --location=/host/home/user_7321/user_7321_backup/user_7321/docker/ProjectB---Vital/vital/data_collectors/data/covid19_genome//tmp/ --email=NONE --accessions=OK451287,OL785940,OK040880,OL520543,OL569430,OK239264,OK641296,OK460407,OK308650,OK300019,OK239154,OM190115,OK106419,OK243270,OK568667,OK531600,MZ886189,OK281028,OK471200,OK638342,ON129790,OL387399,OK421337,OK121879,OK048004,OK438716,MZ694113,OK058684,OM126755,OL310302,OK581840,OK080362,ON131406,OL328818,OL561892,OL856894,OL760879,OL918662,OK528938,MZ712916,OK171586,OK321460,OK554665,ON155908,OL856457,OK540750,MZ762940,OK057218,OL988755,OK574837,OK012822,OL474521,MZ854338,OL842446,OL867471,OK395142,OL883632,OL599338,OM035234,OK124475,OM151738,OK098104,OL866818,OL987538,OK654304,MZ851912,MZ939506,OL917273,OL834383,OM149196,OK362212,OK390020,OK421125,OL696926,OL731786,OK455688,OL324687,OK522645,OL740567,OK477830,OL514479,OL460785,MZ862497,OL560875,OL883647,MZ786401,OV011195,OK654488,OM542076,MZ991317,MZ884363,OK228827,MZ898954,OL239057,OK261348,OK081274,OK608384,OK210374,OL560997,OK016345,OM480617,OL453636,OK270034,OK110389,OL511314,OK396933,OM148688,OL359344,OK580680,OL889121,MZ810009,OK123778,OV392347,OL956755,OK358977,OL423156,OL965916,OL478601,MZ862103,OV399572,OK552070,OK223678,OK360082,OK610522,OK131970,OL866872,OK402178,OL923464 --protocol=FTP --asperaLocation=null\n",
      "\n",
      "             #. ///////////////////       @@@@@@@      @@@@@@@@   @@@@    @@@    @@@@   @@@@@@@@@             @@@    @@@@@@@@\n",
      "        ###. #. /.   /////////////      @@@@  @@@@    @@@   @@@   @@@@   @@@    @@@@   @@@@  @@@@           @@@@   @@@   @@@@\n",
      "    #### #####.     /    /////////     @@@@          @@@    @@@   @@@@  @@@    @@@@   @@@@   @@@@          @@@@  @@@@   @@@@\n",
      "  ##  ########.        //  //////      @@@@         @@@@   @@@@   @@@@ @@@    @@@@   @@@@   @@@@   @@@@@  @@@@  @@@@@@@@@@@\n",
      " #############.             /////      @@@@   @@@   @@@    @@@    @@@@@@@    @@@@   @@@@   @@@@          @@@@         @@@\n",
      "(#############.             ////       @@@@ @@@@    @@@   @@@     @@@@@@    @@@@   @@@@@@@@@@           @@@@   @@@@  @@@\n",
      "(#############.          .  ////        @@@@@@@     @@@@@@@@      @@@@@    @@@@   @@@@@@@@@            @@@@    @@@@@@@@\n",
      " #############.             ///                                                                                              \n",
      "  ##  ########.        //  ////        ######    ##  #####  ##      #####   ####  #####  #####  ##    #\n",
      "    #### #####.     /    /////,        #    #   ###   ##   # #      #   #  #   #  #   #   #    # #   #\n",
      "        ###. #. /.   /////////         #    #  #  #   #   #  #     #####  #   #  ## ##   #    #  #  #\n",
      "             #, //////////////        ######  #   #  ##  #   #    #      ### #  #   #   #    #   # ####\n",
      "\n",
      " (Copyright © EMBL 2021)\n",
      "\n",
      "Welcome to the Covid-19 Data Portal's data downloader utility!\n",
      "----------------------------------------------\n"
     ]
    },
    {
     "name": "stderr",
     "output_type": "stream",
     "text": [
      "Downloading   ? % [                                   =                       ] 3/?MB (0:00:16 / ?) \n"
     ]
    },
    {
     "name": "stdout",
     "output_type": "stream",
     "text": [
      "Download completed to /host/home/user_7321/user_7321_backup/user_7321/docker/ProjectB---Vital/vital/data_collectors/data/covid19_genome//tmp//viral_sequences/sequences/fasta/20240214-2153.fasta.\n",
      "java -jar cdp-file-downloader.jar --domain=VIRAL_SEQUENCES --datatype=SEQUENCES --format=FASTA --location=/host/home/user_7321/user_7321_backup/user_7321/docker/ProjectB---Vital/vital/data_collectors/data/covid19_genome//tmp/ --email=NONE --accessions=OK146190,OL458951,OK284162,OK221585,OK495414,OL382676,OL906499,OK621873,MZ703910,OL889176,OK224541,OK560944,OL895232,OK472551,OK109240,MZ980218,OK494467,OL990278,OL617082,MZ592065,OL777390,OK048009,OL750144,OM120494,OK008301,MZ879097,OK532113,MZ928135,OK222385,OM199394,OL683533,OM285373,OM105288,OL432668,OK550117,OK314463,OK202827,OL805750,OM131158,OK328370,MZ952394,OL783061,OM466270,MZ938939,OL430882,MZ929031,OL802347,OK571651,OK132761,MZ860696,OL623149,MZ991024,OL489024,OL607942,OK712455,OM034119,OK132156,OL733634,OL825557,MZ953571,OK618146,OK130260,OK306997,OL784051,OL514448,OK215013,OK136507,OL516035,OK119451,OK248996,OK098733,OV469665,OL796395,OL715203,OL533190,OK058435,OL831802,MZ875660,OL378696,OM143425,OL359240,OL424507,OM150455,MZ938401,OL669013,OL349762,OL328915,OK337846,OK561230,OL896305,OK199662,OK621137,OK582117,OM116305,OK558159,OL515770,OK603616,MZ535333,OK695108,OK099027,OK528772,MZ732546,OK200767,OK438244,OM256019,OK307443,OK405875,OL422008,OL329026,OL955215,MZ965798,OL777656,OK552122,OL464771,OK353093,OK619727,OK281957,MZ977298,OL820963,MZ940454,MZ761552,OL964441,OK543610,OL943006,OK608505,OL411074,OL781537,OL736588 --protocol=FTP --asperaLocation=null\n",
      "\n",
      "             #. ///////////////////       @@@@@@@      @@@@@@@@   @@@@    @@@    @@@@   @@@@@@@@@             @@@    @@@@@@@@\n",
      "        ###. #. /.   /////////////      @@@@  @@@@    @@@   @@@   @@@@   @@@    @@@@   @@@@  @@@@           @@@@   @@@   @@@@\n",
      "    #### #####.     /    /////////     @@@@          @@@    @@@   @@@@  @@@    @@@@   @@@@   @@@@          @@@@  @@@@   @@@@\n",
      "  ##  ########.        //  //////      @@@@         @@@@   @@@@   @@@@ @@@    @@@@   @@@@   @@@@   @@@@@  @@@@  @@@@@@@@@@@\n",
      " #############.             /////      @@@@   @@@   @@@    @@@    @@@@@@@    @@@@   @@@@   @@@@          @@@@         @@@\n",
      "(#############.             ////       @@@@ @@@@    @@@   @@@     @@@@@@    @@@@   @@@@@@@@@@           @@@@   @@@@  @@@\n",
      "(#############.          .  ////        @@@@@@@     @@@@@@@@      @@@@@    @@@@   @@@@@@@@@            @@@@    @@@@@@@@\n",
      " #############.             ///                                                                                              \n",
      "  ##  ########.        //  ////        ######    ##  #####  ##      #####   ####  #####  #####  ##    #\n",
      "    #### #####.     /    /////,        #    #   ###   ##   # #      #   #  #   #  #   #   #    # #   #\n",
      "        ###. #. /.   /////////         #    #  #  #   #   #  #     #####  #   #  ## ##   #    #  #  #\n",
      "             #, //////////////        ######  #   #  ##  #   #    #      ### #  #   #   #    #   # ####\n",
      "\n",
      " (Copyright © EMBL 2021)\n",
      "\n",
      "Welcome to the Covid-19 Data Portal's data downloader utility!\n",
      "----------------------------------------------\n"
     ]
    },
    {
     "name": "stderr",
     "output_type": "stream",
     "text": [
      "Downloading   ? % [                                          =                ] 3/?MB (0:00:21 / ?) \n"
     ]
    },
    {
     "name": "stdout",
     "output_type": "stream",
     "text": [
      "Download completed to /host/home/user_7321/user_7321_backup/user_7321/docker/ProjectB---Vital/vital/data_collectors/data/covid19_genome//tmp//viral_sequences/sequences/fasta/20240214-2153.fasta.\n",
      "java -jar cdp-file-downloader.jar --domain=VIRAL_SEQUENCES --datatype=SEQUENCES --format=FASTA --location=/host/home/user_7321/user_7321_backup/user_7321/docker/ProjectB---Vital/vital/data_collectors/data/covid19_genome//tmp/ --email=NONE --accessions=OM255603,OK456238,OK614362,OK404640,OK130869,OK159326,MZ732938,OV541759,OK086586,MZ990810,OK262122,OL397739,OK579977,OK424301,OK126993,OK464267,OM013471,OL428514,MZ862432,OK289472,OL706333,OK613521,OK021040,MZ850303,OL514967,OK525752,OK478512,OK630103,OL845278,OK307018,OK452098,OL924164,OK080304,OL748294,OL577527,OK098141,OL666387,OM122610,MZ648155,OL428840,OK159421,OL783478,MZ938899,OU515055,OK025019,OK133203,OK003838,OK054919,ON110228,OM506750,OK212356,OL857157,OK447422,MZ887529,OK578874,OK115491,OM147413,OM147628,OV104272,OL402846,OK142337,OK105613,MZ861436,OK210643,OM516470,OK171467,MZ854382,OL929479,OL824649,OK521057,OK591996,OL868127,OK369285,OK614565,OM221647,OK521089,OK379230,OK062712,OK282089,OL239316,OL484120,MZ696757,OK223706,OL833415,OM471059,OM019040,OK521165,OK225472,MZ786081,OK549890,OK280632,OK558386,OK252157,OM516081,OL941224,OL798530,OL784475,MZ785262,OK186573,OK412555,OK099961,MZ729431,OL515768,OL727763,OK197942,OK578980,MZ878651,OL868280,OL922602,OL556800,MZ946671,OK604813,OK658419,OK176637,OK650949,OK324839,MZ941040,OK201109,OL936473,OK280691,OK389381,OL802186,OK565252,MZ851876,OM089915,OW107024,MZ911951,OK534788 --protocol=FTP --asperaLocation=null\n",
      "\n",
      "             #. ///////////////////       @@@@@@@      @@@@@@@@   @@@@    @@@    @@@@   @@@@@@@@@             @@@    @@@@@@@@\n",
      "        ###. #. /.   /////////////      @@@@  @@@@    @@@   @@@   @@@@   @@@    @@@@   @@@@  @@@@           @@@@   @@@   @@@@\n",
      "    #### #####.     /    /////////     @@@@          @@@    @@@   @@@@  @@@    @@@@   @@@@   @@@@          @@@@  @@@@   @@@@\n",
      "  ##  ########.        //  //////      @@@@         @@@@   @@@@   @@@@ @@@    @@@@   @@@@   @@@@   @@@@@  @@@@  @@@@@@@@@@@\n",
      " #############.             /////      @@@@   @@@   @@@    @@@    @@@@@@@    @@@@   @@@@   @@@@          @@@@         @@@\n",
      "(#############.             ////       @@@@ @@@@    @@@   @@@     @@@@@@    @@@@   @@@@@@@@@@           @@@@   @@@@  @@@\n",
      "(#############.          .  ////        @@@@@@@     @@@@@@@@      @@@@@    @@@@   @@@@@@@@@            @@@@    @@@@@@@@\n",
      " #############.             ///                                                                                              \n",
      "  ##  ########.        //  ////        ######    ##  #####  ##      #####   ####  #####  #####  ##    #\n",
      "    #### #####.     /    /////,        #    #   ###   ##   # #      #   #  #   #  #   #   #    # #   #\n",
      "        ###. #. /.   /////////         #    #  #  #   #   #  #     #####  #   #  ## ##   #    #  #  #\n",
      "             #, //////////////        ######  #   #  ##  #   #    #      ### #  #   #   #    #   # ####\n",
      "\n",
      " (Copyright © EMBL 2021)\n",
      "\n",
      "Welcome to the Covid-19 Data Portal's data downloader utility!\n",
      "----------------------------------------------\n"
     ]
    },
    {
     "name": "stderr",
     "output_type": "stream",
     "text": [
      "Downloading   ? % [                          =                                ] 3/?MB (0:00:19 / ?) \n"
     ]
    },
    {
     "name": "stdout",
     "output_type": "stream",
     "text": [
      "Download completed to /host/home/user_7321/user_7321_backup/user_7321/docker/ProjectB---Vital/vital/data_collectors/data/covid19_genome//tmp//viral_sequences/sequences/fasta/20240214-2154.fasta.\n",
      "java -jar cdp-file-downloader.jar --domain=VIRAL_SEQUENCES --datatype=SEQUENCES --format=FASTA --location=/host/home/user_7321/user_7321_backup/user_7321/docker/ProjectB---Vital/vital/data_collectors/data/covid19_genome//tmp/ --email=NONE --accessions=OK096067,OK615973,MZ849255,OK020531,MZ750207,OK037324,OM286173,OK395386,OK593048,OL920982,OK508285,MZ995343,OM432793,OK114855,OK344387,OK639288,OK482839,OK338252,OK142236,OK130169,OK237779,OK444344,OK297256,OK207558,OK515350,MZ983167,OK238442,OK497610,OL737702,OK200436,OL802360,OK034288,OK184511,OL374935,OK573489,OK355809,OK322096,OL379781,OL590097,OK281416,OK268961,OK057960,OK137599,OK259565,OK600666,MZ968287,MZ859725,MZ990145,OK407805,OM037251,OK318966,OK652234,MZ863635,OK512188,OK118379,OL559195,OK089928,OL749043,OM542073,OL926263,OM180721,OK554614,OK004353,OL459676,OK359865,OK330820,OL465349,OL744780,OL879641,OK317038,OK476105,OK543237,OL966059,OL860579,OK538249,OK438512,OM050889,OL497580,OK628840,MZ741678,OM277064,OM218797,MZ941777,OL974135,OK470461,OK464513,OL400623,OL868295,OM136009,OK085146,OL350033,OK221788,OL906444,OK166243,OK394944,OK012762,MZ979150,OL760726,OL558250,OK629159,OK172735,OM148161,OL360402,OL430962,OL680466,OK406781,OK631681,OM045373,OK059128,OK412460,OK470877,OK308570,OL374757,OK006718,OK387359,MZ783761,MZ741070,OL423072,OK266002,OK387183,OK628511,OL341402,OK461797,OM043590,OK124986,OL789639,MZ941715,OK471205 --protocol=FTP --asperaLocation=null\n",
      "\n",
      "             #. ///////////////////       @@@@@@@      @@@@@@@@   @@@@    @@@    @@@@   @@@@@@@@@             @@@    @@@@@@@@\n",
      "        ###. #. /.   /////////////      @@@@  @@@@    @@@   @@@   @@@@   @@@    @@@@   @@@@  @@@@           @@@@   @@@   @@@@\n",
      "    #### #####.     /    /////////     @@@@          @@@    @@@   @@@@  @@@    @@@@   @@@@   @@@@          @@@@  @@@@   @@@@\n",
      "  ##  ########.        //  //////      @@@@         @@@@   @@@@   @@@@ @@@    @@@@   @@@@   @@@@   @@@@@  @@@@  @@@@@@@@@@@\n",
      " #############.             /////      @@@@   @@@   @@@    @@@    @@@@@@@    @@@@   @@@@   @@@@          @@@@         @@@\n",
      "(#############.             ////       @@@@ @@@@    @@@   @@@     @@@@@@    @@@@   @@@@@@@@@@           @@@@   @@@@  @@@\n",
      "(#############.          .  ////        @@@@@@@     @@@@@@@@      @@@@@    @@@@   @@@@@@@@@            @@@@    @@@@@@@@\n",
      " #############.             ///                                                                                              \n",
      "  ##  ########.        //  ////        ######    ##  #####  ##      #####   ####  #####  #####  ##    #\n",
      "    #### #####.     /    /////,        #    #   ###   ##   # #      #   #  #   #  #   #   #    # #   #\n",
      "        ###. #. /.   /////////         #    #  #  #   #   #  #     #####  #   #  ## ##   #    #  #  #\n",
      "             #, //////////////        ######  #   #  ##  #   #    #      ### #  #   #   #    #   # ####\n",
      "\n",
      " (Copyright © EMBL 2021)\n",
      "\n",
      "Welcome to the Covid-19 Data Portal's data downloader utility!\n",
      "----------------------------------------------\n"
     ]
    },
    {
     "name": "stderr",
     "output_type": "stream",
     "text": [
      "Downloading   ? % [       =                                                   ] 3/?MB (0:00:16 / ?) \n"
     ]
    },
    {
     "name": "stdout",
     "output_type": "stream",
     "text": [
      "Download completed to /host/home/user_7321/user_7321_backup/user_7321/docker/ProjectB---Vital/vital/data_collectors/data/covid19_genome//tmp//viral_sequences/sequences/fasta/20240214-2154.fasta.\n",
      "java -jar cdp-file-downloader.jar --domain=VIRAL_SEQUENCES --datatype=SEQUENCES --format=FASTA --location=/host/home/user_7321/user_7321_backup/user_7321/docker/ProjectB---Vital/vital/data_collectors/data/covid19_genome//tmp/ --email=NONE --accessions=OM309747,OL393567,OK276054,OL393492,OK359641,OL521399,OL666305,MZ703669,OK711800,MZ953574,OK294025,MZ760578,MZ850321,OL968573,OK201443,OK631301,OL596674,OK495952,OL746655,OK402306,OK100543,OL513081,OL468901,OL867790,OL573546,OK461048,OK399977,OK595588,OL350251,OK158290,OK198141,OL515489,OL600613,OM864182,OK190125,OL932018,OK389466,OL340738,OK281404,OK277814,OL428259,OL923108,MZ978126,MZ953537,MZ941758,OK066596,OL669354,MZ618063,OK015264,OL865755,OM159530,OK006945,OL682457,OL560234,OL514573,MZ863053,OL675641,MZ694132,OK279692,ON073430,OL355545,MZ858588,OK012613,OM149283,OK528563,MZ845867,OL801877,OV362358,MZ860910,OK063668,OL356084,MZ998194,OK574687,OM255720,OK422297,OK199744,OK551450,OK260978,OM053818,OK187353,OK222971,OK652137,OL552549,MZ992320,OK521812,OL777363,OM012186,MZ786400,OK519124,OL680713,OK421882,OM156037,OL867713,OK654744,OL800133,MZ785595,OL341624,MZ968727,OK650819,OL595916,OK472658,OL436342,OK115924,OK104411,MZ566113,OK470273,ON137661,OK122746,OK028794,OK370136,OL350855,OU756757,OL484793,OK029401,OL618384,OK282518,OK035857,OL876680,OK047949,OL564499,OM150385,MZ830681,OK019572,OL350505,OL867521,OL806032,MZ762930,OK401031 --protocol=FTP --asperaLocation=null\n",
      "\n",
      "             #. ///////////////////       @@@@@@@      @@@@@@@@   @@@@    @@@    @@@@   @@@@@@@@@             @@@    @@@@@@@@\n",
      "        ###. #. /.   /////////////      @@@@  @@@@    @@@   @@@   @@@@   @@@    @@@@   @@@@  @@@@           @@@@   @@@   @@@@\n",
      "    #### #####.     /    /////////     @@@@          @@@    @@@   @@@@  @@@    @@@@   @@@@   @@@@          @@@@  @@@@   @@@@\n",
      "  ##  ########.        //  //////      @@@@         @@@@   @@@@   @@@@ @@@    @@@@   @@@@   @@@@   @@@@@  @@@@  @@@@@@@@@@@\n",
      " #############.             /////      @@@@   @@@   @@@    @@@    @@@@@@@    @@@@   @@@@   @@@@          @@@@         @@@\n",
      "(#############.             ////       @@@@ @@@@    @@@   @@@     @@@@@@    @@@@   @@@@@@@@@@           @@@@   @@@@  @@@\n",
      "(#############.          .  ////        @@@@@@@     @@@@@@@@      @@@@@    @@@@   @@@@@@@@@            @@@@    @@@@@@@@\n",
      " #############.             ///                                                                                              \n",
      "  ##  ########.        //  ////        ######    ##  #####  ##      #####   ####  #####  #####  ##    #\n",
      "    #### #####.     /    /////,        #    #   ###   ##   # #      #   #  #   #  #   #   #    # #   #\n",
      "        ###. #. /.   /////////         #    #  #  #   #   #  #     #####  #   #  ## ##   #    #  #  #\n",
      "             #, //////////////        ######  #   #  ##  #   #    #      ### #  #   #   #    #   # ####\n",
      "\n",
      " (Copyright © EMBL 2021)\n",
      "\n",
      "Welcome to the Covid-19 Data Portal's data downloader utility!\n",
      "----------------------------------------------\n"
     ]
    },
    {
     "name": "stderr",
     "output_type": "stream",
     "text": [
      "Downloading   ? % [                       =                                   ] 3/?MB (0:00:21 / ?) \n"
     ]
    },
    {
     "name": "stdout",
     "output_type": "stream",
     "text": [
      "Download completed to /host/home/user_7321/user_7321_backup/user_7321/docker/ProjectB---Vital/vital/data_collectors/data/covid19_genome//tmp//viral_sequences/sequences/fasta/20240214-2154.fasta.\n",
      "java -jar cdp-file-downloader.jar --domain=VIRAL_SEQUENCES --datatype=SEQUENCES --format=FASTA --location=/host/home/user_7321/user_7321_backup/user_7321/docker/ProjectB---Vital/vital/data_collectors/data/covid19_genome//tmp/ --email=NONE --accessions=OL774308,OK009172,OL579229,OL241408,OK495581,OV258913,OK024106,MZ928831,OL355922,OK421007,OL494173,OL411416,OK163337,MZ939519,OV060372,MZ850304,OL865757,OL726058,OK501572,OK236428,OK569286,OK571620,OK644784,OK535901,OM515810,OK449245,MZ929851,OK470185,OL320989,MZ990521,MZ863848,MZ732495,MZ764105,OL387423,OM011824,OL514493,MZ841484,OL762799,MZ697695,OK515720,OM070488,OK172954,OM246263,OL499111,MZ620225,OK100398,OL460758,MZ863655,MZ763832,OK096822,OK163826,MZ854343,ON004287,OL353970,MZ850411,OK434615,OK667321,OK550622,OK259803,MZ900605,MZ899891,OL337254,OK657399,OK244280,OM225942,OL993890,MZ986023,OM139531,OK372148,OK190222,OK621231,MZ852085,OK386680,MZ797722,OL966379,OK457132,MZ998425,OK113987,OK344003,OK415686,OK279084,OL340211,OK040856,OK014245,OU591355,MZ699362,OL990253,OM188773,OL405911,OK554661,OK110305,MZ952398,OL482150,OL515611,OL550614,OL593792,OL460546,OL442423,OL510534,MZ852035,OM040637,OM277362,OK142260,OK496094,OK136528,OK552007,OL507434,OL520427,OM196810,OL970058,OK129960,OK622519,OL343840,OK370319,OM023924,OL900609,OL681093,OK231509,MZ900046,OK711804,OK150968,OV362233,OK314366,OK026389,OK132291,MZ991865,OL867161,OK199542 --protocol=FTP --asperaLocation=null\n",
      "\n",
      "             #. ///////////////////       @@@@@@@      @@@@@@@@   @@@@    @@@    @@@@   @@@@@@@@@             @@@    @@@@@@@@\n",
      "        ###. #. /.   /////////////      @@@@  @@@@    @@@   @@@   @@@@   @@@    @@@@   @@@@  @@@@           @@@@   @@@   @@@@\n",
      "    #### #####.     /    /////////     @@@@          @@@    @@@   @@@@  @@@    @@@@   @@@@   @@@@          @@@@  @@@@   @@@@\n",
      "  ##  ########.        //  //////      @@@@         @@@@   @@@@   @@@@ @@@    @@@@   @@@@   @@@@   @@@@@  @@@@  @@@@@@@@@@@\n",
      " #############.             /////      @@@@   @@@   @@@    @@@    @@@@@@@    @@@@   @@@@   @@@@          @@@@         @@@\n",
      "(#############.             ////       @@@@ @@@@    @@@   @@@     @@@@@@    @@@@   @@@@@@@@@@           @@@@   @@@@  @@@\n",
      "(#############.          .  ////        @@@@@@@     @@@@@@@@      @@@@@    @@@@   @@@@@@@@@            @@@@    @@@@@@@@\n",
      " #############.             ///                                                                                              \n",
      "  ##  ########.        //  ////        ######    ##  #####  ##      #####   ####  #####  #####  ##    #\n",
      "    #### #####.     /    /////,        #    #   ###   ##   # #      #   #  #   #  #   #   #    # #   #\n",
      "        ###. #. /.   /////////         #    #  #  #   #   #  #     #####  #   #  ## ##   #    #  #  #\n",
      "             #, //////////////        ######  #   #  ##  #   #    #      ### #  #   #   #    #   # ####\n",
      "\n",
      " (Copyright © EMBL 2021)\n",
      "\n",
      "Welcome to the Covid-19 Data Portal's data downloader utility!\n",
      "----------------------------------------------\n"
     ]
    },
    {
     "name": "stderr",
     "output_type": "stream",
     "text": [
      "Downloading   ? % [                           =                               ] 3/?MB (0:00:18 / ?) \n"
     ]
    },
    {
     "name": "stdout",
     "output_type": "stream",
     "text": [
      "Download completed to /host/home/user_7321/user_7321_backup/user_7321/docker/ProjectB---Vital/vital/data_collectors/data/covid19_genome//tmp//viral_sequences/sequences/fasta/20240214-2155.fasta.\n",
      "java -jar cdp-file-downloader.jar --domain=VIRAL_SEQUENCES --datatype=SEQUENCES --format=FASTA --location=/host/home/user_7321/user_7321_backup/user_7321/docker/ProjectB---Vital/vital/data_collectors/data/covid19_genome//tmp/ --email=NONE --accessions=OL895815,OU974098,OV856693,OV435824,OV860087,OV664426,OV199301,OU783148,OU839354,OV114340,OW249886,OV852046,OV200961,OV657505,OU569297,OV850166,OU977893,OU905068,OL666606,OU517308,OK383294,OU981678,OU514943,OU908060,OK468854,OU591003,OU716614,OU514033,OV426963,OV204975,OU639446,OU677824,OV199120,OU651672,OW247898,OV205776,OV855329,OV886238,OL546700,OV372415,OV238315,OV655603,OV209114,OV178914,OU697381,OV404710,OU612427,OV239159,OU936712,OU892992,OL836361,OV541062,OV486905,OV244710,OV535410,OV050496,OV828771,OV694581,OV166004,OV342658,OV217505,OU582375,OV788769,OV612844,OV373062,OU515585,OV694574,OU577198,OV535809,OU514831,OU996220,OV375825,OW251895,OL737756,OV098869,OV225887,OU980662,OW248671,OU569666,OU859147,OL859845,OV204253,OU660111,OV080305,OU746069,OV630645,OV495490,OU725687,OU577596,OV329063,OV852529,OV273697,OV019694,OV228475,OU516739,OU547098,OV543296,OU950102,OV425677,OU720177,OU845627,OL843582,OV234034,OU459440,OU779816,OU755347,OU888712,OV237120,OV326849,OV262606,OU843996,OV657557,OU847037,OV237963,OV225607,OV508261,OV828295,OU379205,OU559580,OV577747,OW305091,OV494858,OU595925,OV886181,OV807472,OU666451,OU411158,OU761339 --protocol=FTP --asperaLocation=null\n",
      "\n",
      "             #. ///////////////////       @@@@@@@      @@@@@@@@   @@@@    @@@    @@@@   @@@@@@@@@             @@@    @@@@@@@@\n",
      "        ###. #. /.   /////////////      @@@@  @@@@    @@@   @@@   @@@@   @@@    @@@@   @@@@  @@@@           @@@@   @@@   @@@@\n",
      "    #### #####.     /    /////////     @@@@          @@@    @@@   @@@@  @@@    @@@@   @@@@   @@@@          @@@@  @@@@   @@@@\n",
      "  ##  ########.        //  //////      @@@@         @@@@   @@@@   @@@@ @@@    @@@@   @@@@   @@@@   @@@@@  @@@@  @@@@@@@@@@@\n",
      " #############.             /////      @@@@   @@@   @@@    @@@    @@@@@@@    @@@@   @@@@   @@@@          @@@@         @@@\n",
      "(#############.             ////       @@@@ @@@@    @@@   @@@     @@@@@@    @@@@   @@@@@@@@@@           @@@@   @@@@  @@@\n",
      "(#############.          .  ////        @@@@@@@     @@@@@@@@      @@@@@    @@@@   @@@@@@@@@            @@@@    @@@@@@@@\n",
      " #############.             ///                                                                                              \n",
      "  ##  ########.        //  ////        ######    ##  #####  ##      #####   ####  #####  #####  ##    #\n",
      "    #### #####.     /    /////,        #    #   ###   ##   # #      #   #  #   #  #   #   #    # #   #\n",
      "        ###. #. /.   /////////         #    #  #  #   #   #  #     #####  #   #  ## ##   #    #  #  #\n",
      "             #, //////////////        ######  #   #  ##  #   #    #      ### #  #   #   #    #   # ####\n",
      "\n",
      " (Copyright © EMBL 2021)\n",
      "\n",
      "Welcome to the Covid-19 Data Portal's data downloader utility!\n",
      "----------------------------------------------\n"
     ]
    },
    {
     "name": "stderr",
     "output_type": "stream",
     "text": [
      "Downloading   ? % [                                           =               ] 3/?MB (0:00:25 / ?) \n"
     ]
    },
    {
     "name": "stdout",
     "output_type": "stream",
     "text": [
      "Download completed to /host/home/user_7321/user_7321_backup/user_7321/docker/ProjectB---Vital/vital/data_collectors/data/covid19_genome//tmp//viral_sequences/sequences/fasta/20240214-2155.fasta.\n",
      "java -jar cdp-file-downloader.jar --domain=VIRAL_SEQUENCES --datatype=SEQUENCES --format=FASTA --location=/host/home/user_7321/user_7321_backup/user_7321/docker/ProjectB---Vital/vital/data_collectors/data/covid19_genome//tmp/ --email=NONE --accessions=OU517388,OV224829,OU573759,OV415923,OW303660,OU751308,OU642390,OM056164,OV544062,OM018474,OV658488,OV173410,OV134903,OV318043,OV205542,OV203141,OV696487,OV426791,OM081097,OV356090,OV498567,OV107655,OU937547,OW308373,OV013051,OV467824,OV429316,OV827963,OV426293,OV854202,OV002029,OU564935,OV884785,OW110442,OU443421,OV622049,OV528471,OU807423,OV061886,OU597978,OV358078,OU744763,OV425739,OU898124,OU779786,OK319489,OV109581,OV670474,OV248304,OU720129,OW249022,OV275141,OW316023,OV421110,OU953347,OV062187,OV374991,OU936027,OV852475,OV340687,OV806968,OU593917,OU923870,OL751449,OM876839,OV224560,OV371062,OV612670,OV354888,OV847924,OU728161,OV454201,OU774756,OV888460,OU579095,OL702370,OL863678,OV221971,OV216022,OV538066,OV364893,OV272585,OU557513,OV270968,OL696424,OU857623,OW306028,OU964670,OV489303,OV682866,OU868165,OV650565,OW306392,OV672693,OV232376,OU549543,OM643306,OU590239,OV201192,OU567573,OU937682,OV161506,OV672862,OV170566,OV192242,OV359643,OV493672,OU571447,OW251380,OU514734,OV244841,OU933217,OU911706,OU696428,OW100295,OU407493,OV246734,OU858080,OU582397,OU451480,OV651290,OU579733,OU959170,OV532680,OV110918,OL826913,OV020675,OK540664 --protocol=FTP --asperaLocation=null\n",
      "\n",
      "             #. ///////////////////       @@@@@@@      @@@@@@@@   @@@@    @@@    @@@@   @@@@@@@@@             @@@    @@@@@@@@\n",
      "        ###. #. /.   /////////////      @@@@  @@@@    @@@   @@@   @@@@   @@@    @@@@   @@@@  @@@@           @@@@   @@@   @@@@\n",
      "    #### #####.     /    /////////     @@@@          @@@    @@@   @@@@  @@@    @@@@   @@@@   @@@@          @@@@  @@@@   @@@@\n",
      "  ##  ########.        //  //////      @@@@         @@@@   @@@@   @@@@ @@@    @@@@   @@@@   @@@@   @@@@@  @@@@  @@@@@@@@@@@\n",
      " #############.             /////      @@@@   @@@   @@@    @@@    @@@@@@@    @@@@   @@@@   @@@@          @@@@         @@@\n",
      "(#############.             ////       @@@@ @@@@    @@@   @@@     @@@@@@    @@@@   @@@@@@@@@@           @@@@   @@@@  @@@\n",
      "(#############.          .  ////        @@@@@@@     @@@@@@@@      @@@@@    @@@@   @@@@@@@@@            @@@@    @@@@@@@@\n",
      " #############.             ///                                                                                              \n",
      "  ##  ########.        //  ////        ######    ##  #####  ##      #####   ####  #####  #####  ##    #\n",
      "    #### #####.     /    /////,        #    #   ###   ##   # #      #   #  #   #  #   #   #    # #   #\n",
      "        ###. #. /.   /////////         #    #  #  #   #   #  #     #####  #   #  ## ##   #    #  #  #\n",
      "             #, //////////////        ######  #   #  ##  #   #    #      ### #  #   #   #    #   # ####\n",
      "\n",
      " (Copyright © EMBL 2021)\n",
      "\n",
      "Welcome to the Covid-19 Data Portal's data downloader utility!\n",
      "----------------------------------------------\n"
     ]
    },
    {
     "name": "stderr",
     "output_type": "stream",
     "text": [
      "Downloading   ? % [                        =                                  ] 3/?MB (0:00:25 / ?) \n"
     ]
    },
    {
     "name": "stdout",
     "output_type": "stream",
     "text": [
      "Download completed to /host/home/user_7321/user_7321_backup/user_7321/docker/ProjectB---Vital/vital/data_collectors/data/covid19_genome//tmp//viral_sequences/sequences/fasta/20240214-2155.fasta.\n",
      "java -jar cdp-file-downloader.jar --domain=VIRAL_SEQUENCES --datatype=SEQUENCES --format=FASTA --location=/host/home/user_7321/user_7321_backup/user_7321/docker/ProjectB---Vital/vital/data_collectors/data/covid19_genome//tmp/ --email=NONE --accessions=OU701189,OU595015,OV434673,OW253412,OV320808,OU738423,OU573548,OU676275,OU934981,OV114297,OV525286,OU569307,OU895427,OV226327,OU626125,OV544141,OV466283,OL317780,OV426971,OV887601,OV423986,OU428323,OW327042,OV541408,OV657497,OU600926,OU984452,OV086848,OU849211,OU624737,OV587502,OV455909,OV858555,OV919338,OV111680,OV518370,OV269276,OU967634,OV850089,OV686396,OU529450,OV515213,OU702320,OU548605,OV338609,OK440942,OU838413,OV226100,OL346307,OU761611,OV692948,OU927816,OU745126,OV662642,OV670127,OU744912,OU579998,OW252308,OU518151,OU654097,OU653120,OV609336,OU643961,OU897428,OV220193,OV028169,OU579926,OV221452,OV341044,OV684709,OV265606,OV843779,OV043035,OL373325,OV888796,OV085006,OV209480,OV224708,OV361145,OU935888,OV107198,OV203035,OV224359,OV682686,OV690914,MZ843622,OU965668,OU750735,OV280619,OV199959,OV381845,OK297994,OV919964,OV118833,OU980975,OV492123,OU979953,OU746690,OV696128,OV666948,OV331303,OU752648,OU981409,OV246991,OV256191,OV454209,OV679289,OW314088,OV829641,OV518873,OU734367,OU430493,OL732372,OM739830,OV135446,OV694502,OL809626,OV202177,OV104278,OM080797,OU738270,OK550875,OV577228,OV543658,OV527153,OV417533,OV543503,OV693716 --protocol=FTP --asperaLocation=null\n",
      "\n",
      "             #. ///////////////////       @@@@@@@      @@@@@@@@   @@@@    @@@    @@@@   @@@@@@@@@             @@@    @@@@@@@@\n",
      "        ###. #. /.   /////////////      @@@@  @@@@    @@@   @@@   @@@@   @@@    @@@@   @@@@  @@@@           @@@@   @@@   @@@@\n",
      "    #### #####.     /    /////////     @@@@          @@@    @@@   @@@@  @@@    @@@@   @@@@   @@@@          @@@@  @@@@   @@@@\n",
      "  ##  ########.        //  //////      @@@@         @@@@   @@@@   @@@@ @@@    @@@@   @@@@   @@@@   @@@@@  @@@@  @@@@@@@@@@@\n",
      " #############.             /////      @@@@   @@@   @@@    @@@    @@@@@@@    @@@@   @@@@   @@@@          @@@@         @@@\n",
      "(#############.             ////       @@@@ @@@@    @@@   @@@     @@@@@@    @@@@   @@@@@@@@@@           @@@@   @@@@  @@@\n",
      "(#############.          .  ////        @@@@@@@     @@@@@@@@      @@@@@    @@@@   @@@@@@@@@            @@@@    @@@@@@@@\n",
      " #############.             ///                                                                                              \n",
      "  ##  ########.        //  ////        ######    ##  #####  ##      #####   ####  #####  #####  ##    #\n",
      "    #### #####.     /    /////,        #    #   ###   ##   # #      #   #  #   #  #   #   #    # #   #\n",
      "        ###. #. /.   /////////         #    #  #  #   #   #  #     #####  #   #  ## ##   #    #  #  #\n",
      "             #, //////////////        ######  #   #  ##  #   #    #      ### #  #   #   #    #   # ####\n",
      "\n",
      " (Copyright © EMBL 2021)\n",
      "\n",
      "Welcome to the Covid-19 Data Portal's data downloader utility!\n",
      "----------------------------------------------\n"
     ]
    },
    {
     "name": "stderr",
     "output_type": "stream",
     "text": [
      "Downloading   ? % [                                                      =    ] 3/?MB (0:00:21 / ?) \n"
     ]
    },
    {
     "name": "stdout",
     "output_type": "stream",
     "text": [
      "Download completed to /host/home/user_7321/user_7321_backup/user_7321/docker/ProjectB---Vital/vital/data_collectors/data/covid19_genome//tmp//viral_sequences/sequences/fasta/20240214-2156.fasta.\n",
      "java -jar cdp-file-downloader.jar --domain=VIRAL_SEQUENCES --datatype=SEQUENCES --format=FASTA --location=/host/home/user_7321/user_7321_backup/user_7321/docker/ProjectB---Vital/vital/data_collectors/data/covid19_genome//tmp/ --email=NONE --accessions=OV628194,OV690997,OU445420,OU617813,OW319750,OL325608,OM046297,OU592438,OV338211,OV524285,OV661399,OV544057,OV505573,OV524031,OV808737,OV063857,OU958893,OL932766,OV258663,OV689082,OV203835,OV662477,OU517796,OW307457,OV530013,OU644872,OU568705,OL993868,OV665429,OV853395,OV236837,OV455624,OU896504,OV181929,OV152187,OU974703,OU569791,OU571730,OU451975,OV111196,OV888040,OU974258,OK456695,OV657941,OU428254,OV133812,OU569703,OV309956,OV515626,OV537323,OV662643,OL932511,OL512121,OV237316,OU568517,OW304784,OV686437,OU925150,OV377695,OK573805,OU740553,OU517770,OU736414,OU673339,OU551879,OV105868,OK019973,OU986853,OV184652,OV202870,OV100552,OK022112,OV512134,OV693322,OV246442,OU615714,OU925507,OV657443,OU517306,OV533447,OV540881,OV513251,OU503163,OL864928,OV200280,OU927342,OK389178,OU745627,OW306339,OV246742,OU481628,OU514724,OU735125,OU587102,OV358459,OV695657,OV032106,OV678898,OU525310,OV375601,OV236593,OL728681,OV111740,OV276516,OV093309,OV843767,OU931772,OV144047,OU514382,OV089069,OU958425,OV246291,OU568965,OV038253,OV215542,OL983789,OU754864,OV246499,OV083297,OU717880,OV238645,OU585339,OK068540,OU618244,OU960011,OU677759,OU548332,OU931302 --protocol=FTP --asperaLocation=null\n",
      "\n",
      "             #. ///////////////////       @@@@@@@      @@@@@@@@   @@@@    @@@    @@@@   @@@@@@@@@             @@@    @@@@@@@@\n",
      "        ###. #. /.   /////////////      @@@@  @@@@    @@@   @@@   @@@@   @@@    @@@@   @@@@  @@@@           @@@@   @@@   @@@@\n",
      "    #### #####.     /    /////////     @@@@          @@@    @@@   @@@@  @@@    @@@@   @@@@   @@@@          @@@@  @@@@   @@@@\n",
      "  ##  ########.        //  //////      @@@@         @@@@   @@@@   @@@@ @@@    @@@@   @@@@   @@@@   @@@@@  @@@@  @@@@@@@@@@@\n",
      " #############.             /////      @@@@   @@@   @@@    @@@    @@@@@@@    @@@@   @@@@   @@@@          @@@@         @@@\n",
      "(#############.             ////       @@@@ @@@@    @@@   @@@     @@@@@@    @@@@   @@@@@@@@@@           @@@@   @@@@  @@@\n",
      "(#############.          .  ////        @@@@@@@     @@@@@@@@      @@@@@    @@@@   @@@@@@@@@            @@@@    @@@@@@@@\n",
      " #############.             ///                                                                                              \n",
      "  ##  ########.        //  ////        ######    ##  #####  ##      #####   ####  #####  #####  ##    #\n",
      "    #### #####.     /    /////,        #    #   ###   ##   # #      #   #  #   #  #   #   #    # #   #\n",
      "        ###. #. /.   /////////         #    #  #  #   #   #  #     #####  #   #  ## ##   #    #  #  #\n",
      "             #, //////////////        ######  #   #  ##  #   #    #      ### #  #   #   #    #   # ####\n",
      "\n",
      " (Copyright © EMBL 2021)\n",
      "\n",
      "Welcome to the Covid-19 Data Portal's data downloader utility!\n",
      "----------------------------------------------\n"
     ]
    },
    {
     "name": "stderr",
     "output_type": "stream",
     "text": [
      "Downloading   ? % [                                                          =] 3/?MB (0:00:18 / ?) \n"
     ]
    },
    {
     "name": "stdout",
     "output_type": "stream",
     "text": [
      "Download completed to /host/home/user_7321/user_7321_backup/user_7321/docker/ProjectB---Vital/vital/data_collectors/data/covid19_genome//tmp//viral_sequences/sequences/fasta/20240214-2156.fasta.\n",
      "java -jar cdp-file-downloader.jar --domain=VIRAL_SEQUENCES --datatype=SEQUENCES --format=FASTA --location=/host/home/user_7321/user_7321_backup/user_7321/docker/ProjectB---Vital/vital/data_collectors/data/covid19_genome//tmp/ --email=NONE --accessions=OU567762,OU965772,OU525152,MZ591167,OU713533,OU714860,OU995994,OU610749,OV239630,OV850619,OU567870,OU934781,OV200068,OU926375,OV105519,OV063363,OV192633,OU719120,OV038017,OV225107,OV425014,OU839797,OU846202,OU963179,OV062412,OU594985,OV693455,OV424473,OV224776,OV834297,OU617299,OU915521,OV038151,OV544048,OV331944,OV456645,OU731427,OV499250,OV617757,OK556783,OV537040,OV129672,OV846296,OV213220,OV045176,OU596681,OU566474,MZ986739,OV670566,OW299738,OU744902,OU862541,OV831203,OV019430,OV041718,OU650396,OW299830,OU755358,OK236869,OV647662,OV208188,OV500620,OU992843,OV224143,OV483073,OL402139,OM017500,OV237841,OU612524,OV687512,OK444724,OU846875,OU897495,OU909746,OV019437,OV395902,OU590216,OV163558,OV185265,OL941185,OV091880,OU513642,OU927348,OK136444,OU621872,OV115475,OU694035,OV684706,OU702254,OU577519,OV487843,OU642174,OV843593,OV126128,OK137469,OK538718,OV519262,OV691893,OU571295,OU604996,OV226438,OU653795,OV514586,OV057077,OW314452,OV205449,OU741209,OU651232,OK667520,OU898940,OL778125,OU545784,OV695313,OU604302,OU616156,OU771247,OV213807,OV492255,OU685043,OU584371,OK313181,OV825486,OU934037,OV058978,OU896875,OU683578,OU727131,OV671063 --protocol=FTP --asperaLocation=null\n",
      "\n",
      "             #. ///////////////////       @@@@@@@      @@@@@@@@   @@@@    @@@    @@@@   @@@@@@@@@             @@@    @@@@@@@@\n",
      "        ###. #. /.   /////////////      @@@@  @@@@    @@@   @@@   @@@@   @@@    @@@@   @@@@  @@@@           @@@@   @@@   @@@@\n",
      "    #### #####.     /    /////////     @@@@          @@@    @@@   @@@@  @@@    @@@@   @@@@   @@@@          @@@@  @@@@   @@@@\n",
      "  ##  ########.        //  //////      @@@@         @@@@   @@@@   @@@@ @@@    @@@@   @@@@   @@@@   @@@@@  @@@@  @@@@@@@@@@@\n",
      " #############.             /////      @@@@   @@@   @@@    @@@    @@@@@@@    @@@@   @@@@   @@@@          @@@@         @@@\n",
      "(#############.             ////       @@@@ @@@@    @@@   @@@     @@@@@@    @@@@   @@@@@@@@@@           @@@@   @@@@  @@@\n",
      "(#############.          .  ////        @@@@@@@     @@@@@@@@      @@@@@    @@@@   @@@@@@@@@            @@@@    @@@@@@@@\n",
      " #############.             ///                                                                                              \n",
      "  ##  ########.        //  ////        ######    ##  #####  ##      #####   ####  #####  #####  ##    #\n",
      "    #### #####.     /    /////,        #    #   ###   ##   # #      #   #  #   #  #   #   #    # #   #\n",
      "        ###. #. /.   /////////         #    #  #  #   #   #  #     #####  #   #  ## ##   #    #  #  #\n",
      "             #, //////////////        ######  #   #  ##  #   #    #      ### #  #   #   #    #   # ####\n",
      "\n",
      " (Copyright © EMBL 2021)\n",
      "\n",
      "Welcome to the Covid-19 Data Portal's data downloader utility!\n",
      "----------------------------------------------\n"
     ]
    },
    {
     "name": "stderr",
     "output_type": "stream",
     "text": [
      "Downloading   ? % [                      =                                    ] 3/?MB (0:00:16 / ?) \n"
     ]
    },
    {
     "name": "stdout",
     "output_type": "stream",
     "text": [
      "Download completed to /host/home/user_7321/user_7321_backup/user_7321/docker/ProjectB---Vital/vital/data_collectors/data/covid19_genome//tmp//viral_sequences/sequences/fasta/20240214-2157.fasta.\n",
      "java -jar cdp-file-downloader.jar --domain=VIRAL_SEQUENCES --datatype=SEQUENCES --format=FASTA --location=/host/home/user_7321/user_7321_backup/user_7321/docker/ProjectB---Vital/vital/data_collectors/data/covid19_genome//tmp/ --email=NONE --accessions=OV543781,OU611607,OU700648,OV017875,OW314432,OU571138,OU825815,OV179276,OU603401,OV254579,OU479605,OU710139,OV533039,OU798739,OV668391,OV427622,OV662204,OV560391,OV664108,OV241027,OU907370,OV666935,OV119926,OV088508,OV425104,OV887461,OU633432,OV105741,OV153201,OV657080,OU570156,OU398461,OV046014,OV516317,OV180087,OU566020,OU730895,OV192644,OV806939,OU705508,OV020543,OV349714,OU576321,OV543707,OU702072,OU848857,OW249347,OV141847,OW106580,OU745938,OV053578,OV049693,OV545123,OV851217,OU793689,OU874111,OU644871,OU982752,OU428446,MZ566071,OW298784,OV367208,OU568950,OU428707,OM118227,OV202329,OV613926,OU614304,OV216559,OU739286,OV662232,OV061129,OU568870,OV887313,OU944648,OV350272,OV218276,OV217943,OV396558,OL317885,OU727763,OU606152,OV844538,OU578947,OV480298,OV246208,OU985496,OU569845,OV412706,OU663521,OV670682,OU732194,OU607866,OV824623,OU841141,OU573732,OV118006,OU472190,OU698593,OV107347,OV425371,OV611378,OV142275,OU590266,MZ716082,OV888189,OL941181,OU978502,OV479979,OV161331,OU735202,OV201114,OU531737,OV359090,OV526722,OV113349,OV590500,OU383808,OU736686,OK189745,OV180080,OV192252,OU580048,OV202964,OV011670,OU622505,OV104452,OU702231 --protocol=FTP --asperaLocation=null\n",
      "\n",
      "             #. ///////////////////       @@@@@@@      @@@@@@@@   @@@@    @@@    @@@@   @@@@@@@@@             @@@    @@@@@@@@\n",
      "        ###. #. /.   /////////////      @@@@  @@@@    @@@   @@@   @@@@   @@@    @@@@   @@@@  @@@@           @@@@   @@@   @@@@\n",
      "    #### #####.     /    /////////     @@@@          @@@    @@@   @@@@  @@@    @@@@   @@@@   @@@@          @@@@  @@@@   @@@@\n",
      "  ##  ########.        //  //////      @@@@         @@@@   @@@@   @@@@ @@@    @@@@   @@@@   @@@@   @@@@@  @@@@  @@@@@@@@@@@\n",
      " #############.             /////      @@@@   @@@   @@@    @@@    @@@@@@@    @@@@   @@@@   @@@@          @@@@         @@@\n",
      "(#############.             ////       @@@@ @@@@    @@@   @@@     @@@@@@    @@@@   @@@@@@@@@@           @@@@   @@@@  @@@\n",
      "(#############.          .  ////        @@@@@@@     @@@@@@@@      @@@@@    @@@@   @@@@@@@@@            @@@@    @@@@@@@@\n",
      " #############.             ///                                                                                              \n",
      "  ##  ########.        //  ////        ######    ##  #####  ##      #####   ####  #####  #####  ##    #\n",
      "    #### #####.     /    /////,        #    #   ###   ##   # #      #   #  #   #  #   #   #    # #   #\n",
      "        ###. #. /.   /////////         #    #  #  #   #   #  #     #####  #   #  ## ##   #    #  #  #\n",
      "             #, //////////////        ######  #   #  ##  #   #    #      ### #  #   #   #    #   # ####\n",
      "\n",
      " (Copyright © EMBL 2021)\n",
      "\n",
      "Welcome to the Covid-19 Data Portal's data downloader utility!\n",
      "----------------------------------------------\n"
     ]
    },
    {
     "name": "stderr",
     "output_type": "stream",
     "text": [
      "Downloading   ? % [    =                                                      ] 3/?MB (0:00:14 / ?) \n"
     ]
    },
    {
     "name": "stdout",
     "output_type": "stream",
     "text": [
      "Download completed to /host/home/user_7321/user_7321_backup/user_7321/docker/ProjectB---Vital/vital/data_collectors/data/covid19_genome//tmp//viral_sequences/sequences/fasta/20240214-2157.fasta.\n",
      "java -jar cdp-file-downloader.jar --domain=VIRAL_SEQUENCES --datatype=SEQUENCES --format=FASTA --location=/host/home/user_7321/user_7321_backup/user_7321/docker/ProjectB---Vital/vital/data_collectors/data/covid19_genome//tmp/ --email=NONE --accessions=OU977230,OV040418,OL923568,OV201895,OV536154,OV180529,OU714192,OV652907,OU661410,OV120261,OV216550,OU516067,OV383457,OV461243,OU837537,OV664348,OV503894,OV230319,OU584929,OV106429,OV376202,OV224762,OW251968,OU983438,OV118855,OV640226,OU736805,OV511375,OV323643,OU838769,OV535981,OV851622,OV420399,OU930730,OU601251,OV477089,OV384456,OV260956,OU984382,OV889088,OV686156,OV918361,OU959214,OV052861,OU980443,OV246174,OV113771,OU632086,OV693662,OV107440,OU429673,OV228184,OV544791,OV690114,OV109554,OV108871,OV543007,OV041719,OV096643,OU848290,OV543056,OU616334,OV329977,OV474107,OW316971,OU734365,OU625061,OV846790,OV200047,OK473145,OV365160,OV422352,OU758456,OL747885,OV110847,OU854421,OV108673,OV313360,OV515267,OV280311,OV132181,OV514316,OU844765,OV224799,OU569281,OU538076,OU905023,OU997539,OV246962,OU993404,OU845086,OU849619,OV687694,OW254323,OU926100,OU601866,OM332040,OV275903,OV273198,OV340395,OU981076,OV527453,OU849190,OV495526,OV370112,OV178766,OW296928,OU933661,OU701789,OV129904,OV386052,OU841287,OV518733,OV685724,OU516483,OL533950,OV543765,OU987166,OU867069,OV265565,OV293003,OV413856,OV326655,OU990942,OU428783,OV921993,OV150786,OU898386 --protocol=FTP --asperaLocation=null\n",
      "\n",
      "             #. ///////////////////       @@@@@@@      @@@@@@@@   @@@@    @@@    @@@@   @@@@@@@@@             @@@    @@@@@@@@\n",
      "        ###. #. /.   /////////////      @@@@  @@@@    @@@   @@@   @@@@   @@@    @@@@   @@@@  @@@@           @@@@   @@@   @@@@\n",
      "    #### #####.     /    /////////     @@@@          @@@    @@@   @@@@  @@@    @@@@   @@@@   @@@@          @@@@  @@@@   @@@@\n",
      "  ##  ########.        //  //////      @@@@         @@@@   @@@@   @@@@ @@@    @@@@   @@@@   @@@@   @@@@@  @@@@  @@@@@@@@@@@\n",
      " #############.             /////      @@@@   @@@   @@@    @@@    @@@@@@@    @@@@   @@@@   @@@@          @@@@         @@@\n",
      "(#############.             ////       @@@@ @@@@    @@@   @@@     @@@@@@    @@@@   @@@@@@@@@@           @@@@   @@@@  @@@\n",
      "(#############.          .  ////        @@@@@@@     @@@@@@@@      @@@@@    @@@@   @@@@@@@@@            @@@@    @@@@@@@@\n",
      " #############.             ///                                                                                              \n",
      "  ##  ########.        //  ////        ######    ##  #####  ##      #####   ####  #####  #####  ##    #\n",
      "    #### #####.     /    /////,        #    #   ###   ##   # #      #   #  #   #  #   #   #    # #   #\n",
      "        ###. #. /.   /////////         #    #  #  #   #   #  #     #####  #   #  ## ##   #    #  #  #\n",
      "             #, //////////////        ######  #   #  ##  #   #    #      ### #  #   #   #    #   # ####\n",
      "\n",
      " (Copyright © EMBL 2021)\n",
      "\n",
      "Welcome to the Covid-19 Data Portal's data downloader utility!\n",
      "----------------------------------------------\n"
     ]
    },
    {
     "name": "stderr",
     "output_type": "stream",
     "text": [
      "Downloading   ? % [                                                        =  ] 3/?MB (0:00:15 / ?) \n"
     ]
    },
    {
     "name": "stdout",
     "output_type": "stream",
     "text": [
      "Download completed to /host/home/user_7321/user_7321_backup/user_7321/docker/ProjectB---Vital/vital/data_collectors/data/covid19_genome//tmp//viral_sequences/sequences/fasta/20240214-2157.fasta.\n",
      "java -jar cdp-file-downloader.jar --domain=VIRAL_SEQUENCES --datatype=SEQUENCES --format=FASTA --location=/host/home/user_7321/user_7321_backup/user_7321/docker/ProjectB---Vital/vital/data_collectors/data/covid19_genome//tmp/ --email=NONE --accessions=OU924099,OU977319,OU548290,OV613718,OV543103,OU678920,OU644870,OV536397,OW306948,OV830875,OU924660,OU923685,OV406141,OV451983,OV246794,OU936374,OV261317,OV498447,OV523130,OL465945,OV485480,OU699408,OV613293,OU924200,OM046845,OU581171,OV854180,OU603911,OU943161,OW110497,OV642220,OU846325,OV849398,OV885719,OK636154,OV426131,OV682524,OV312894,OV110667,OV848123,OU894559,OV246404,OU844978,OV234908,OU834977,OV851674,OU595780,OV695932,OV912751,OV372351,OU595192,OK622545,OV913291,OV631666,OL959414,OW306755,OV684031,OL353743,OV374869,OV848311,OV687647,OV339300,OK590103,OU568574,OV511258,OV104007,OV920215,OV112568,MZ655056,OV667509,OV834092,OV120287,OV655502,OU898048,OV683175,OV463723,OV247613,OV239081,OV689033,OV127864,OV573928,OU589822,OU915314,OU606750,OU982976,OV807361,OU568246,OU628145,OV020349,OW296665,OK571795,OL760072,OV038254,OU730244,OU451391,OU514796,OV545433,OU898986,OV231918,OV208013,OV541414,OU862598,OU590253,OV640417,OL618670,OV200298,OU706392,OV544028,OV247030,OV223627,OK104638,OV849192,OK308662,OU569220,OV133683,OU839426,OU789151,OV632321,MZ554555,OU436753,OV141380,OV214418,OU936754,OV528702,OU428512,OU930111,OV685566,OV375131 --protocol=FTP --asperaLocation=null\n",
      "\n",
      "             #. ///////////////////       @@@@@@@      @@@@@@@@   @@@@    @@@    @@@@   @@@@@@@@@             @@@    @@@@@@@@\n",
      "        ###. #. /.   /////////////      @@@@  @@@@    @@@   @@@   @@@@   @@@    @@@@   @@@@  @@@@           @@@@   @@@   @@@@\n",
      "    #### #####.     /    /////////     @@@@          @@@    @@@   @@@@  @@@    @@@@   @@@@   @@@@          @@@@  @@@@   @@@@\n",
      "  ##  ########.        //  //////      @@@@         @@@@   @@@@   @@@@ @@@    @@@@   @@@@   @@@@   @@@@@  @@@@  @@@@@@@@@@@\n",
      " #############.             /////      @@@@   @@@   @@@    @@@    @@@@@@@    @@@@   @@@@   @@@@          @@@@         @@@\n",
      "(#############.             ////       @@@@ @@@@    @@@   @@@     @@@@@@    @@@@   @@@@@@@@@@           @@@@   @@@@  @@@\n",
      "(#############.          .  ////        @@@@@@@     @@@@@@@@      @@@@@    @@@@   @@@@@@@@@            @@@@    @@@@@@@@\n",
      " #############.             ///                                                                                              \n",
      "  ##  ########.        //  ////        ######    ##  #####  ##      #####   ####  #####  #####  ##    #\n",
      "    #### #####.     /    /////,        #    #   ###   ##   # #      #   #  #   #  #   #   #    # #   #\n",
      "        ###. #. /.   /////////         #    #  #  #   #   #  #     #####  #   #  ## ##   #    #  #  #\n",
      "             #, //////////////        ######  #   #  ##  #   #    #      ### #  #   #   #    #   # ####\n",
      "\n",
      " (Copyright © EMBL 2021)\n",
      "\n",
      "Welcome to the Covid-19 Data Portal's data downloader utility!\n",
      "----------------------------------------------\n"
     ]
    },
    {
     "name": "stderr",
     "output_type": "stream",
     "text": [
      "Downloading   ? % [                                             =             ] 3/?MB (0:00:16 / ?) \n"
     ]
    },
    {
     "name": "stdout",
     "output_type": "stream",
     "text": [
      "Download completed to /host/home/user_7321/user_7321_backup/user_7321/docker/ProjectB---Vital/vital/data_collectors/data/covid19_genome//tmp//viral_sequences/sequences/fasta/20240214-2157.fasta.\n",
      "java -jar cdp-file-downloader.jar --domain=VIRAL_SEQUENCES --datatype=SEQUENCES --format=FASTA --location=/host/home/user_7321/user_7321_backup/user_7321/docker/ProjectB---Vital/vital/data_collectors/data/covid19_genome//tmp/ --email=NONE --accessions=OU967947,OU623972,OU570835,OU618224,OU818107,OU893784,OV657015,OU569322,OV687471,OU480412,OU846617,OV079539,OU451772,OU754383,OV048839,OV421651,OV298464,OV491702,OV170745,OU644900,OV009723,OV165128,OU571781,OV259562,OU621013,OU924029,OU514102,OU707539,OV282646,OU646908,OU341598,OV104836,OV519124,OU517993,OU938521,OU568675,OV432062,OV073986,OU959709,OV114145,OU571701,OU514473,OV473585,OV150309,OV087258,OL809234,OU959881,OU572163,OV688785,OV526427,OM148190,OU517712,OV416208,OU517598,OV356464,OU571656,OW302250,OV332005,OU517435,OU832828,OU733975,OV253119,OV184795,OV655172,OU595276,OV739503,OU517499,OU577358,OV021304,MZ744134,OU574663,OU578105,OV535082,OU571725,OU898794,OU773224,OK254129,OV163794,OK164394,OW109610,OV465101,OK035040,OV494249,OV033593,OV166554,OU843674,OU572327,OU688831,OV165384,MZ940910,OU517516,OV663243,OV302537,OV064737,OV358827,OU686928,MZ769304,OU621337,OU567891,OU896691,OU321416,OV506332,OV298308,OU837824,OU446193,OL413851,OV203863,OU622005,OU446562,OU616477,OV435597,MZ862141,OV064745,OV920743,OU702695,OU649558,OV255326,OV085320,OV218555,OU566711,OU838200,OV621351,OL513374,OU953352,OV237878,OU576488,OU733203,OV270318 --protocol=FTP --asperaLocation=null\n",
      "\n",
      "             #. ///////////////////       @@@@@@@      @@@@@@@@   @@@@    @@@    @@@@   @@@@@@@@@             @@@    @@@@@@@@\n",
      "        ###. #. /.   /////////////      @@@@  @@@@    @@@   @@@   @@@@   @@@    @@@@   @@@@  @@@@           @@@@   @@@   @@@@\n",
      "    #### #####.     /    /////////     @@@@          @@@    @@@   @@@@  @@@    @@@@   @@@@   @@@@          @@@@  @@@@   @@@@\n",
      "  ##  ########.        //  //////      @@@@         @@@@   @@@@   @@@@ @@@    @@@@   @@@@   @@@@   @@@@@  @@@@  @@@@@@@@@@@\n",
      " #############.             /////      @@@@   @@@   @@@    @@@    @@@@@@@    @@@@   @@@@   @@@@          @@@@         @@@\n",
      "(#############.             ////       @@@@ @@@@    @@@   @@@     @@@@@@    @@@@   @@@@@@@@@@           @@@@   @@@@  @@@\n",
      "(#############.          .  ////        @@@@@@@     @@@@@@@@      @@@@@    @@@@   @@@@@@@@@            @@@@    @@@@@@@@\n",
      " #############.             ///                                                                                              \n",
      "  ##  ########.        //  ////        ######    ##  #####  ##      #####   ####  #####  #####  ##    #\n",
      "    #### #####.     /    /////,        #    #   ###   ##   # #      #   #  #   #  #   #   #    # #   #\n",
      "        ###. #. /.   /////////         #    #  #  #   #   #  #     #####  #   #  ## ##   #    #  #  #\n",
      "             #, //////////////        ######  #   #  ##  #   #    #      ### #  #   #   #    #   # ####\n",
      "\n",
      " (Copyright © EMBL 2021)\n",
      "\n",
      "Welcome to the Covid-19 Data Portal's data downloader utility!\n",
      "----------------------------------------------\n"
     ]
    },
    {
     "name": "stderr",
     "output_type": "stream",
     "text": [
      "Downloading   ? % [                      =                                    ] 3/?MB (0:00:15 / ?) \n"
     ]
    },
    {
     "name": "stdout",
     "output_type": "stream",
     "text": [
      "Download completed to /host/home/user_7321/user_7321_backup/user_7321/docker/ProjectB---Vital/vital/data_collectors/data/covid19_genome//tmp//viral_sequences/sequences/fasta/20240214-2158.fasta.\n",
      "java -jar cdp-file-downloader.jar --domain=VIRAL_SEQUENCES --datatype=SEQUENCES --format=FASTA --location=/host/home/user_7321/user_7321_backup/user_7321/docker/ProjectB---Vital/vital/data_collectors/data/covid19_genome//tmp/ --email=NONE --accessions=OU574013,OU451908,OU614846,OV038858,OV257924,OU707344,OU617120,OV111843,OK541366,OV263934,OV048656,OV360621,OV204259,OU839641,OV200336,OU934778,MZ683358,OU572744,OU574506,OU699357,OV859801,OV394398,OV030164,OU799141,OK158088,OU839107,OU568676,OV275474,OU689106,OU647524,OU517446,OV201170,OU566205,OV449669,OW308297,OU752319,OU935387,OU568365,OU736772,OU845111,OW099225,OV177558,OU515213,OU569095,OV202184,OV227408,OV691564,OU707467,OL589958,OW252593,OV017367,OU843543,OU578509,OV232060,OU572907,OU698603,OV919259,OV222654,OU451842,OU652047,OV219995,OV451758,OU623200,OU848545,OV580101,OU904786,OU678191,OV148722,OV655545,OV656572,OU621414,OU623186,OV614719,OU570967,OU732622,OV064684,OU936046,OV238172,OV172527,OV169670,OV422486,OV244631,OU571679,OV312909,OV855686,OV514221,OU565455,OV275748,OV024095,OU517531,OU929660,OU926376,OV205997,OU625485,OU576813,OV442578,OV255052,OU572994,OW092051,OV687015,OU573863,OU566787,OU574588,OU930249,OV309001,OU650621,OU733086,OV052439,OV181220,OU820367,OW296568,OV066303,OU983743,OU517439,MZ786125,MZ765318,OU620761,OU707797,OK254120,OV486217,OV370036,OV534997,OU570192,OU622468,OV485491,OU517599,OU928829,OU799937 --protocol=FTP --asperaLocation=null\n",
      "\n",
      "             #. ///////////////////       @@@@@@@      @@@@@@@@   @@@@    @@@    @@@@   @@@@@@@@@             @@@    @@@@@@@@\n",
      "        ###. #. /.   /////////////      @@@@  @@@@    @@@   @@@   @@@@   @@@    @@@@   @@@@  @@@@           @@@@   @@@   @@@@\n",
      "    #### #####.     /    /////////     @@@@          @@@    @@@   @@@@  @@@    @@@@   @@@@   @@@@          @@@@  @@@@   @@@@\n",
      "  ##  ########.        //  //////      @@@@         @@@@   @@@@   @@@@ @@@    @@@@   @@@@   @@@@   @@@@@  @@@@  @@@@@@@@@@@\n",
      " #############.             /////      @@@@   @@@   @@@    @@@    @@@@@@@    @@@@   @@@@   @@@@          @@@@         @@@\n",
      "(#############.             ////       @@@@ @@@@    @@@   @@@     @@@@@@    @@@@   @@@@@@@@@@           @@@@   @@@@  @@@\n",
      "(#############.          .  ////        @@@@@@@     @@@@@@@@      @@@@@    @@@@   @@@@@@@@@            @@@@    @@@@@@@@\n",
      " #############.             ///                                                                                              \n",
      "  ##  ########.        //  ////        ######    ##  #####  ##      #####   ####  #####  #####  ##    #\n",
      "    #### #####.     /    /////,        #    #   ###   ##   # #      #   #  #   #  #   #   #    # #   #\n",
      "        ###. #. /.   /////////         #    #  #  #   #   #  #     #####  #   #  ## ##   #    #  #  #\n",
      "             #, //////////////        ######  #   #  ##  #   #    #      ### #  #   #   #    #   # ####\n",
      "\n",
      " (Copyright © EMBL 2021)\n",
      "\n",
      "Welcome to the Covid-19 Data Portal's data downloader utility!\n",
      "----------------------------------------------\n"
     ]
    },
    {
     "name": "stderr",
     "output_type": "stream",
     "text": [
      "Downloading   ? % [                                    =                      ] 3/?MB (0:00:10 / ?) \n"
     ]
    },
    {
     "name": "stdout",
     "output_type": "stream",
     "text": [
      "Download completed to /host/home/user_7321/user_7321_backup/user_7321/docker/ProjectB---Vital/vital/data_collectors/data/covid19_genome//tmp//viral_sequences/sequences/fasta/20240214-2158.fasta.\n",
      "java -jar cdp-file-downloader.jar --domain=VIRAL_SEQUENCES --datatype=SEQUENCES --format=FASTA --location=/host/home/user_7321/user_7321_backup/user_7321/docker/ProjectB---Vital/vital/data_collectors/data/covid19_genome//tmp/ --email=NONE --accessions=OK254088,OU925129,OU932851,OU628233,OV159354,OU841318,OU614112,OV611152,OU674057,OU954920,OV663649,OU653716,OW249266,OU754111,OV199954,OU492628,OU515283,OU686407,MZ675407,OV858455,OW309207,OU576500,OU936045,OV691797,OV203318,OV219403,OU568721,OV095853,OV504276,MZ940833,OV414988,OV354754,OV294404,OU995708,OV008808,OU927012,OV384485,OV270172,OV669929,OV834216,OU617288,OV075051,OU574390,OU515459,OU837644,OU703291,OV682044,OV211067,OV219836,OU576532,OU986169,OU846246,OU571722,OV307105,OV114878,OV258283,OV027927,OV183343,OU569623,OW107657,OU574472,OU569330,OV270355,OU572597,OU655693,OV525961,OM250135,OU850618,OU702710,OW249979,OV263007,OV376729,OV327816,OV163906,OU854592,OU570257,OV236366,OV291972,OV259696,OU702514,OV269814,OV226849,OW249050,OU568737,OU572621,OV389131,OU450980,OV259008,OV200236,OV266158,OU622377,OU517326,OV391516,OU515871,MZ952874,OV217884,OU721939,OU621677,OV025839,OU945064,OV218325,OU518137,MZ675399,OV234646,OW100578,OU623408,OV685986,OU517181,OV205109,OU721420,OV169013,OV724193,OV857495,OU515289,OU881188,OU925133,OV203040,OU517298,OU959177,OU514443,OV199875,OV038808,OU574777,MZ675413,OV149491,OV106666,OV226704,OV024390 --protocol=FTP --asperaLocation=null\n",
      "\n",
      "             #. ///////////////////       @@@@@@@      @@@@@@@@   @@@@    @@@    @@@@   @@@@@@@@@             @@@    @@@@@@@@\n",
      "        ###. #. /.   /////////////      @@@@  @@@@    @@@   @@@   @@@@   @@@    @@@@   @@@@  @@@@           @@@@   @@@   @@@@\n",
      "    #### #####.     /    /////////     @@@@          @@@    @@@   @@@@  @@@    @@@@   @@@@   @@@@          @@@@  @@@@   @@@@\n",
      "  ##  ########.        //  //////      @@@@         @@@@   @@@@   @@@@ @@@    @@@@   @@@@   @@@@   @@@@@  @@@@  @@@@@@@@@@@\n",
      " #############.             /////      @@@@   @@@   @@@    @@@    @@@@@@@    @@@@   @@@@   @@@@          @@@@         @@@\n",
      "(#############.             ////       @@@@ @@@@    @@@   @@@     @@@@@@    @@@@   @@@@@@@@@@           @@@@   @@@@  @@@\n",
      "(#############.          .  ////        @@@@@@@     @@@@@@@@      @@@@@    @@@@   @@@@@@@@@            @@@@    @@@@@@@@\n",
      " #############.             ///                                                                                              \n",
      "  ##  ########.        //  ////        ######    ##  #####  ##      #####   ####  #####  #####  ##    #\n",
      "    #### #####.     /    /////,        #    #   ###   ##   # #      #   #  #   #  #   #   #    # #   #\n",
      "        ###. #. /.   /////////         #    #  #  #   #   #  #     #####  #   #  ## ##   #    #  #  #\n",
      "             #, //////////////        ######  #   #  ##  #   #    #      ### #  #   #   #    #   # ####\n",
      "\n",
      " (Copyright © EMBL 2021)\n",
      "\n",
      "Welcome to the Covid-19 Data Portal's data downloader utility!\n",
      "----------------------------------------------\n"
     ]
    },
    {
     "name": "stderr",
     "output_type": "stream",
     "text": [
      "Downloading   ? % [ =                                                         ] 3/?MB (0:00:10 / ?) \n"
     ]
    },
    {
     "name": "stdout",
     "output_type": "stream",
     "text": [
      "Download completed to /host/home/user_7321/user_7321_backup/user_7321/docker/ProjectB---Vital/vital/data_collectors/data/covid19_genome//tmp//viral_sequences/sequences/fasta/20240214-2158.fasta.\n",
      "java -jar cdp-file-downloader.jar --domain=VIRAL_SEQUENCES --datatype=SEQUENCES --format=FASTA --location=/host/home/user_7321/user_7321_backup/user_7321/docker/ProjectB---Vital/vital/data_collectors/data/covid19_genome//tmp/ --email=NONE --accessions=OL487799,OU752088,OV707701,OV378030,OV038975,OV302471,OU467526,OU674250,OU517877,OU673680,OU566376,OU861509,OU649680,OU673700,MZ694182,OV348009,OU832481,OV682455,MZ997890,OU621186,OU844424,OU978821,OV105162,OU571712,OU912230,OV921015,OU596078,MZ990078,OV843425,OU840054,OK343711,OV488164,OU568181,OV503093,OW100016,OV354312,OU733990,OU859393,OU574477,OU567372,OU703434,OV805116,OW304346,OL868620,OU895515,OV627019,OW106996,OW106985,OW096837,OU619249,OU614825,OU517619,OU517319,OV377768,OV685340,OU701653,OU645335,OU571779,MZ496765,OV265969,OU926324,OV221056,OU568527,OV349760,OV536060,OU572406,OV082079,OV088712,OV038848,OU515719,OL927420,OU579518,OV649255,OV179688,OV360770,OU515565,OW314236,OU622273,OU899668,OU924649,OU566783,OV352509,OU702969,OU929715,OV505788,OU925132,OU515895,OV669915,OM255518,OU947264,OM149182,OU568331,OV235869,OU568686,OV531319,OV527970,OU595279,OK593118,OU622355,OV223509,OV118043,OU680191,OV313113,OU843636,OV398240,OV237968,OU931520,MZ764790,OU960079,OU567727,OV124010,OU993575,OU721823,MZ862697,OV265973,OM153764,OU645142,OU634345,OK254050,OV015756,OK371024,OU517488,OW313705,OV374605,OV394394,OK662686,OU848742,OU730971 --protocol=FTP --asperaLocation=null\n",
      "\n",
      "             #. ///////////////////       @@@@@@@      @@@@@@@@   @@@@    @@@    @@@@   @@@@@@@@@             @@@    @@@@@@@@\n",
      "        ###. #. /.   /////////////      @@@@  @@@@    @@@   @@@   @@@@   @@@    @@@@   @@@@  @@@@           @@@@   @@@   @@@@\n",
      "    #### #####.     /    /////////     @@@@          @@@    @@@   @@@@  @@@    @@@@   @@@@   @@@@          @@@@  @@@@   @@@@\n",
      "  ##  ########.        //  //////      @@@@         @@@@   @@@@   @@@@ @@@    @@@@   @@@@   @@@@   @@@@@  @@@@  @@@@@@@@@@@\n",
      " #############.             /////      @@@@   @@@   @@@    @@@    @@@@@@@    @@@@   @@@@   @@@@          @@@@         @@@\n",
      "(#############.             ////       @@@@ @@@@    @@@   @@@     @@@@@@    @@@@   @@@@@@@@@@           @@@@   @@@@  @@@\n",
      "(#############.          .  ////        @@@@@@@     @@@@@@@@      @@@@@    @@@@   @@@@@@@@@            @@@@    @@@@@@@@\n",
      " #############.             ///                                                                                              \n",
      "  ##  ########.        //  ////        ######    ##  #####  ##      #####   ####  #####  #####  ##    #\n",
      "    #### #####.     /    /////,        #    #   ###   ##   # #      #   #  #   #  #   #   #    # #   #\n",
      "        ###. #. /.   /////////         #    #  #  #   #   #  #     #####  #   #  ## ##   #    #  #  #\n",
      "             #, //////////////        ######  #   #  ##  #   #    #      ### #  #   #   #    #   # ####\n",
      "\n",
      " (Copyright © EMBL 2021)\n",
      "\n",
      "Welcome to the Covid-19 Data Portal's data downloader utility!\n",
      "----------------------------------------------\n"
     ]
    },
    {
     "name": "stderr",
     "output_type": "stream",
     "text": [
      "Downloading   ? % [                         =                                 ] 3/?MB (0:00:11 / ?) \n"
     ]
    },
    {
     "name": "stdout",
     "output_type": "stream",
     "text": [
      "Download completed to /host/home/user_7321/user_7321_backup/user_7321/docker/ProjectB---Vital/vital/data_collectors/data/covid19_genome//tmp//viral_sequences/sequences/fasta/20240214-2158.fasta.\n",
      "java -jar cdp-file-downloader.jar --domain=VIRAL_SEQUENCES --datatype=SEQUENCES --format=FASTA --location=/host/home/user_7321/user_7321_backup/user_7321/docker/ProjectB---Vital/vital/data_collectors/data/covid19_genome//tmp/ --email=NONE --accessions=OV364632,OV395206,OU714136,OV168176,OV022330,OV686164,OK254078,OV399398,OU702791,OU647631,OU573836,OU896654,OV231490,OV203568,OV218495,OU517404,OU565811,OU620405,OU685706,OK010552,OU845174,OU571714,OV107233,OV377706,OV684641,OU844787,MZ769201,OV148167,OU934117,OV390543,OU595052,OV098189,OU650018,OV403394,OU707462,OU744430,OV527108,OV113175,OU574631,OV002370,OU592429,OU894921,OV465724,OV232972,OU934222,OU927829,OV527311,OU576513,OV244254,OV084599,OV061809,OU622161,OU844620,OU681165,OV421134,OU570252,OU735699,OV161866,OU845555,OU592432,OU517416,OV349317,OU595799,OU566842,OU990498,OV224242,OW098404,OV353615,OU837459,OW308441,OV162382,OV514274,OV294849,OU622749,OV084417,OV308986,ON339290,OU619934,OV179258,OL489270,OU622704,OV681990,OU574476,OV431265,OV183516,OW297101,OU926914,OV040304,OU595405,OV226998,OW308985,OV726272,OV220678,OV659089,OU671895,OV323347,OU733619,OM031076,OL762967,OU702097,OV424025,OU574923,OL983731,OU843606,OV526698,OU451911,OV002479,OV332746,OU629411,OK134430,OV369048,OV520241,OV152902,OU566543,OU574624,OV489835,OV203481,OU623208,OU932111,OU576422,OU650899,OU595248,OU839808,OU871488,OU578078,OV921411,OV002905,OV680150 --protocol=FTP --asperaLocation=null\n",
      "\n",
      "             #. ///////////////////       @@@@@@@      @@@@@@@@   @@@@    @@@    @@@@   @@@@@@@@@             @@@    @@@@@@@@\n",
      "        ###. #. /.   /////////////      @@@@  @@@@    @@@   @@@   @@@@   @@@    @@@@   @@@@  @@@@           @@@@   @@@   @@@@\n",
      "    #### #####.     /    /////////     @@@@          @@@    @@@   @@@@  @@@    @@@@   @@@@   @@@@          @@@@  @@@@   @@@@\n",
      "  ##  ########.        //  //////      @@@@         @@@@   @@@@   @@@@ @@@    @@@@   @@@@   @@@@   @@@@@  @@@@  @@@@@@@@@@@\n",
      " #############.             /////      @@@@   @@@   @@@    @@@    @@@@@@@    @@@@   @@@@   @@@@          @@@@         @@@\n",
      "(#############.             ////       @@@@ @@@@    @@@   @@@     @@@@@@    @@@@   @@@@@@@@@@           @@@@   @@@@  @@@\n",
      "(#############.          .  ////        @@@@@@@     @@@@@@@@      @@@@@    @@@@   @@@@@@@@@            @@@@    @@@@@@@@\n",
      " #############.             ///                                                                                              \n",
      "  ##  ########.        //  ////        ######    ##  #####  ##      #####   ####  #####  #####  ##    #\n",
      "    #### #####.     /    /////,        #    #   ###   ##   # #      #   #  #   #  #   #   #    # #   #\n",
      "        ###. #. /.   /////////         #    #  #  #   #   #  #     #####  #   #  ## ##   #    #  #  #\n",
      "             #, //////////////        ######  #   #  ##  #   #    #      ### #  #   #   #    #   # ####\n",
      "\n",
      " (Copyright © EMBL 2021)\n",
      "\n",
      "Welcome to the Covid-19 Data Portal's data downloader utility!\n",
      "----------------------------------------------\n"
     ]
    },
    {
     "name": "stderr",
     "output_type": "stream",
     "text": [
      "Downloading   ? % [              =                                            ] 3/?MB (0:00:09 / ?) \n"
     ]
    },
    {
     "name": "stdout",
     "output_type": "stream",
     "text": [
      "Download completed to /host/home/user_7321/user_7321_backup/user_7321/docker/ProjectB---Vital/vital/data_collectors/data/covid19_genome//tmp//viral_sequences/sequences/fasta/20240214-2159.fasta.\n",
      "java -jar cdp-file-downloader.jar --domain=VIRAL_SEQUENCES --datatype=SEQUENCES --format=FASTA --location=/host/home/user_7321/user_7321_backup/user_7321/docker/ProjectB---Vital/vital/data_collectors/data/covid19_genome//tmp/ --email=NONE --accessions=OV156358,OW248690,OU514180,OW308475,OV163099,OU839457,OK529727,OU651917,OW304212,OV168392,OV111822,OU568698,OU607630,OU577471,OU703177,OV104890,OV219861,OU595400,OV050351,OU702237,OU578768,OV068386,OV493346,OU687904,OU579210,OW311650,OU572371,OU847114,OU574965,OV131316,OV487819,OV210440,MZ707621,OU568418,OV340188,OV175170,OU786600,OV247716,OU845788,OV110602,OV232191,OU516054,OV480180,OV135618,OU515115,OV175441,OU573595,OV154043,OU649391,OK254049,OU781376,OV451452,OU753891,OV183966,OV527773,OU389469,OU514085,OU595321,OU621323,OV554335,OV496574,OU570754,OU515447,OU734586,OU569860,OV489362,OU571749,OU576424,OV469001,OV209312,OU572614,OV475811,OU646313,OU843641,OU948570,OV238797,OU965109,OV295567,OV681652,OM031099,OU843615,OU620593,OV001189,OU515321,OU902818,OU576561,OU348241,OV262418,OU954631,OV107234,OV831489,OU842853,OU457263,OV117263,OV920057,OV442288,OV420970,OU952709,OV283430,OV508785,OV301012,OV119644,OU928161,OV005316,OV297070,OK336266,OU773905,OU744923,OU617268,OU575086,OU983794,OV530664,OU574619,OU544771,OU751842,OV106052,OU926880,OU837641,OU674626,OV217350,OU721851,OU570034,OU575076,OU566336,OV136473,OV453338,OV472611,OU673738 --protocol=FTP --asperaLocation=null\n",
      "\n",
      "             #. ///////////////////       @@@@@@@      @@@@@@@@   @@@@    @@@    @@@@   @@@@@@@@@             @@@    @@@@@@@@\n",
      "        ###. #. /.   /////////////      @@@@  @@@@    @@@   @@@   @@@@   @@@    @@@@   @@@@  @@@@           @@@@   @@@   @@@@\n",
      "    #### #####.     /    /////////     @@@@          @@@    @@@   @@@@  @@@    @@@@   @@@@   @@@@          @@@@  @@@@   @@@@\n",
      "  ##  ########.        //  //////      @@@@         @@@@   @@@@   @@@@ @@@    @@@@   @@@@   @@@@   @@@@@  @@@@  @@@@@@@@@@@\n",
      " #############.             /////      @@@@   @@@   @@@    @@@    @@@@@@@    @@@@   @@@@   @@@@          @@@@         @@@\n",
      "(#############.             ////       @@@@ @@@@    @@@   @@@     @@@@@@    @@@@   @@@@@@@@@@           @@@@   @@@@  @@@\n",
      "(#############.          .  ////        @@@@@@@     @@@@@@@@      @@@@@    @@@@   @@@@@@@@@            @@@@    @@@@@@@@\n",
      " #############.             ///                                                                                              \n",
      "  ##  ########.        //  ////        ######    ##  #####  ##      #####   ####  #####  #####  ##    #\n",
      "    #### #####.     /    /////,        #    #   ###   ##   # #      #   #  #   #  #   #   #    # #   #\n",
      "        ###. #. /.   /////////         #    #  #  #   #   #  #     #####  #   #  ## ##   #    #  #  #\n",
      "             #, //////////////        ######  #   #  ##  #   #    #      ### #  #   #   #    #   # ####\n",
      "\n",
      " (Copyright © EMBL 2021)\n",
      "\n",
      "Welcome to the Covid-19 Data Portal's data downloader utility!\n",
      "----------------------------------------------\n"
     ]
    },
    {
     "name": "stderr",
     "output_type": "stream",
     "text": [
      "Downloading   ? % [                            =                              ] 3/?MB (0:00:11 / ?) \n"
     ]
    },
    {
     "name": "stdout",
     "output_type": "stream",
     "text": [
      "Download completed to /host/home/user_7321/user_7321_backup/user_7321/docker/ProjectB---Vital/vital/data_collectors/data/covid19_genome//tmp//viral_sequences/sequences/fasta/20240214-2159.fasta.\n",
      "java -jar cdp-file-downloader.jar --domain=VIRAL_SEQUENCES --datatype=SEQUENCES --format=FASTA --location=/host/home/user_7321/user_7321_backup/user_7321/docker/ProjectB---Vital/vital/data_collectors/data/covid19_genome//tmp/ --email=NONE --accessions=OU643934,OV531419,OV620010,OU566789,MZ784991,OU572901,OV301537,OU842390,OV360630,OU592495,OU899629,OV572187,OU574328,OV523987,OU516497,OU936021,OU575077,OU517615,OV616643,OU997291,OU928930,OU566416,OV105165,OV270209,OW304380,OV148442,OU592426,OV118384,OU573314,OU568739,OU702239,OU862471,OU703182,OV218243,OU623800,OV490901,OV461038,OU770667,OK655568,OV465786,OV249089,OV028513,OV678880,OV490139,OV485455,OU847316,OV531382,OU931018,OU862395,OV236950,OU595393,OV061476,OU843389,OV858800,OU647727,OM031068,OU595018,MZ540783,OU514988,OV382182,OV669913,OU576203,OV527427,OW325707,OV528670,OV530094,OV484925,OU703178,OU839732,OV685989,OU643821,OU842104,OL327725,OV231005,OU506168,OU566013,OV228851,OV488518,OM031091,OV364926,OV492423,OV503878,OU910589,OU574621,OU687927,OV533949,OU900579,MZ887664,OV239950,OV252222,OV298984,OU927414,OV706292,OU595036,OV687648,OV517648,OU937455,OV206639,OV391507,OV526688,OK336343,OW097153,OV528983,OV686636,OU702566,OV079347,OU650406,OU618904,OV096166,OU673840,OU703289,OV081174,OU622897,OV585259,OV432196,OV117861,OW304645,OU517443,OV920501,OU579534,OK371127,OV478843,OV516013,OV202641,OU568723,OV283964,OU949559,OU565464 --protocol=FTP --asperaLocation=null\n",
      "\n",
      "             #. ///////////////////       @@@@@@@      @@@@@@@@   @@@@    @@@    @@@@   @@@@@@@@@             @@@    @@@@@@@@\n",
      "        ###. #. /.   /////////////      @@@@  @@@@    @@@   @@@   @@@@   @@@    @@@@   @@@@  @@@@           @@@@   @@@   @@@@\n",
      "    #### #####.     /    /////////     @@@@          @@@    @@@   @@@@  @@@    @@@@   @@@@   @@@@          @@@@  @@@@   @@@@\n",
      "  ##  ########.        //  //////      @@@@         @@@@   @@@@   @@@@ @@@    @@@@   @@@@   @@@@   @@@@@  @@@@  @@@@@@@@@@@\n",
      " #############.             /////      @@@@   @@@   @@@    @@@    @@@@@@@    @@@@   @@@@   @@@@          @@@@         @@@\n",
      "(#############.             ////       @@@@ @@@@    @@@   @@@     @@@@@@    @@@@   @@@@@@@@@@           @@@@   @@@@  @@@\n",
      "(#############.          .  ////        @@@@@@@     @@@@@@@@      @@@@@    @@@@   @@@@@@@@@            @@@@    @@@@@@@@\n",
      " #############.             ///                                                                                              \n",
      "  ##  ########.        //  ////        ######    ##  #####  ##      #####   ####  #####  #####  ##    #\n",
      "    #### #####.     /    /////,        #    #   ###   ##   # #      #   #  #   #  #   #   #    # #   #\n",
      "        ###. #. /.   /////////         #    #  #  #   #   #  #     #####  #   #  ## ##   #    #  #  #\n",
      "             #, //////////////        ######  #   #  ##  #   #    #      ### #  #   #   #    #   # ####\n",
      "\n",
      " (Copyright © EMBL 2021)\n",
      "\n",
      "Welcome to the Covid-19 Data Portal's data downloader utility!\n",
      "----------------------------------------------\n"
     ]
    },
    {
     "name": "stderr",
     "output_type": "stream",
     "text": [
      "Downloading   ? % [              =                                            ] 3/?MB (0:00:09 / ?) \n"
     ]
    },
    {
     "name": "stdout",
     "output_type": "stream",
     "text": [
      "Download completed to /host/home/user_7321/user_7321_backup/user_7321/docker/ProjectB---Vital/vital/data_collectors/data/covid19_genome//tmp//viral_sequences/sequences/fasta/20240214-2159.fasta.\n",
      "java -jar cdp-file-downloader.jar --domain=VIRAL_SEQUENCES --datatype=SEQUENCES --format=FASTA --location=/host/home/user_7321/user_7321_backup/user_7321/docker/ProjectB---Vital/vital/data_collectors/data/covid19_genome//tmp/ --email=NONE --accessions=OU755403,OK137780,OU838056,OU592615,OV237807,OV237567,OU703168,OV021479,OU707385,OV184180,OU451861,OU596080,OV284553,OV225639,OU934858,OV525638,OK336222,OU837999,OV529360,OU452068,OK186190,OV254780,OU673988,OU574758,OV104766,OU837615,OK336231,OU620956,OU707837,OW108715,OU845408,OU515592,OL769780,OU954393,OV309321,OU678405,OV064363,OV683253,OU619015,OU963357,OV196984,OV530369,OV344673,OU665040,OV067888,OV163675,OU702797,OU634447,OV034208,OU568683,OV115550,OU570806,OU595710,OV312867,OL595116,OV202717,OU595395,OU571381,OU515450,OU647291,OU654611,OU937909,OV683997,OU662459,OV855583,OU596082,OU840812,OV221540,OU987384,OV267121,OU569035,OV400856,OU928313,OU744601,OV671837,OU673762,OV006009,OU592126,OU924542,OL866588,OU571743,OU617140,OU837551,OV425215,OK607679,OV675967,OU622057,OV689380,OV483680,OK610287,OU297460,OV109494,OV282060,OV276231,OV442413,OU926501,OU732211,OV225589,OU517420,OV184793,OV527307,OV706277,OV317292,OU687128,OV153775,OU622343,OV505817,OV606501,OK327943,OV551255,OU517693,OU516093,OU576768,OV305212,OV269325,OU620017,OV218127,OV104779,OV407377,OU463955,OU703488,OU937041,OU566206,OU451925,OV322846,OV438352,OV025276,OV283942 --protocol=FTP --asperaLocation=null\n",
      "\n",
      "             #. ///////////////////       @@@@@@@      @@@@@@@@   @@@@    @@@    @@@@   @@@@@@@@@             @@@    @@@@@@@@\n",
      "        ###. #. /.   /////////////      @@@@  @@@@    @@@   @@@   @@@@   @@@    @@@@   @@@@  @@@@           @@@@   @@@   @@@@\n",
      "    #### #####.     /    /////////     @@@@          @@@    @@@   @@@@  @@@    @@@@   @@@@   @@@@          @@@@  @@@@   @@@@\n",
      "  ##  ########.        //  //////      @@@@         @@@@   @@@@   @@@@ @@@    @@@@   @@@@   @@@@   @@@@@  @@@@  @@@@@@@@@@@\n",
      " #############.             /////      @@@@   @@@   @@@    @@@    @@@@@@@    @@@@   @@@@   @@@@          @@@@         @@@\n",
      "(#############.             ////       @@@@ @@@@    @@@   @@@     @@@@@@    @@@@   @@@@@@@@@@           @@@@   @@@@  @@@\n",
      "(#############.          .  ////        @@@@@@@     @@@@@@@@      @@@@@    @@@@   @@@@@@@@@            @@@@    @@@@@@@@\n",
      " #############.             ///                                                                                              \n",
      "  ##  ########.        //  ////        ######    ##  #####  ##      #####   ####  #####  #####  ##    #\n",
      "    #### #####.     /    /////,        #    #   ###   ##   # #      #   #  #   #  #   #   #    # #   #\n",
      "        ###. #. /.   /////////         #    #  #  #   #   #  #     #####  #   #  ## ##   #    #  #  #\n",
      "             #, //////////////        ######  #   #  ##  #   #    #      ### #  #   #   #    #   # ####\n",
      "\n",
      " (Copyright © EMBL 2021)\n",
      "\n",
      "Welcome to the Covid-19 Data Portal's data downloader utility!\n",
      "----------------------------------------------\n"
     ]
    },
    {
     "name": "stderr",
     "output_type": "stream",
     "text": [
      "Downloading   ? % [                              =                            ] 3/?MB (0:00:10 / ?) \n"
     ]
    },
    {
     "name": "stdout",
     "output_type": "stream",
     "text": [
      "Download completed to /host/home/user_7321/user_7321_backup/user_7321/docker/ProjectB---Vital/vital/data_collectors/data/covid19_genome//tmp//viral_sequences/sequences/fasta/20240214-2159.fasta.\n",
      "java -jar cdp-file-downloader.jar --domain=VIRAL_SEQUENCES --datatype=SEQUENCES --format=FASTA --location=/host/home/user_7321/user_7321_backup/user_7321/docker/ProjectB---Vital/vital/data_collectors/data/covid19_genome//tmp/ --email=NONE --accessions=OV409261,OU647610,OK176902,OV321318,OU934118,MZ801441,OL363494,OV888395,OU622663,OU568018,OU642950,OK089579,OL867537,OV854838,OL321691,OV351879,OU938330,OV216534,OV829147,OV380445,OV689067,OU569695,OU566803,OV887413,OW314447,OK308835,OM060988,OL367410,OV203362,OU923825,OU934956,OV889310,OU516652,OU929103,OU576230,OW325473,OU932152,OV671223,OK556710,OU530737,OU753969,OV590408,OU988195,OU735774,OU451934,OV336657,OU927631,OV856765,OV888919,OV363882,OK019558,OV330823,OK602214,OK104276,OW248961,OV009756,OV851917,OU734777,OU964907,OW312766,OV258659,OU838206,OV328753,OU936860,OU938057,OK129893,OV417244,OV323830,OV205293,OU564835,OV376716,OW246623,OK520958,OW313597,OV442796,OL575796,OV116724,OV193791,OV209008,OV352596,OU615915,OV859174,OU451962,OU706125,OU936300,OW325066,OV400558,OV885637,OV374204,OK446419,OV828647,OV525470,OV374274,OV531447,OU565948,OM274222,OL784911,OU687634,OV327904,OV113782,OK099992,OK556713,OV377992,OL608175,OM104912,OV348837,OU398713,OV258359,OV259864,OV413500,OV371964,OU567713,OV369685,OV261623,OV408730,OK152676,OU848343,OW325849,OU736218,OV829829,OU928049,MZ763452,OV468530,OV369666,OU936050,OV827744,OV422784,OV351006 --protocol=FTP --asperaLocation=null\n",
      "\n",
      "             #. ///////////////////       @@@@@@@      @@@@@@@@   @@@@    @@@    @@@@   @@@@@@@@@             @@@    @@@@@@@@\n",
      "        ###. #. /.   /////////////      @@@@  @@@@    @@@   @@@   @@@@   @@@    @@@@   @@@@  @@@@           @@@@   @@@   @@@@\n",
      "    #### #####.     /    /////////     @@@@          @@@    @@@   @@@@  @@@    @@@@   @@@@   @@@@          @@@@  @@@@   @@@@\n",
      "  ##  ########.        //  //////      @@@@         @@@@   @@@@   @@@@ @@@    @@@@   @@@@   @@@@   @@@@@  @@@@  @@@@@@@@@@@\n",
      " #############.             /////      @@@@   @@@   @@@    @@@    @@@@@@@    @@@@   @@@@   @@@@          @@@@         @@@\n",
      "(#############.             ////       @@@@ @@@@    @@@   @@@     @@@@@@    @@@@   @@@@@@@@@@           @@@@   @@@@  @@@\n",
      "(#############.          .  ////        @@@@@@@     @@@@@@@@      @@@@@    @@@@   @@@@@@@@@            @@@@    @@@@@@@@\n",
      " #############.             ///                                                                                              \n",
      "  ##  ########.        //  ////        ######    ##  #####  ##      #####   ####  #####  #####  ##    #\n",
      "    #### #####.     /    /////,        #    #   ###   ##   # #      #   #  #   #  #   #   #    # #   #\n",
      "        ###. #. /.   /////////         #    #  #  #   #   #  #     #####  #   #  ## ##   #    #  #  #\n",
      "             #, //////////////        ######  #   #  ##  #   #    #      ### #  #   #   #    #   # ####\n",
      "\n",
      " (Copyright © EMBL 2021)\n",
      "\n",
      "Welcome to the Covid-19 Data Portal's data downloader utility!\n",
      "----------------------------------------------\n"
     ]
    },
    {
     "name": "stderr",
     "output_type": "stream",
     "text": [
      "Downloading   ? % [             =                                             ] 3/?MB (0:00:11 / ?) \n"
     ]
    },
    {
     "name": "stdout",
     "output_type": "stream",
     "text": [
      "Download completed to /host/home/user_7321/user_7321_backup/user_7321/docker/ProjectB---Vital/vital/data_collectors/data/covid19_genome//tmp//viral_sequences/sequences/fasta/20240214-2200.fasta.\n",
      "java -jar cdp-file-downloader.jar --domain=VIRAL_SEQUENCES --datatype=SEQUENCES --format=FASTA --location=/host/home/user_7321/user_7321_backup/user_7321/docker/ProjectB---Vital/vital/data_collectors/data/covid19_genome//tmp/ --email=NONE --accessions=OV403168,OV319916,OU934392,OV847834,OV521613,OW297491,OV409448,OV350073,OV296005,OL398976,OU964332,OV119263,OV352730,OV264842,OV040417,OU932592,OU847174,OV331736,OU565778,OW325843,OU515453,OU571547,OU517473,OV364254,OV349215,MZ839353,OL858021,OV352320,OU929599,OV015939,OV120921,OV354628,OU569903,OU934377,OV642902,OL513252,OV206429,OV053132,OU517178,OV387343,OU649956,OU964229,OV344535,OK353301,OU929897,OV483872,OU702060,OW325897,OV670632,OK172494,OM636186,OL930069,OV844916,OV884523,OV370816,OK445155,OV327794,OV843644,OV116978,OK635608,OV367177,OV383132,OV663699,OV207575,OU998912,OL336650,OV844676,OV855409,OL373756,OV349461,OK105912,OU927929,OV680554,OL711515,OK116709,OV482122,OU934330,OU966694,OV300897,OU734000,OU924244,OK274753,OW327063,OV240864,OU701998,OK090196,OV387726,OV350349,OU621292,OV377470,OK522262,OV521118,OL728934,OW314215,OU935301,OV019085,OM368102,OL858503,OL511844,OU931473,OW301033,OU622514,OW326789,MZ988007,OU932917,OV351547,OU929777,OV242630,OU592785,OU966923,OU933195,OL478858,OV372341,OV114568,OK519902,OU451237,OV859807,OV826218,OV363491,OV227089,ON338247,OK408195,OU614640,OU569590,OV118720,OV412638,OV524080,OV208981 --protocol=FTP --asperaLocation=null\n",
      "\n",
      "             #. ///////////////////       @@@@@@@      @@@@@@@@   @@@@    @@@    @@@@   @@@@@@@@@             @@@    @@@@@@@@\n",
      "        ###. #. /.   /////////////      @@@@  @@@@    @@@   @@@   @@@@   @@@    @@@@   @@@@  @@@@           @@@@   @@@   @@@@\n",
      "    #### #####.     /    /////////     @@@@          @@@    @@@   @@@@  @@@    @@@@   @@@@   @@@@          @@@@  @@@@   @@@@\n",
      "  ##  ########.        //  //////      @@@@         @@@@   @@@@   @@@@ @@@    @@@@   @@@@   @@@@   @@@@@  @@@@  @@@@@@@@@@@\n",
      " #############.             /////      @@@@   @@@   @@@    @@@    @@@@@@@    @@@@   @@@@   @@@@          @@@@         @@@\n",
      "(#############.             ////       @@@@ @@@@    @@@   @@@     @@@@@@    @@@@   @@@@@@@@@@           @@@@   @@@@  @@@\n",
      "(#############.          .  ////        @@@@@@@     @@@@@@@@      @@@@@    @@@@   @@@@@@@@@            @@@@    @@@@@@@@\n",
      " #############.             ///                                                                                              \n",
      "  ##  ########.        //  ////        ######    ##  #####  ##      #####   ####  #####  #####  ##    #\n",
      "    #### #####.     /    /////,        #    #   ###   ##   # #      #   #  #   #  #   #   #    # #   #\n",
      "        ###. #. /.   /////////         #    #  #  #   #   #  #     #####  #   #  ## ##   #    #  #  #\n",
      "             #, //////////////        ######  #   #  ##  #   #    #      ### #  #   #   #    #   # ####\n",
      "\n",
      " (Copyright © EMBL 2021)\n",
      "\n",
      "Welcome to the Covid-19 Data Portal's data downloader utility!\n",
      "----------------------------------------------\n"
     ]
    },
    {
     "name": "stderr",
     "output_type": "stream",
     "text": [
      "Downloading   ? % [                =                                          ] 3/?MB (0:00:11 / ?) \n"
     ]
    },
    {
     "name": "stdout",
     "output_type": "stream",
     "text": [
      "Download completed to /host/home/user_7321/user_7321_backup/user_7321/docker/ProjectB---Vital/vital/data_collectors/data/covid19_genome//tmp//viral_sequences/sequences/fasta/20240214-2200.fasta.\n",
      "java -jar cdp-file-downloader.jar --domain=VIRAL_SEQUENCES --datatype=SEQUENCES --format=FASTA --location=/host/home/user_7321/user_7321_backup/user_7321/docker/ProjectB---Vital/vital/data_collectors/data/covid19_genome//tmp/ --email=NONE --accessions=OV847828,OM035516,OV358448,OV333259,OV857898,OV178625,OV675397,OV347912,OU924927,OV136484,OK141911,OK421261,OV579862,OV831238,OU623715,OV207769,OU592285,OL935200,OL876352,OV327285,OU975307,OV357511,OV412583,OM333801,OU737654,OK617484,OV374672,OV922209,OV012653,OV829413,OU753869,OV105716,OU650293,OU735028,OV311026,OV328468,OV409713,OW324658,OU849513,OK060215,OV333278,OV010646,OU651296,OK610324,OU514476,OV827700,OU645543,OU977333,OW305704,OV381771,OV117978,OV322594,OV333394,OL731648,OU608419,OV855763,OL324476,OV266252,OV104354,OV254406,OU966874,OV850648,OV250028,OV829862,OV211009,OK427619,OL637905,OL823300,OV670412,OU751314,OK200451,OV266875,OV375748,OL391067,OV206059,OV336772,OL936628,OM130645,OV362040,OU930238,OK130802,OU516617,OV522357,OU514608,OL936714,OV261098,OK352942,OU837767,OV349104,OV374623,OK556814,OU293768,OV301610,OV344683,OL304797,OV361376,OV259126,OL454099,OV393869,OV847050,OU567126,OU976799,OV735996,OV215321,OV557303,OV178985,OV151294,OV359728,OV302877,OL845699,OU924387,OV830263,OL774090,OV266962,OV137003,OU398736,OU566625,OV231870,OV360331,OV261329,OV265839,OV395081,OK556874,OV853122,OU567051,OU575257,OU928089,OK441972 --protocol=FTP --asperaLocation=null\n",
      "\n",
      "             #. ///////////////////       @@@@@@@      @@@@@@@@   @@@@    @@@    @@@@   @@@@@@@@@             @@@    @@@@@@@@\n",
      "        ###. #. /.   /////////////      @@@@  @@@@    @@@   @@@   @@@@   @@@    @@@@   @@@@  @@@@           @@@@   @@@   @@@@\n",
      "    #### #####.     /    /////////     @@@@          @@@    @@@   @@@@  @@@    @@@@   @@@@   @@@@          @@@@  @@@@   @@@@\n",
      "  ##  ########.        //  //////      @@@@         @@@@   @@@@   @@@@ @@@    @@@@   @@@@   @@@@   @@@@@  @@@@  @@@@@@@@@@@\n",
      " #############.             /////      @@@@   @@@   @@@    @@@    @@@@@@@    @@@@   @@@@   @@@@          @@@@         @@@\n",
      "(#############.             ////       @@@@ @@@@    @@@   @@@     @@@@@@    @@@@   @@@@@@@@@@           @@@@   @@@@  @@@\n",
      "(#############.          .  ////        @@@@@@@     @@@@@@@@      @@@@@    @@@@   @@@@@@@@@            @@@@    @@@@@@@@\n",
      " #############.             ///                                                                                              \n",
      "  ##  ########.        //  ////        ######    ##  #####  ##      #####   ####  #####  #####  ##    #\n",
      "    #### #####.     /    /////,        #    #   ###   ##   # #      #   #  #   #  #   #   #    # #   #\n",
      "        ###. #. /.   /////////         #    #  #  #   #   #  #     #####  #   #  ## ##   #    #  #  #\n",
      "             #, //////////////        ######  #   #  ##  #   #    #      ### #  #   #   #    #   # ####\n",
      "\n",
      " (Copyright © EMBL 2021)\n",
      "\n",
      "Welcome to the Covid-19 Data Portal's data downloader utility!\n",
      "----------------------------------------------\n"
     ]
    },
    {
     "name": "stderr",
     "output_type": "stream",
     "text": [
      "Downloading   ? % [          =                                                ] 3/?MB (0:00:13 / ?) \n"
     ]
    },
    {
     "name": "stdout",
     "output_type": "stream",
     "text": [
      "Download completed to /host/home/user_7321/user_7321_backup/user_7321/docker/ProjectB---Vital/vital/data_collectors/data/covid19_genome//tmp//viral_sequences/sequences/fasta/20240214-2200.fasta.\n",
      "java -jar cdp-file-downloader.jar --domain=VIRAL_SEQUENCES --datatype=SEQUENCES --format=FASTA --location=/host/home/user_7321/user_7321_backup/user_7321/docker/ProjectB---Vital/vital/data_collectors/data/covid19_genome//tmp/ --email=NONE --accessions=OU702347,OV849399,OU361722,OL503941,OK382470,OM005785,OU567532,OU937316,OL523378,OL464175,OV887050,OU514182,OU451876,OU933150,OV639972,OL748348,OV663684,OM250255,OV370710,OU614509,OV370325,OV353988,OW301236,OV108685,OV829778,MZ837314,OV265642,OL487574,OU428356,OU517509,OV662831,OK278512,OU937325,OU451803,OU966899,OK304029,OV571139,OV260230,MZ650672,OM368103,OL851936,OU929521,OV684702,OK446926,OU934469,OV389457,OV300203,OV378681,OV888145,OK152946,OK176273,OU620748,OV457967,OV345897,OV325839,OV532046,OU903240,OV451213,OV010962,OU451924,MZ592106,OM139203,OU451663,OV850814,OK067252,OU975137,OV017957,OV847438,OV615319,OV362495,OV201375,OK611707,OV258693,OV116977,OV407843,OV857424,OV354558,OV261651,OV396860,OL719094,OU642830,OV422395,OV612842,OV209710,OV399502,OV394228,OL719198,OV509711,OV351424,OV114454,OV350710,OU568236,OV295329,OK367576,OV357980,OV484771,OL309839,OU929088,OV656600,OV247683,OU453838,OU928585,OV387670,OV372428,OV107702,OK308301,OV465886,OU735697,OV851944,OV389661,OL987562,OV665073,OV261924,OV268105,OV261058,OK467940,OW325075,OL489535,OV377133,OK407425,OV415855,OU965168,OV007179,OU361706,OU927525,OK053125,OV346070,OU927376 --protocol=FTP --asperaLocation=null\n",
      "\n",
      "             #. ///////////////////       @@@@@@@      @@@@@@@@   @@@@    @@@    @@@@   @@@@@@@@@             @@@    @@@@@@@@\n",
      "        ###. #. /.   /////////////      @@@@  @@@@    @@@   @@@   @@@@   @@@    @@@@   @@@@  @@@@           @@@@   @@@   @@@@\n",
      "    #### #####.     /    /////////     @@@@          @@@    @@@   @@@@  @@@    @@@@   @@@@   @@@@          @@@@  @@@@   @@@@\n",
      "  ##  ########.        //  //////      @@@@         @@@@   @@@@   @@@@ @@@    @@@@   @@@@   @@@@   @@@@@  @@@@  @@@@@@@@@@@\n",
      " #############.             /////      @@@@   @@@   @@@    @@@    @@@@@@@    @@@@   @@@@   @@@@          @@@@         @@@\n",
      "(#############.             ////       @@@@ @@@@    @@@   @@@     @@@@@@    @@@@   @@@@@@@@@@           @@@@   @@@@  @@@\n",
      "(#############.          .  ////        @@@@@@@     @@@@@@@@      @@@@@    @@@@   @@@@@@@@@            @@@@    @@@@@@@@\n",
      " #############.             ///                                                                                              \n",
      "  ##  ########.        //  ////        ######    ##  #####  ##      #####   ####  #####  #####  ##    #\n",
      "    #### #####.     /    /////,        #    #   ###   ##   # #      #   #  #   #  #   #   #    # #   #\n",
      "        ###. #. /.   /////////         #    #  #  #   #   #  #     #####  #   #  ## ##   #    #  #  #\n",
      "             #, //////////////        ######  #   #  ##  #   #    #      ### #  #   #   #    #   # ####\n",
      "\n",
      " (Copyright © EMBL 2021)\n",
      "\n",
      "Welcome to the Covid-19 Data Portal's data downloader utility!\n",
      "----------------------------------------------\n"
     ]
    },
    {
     "name": "stderr",
     "output_type": "stream",
     "text": [
      "Downloading   ? % [                                              =            ] 3/?MB (0:00:11 / ?) \n"
     ]
    },
    {
     "name": "stdout",
     "output_type": "stream",
     "text": [
      "Download completed to /host/home/user_7321/user_7321_backup/user_7321/docker/ProjectB---Vital/vital/data_collectors/data/covid19_genome//tmp//viral_sequences/sequences/fasta/20240214-2200.fasta.\n",
      "java -jar cdp-file-downloader.jar --domain=VIRAL_SEQUENCES --datatype=SEQUENCES --format=FASTA --location=/host/home/user_7321/user_7321_backup/user_7321/docker/ProjectB---Vital/vital/data_collectors/data/covid19_genome//tmp/ --email=NONE --accessions=OM367246,OV351002,OU977530,OU577150,OU967594,OU724945,OK269466,OV384525,OV833650,OU932725,OV332137,OK626813,OV396226,OV888823,OL951408,OU976843,OU847138,OV242348,OV829092,OV361308,OU933497,OU899937,OV110749,OL898044,OV240237,OK511591,OV080047,OV117630,OU592555,OK556780,OV014745,OV262632,OL336618,OV543645,OU579845,OU855164,OK695420,OK117710,OV262490,OL503596,OU592297,OV301706,OV278637,OV361524,OU931113,OV328297,OV887617,OU974365,OV830958,OU736114,OV010722,OV410147,OL795592,OU636673,OV374916,OV332990,OL304780,OV240814,OU569668,OK536363,OK626859,OV404970,OV265934,OU570187,OV332938,OL909443,OM081465,OU451897,OV360895,OU967428,OU649212,OV417868,OV827476,OU649224,OV397411,OV352395,OK523538,OV844109,OV218199,OL637591,OK088039,OU999903,OV145507,OV498501,MZ839140,OL961981,OV888997,OV376818,OV372376,OV642623,OK337150,OV827594,OL987670,OV524969,OV355248,OK052662,OV116414,OU880344,OV058863,OV302089,OV418030,OV859209,OK618727,OU943573,OV411748,OV279649,OW325214,OV180014,OU980128,OV373357,OV405987,OV363528,OL326805,OK283753,OL574585,OV362504,OU428695,OL304970,OV296797,OW281305,OU577790,OV859110,OV634862,OU932112,OV267483,OV660697,OM169549,OU568935 --protocol=FTP --asperaLocation=null\n",
      "\n",
      "             #. ///////////////////       @@@@@@@      @@@@@@@@   @@@@    @@@    @@@@   @@@@@@@@@             @@@    @@@@@@@@\n",
      "        ###. #. /.   /////////////      @@@@  @@@@    @@@   @@@   @@@@   @@@    @@@@   @@@@  @@@@           @@@@   @@@   @@@@\n",
      "    #### #####.     /    /////////     @@@@          @@@    @@@   @@@@  @@@    @@@@   @@@@   @@@@          @@@@  @@@@   @@@@\n",
      "  ##  ########.        //  //////      @@@@         @@@@   @@@@   @@@@ @@@    @@@@   @@@@   @@@@   @@@@@  @@@@  @@@@@@@@@@@\n",
      " #############.             /////      @@@@   @@@   @@@    @@@    @@@@@@@    @@@@   @@@@   @@@@          @@@@         @@@\n",
      "(#############.             ////       @@@@ @@@@    @@@   @@@     @@@@@@    @@@@   @@@@@@@@@@           @@@@   @@@@  @@@\n",
      "(#############.          .  ////        @@@@@@@     @@@@@@@@      @@@@@    @@@@   @@@@@@@@@            @@@@    @@@@@@@@\n",
      " #############.             ///                                                                                              \n",
      "  ##  ########.        //  ////        ######    ##  #####  ##      #####   ####  #####  #####  ##    #\n",
      "    #### #####.     /    /////,        #    #   ###   ##   # #      #   #  #   #  #   #   #    # #   #\n",
      "        ###. #. /.   /////////         #    #  #  #   #   #  #     #####  #   #  ## ##   #    #  #  #\n",
      "             #, //////////////        ######  #   #  ##  #   #    #      ### #  #   #   #    #   # ####\n",
      "\n",
      " (Copyright © EMBL 2021)\n",
      "\n",
      "Welcome to the Covid-19 Data Portal's data downloader utility!\n",
      "----------------------------------------------\n"
     ]
    },
    {
     "name": "stderr",
     "output_type": "stream",
     "text": [
      "Downloading   ? % [                          =                                ] 3/?MB (0:00:11 / ?) \n"
     ]
    },
    {
     "name": "stdout",
     "output_type": "stream",
     "text": [
      "Download completed to /host/home/user_7321/user_7321_backup/user_7321/docker/ProjectB---Vital/vital/data_collectors/data/covid19_genome//tmp//viral_sequences/sequences/fasta/20240214-2200.fasta.\n",
      "java -jar cdp-file-downloader.jar --domain=VIRAL_SEQUENCES --datatype=SEQUENCES --format=FASTA --location=/host/home/user_7321/user_7321_backup/user_7321/docker/ProjectB---Vital/vital/data_collectors/data/covid19_genome//tmp/ --email=NONE --accessions=OV259238,OV350860,OV325532,OL917079,OV107488,OU964937,OV116964,OV360268,OW306101,OK556885,OK593603,OL454176,OV846476,OL610186,OU616772,OV358121,OV400515,OV354346,OK053180,OU932047,OV353588,OV037565,OU935256,OL556252,OL557584,OV353036,OV352808,OL822634,OV193491,OW296627,OV846854,OL904806,OV259482,OK376428,OV335694,OK442690,OV361690,MZ904630,OU648549,OU933235,OV353017,OV521374,OV887373,OU965125,OV301275,OL917814,OV020253,OV828522,OV829224,OU645246,OU648373,OU964068,OV368082,OV363885,OK382514,OU943316,OV518366,OU575065,OV350607,OU925764,OK133084,OV831041,OV282415,MZ999907,OL406635,OK428040,OK352792,OU936198,OV506781,OV830706,OU642887,OU619010,OU649913,OL304967,OU568879,OV119955,OV637597,OV807365,OU931824,OV396958,OV231663,OV323674,OK140309,OU925285,OV308048,OV658138,OV360618,OW325213,OK099730,OU617326,OV302388,OU620929,OV354869,OU620430,OV400120,ON065711,OV364641,OV232320,OV301655,OV014948,OV805853,OK437650,OV245410,OK115109,OU845101,OL411341,OL411383,OU614455,OV846572,OV521191,OV354579,OK613676,OV590722,MZ933360,OV298609,OK115695,OV213024,OU888703,OV660107,OV886952,OL336674,OV525353,OV396470,OV297859,OV885424,OK427595,OU643586,OV673339 --protocol=FTP --asperaLocation=null\n",
      "\n",
      "             #. ///////////////////       @@@@@@@      @@@@@@@@   @@@@    @@@    @@@@   @@@@@@@@@             @@@    @@@@@@@@\n",
      "        ###. #. /.   /////////////      @@@@  @@@@    @@@   @@@   @@@@   @@@    @@@@   @@@@  @@@@           @@@@   @@@   @@@@\n",
      "    #### #####.     /    /////////     @@@@          @@@    @@@   @@@@  @@@    @@@@   @@@@   @@@@          @@@@  @@@@   @@@@\n",
      "  ##  ########.        //  //////      @@@@         @@@@   @@@@   @@@@ @@@    @@@@   @@@@   @@@@   @@@@@  @@@@  @@@@@@@@@@@\n",
      " #############.             /////      @@@@   @@@   @@@    @@@    @@@@@@@    @@@@   @@@@   @@@@          @@@@         @@@\n",
      "(#############.             ////       @@@@ @@@@    @@@   @@@     @@@@@@    @@@@   @@@@@@@@@@           @@@@   @@@@  @@@\n",
      "(#############.          .  ////        @@@@@@@     @@@@@@@@      @@@@@    @@@@   @@@@@@@@@            @@@@    @@@@@@@@\n",
      " #############.             ///                                                                                              \n",
      "  ##  ########.        //  ////        ######    ##  #####  ##      #####   ####  #####  #####  ##    #\n",
      "    #### #####.     /    /////,        #    #   ###   ##   # #      #   #  #   #  #   #   #    # #   #\n",
      "        ###. #. /.   /////////         #    #  #  #   #   #  #     #####  #   #  ## ##   #    #  #  #\n",
      "             #, //////////////        ######  #   #  ##  #   #    #      ### #  #   #   #    #   # ####\n",
      "\n",
      " (Copyright © EMBL 2021)\n",
      "\n",
      "Welcome to the Covid-19 Data Portal's data downloader utility!\n",
      "----------------------------------------------\n"
     ]
    },
    {
     "name": "stderr",
     "output_type": "stream",
     "text": [
      "Downloading   ? % [                       =                                   ] 3/?MB (0:00:11 / ?) \n"
     ]
    },
    {
     "name": "stdout",
     "output_type": "stream",
     "text": [
      "Download completed to /host/home/user_7321/user_7321_backup/user_7321/docker/ProjectB---Vital/vital/data_collectors/data/covid19_genome//tmp//viral_sequences/sequences/fasta/20240214-2201.fasta.\n",
      "java -jar cdp-file-downloader.jar --domain=VIRAL_SEQUENCES --datatype=SEQUENCES --format=FASTA --location=/host/home/user_7321/user_7321_backup/user_7321/docker/ProjectB---Vital/vital/data_collectors/data/covid19_genome//tmp/ --email=NONE --accessions=OU567107,OW274040,OV247082,OV511400,OK619043,OV240893,OV347694,OV510523,OU692796,OW296363,OK132195,OU756962,OV510138,OU931811,OV404990,OV017948,OV223052,OV833829,OV409758,OV409320,OV326265,OV706266,OV016813,OV276022,OK636149,OV887409,OU648925,OV350609,OU645917,OU932695,OV351289,OK606433,OU976217,OL856363,OV888051,OV524668,OK522063,MZ809701,OU929492,OV326254,OV808347,OV318499,OV408500,OM400771,OV367198,OV351318,OV309395,OM069129,OV107880,OV885055,OU937327,OV360415,OK695350,OU377641,OL935957,OV828880,OW327030,OV114103,OK273792,OK636151,OV366578,OV225787,OV291954,OU935091,OL995261,OV204742,OV447646,OU592676,OL719220,OV417243,OM150227,OV042814,OU570472,OV266416,OU648298,OK461084,OV477408,OV886284,OU935342,OM013166,OL374110,OM189028,OM525280,OM149478,OV010455,OK388078,OV414146,OL363506,OL883662,OW299807,OV352261,OV114603,OV422086,OV669055,OV410457,OK465063,OV406360,OV374905,OL990394,OV430752,OV398832,OU933475,OV422134,OV308132,OV323859,OV350398,OK501062,OU575270,OV339322,OV015973,OL636768,OK377514,OW324608,OV200513,OV344217,OK027902,OU643272,OU701543,OV384557,OV180844,OV806494,OU734341,OV261422,OV639030,OU646620,OU826806,OV408723,OU515377 --protocol=FTP --asperaLocation=null\n",
      "\n",
      "             #. ///////////////////       @@@@@@@      @@@@@@@@   @@@@    @@@    @@@@   @@@@@@@@@             @@@    @@@@@@@@\n",
      "        ###. #. /.   /////////////      @@@@  @@@@    @@@   @@@   @@@@   @@@    @@@@   @@@@  @@@@           @@@@   @@@   @@@@\n",
      "    #### #####.     /    /////////     @@@@          @@@    @@@   @@@@  @@@    @@@@   @@@@   @@@@          @@@@  @@@@   @@@@\n",
      "  ##  ########.        //  //////      @@@@         @@@@   @@@@   @@@@ @@@    @@@@   @@@@   @@@@   @@@@@  @@@@  @@@@@@@@@@@\n",
      " #############.             /////      @@@@   @@@   @@@    @@@    @@@@@@@    @@@@   @@@@   @@@@          @@@@         @@@\n",
      "(#############.             ////       @@@@ @@@@    @@@   @@@     @@@@@@    @@@@   @@@@@@@@@@           @@@@   @@@@  @@@\n",
      "(#############.          .  ////        @@@@@@@     @@@@@@@@      @@@@@    @@@@   @@@@@@@@@            @@@@    @@@@@@@@\n",
      " #############.             ///                                                                                              \n",
      "  ##  ########.        //  ////        ######    ##  #####  ##      #####   ####  #####  #####  ##    #\n",
      "    #### #####.     /    /////,        #    #   ###   ##   # #      #   #  #   #  #   #   #    # #   #\n",
      "        ###. #. /.   /////////         #    #  #  #   #   #  #     #####  #   #  ## ##   #    #  #  #\n",
      "             #, //////////////        ######  #   #  ##  #   #    #      ### #  #   #   #    #   # ####\n",
      "\n",
      " (Copyright © EMBL 2021)\n",
      "\n",
      "Welcome to the Covid-19 Data Portal's data downloader utility!\n",
      "----------------------------------------------\n"
     ]
    },
    {
     "name": "stderr",
     "output_type": "stream",
     "text": [
      "Downloading   ? % [                                           =               ] 3/?MB (0:00:14 / ?) \n"
     ]
    },
    {
     "name": "stdout",
     "output_type": "stream",
     "text": [
      "Download completed to /host/home/user_7321/user_7321_backup/user_7321/docker/ProjectB---Vital/vital/data_collectors/data/covid19_genome//tmp//viral_sequences/sequences/fasta/20240214-2201.fasta.\n",
      "java -jar cdp-file-downloader.jar --domain=VIRAL_SEQUENCES --datatype=SEQUENCES --format=FASTA --location=/host/home/user_7321/user_7321_backup/user_7321/docker/ProjectB---Vital/vital/data_collectors/data/covid19_genome//tmp/ --email=NONE --accessions=OU579057,OU621859,OK232397,OL550163,OV329020,OV370779,OU958421,OU517515,MZ993595,OU616550,OU735722,OL975504,OV685954,OV888429,OV330069,OU704665,OL951443,OV308795,OV265008,OV298224,OU567011,OV390516,OK629797,OU927819,OU967439,OU928128,OV411375,OV417416,OV220763,OL837768,OL367653,MZ899663,OU567032,OL441442,OK222186,OV846389,OU902019,OV524324,OL940900,OK575010,OK556751,OL403668,OU933728,OU646561,OV108339,OU621756,OV374654,OV358457,OV357028,OV258911,OV306579,OV889113,OL607874,OV215392,OV461945,OV848411,OV464363,OU643224,OV335443,OV359093,OK507997,OV490952,OV260912,OU736740,OU933218,OU851876,OV374234,OK556708,OU566667,OU361723,OL881734,OV884936,OK616026,OU937122,OU909513,OU645487,OV007464,OV369515,OW300767,OU932450,OU923898,OK389356,OL441386,OV258033,OL845698,OM356730,OV884817,OV494506,OK489095,OV641961,OU844949,OV400897,OK020674,OV343052,OL711540,OV039786,MZ841154,OV345631,OV108987,OV199597,OK519828,OK650298,MZ830908,OU930114,OU583725,OV227144,OV422684,OV354047,OU567978,OV361317,OV153892,OU650347,OV107209,OW323949,OU316568,OV827877,OU999786,OV887415,OV239688,OK353245,OV859863,OK400162,OV376537,OV240162,OV353920,OK126320,OV685294,OV857282 --protocol=FTP --asperaLocation=null\n",
      "\n",
      "             #. ///////////////////       @@@@@@@      @@@@@@@@   @@@@    @@@    @@@@   @@@@@@@@@             @@@    @@@@@@@@\n",
      "        ###. #. /.   /////////////      @@@@  @@@@    @@@   @@@   @@@@   @@@    @@@@   @@@@  @@@@           @@@@   @@@   @@@@\n",
      "    #### #####.     /    /////////     @@@@          @@@    @@@   @@@@  @@@    @@@@   @@@@   @@@@          @@@@  @@@@   @@@@\n",
      "  ##  ########.        //  //////      @@@@         @@@@   @@@@   @@@@ @@@    @@@@   @@@@   @@@@   @@@@@  @@@@  @@@@@@@@@@@\n",
      " #############.             /////      @@@@   @@@   @@@    @@@    @@@@@@@    @@@@   @@@@   @@@@          @@@@         @@@\n",
      "(#############.             ////       @@@@ @@@@    @@@   @@@     @@@@@@    @@@@   @@@@@@@@@@           @@@@   @@@@  @@@\n",
      "(#############.          .  ////        @@@@@@@     @@@@@@@@      @@@@@    @@@@   @@@@@@@@@            @@@@    @@@@@@@@\n",
      " #############.             ///                                                                                              \n",
      "  ##  ########.        //  ////        ######    ##  #####  ##      #####   ####  #####  #####  ##    #\n",
      "    #### #####.     /    /////,        #    #   ###   ##   # #      #   #  #   #  #   #   #    # #   #\n",
      "        ###. #. /.   /////////         #    #  #  #   #   #  #     #####  #   #  ## ##   #    #  #  #\n",
      "             #, //////////////        ######  #   #  ##  #   #    #      ### #  #   #   #    #   # ####\n",
      "\n",
      " (Copyright © EMBL 2021)\n",
      "\n",
      "Welcome to the Covid-19 Data Portal's data downloader utility!\n",
      "----------------------------------------------\n"
     ]
    },
    {
     "name": "stderr",
     "output_type": "stream",
     "text": [
      "Downloading   ? % [                                              =            ] 3/?MB (0:00:11 / ?) \n"
     ]
    },
    {
     "name": "stdout",
     "output_type": "stream",
     "text": [
      "Download completed to /host/home/user_7321/user_7321_backup/user_7321/docker/ProjectB---Vital/vital/data_collectors/data/covid19_genome//tmp//viral_sequences/sequences/fasta/20240214-2201.fasta.\n",
      "java -jar cdp-file-downloader.jar --domain=VIRAL_SEQUENCES --datatype=SEQUENCES --format=FASTA --location=/host/home/user_7321/user_7321_backup/user_7321/docker/ProjectB---Vital/vital/data_collectors/data/covid19_genome//tmp/ --email=NONE --accessions=ON172119,OM007007,OK486661,ON338363,OL497419,OL946460,MZ726933,OL941564,OL740162,OM078674,OL882964,OL425082,OL762587,OM041522,OK695021,ON172117,OL835658,MZ828568,OM120915,OL835672,OL926094,OL833224,ON131948,MZ558124,OK297771,OL735115,OL541784,OM516693,OL868531,MZ997729,OK283290,MZ944166,OL382205,MZ941967,OK371209,OL778322,OK048471,OK451439,OK369040,OL396125,OL353628,MZ709751,OL399161,OM636469,OM058216,OK099487,OM005488,OL955662,OM270137,OK538345,OM058470,ON333159,OL487606,OK655964,OK307582,OL772639,ON135764,OM131220,OK614856,MZ572207,OL682124,OK242537,OK401017,OK408564,OL617167,OL350449,OL786080,OK610465,OL948349,MZ699467,OM876627,OM328012,OL919000,OV858226,OL392133,MZ828567,OK006346,MZ703600,MZ558154,OK390018,OM032078,OL835503,OL397433,OM134542,OL239132,OL395442,OK102441,OK566522,MZ938440,OL801893,OL995344,OL946357,OL468084,OK113876,OL349229,OM077340,OK202146,OL868512,OL992209,OL417345,MZ861342,OM007207,OK042665,OM270238,ON332938,OK114594,OL759400,OK468452,OK361880,OL464475,OL488472,OL304460,OK308286,OK099515,OK639277,OK614857,OK196777,MZ854928,OL749155,OK629958,OK437327,OK079215,OK519982,OL998244,OL683101,OL520443,OK487120,OK064753 --protocol=FTP --asperaLocation=null\n",
      "\n",
      "             #. ///////////////////       @@@@@@@      @@@@@@@@   @@@@    @@@    @@@@   @@@@@@@@@             @@@    @@@@@@@@\n",
      "        ###. #. /.   /////////////      @@@@  @@@@    @@@   @@@   @@@@   @@@    @@@@   @@@@  @@@@           @@@@   @@@   @@@@\n",
      "    #### #####.     /    /////////     @@@@          @@@    @@@   @@@@  @@@    @@@@   @@@@   @@@@          @@@@  @@@@   @@@@\n",
      "  ##  ########.        //  //////      @@@@         @@@@   @@@@   @@@@ @@@    @@@@   @@@@   @@@@   @@@@@  @@@@  @@@@@@@@@@@\n",
      " #############.             /////      @@@@   @@@   @@@    @@@    @@@@@@@    @@@@   @@@@   @@@@          @@@@         @@@\n",
      "(#############.             ////       @@@@ @@@@    @@@   @@@     @@@@@@    @@@@   @@@@@@@@@@           @@@@   @@@@  @@@\n",
      "(#############.          .  ////        @@@@@@@     @@@@@@@@      @@@@@    @@@@   @@@@@@@@@            @@@@    @@@@@@@@\n",
      " #############.             ///                                                                                              \n",
      "  ##  ########.        //  ////        ######    ##  #####  ##      #####   ####  #####  #####  ##    #\n",
      "    #### #####.     /    /////,        #    #   ###   ##   # #      #   #  #   #  #   #   #    # #   #\n",
      "        ###. #. /.   /////////         #    #  #  #   #   #  #     #####  #   #  ## ##   #    #  #  #\n",
      "             #, //////////////        ######  #   #  ##  #   #    #      ### #  #   #   #    #   # ####\n",
      "\n",
      " (Copyright © EMBL 2021)\n",
      "\n",
      "Welcome to the Covid-19 Data Portal's data downloader utility!\n",
      "----------------------------------------------\n"
     ]
    },
    {
     "name": "stderr",
     "output_type": "stream",
     "text": [
      "Downloading   ? % [   =                                                       ] 3/?MB (0:00:15 / ?) \n"
     ]
    },
    {
     "name": "stdout",
     "output_type": "stream",
     "text": [
      "Download completed to /host/home/user_7321/user_7321_backup/user_7321/docker/ProjectB---Vital/vital/data_collectors/data/covid19_genome//tmp//viral_sequences/sequences/fasta/20240214-2201.fasta.\n",
      "java -jar cdp-file-downloader.jar --domain=VIRAL_SEQUENCES --datatype=SEQUENCES --format=FASTA --location=/host/home/user_7321/user_7321_backup/user_7321/docker/ProjectB---Vital/vital/data_collectors/data/covid19_genome//tmp/ --email=NONE --accessions=OK519566,OL727235,OL731068,OK354564,OL506213,ON333173,MZ558096,OK377692,OL868134,OL559193,OK614750,OL919356,OK458358,MZ865760,OK214200,MZ977475,OK596279,MZ784922,MZ987764,OL941025,OK152658,OL361245,OK154597,OK118128,OM139727,MZ904681,OL856901,OM042577,MZ882504,OL996559,OL916750,OL613743,OL510628,OK155158,OL492484,OM506765,OK152475,MZ944738,OM487669,OL402216,OL533086,OL355641,OL914303,OL443376,OK619215,OK624193,OK610298,OK596799,OK115970,OK190207,OL873940,OK313921,OK455848,OK575571,OK411239,OL392350,OM035255,OL761243,OK196135,MZ862706,OM295246,OK114843,OL833282,OL517452,OK607344,OL570277,OK447079,OK197709,MZ786118,OL502389,ON131968,OL708645,OL889191,OM053742,OK611632,OL994860,MZ941620,OM876833,ON131237,OL487917,OL900034,OL595988,OL513325,OM015950,OM691024,OL872059,OL900006,ON333167,OK106727,OK278607,OM126443,OL866806,OL394343,MZ881545,OK116635,OK520639,OM922339,OL789082,OK359495,OK329431,MZ831135,MZ555329,OK184996,OK515546,OK196660,OL396537,OM506771,OL996528,OM109165,OV857691,MZ801464,OL947184,OL551764,OK048267,OK444285,OL702265,OK080998,OL747828,OK097589,OL976324,ON130287,OM308191,OL475713,OK522859,OK614755,OL636687,OL385903,OK265738 --protocol=FTP --asperaLocation=null\n",
      "\n",
      "             #. ///////////////////       @@@@@@@      @@@@@@@@   @@@@    @@@    @@@@   @@@@@@@@@             @@@    @@@@@@@@\n",
      "        ###. #. /.   /////////////      @@@@  @@@@    @@@   @@@   @@@@   @@@    @@@@   @@@@  @@@@           @@@@   @@@   @@@@\n",
      "    #### #####.     /    /////////     @@@@          @@@    @@@   @@@@  @@@    @@@@   @@@@   @@@@          @@@@  @@@@   @@@@\n",
      "  ##  ########.        //  //////      @@@@         @@@@   @@@@   @@@@ @@@    @@@@   @@@@   @@@@   @@@@@  @@@@  @@@@@@@@@@@\n",
      " #############.             /////      @@@@   @@@   @@@    @@@    @@@@@@@    @@@@   @@@@   @@@@          @@@@         @@@\n",
      "(#############.             ////       @@@@ @@@@    @@@   @@@     @@@@@@    @@@@   @@@@@@@@@@           @@@@   @@@@  @@@\n",
      "(#############.          .  ////        @@@@@@@     @@@@@@@@      @@@@@    @@@@   @@@@@@@@@            @@@@    @@@@@@@@\n",
      " #############.             ///                                                                                              \n",
      "  ##  ########.        //  ////        ######    ##  #####  ##      #####   ####  #####  #####  ##    #\n",
      "    #### #####.     /    /////,        #    #   ###   ##   # #      #   #  #   #  #   #   #    # #   #\n",
      "        ###. #. /.   /////////         #    #  #  #   #   #  #     #####  #   #  ## ##   #    #  #  #\n",
      "             #, //////////////        ######  #   #  ##  #   #    #      ### #  #   #   #    #   # ####\n",
      "\n",
      " (Copyright © EMBL 2021)\n",
      "\n",
      "Welcome to the Covid-19 Data Portal's data downloader utility!\n",
      "----------------------------------------------\n"
     ]
    },
    {
     "name": "stderr",
     "output_type": "stream",
     "text": [
      "Downloading   ? % [                                                 =         ] 3/?MB (0:00:13 / ?) \n"
     ]
    },
    {
     "name": "stdout",
     "output_type": "stream",
     "text": [
      "Download completed to /host/home/user_7321/user_7321_backup/user_7321/docker/ProjectB---Vital/vital/data_collectors/data/covid19_genome//tmp//viral_sequences/sequences/fasta/20240214-2202.fasta.\n",
      "java -jar cdp-file-downloader.jar --domain=VIRAL_SEQUENCES --datatype=SEQUENCES --format=FASTA --location=/host/home/user_7321/user_7321_backup/user_7321/docker/ProjectB---Vital/vital/data_collectors/data/covid19_genome//tmp/ --email=NONE --accessions=OL558224,OK278341,OL933809,OM134064,OK571501,OL791098,OK477323,OL955596,MZ965587,OL447022,MZ801355,OL881500,OK644135,OM197291,OK447294,OL595015,OL709002,OM264755,MZ950075,OL874317,OK368476,OM044336,OL888149,OK629919,OK237471,OK394252,OM472886,OL983307,OL781343,OL731198,OL511676,OM542001,OK008229,OK447187,OL556776,OL515950,OL936330,OM922506,OM089336,OK251105,OL570611,OK610536,OL393182,MZ777878,OK093053,OL811500,OL923994,OL779321,OL764721,OK209139,OK610779,OM677130,OL612924,OK535467,OK309353,OL930058,OL776272,OM055590,OL594310,OK572191,OK490685,OM214213,OM007533,OL918926,OK115791,OL579324,OK309261,OK299974,OL249772,OL240574,OL493327,OM357171,OK158158,MZ854995,MZ985155,OK428005,OL469490,OK249865,OK210594,OL513309,OK614997,OK279525,OL714915,OK329090,OK092836,OK591131,OK394253,OL988542,OM191197,MZ996266,OL489606,OK349918,OM482220,OK042669,OK484824,OL734780,OL918717,OK612342,OL936038,MZ845070,OM121461,OK329273,OK568230,OM050715,OL471632,OK604084,OK042478,OL982163,OM327929,OL936272,OK467757,OK046780,OK615722,OK469948,OK062316,OL779487,OM159024,OM051132,OK446317,OK281844,OL320876,OK612641,OL992880,OM084397,OL919414,MZ997794,OL499617,MZ991316 --protocol=FTP --asperaLocation=null\n",
      "\n",
      "             #. ///////////////////       @@@@@@@      @@@@@@@@   @@@@    @@@    @@@@   @@@@@@@@@             @@@    @@@@@@@@\n",
      "        ###. #. /.   /////////////      @@@@  @@@@    @@@   @@@   @@@@   @@@    @@@@   @@@@  @@@@           @@@@   @@@   @@@@\n",
      "    #### #####.     /    /////////     @@@@          @@@    @@@   @@@@  @@@    @@@@   @@@@   @@@@          @@@@  @@@@   @@@@\n",
      "  ##  ########.        //  //////      @@@@         @@@@   @@@@   @@@@ @@@    @@@@   @@@@   @@@@   @@@@@  @@@@  @@@@@@@@@@@\n",
      " #############.             /////      @@@@   @@@   @@@    @@@    @@@@@@@    @@@@   @@@@   @@@@          @@@@         @@@\n",
      "(#############.             ////       @@@@ @@@@    @@@   @@@     @@@@@@    @@@@   @@@@@@@@@@           @@@@   @@@@  @@@\n",
      "(#############.          .  ////        @@@@@@@     @@@@@@@@      @@@@@    @@@@   @@@@@@@@@            @@@@    @@@@@@@@\n",
      " #############.             ///                                                                                              \n",
      "  ##  ########.        //  ////        ######    ##  #####  ##      #####   ####  #####  #####  ##    #\n",
      "    #### #####.     /    /////,        #    #   ###   ##   # #      #   #  #   #  #   #   #    # #   #\n",
      "        ###. #. /.   /////////         #    #  #  #   #   #  #     #####  #   #  ## ##   #    #  #  #\n",
      "             #, //////////////        ######  #   #  ##  #   #    #      ### #  #   #   #    #   # ####\n",
      "\n",
      " (Copyright © EMBL 2021)\n",
      "\n",
      "Welcome to the Covid-19 Data Portal's data downloader utility!\n",
      "----------------------------------------------\n"
     ]
    },
    {
     "name": "stderr",
     "output_type": "stream",
     "text": [
      "Downloading   ? % [=                                                          ] 3/?MB (0:00:15 / ?) \n"
     ]
    },
    {
     "name": "stdout",
     "output_type": "stream",
     "text": [
      "Download completed to /host/home/user_7321/user_7321_backup/user_7321/docker/ProjectB---Vital/vital/data_collectors/data/covid19_genome//tmp//viral_sequences/sequences/fasta/20240214-2202.fasta.\n",
      "java -jar cdp-file-downloader.jar --domain=VIRAL_SEQUENCES --datatype=SEQUENCES --format=FASTA --location=/host/home/user_7321/user_7321_backup/user_7321/docker/ProjectB---Vital/vital/data_collectors/data/covid19_genome//tmp/ --email=NONE --accessions=OK380430,MZ784203,MZ928348,OK369778,OK063138,MZ944225,OL558372,ON172118,OK149704,OL333315,OL238999,OM055700,OK606442,OL936136,MZ531199,OK185144,OM133968,OL559395,OL916707,OK455201,ON172900,OL751678,OM271493,OL517285,OK276854,OL392077,OK610367,OM198517,ON138353,OK208434,OL758312,OL947173,OK133236,OK251647,OK357023,OK259513,OL735215,OK134152,OL858232,MZ984377,OK321885,OK098423,OL899769,OK607069,OL837848,OM127689,MZ875057,OL487613,OL570976,OK615499,OK298384,OL383914,OK663588,OL627217,OL384070,OL415301,OK173862,OM121020,OK521833,OL995294,OL363647,OK556181,OM101982,OM126908,OL962074,OK297846,OK133384,OK048544,OK613650,OK280578,OK574724,MZ900836,OK614751,OM161919,OK458354,OL329622,MZ558118,MZ848817,OK047762,OM034863,OL968110,OK604939,OL735284,OK529628,OL360954,OL946458,MZ841163,OK288882,OL776994,OK653184,MZ860804,OL339534,MZ940106,OL757259,OL702140,OL708825,OK521808,OL928714,OL859575,OK194829,OL523224,MZ991838,OL399387,OL402986,OK042670,OK446172,OL749592,OM125527,OL949572,OK367796,OL965329,OL348939,OM063198,MZ989695,OK303866,OL516981,MZ937795,OM058725,OK517922,OM043087,OL596595,MZ986993,OK006709,OL555717,OK151019,OL559756,OL993731,MZ938549 --protocol=FTP --asperaLocation=null\n",
      "\n",
      "             #. ///////////////////       @@@@@@@      @@@@@@@@   @@@@    @@@    @@@@   @@@@@@@@@             @@@    @@@@@@@@\n",
      "        ###. #. /.   /////////////      @@@@  @@@@    @@@   @@@   @@@@   @@@    @@@@   @@@@  @@@@           @@@@   @@@   @@@@\n",
      "    #### #####.     /    /////////     @@@@          @@@    @@@   @@@@  @@@    @@@@   @@@@   @@@@          @@@@  @@@@   @@@@\n",
      "  ##  ########.        //  //////      @@@@         @@@@   @@@@   @@@@ @@@    @@@@   @@@@   @@@@   @@@@@  @@@@  @@@@@@@@@@@\n",
      " #############.             /////      @@@@   @@@   @@@    @@@    @@@@@@@    @@@@   @@@@   @@@@          @@@@         @@@\n",
      "(#############.             ////       @@@@ @@@@    @@@   @@@     @@@@@@    @@@@   @@@@@@@@@@           @@@@   @@@@  @@@\n",
      "(#############.          .  ////        @@@@@@@     @@@@@@@@      @@@@@    @@@@   @@@@@@@@@            @@@@    @@@@@@@@\n",
      " #############.             ///                                                                                              \n",
      "  ##  ########.        //  ////        ######    ##  #####  ##      #####   ####  #####  #####  ##    #\n",
      "    #### #####.     /    /////,        #    #   ###   ##   # #      #   #  #   #  #   #   #    # #   #\n",
      "        ###. #. /.   /////////         #    #  #  #   #   #  #     #####  #   #  ## ##   #    #  #  #\n",
      "             #, //////////////        ######  #   #  ##  #   #    #      ### #  #   #   #    #   # ####\n",
      "\n",
      " (Copyright © EMBL 2021)\n",
      "\n",
      "Welcome to the Covid-19 Data Portal's data downloader utility!\n",
      "----------------------------------------------\n"
     ]
    },
    {
     "name": "stderr",
     "output_type": "stream",
     "text": [
      "Downloading   ? % [                                                    =      ] 3/?MB (0:00:14 / ?) \n"
     ]
    },
    {
     "name": "stdout",
     "output_type": "stream",
     "text": [
      "Download completed to /host/home/user_7321/user_7321_backup/user_7321/docker/ProjectB---Vital/vital/data_collectors/data/covid19_genome//tmp//viral_sequences/sequences/fasta/20240214-2202.fasta.\n",
      "java -jar cdp-file-downloader.jar --domain=VIRAL_SEQUENCES --datatype=SEQUENCES --format=FASTA --location=/host/home/user_7321/user_7321_backup/user_7321/docker/ProjectB---Vital/vital/data_collectors/data/covid19_genome//tmp/ --email=NONE --accessions=OL390833,OL394413,OK518046,OK279739,OL570233,OL964449,OK608706,OK458179,ON000982,OL779878,OK133489,OL918043,OL833324,OM466102,OL858617,OL475709,OK209029,OM472745,OK325337,OM042831,OM085185,OM151136,OL714093,OL751621,MZ671763,OM270142,OL931985,OL722090,OL963452,OL995697,OL724770,OK088401,OL743593,OL460327,OK490701,OK452325,OL799788,OL344801,OK086314,OK394258,OL317670,OL881471,MZ863688,OV430247,OK114605,OK524833,OL669715,OL881820,OL491844,OL680661,MZ572201,OL947798,OL483191,OM321742,OM288682,OK486089,MZ948775,OL624404,OL351110,ON338290,OK379099,OL517030,MZ861658,OL926554,OL238569,OK042677,OL799809,OL448186,OL364284,OL597259,OL680674,OK357033,OK089453,MZ839397,OL679264,OK329838,OL559715,OK610304,MZ782291,OM080337,OM134553,OL687067,OK487000,MZ703516,OM050506,OL965337,OL392571,OK150467,OL738307,OM472787,ON137909,OK406225,OK042411,OK366543,OM054789,OL695326,OK035824,OK495089,OL731044,OM288673,OL596411,OL815262,OK368912,OK182858,OK550879,OL922211,OK450895,OL731045,OL665405,OK394260,OL516996,OK457883,OK090699,OK642627,OL738432,OL761009,OL762953,OL506212,OK262261,OK093047,OK171853,OL900088,OL896123,OK185149,OK450170,OL716341,OL926220,OL682186 --protocol=FTP --asperaLocation=null\n",
      "\n",
      "             #. ///////////////////       @@@@@@@      @@@@@@@@   @@@@    @@@    @@@@   @@@@@@@@@             @@@    @@@@@@@@\n",
      "        ###. #. /.   /////////////      @@@@  @@@@    @@@   @@@   @@@@   @@@    @@@@   @@@@  @@@@           @@@@   @@@   @@@@\n",
      "    #### #####.     /    /////////     @@@@          @@@    @@@   @@@@  @@@    @@@@   @@@@   @@@@          @@@@  @@@@   @@@@\n",
      "  ##  ########.        //  //////      @@@@         @@@@   @@@@   @@@@ @@@    @@@@   @@@@   @@@@   @@@@@  @@@@  @@@@@@@@@@@\n",
      " #############.             /////      @@@@   @@@   @@@    @@@    @@@@@@@    @@@@   @@@@   @@@@          @@@@         @@@\n",
      "(#############.             ////       @@@@ @@@@    @@@   @@@     @@@@@@    @@@@   @@@@@@@@@@           @@@@   @@@@  @@@\n",
      "(#############.          .  ////        @@@@@@@     @@@@@@@@      @@@@@    @@@@   @@@@@@@@@            @@@@    @@@@@@@@\n",
      " #############.             ///                                                                                              \n",
      "  ##  ########.        //  ////        ######    ##  #####  ##      #####   ####  #####  #####  ##    #\n",
      "    #### #####.     /    /////,        #    #   ###   ##   # #      #   #  #   #  #   #   #    # #   #\n",
      "        ###. #. /.   /////////         #    #  #  #   #   #  #     #####  #   #  ## ##   #    #  #  #\n",
      "             #, //////////////        ######  #   #  ##  #   #    #      ### #  #   #   #    #   # ####\n",
      "\n",
      " (Copyright © EMBL 2021)\n",
      "\n",
      "Welcome to the Covid-19 Data Portal's data downloader utility!\n",
      "----------------------------------------------\n"
     ]
    },
    {
     "name": "stderr",
     "output_type": "stream",
     "text": [
      "Downloading   ? % [                                                         = ] 3/?MB (0:00:17 / ?) \n"
     ]
    },
    {
     "name": "stdout",
     "output_type": "stream",
     "text": [
      "Download completed to /host/home/user_7321/user_7321_backup/user_7321/docker/ProjectB---Vital/vital/data_collectors/data/covid19_genome//tmp//viral_sequences/sequences/fasta/20240214-2202.fasta.\n",
      "java -jar cdp-file-downloader.jar --domain=VIRAL_SEQUENCES --datatype=SEQUENCES --format=FASTA --location=/host/home/user_7321/user_7321_backup/user_7321/docker/ProjectB---Vital/vital/data_collectors/data/covid19_genome//tmp/ --email=NONE --accessions=OK158201,OK458551,OL995124,OL882562,OK458014,OK029463,OK449211,OL895987,OL728738,OK591266,OK505597,OM007744,OM101960,OL787039,OM191123,OM040923,OK606229,OK102235,OL918731,OK394264,OK365867,OL923367,OL511684,MZ991953,OM065228,OM075587,OL953243,OK577552,OL413959,OL801817,OL485820,OL991353,OL325062,OM036435,ON170637,OL316934,MZ984615,OK598232,OM217300,OK514838,OK380207,OL392708,OL909988,OM130322,OL997937,OL579220,OM994161,OM121094,MZ992888,OK497804,OM024422,OK450548,OL327813,OK260378,OL762918,OL859777,OL917542,MZ703592,OK469714,MZ950281,OL460247,OM041911,OL763204,OM254809,OM121234,OM003617,OK458442,OM799802,OK459579,OL916497,OL395027,OK374391,OK594686,MZ938315,MZ944994,OM127643,OL488806,OM079978,OL241479,OK305201,OM051948,OK116294,OM013832,OM121688,OL392832,OL787238,MZ857953,OL617548,OL414233,OK630351,OL508724,OL860221,MZ904985,OM134700,OK600793,OK470768,OK409482,OM077175,OK005870,OL424408,MZ950113,OK528250,OL876828,ON137819,OL708742,OL750637,OK532162,OK366296,OK288978,OK421772,OL779680,OM058157,OL992496,OK521909,OK620016,OL512245,OK202993,OK598267,ON333165,OK599575,MZ994321,OK469664,OL781231,OL525984,OL325405,OL318283,OL762236,OM174034 --protocol=FTP --asperaLocation=null\n",
      "\n",
      "             #. ///////////////////       @@@@@@@      @@@@@@@@   @@@@    @@@    @@@@   @@@@@@@@@             @@@    @@@@@@@@\n",
      "        ###. #. /.   /////////////      @@@@  @@@@    @@@   @@@   @@@@   @@@    @@@@   @@@@  @@@@           @@@@   @@@   @@@@\n",
      "    #### #####.     /    /////////     @@@@          @@@    @@@   @@@@  @@@    @@@@   @@@@   @@@@          @@@@  @@@@   @@@@\n",
      "  ##  ########.        //  //////      @@@@         @@@@   @@@@   @@@@ @@@    @@@@   @@@@   @@@@   @@@@@  @@@@  @@@@@@@@@@@\n",
      " #############.             /////      @@@@   @@@   @@@    @@@    @@@@@@@    @@@@   @@@@   @@@@          @@@@         @@@\n",
      "(#############.             ////       @@@@ @@@@    @@@   @@@     @@@@@@    @@@@   @@@@@@@@@@           @@@@   @@@@  @@@\n",
      "(#############.          .  ////        @@@@@@@     @@@@@@@@      @@@@@    @@@@   @@@@@@@@@            @@@@    @@@@@@@@\n",
      " #############.             ///                                                                                              \n",
      "  ##  ########.        //  ////        ######    ##  #####  ##      #####   ####  #####  #####  ##    #\n",
      "    #### #####.     /    /////,        #    #   ###   ##   # #      #   #  #   #  #   #   #    # #   #\n",
      "        ###. #. /.   /////////         #    #  #  #   #   #  #     #####  #   #  ## ##   #    #  #  #\n",
      "             #, //////////////        ######  #   #  ##  #   #    #      ### #  #   #   #    #   # ####\n",
      "\n",
      " (Copyright © EMBL 2021)\n",
      "\n",
      "Welcome to the Covid-19 Data Portal's data downloader utility!\n",
      "----------------------------------------------\n"
     ]
    },
    {
     "name": "stderr",
     "output_type": "stream",
     "text": [
      "Downloading   ? % [                                                   =       ] 3/?MB (0:00:17 / ?) \n"
     ]
    },
    {
     "name": "stdout",
     "output_type": "stream",
     "text": [
      "Download completed to /host/home/user_7321/user_7321_backup/user_7321/docker/ProjectB---Vital/vital/data_collectors/data/covid19_genome//tmp//viral_sequences/sequences/fasta/20240214-2203.fasta.\n",
      "java -jar cdp-file-downloader.jar --domain=VIRAL_SEQUENCES --datatype=SEQUENCES --format=FASTA --location=/host/home/user_7321/user_7321_backup/user_7321/docker/ProjectB---Vital/vital/data_collectors/data/covid19_genome//tmp/ --email=NONE --accessions=MZ762313,OK079896,OK090241,OM067056,OL868414,OK524633,ON333169,OL679216,OK090336,OL883670,MZ937595,OL975462,OK567828,OK278455,OL378365,MZ849628,OK411468,OL798954,OL327013,OL927088,OM024523,OL967360,OL554227,OL558478,OL511903,OK622521,OL305621,OM101844,OK196186,OK141256,OL708948,MZ855008,OL967553,OL558946,OL882223,OK281933,OL462370,OM268767,OK046925,OK201872,OK463783,OL736425,OL933913,OL898363,MZ989285,MZ942839,OL931816,MZ558157,OK517713,OL447948,OK521524,OM127692,OK397790,OM102192,OK098490,OM176106,OM918445,OL762908,OK042454,OK612335,OK042484,OL853017,OL751757,OK446332,OM224324,OL760990,ON001002,OL318223,MZ937875,OL675410,ON031268,OK067995,OM139478,MZ558125,ON000931,OK155378,OL943397,OK367065,OK007504,OL489394,OL518261,OL724722,OM338152,OK222345,OK365316,OL308561,OL881675,OK618674,MZ999229,MZ986424,OK609940,OM189284,OL842796,MZ845074,OK617886,OL390426,OL915686,OL996039,OK112824,OK164250,OL462291,OL899738,OK133423,OL994267,OL353574,MZ992862,OL776760,OM475874,OL838088,MZ783558,OL932901,MZ558132,OM075392,OL976398,OL835824,OM222768,OL402967,OK394263,OL360913,OL507804,OM260781,OM181006,OL900288,MZ944192,OL935262,MZ783338,OL487882,OM111987 --protocol=FTP --asperaLocation=null\n",
      "\n",
      "             #. ///////////////////       @@@@@@@      @@@@@@@@   @@@@    @@@    @@@@   @@@@@@@@@             @@@    @@@@@@@@\n",
      "        ###. #. /.   /////////////      @@@@  @@@@    @@@   @@@   @@@@   @@@    @@@@   @@@@  @@@@           @@@@   @@@   @@@@\n",
      "    #### #####.     /    /////////     @@@@          @@@    @@@   @@@@  @@@    @@@@   @@@@   @@@@          @@@@  @@@@   @@@@\n",
      "  ##  ########.        //  //////      @@@@         @@@@   @@@@   @@@@ @@@    @@@@   @@@@   @@@@   @@@@@  @@@@  @@@@@@@@@@@\n",
      " #############.             /////      @@@@   @@@   @@@    @@@    @@@@@@@    @@@@   @@@@   @@@@          @@@@         @@@\n",
      "(#############.             ////       @@@@ @@@@    @@@   @@@     @@@@@@    @@@@   @@@@@@@@@@           @@@@   @@@@  @@@\n",
      "(#############.          .  ////        @@@@@@@     @@@@@@@@      @@@@@    @@@@   @@@@@@@@@            @@@@    @@@@@@@@\n",
      " #############.             ///                                                                                              \n",
      "  ##  ########.        //  ////        ######    ##  #####  ##      #####   ####  #####  #####  ##    #\n",
      "    #### #####.     /    /////,        #    #   ###   ##   # #      #   #  #   #  #   #   #    # #   #\n",
      "        ###. #. /.   /////////         #    #  #  #   #   #  #     #####  #   #  ## ##   #    #  #  #\n",
      "             #, //////////////        ######  #   #  ##  #   #    #      ### #  #   #   #    #   # ####\n",
      "\n",
      " (Copyright © EMBL 2021)\n",
      "\n",
      "Welcome to the Covid-19 Data Portal's data downloader utility!\n",
      "----------------------------------------------\n"
     ]
    },
    {
     "name": "stderr",
     "output_type": "stream",
     "text": [
      "Downloading   ? % [                                                  =        ] 3/?MB (0:00:21 / ?) \n"
     ]
    },
    {
     "name": "stdout",
     "output_type": "stream",
     "text": [
      "Download completed to /host/home/user_7321/user_7321_backup/user_7321/docker/ProjectB---Vital/vital/data_collectors/data/covid19_genome//tmp//viral_sequences/sequences/fasta/20240214-2203.fasta.\n",
      "java -jar cdp-file-downloader.jar --domain=VIRAL_SEQUENCES --datatype=SEQUENCES --format=FASTA --location=/host/home/user_7321/user_7321_backup/user_7321/docker/ProjectB---Vital/vital/data_collectors/data/covid19_genome//tmp/ --email=NONE --accessions=MZ941381,OK155286,OL452408,OM096469,OM197700,OL928754,OL918639,MZ843015,OK365248,OL982056,OK021270,OM139823,ON004351,OL955744,OL464111,OL771047,OL564001,OL445240,OM120847,OK208619,OL602121,OM127753,OL882060,OK132633,OK515827,OL838494,OM142107,OL884595,OK638678,OL390950,OK154138,OK543308,MZ863123,MZ830784,OK624195,OK097426,ON113227,OK225221,OL446341,OL923258,OL722874,OM190042,OL544928,OL440506,OL613823,OM170166,OK042666,MZ933825,OL346880,OK446324,OK079895,OL721573,OL238992,OL447422,OL434251,OL544887,ON332937,OL867108,OK630030,OL759617,OK609655,ON130272,OK137830,OK471127,OM055930,OK097187,OK093051,OL731103,OM192329,OL454307,MZ950229,OL330036,OK195161,OK522391,OK373755,OL759933,OL879336,OL738616,OL579180,OL618560,OK614696,OL466082,OK306770,OK141337,OK155497,OM039063,OL935950,OM019411,OL975389,OK580232,OL486211,OL948298,OL714838,OL832349,OK151670,OM121212,OK394255,OL500758,OM222152,OK099384,OK099571,OL337950,OK281346,OL737234,OL396229,OL512456,OL607750,OK545232,OK639437,OL393356,OK370042,OK196838,OL555101,OL779517,OL995056,OK631365,OL970376,OL775614,OL462258,OM041421,OK609568,OK612451,OL974383,OM505046,OK479519,OK408006,OK455425,OK493985 --protocol=FTP --asperaLocation=null\n",
      "\n",
      "             #. ///////////////////       @@@@@@@      @@@@@@@@   @@@@    @@@    @@@@   @@@@@@@@@             @@@    @@@@@@@@\n",
      "        ###. #. /.   /////////////      @@@@  @@@@    @@@   @@@   @@@@   @@@    @@@@   @@@@  @@@@           @@@@   @@@   @@@@\n",
      "    #### #####.     /    /////////     @@@@          @@@    @@@   @@@@  @@@    @@@@   @@@@   @@@@          @@@@  @@@@   @@@@\n",
      "  ##  ########.        //  //////      @@@@         @@@@   @@@@   @@@@ @@@    @@@@   @@@@   @@@@   @@@@@  @@@@  @@@@@@@@@@@\n",
      " #############.             /////      @@@@   @@@   @@@    @@@    @@@@@@@    @@@@   @@@@   @@@@          @@@@         @@@\n",
      "(#############.             ////       @@@@ @@@@    @@@   @@@     @@@@@@    @@@@   @@@@@@@@@@           @@@@   @@@@  @@@\n",
      "(#############.          .  ////        @@@@@@@     @@@@@@@@      @@@@@    @@@@   @@@@@@@@@            @@@@    @@@@@@@@\n",
      " #############.             ///                                                                                              \n",
      "  ##  ########.        //  ////        ######    ##  #####  ##      #####   ####  #####  #####  ##    #\n",
      "    #### #####.     /    /////,        #    #   ###   ##   # #      #   #  #   #  #   #   #    # #   #\n",
      "        ###. #. /.   /////////         #    #  #  #   #   #  #     #####  #   #  ## ##   #    #  #  #\n",
      "             #, //////////////        ######  #   #  ##  #   #    #      ### #  #   #   #    #   # ####\n",
      "\n",
      " (Copyright © EMBL 2021)\n",
      "\n",
      "Welcome to the Covid-19 Data Portal's data downloader utility!\n",
      "----------------------------------------------\n"
     ]
    },
    {
     "name": "stderr",
     "output_type": "stream",
     "text": [
      "Downloading   ? % [     =                                                     ] 3/?MB (0:00:24 / ?) \n"
     ]
    },
    {
     "name": "stdout",
     "output_type": "stream",
     "text": [
      "Download completed to /host/home/user_7321/user_7321_backup/user_7321/docker/ProjectB---Vital/vital/data_collectors/data/covid19_genome//tmp//viral_sequences/sequences/fasta/20240214-2203.fasta.\n",
      "java -jar cdp-file-downloader.jar --domain=VIRAL_SEQUENCES --datatype=SEQUENCES --format=FASTA --location=/host/home/user_7321/user_7321_backup/user_7321/docker/ProjectB---Vital/vital/data_collectors/data/covid19_genome//tmp/ --email=NONE --accessions=OL623868,OM898641,OM765686,OV377370,OV668957,OU827917,OU888733,OU963304,MZ933695,OV042583,OL815130,OU533940,OV316626,OV498118,OV249833,OK226207,OL990826,OV221140,OU633402,OU665950,OV154520,OU613150,OU683561,OU810302,OU800985,OU912350,OM739842,OL612397,OK113039,OM765553,OK596781,OU537871,OL492804,OM570148,OU664007,OK197890,OK141664,OV057941,OM055201,OV026884,OL959012,OM773251,OK645227,OU560189,OL465609,OU816973,OK228186,OV196389,OK523274,OL925804,OV384761,OU506618,OM766021,OU419375,OM765775,OU571004,OM766031,OM765846,OL785637,OU876442,OU805924,OU651466,OV065358,OM270292,OL378400,OV443520,OU460819,OL995765,OU613708,OV136117,MZ731573,OM766030,OV251228,OU447455,OM739757,OK370198,OU644492,OM282952,OV312075,OM721029,OM158923,OM720985,OV129518,OM765944,OL945125,OW306699,OU617947,OU597263,OM765735,OL352298,OV487941,OU628524,OK176072,OK105492,OV272432,OU629421,OV201679,OK390173,OU902662,OK024969,OL831889,OL832522,OK369650,OL490902,OM164970,OK457175,OU991567,OV150039,OU570520,OK449805,OK137969,OL885120,OV431740,OM739788,OV363180,OL571882,OU450981,OU773934,OM765698,OV176021,OV139960,OU468639,OV342042,OK282791,OU638154,OU892933,OM773344,OM739852 --protocol=FTP --asperaLocation=null\n",
      "\n",
      "             #. ///////////////////       @@@@@@@      @@@@@@@@   @@@@    @@@    @@@@   @@@@@@@@@             @@@    @@@@@@@@\n",
      "        ###. #. /.   /////////////      @@@@  @@@@    @@@   @@@   @@@@   @@@    @@@@   @@@@  @@@@           @@@@   @@@   @@@@\n",
      "    #### #####.     /    /////////     @@@@          @@@    @@@   @@@@  @@@    @@@@   @@@@   @@@@          @@@@  @@@@   @@@@\n",
      "  ##  ########.        //  //////      @@@@         @@@@   @@@@   @@@@ @@@    @@@@   @@@@   @@@@   @@@@@  @@@@  @@@@@@@@@@@\n",
      " #############.             /////      @@@@   @@@   @@@    @@@    @@@@@@@    @@@@   @@@@   @@@@          @@@@         @@@\n",
      "(#############.             ////       @@@@ @@@@    @@@   @@@     @@@@@@    @@@@   @@@@@@@@@@           @@@@   @@@@  @@@\n",
      "(#############.          .  ////        @@@@@@@     @@@@@@@@      @@@@@    @@@@   @@@@@@@@@            @@@@    @@@@@@@@\n",
      " #############.             ///                                                                                              \n",
      "  ##  ########.        //  ////        ######    ##  #####  ##      #####   ####  #####  #####  ##    #\n",
      "    #### #####.     /    /////,        #    #   ###   ##   # #      #   #  #   #  #   #   #    # #   #\n",
      "        ###. #. /.   /////////         #    #  #  #   #   #  #     #####  #   #  ## ##   #    #  #  #\n",
      "             #, //////////////        ######  #   #  ##  #   #    #      ### #  #   #   #    #   # ####\n",
      "\n",
      " (Copyright © EMBL 2021)\n",
      "\n",
      "Welcome to the Covid-19 Data Portal's data downloader utility!\n",
      "----------------------------------------------\n"
     ]
    },
    {
     "name": "stderr",
     "output_type": "stream",
     "text": [
      "Downloading   ? % [                                                       =   ] 3/?MB (0:00:30 / ?) \n"
     ]
    },
    {
     "name": "stdout",
     "output_type": "stream",
     "text": [
      "Download completed to /host/home/user_7321/user_7321_backup/user_7321/docker/ProjectB---Vital/vital/data_collectors/data/covid19_genome//tmp//viral_sequences/sequences/fasta/20240214-2204.fasta.\n",
      "java -jar cdp-file-downloader.jar --domain=VIRAL_SEQUENCES --datatype=SEQUENCES --format=FASTA --location=/host/home/user_7321/user_7321_backup/user_7321/docker/ProjectB---Vital/vital/data_collectors/data/covid19_genome//tmp/ --email=NONE --accessions=OU390653,OK434307,OL931256,OM773304,OV014692,OU313929,OV516298,OU681243,OU779893,OV306356,OL353219,OU599399,OL959166,OV369727,OM739803,OM766074,ON078412,OV598404,OU892443,OU517164,OM765502,OU417080,OL696128,OM765918,OM766073,OV154264,OV156186,OV056959,OM739765,OM022041,OV345344,OV133460,OV161569,OL532132,OV311622,OU762767,OL495712,OK397854,OV352683,ON322683,OU518585,OM176525,OM765742,OL527051,OU597214,OU877962,OU629429,OL514617,OU453661,OU967823,OU982289,OM765915,OK619954,OU768193,OK054731,OM766060,OV510992,OU495203,OL317708,OU429719,OM898396,OU534103,OV527296,OL975323,OU457523,OL620008,OU929011,OU545701,OU802579,OU729232,OM725162,MZ970624,OU683965,OL378357,OU839790,OM766076,OU747207,OM176270,OK573755,OV362907,OU790242,OM766053,OK214809,OL427547,OM765666,OV269907,OL836455,OK207179,OL490799,OK443056,OK186381,OM766028,OL580375,OM773306,OM765986,OK067230,OL865913,OV390668,OV075865,OL951299,OU588939,OK274784,OV141792,OK486675,OV742211,OM739877,OV157116,OU977757,OM765822,OU618133,OM739797,OL722851,OV154481,OV002917,OL624442,OU568751,OM765803,OL523255,OU816903,OV637629,OM765731,OM765672,OL582444,OM031534,OU712603,OK476615,OM765575,OL778627 --protocol=FTP --asperaLocation=null\n",
      "\n",
      "             #. ///////////////////       @@@@@@@      @@@@@@@@   @@@@    @@@    @@@@   @@@@@@@@@             @@@    @@@@@@@@\n",
      "        ###. #. /.   /////////////      @@@@  @@@@    @@@   @@@   @@@@   @@@    @@@@   @@@@  @@@@           @@@@   @@@   @@@@\n",
      "    #### #####.     /    /////////     @@@@          @@@    @@@   @@@@  @@@    @@@@   @@@@   @@@@          @@@@  @@@@   @@@@\n",
      "  ##  ########.        //  //////      @@@@         @@@@   @@@@   @@@@ @@@    @@@@   @@@@   @@@@   @@@@@  @@@@  @@@@@@@@@@@\n",
      " #############.             /////      @@@@   @@@   @@@    @@@    @@@@@@@    @@@@   @@@@   @@@@          @@@@         @@@\n",
      "(#############.             ////       @@@@ @@@@    @@@   @@@     @@@@@@    @@@@   @@@@@@@@@@           @@@@   @@@@  @@@\n",
      "(#############.          .  ////        @@@@@@@     @@@@@@@@      @@@@@    @@@@   @@@@@@@@@            @@@@    @@@@@@@@\n",
      " #############.             ///                                                                                              \n",
      "  ##  ########.        //  ////        ######    ##  #####  ##      #####   ####  #####  #####  ##    #\n",
      "    #### #####.     /    /////,        #    #   ###   ##   # #      #   #  #   #  #   #   #    # #   #\n",
      "        ###. #. /.   /////////         #    #  #  #   #   #  #     #####  #   #  ## ##   #    #  #  #\n",
      "             #, //////////////        ######  #   #  ##  #   #    #      ### #  #   #   #    #   # ####\n",
      "\n",
      " (Copyright © EMBL 2021)\n",
      "\n",
      "Welcome to the Covid-19 Data Portal's data downloader utility!\n",
      "----------------------------------------------\n"
     ]
    },
    {
     "name": "stderr",
     "output_type": "stream",
     "text": [
      "Downloading   ? % [                                                          =] 3/?MB (0:00:24 / ?) \n"
     ]
    },
    {
     "name": "stdout",
     "output_type": "stream",
     "text": [
      "Download completed to /host/home/user_7321/user_7321_backup/user_7321/docker/ProjectB---Vital/vital/data_collectors/data/covid19_genome//tmp//viral_sequences/sequences/fasta/20240214-2204.fasta.\n",
      "java -jar cdp-file-downloader.jar --domain=VIRAL_SEQUENCES --datatype=SEQUENCES --format=FASTA --location=/host/home/user_7321/user_7321_backup/user_7321/docker/ProjectB---Vital/vital/data_collectors/data/covid19_genome//tmp/ --email=NONE --accessions=OM765933,OU518491,OK321305,OL923691,OM766099,OM766001,OL353263,OV135827,OM765839,OM765959,OK132467,OL444068,OL787626,OU975581,OK458107,OV498816,OL747123,OM739869,OV318352,OL749786,OU609850,OM739890,OV072415,OM765727,OV219791,OK196020,OM765636,OU512150,OL762299,OU651391,OU634505,OL535585,OU460647,OU629318,OU447667,OV668589,OU549057,OV239503,OL944959,OL556817,OU625280,OV315743,OV281631,OK262653,OM765887,OM060089,OL490187,OU518079,OV318272,OU663076,OK597652,OM124521,OV392059,OU515633,OL387559,OV254091,MZ604628,OV133188,OM765743,OU558429,ON078409,OV279800,OV219736,OL761931,OV050687,OV273205,OM765954,OU935565,OU741839,OM739871,OM739774,OM765585,OL360607,OK527793,OV160485,OK602568,OV235841,OU824993,OU502732,ON055811,OK198186,OL428662,OU516298,OU450602,OU636894,OM765792,OU481748,OV455716,OK575160,OV295255,ON322688,ON078483,OV137484,OM120506,OU447501,OV540396,OL917200,OU963823,OU935187,OU550317,OL590638,OL329364,OU621901,OU454576,OV237546,OM765976,OM725074,OM765733,OV265770,OV225506,OU991833,OL710282,OL857934,OM051115,OU683717,OU834982,OM765889,OU755605,OM773366,OU535959,OU568868,OV540410,OV217806,OU761811,OV084999,OV359825,OL895836,OU507217 --protocol=FTP --asperaLocation=null\n",
      "\n",
      "             #. ///////////////////       @@@@@@@      @@@@@@@@   @@@@    @@@    @@@@   @@@@@@@@@             @@@    @@@@@@@@\n",
      "        ###. #. /.   /////////////      @@@@  @@@@    @@@   @@@   @@@@   @@@    @@@@   @@@@  @@@@           @@@@   @@@   @@@@\n",
      "    #### #####.     /    /////////     @@@@          @@@    @@@   @@@@  @@@    @@@@   @@@@   @@@@          @@@@  @@@@   @@@@\n",
      "  ##  ########.        //  //////      @@@@         @@@@   @@@@   @@@@ @@@    @@@@   @@@@   @@@@   @@@@@  @@@@  @@@@@@@@@@@\n",
      " #############.             /////      @@@@   @@@   @@@    @@@    @@@@@@@    @@@@   @@@@   @@@@          @@@@         @@@\n",
      "(#############.             ////       @@@@ @@@@    @@@   @@@     @@@@@@    @@@@   @@@@@@@@@@           @@@@   @@@@  @@@\n",
      "(#############.          .  ////        @@@@@@@     @@@@@@@@      @@@@@    @@@@   @@@@@@@@@            @@@@    @@@@@@@@\n",
      " #############.             ///                                                                                              \n",
      "  ##  ########.        //  ////        ######    ##  #####  ##      #####   ####  #####  #####  ##    #\n",
      "    #### #####.     /    /////,        #    #   ###   ##   # #      #   #  #   #  #   #   #    # #   #\n",
      "        ###. #. /.   /////////         #    #  #  #   #   #  #     #####  #   #  ## ##   #    #  #  #\n",
      "             #, //////////////        ######  #   #  ##  #   #    #      ### #  #   #   #    #   # ####\n",
      "\n",
      " (Copyright © EMBL 2021)\n",
      "\n",
      "Welcome to the Covid-19 Data Portal's data downloader utility!\n",
      "----------------------------------------------\n"
     ]
    },
    {
     "name": "stderr",
     "output_type": "stream",
     "text": [
      "Downloading   ? % [          =                                                ] 3/?MB (0:00:25 / ?) \n"
     ]
    },
    {
     "name": "stdout",
     "output_type": "stream",
     "text": [
      "Download completed to /host/home/user_7321/user_7321_backup/user_7321/docker/ProjectB---Vital/vital/data_collectors/data/covid19_genome//tmp//viral_sequences/sequences/fasta/20240214-2205.fasta.\n",
      "java -jar cdp-file-downloader.jar --domain=VIRAL_SEQUENCES --datatype=SEQUENCES --format=FASTA --location=/host/home/user_7321/user_7321_backup/user_7321/docker/ProjectB---Vital/vital/data_collectors/data/covid19_genome//tmp/ --email=NONE --accessions=OV258623,OV219256,OU681048,OV007161,OL776365,OK116138,OU772473,OU629849,OU590656,OV283138,OK269996,OU676947,OU639743,OU570387,OU517043,OU701143,OV413384,OU505769,OV336308,OV663270,OM765725,OL999828,OM015722,OM721002,OM739823,OL328647,OU698727,ON055779,OU538587,OK321299,OV090513,OL669405,OU645168,OV199152,OM765700,OK595877,OL378419,OU960329,OV247529,OK173005,OU516410,OV057852,OM765816,MZ994006,OM766006,OM773241,OM765665,OL876766,OU437955,OM765794,OL761879,OU900316,OV172892,OV089628,OU560441,OU479271,OM765938,OK457817,OM766087,OM739876,OM765680,OV115826,OU573819,OK131916,OV161106,OV219524,OM766104,OU735944,OV393379,OU545754,ON055833,OU698090,OL489365,OU764789,OU589570,ON055797,OV157942,OL920810,OU616874,OV174340,OU668670,OK267314,OV391105,OV258454,OU964135,OU926631,OV040275,OU485387,OL669142,OV109134,OM765974,OM739873,OL996909,OL626944,OU584386,OL466175,OM765989,OV237907,OL374265,OU364256,OU427833,ON116568,OV262350,OM720755,OM129724,OV136349,OU871382,OU600819,OU648741,OL669651,OV063026,OU554784,OU663855,OU651090,OK574705,OV203366,OK258372,OL489615,MZ865906,OU701221,OU546199,OW305954,OK158140,OU957051,OU695222,OL962157,OM432734,OM116214 --protocol=FTP --asperaLocation=null\n",
      "\n",
      "             #. ///////////////////       @@@@@@@      @@@@@@@@   @@@@    @@@    @@@@   @@@@@@@@@             @@@    @@@@@@@@\n",
      "        ###. #. /.   /////////////      @@@@  @@@@    @@@   @@@   @@@@   @@@    @@@@   @@@@  @@@@           @@@@   @@@   @@@@\n",
      "    #### #####.     /    /////////     @@@@          @@@    @@@   @@@@  @@@    @@@@   @@@@   @@@@          @@@@  @@@@   @@@@\n",
      "  ##  ########.        //  //////      @@@@         @@@@   @@@@   @@@@ @@@    @@@@   @@@@   @@@@   @@@@@  @@@@  @@@@@@@@@@@\n",
      " #############.             /////      @@@@   @@@   @@@    @@@    @@@@@@@    @@@@   @@@@   @@@@          @@@@         @@@\n",
      "(#############.             ////       @@@@ @@@@    @@@   @@@     @@@@@@    @@@@   @@@@@@@@@@           @@@@   @@@@  @@@\n",
      "(#############.          .  ////        @@@@@@@     @@@@@@@@      @@@@@    @@@@   @@@@@@@@@            @@@@    @@@@@@@@\n",
      " #############.             ///                                                                                              \n",
      "  ##  ########.        //  ////        ######    ##  #####  ##      #####   ####  #####  #####  ##    #\n",
      "    #### #####.     /    /////,        #    #   ###   ##   # #      #   #  #   #  #   #   #    # #   #\n",
      "        ###. #. /.   /////////         #    #  #  #   #   #  #     #####  #   #  ## ##   #    #  #  #\n",
      "             #, //////////////        ######  #   #  ##  #   #    #      ### #  #   #   #    #   # ####\n",
      "\n",
      " (Copyright © EMBL 2021)\n",
      "\n",
      "Welcome to the Covid-19 Data Portal's data downloader utility!\n",
      "----------------------------------------------\n"
     ]
    },
    {
     "name": "stderr",
     "output_type": "stream",
     "text": [
      "Downloading   ? % [       =                                                   ] 3/?MB (0:00:25 / ?) \n"
     ]
    },
    {
     "name": "stdout",
     "output_type": "stream",
     "text": [
      "Download completed to /host/home/user_7321/user_7321_backup/user_7321/docker/ProjectB---Vital/vital/data_collectors/data/covid19_genome//tmp//viral_sequences/sequences/fasta/20240214-2205.fasta.\n",
      "java -jar cdp-file-downloader.jar --domain=VIRAL_SEQUENCES --datatype=SEQUENCES --format=FASTA --location=/host/home/user_7321/user_7321_backup/user_7321/docker/ProjectB---Vital/vital/data_collectors/data/covid19_genome//tmp/ --email=NONE --accessions=OK408020,OV319059,OK150592,OV251127,OK587128,OU843031,OM765823,OU530534,OV387738,OV642680,OL829948,OV850227,OK322211,OM765930,OV141789,OV423694,OK628086,OU599908,ON322693,OV371786,OM765863,OV268038,OV353930,OU871454,OV413377,OK364420,OM765732,OL400840,OL590289,OL878150,OU785695,OM765893,OU765345,OM765527,OL444055,OV685660,OU490367,OM739793,OU717116,OU843217,ON080874,OL565222,OL664996,OU601823,OU557765,OM765793,OV283079,OL431192,OU838207,OU778511,OM400875,OM231038,OM739870,OU977632,OL328185,OK597839,OM076250,OL991670,OL858024,OK269427,OU504536,OU517066,OU684542,OV218111,OL470047,OU906001,OU916592,OU825417,OK519240,MZ802513,OM051114,OV133149,OM765783,OU648214,OM766033,OU961149,OV352720,OL623516,OU625440,OU617509,OV218832,OU351572,OM739863,OU733379,OV154698,OK134096,OV022101,OV161716,OU762138,OL985383,OU666129,OU665330,OU642754,OU629241,OU515322,OM765529,OU688162,OU931990,OV150677,OW109081,OU943791,OU562901,OU490487,OM766000,OM720758,OM766122,OL975311,OU624914,OU549054,OM690878,OL976218,OL327613,OU545771,OV456845,OU873265,OM765536,OV622369,OU566592,OM773335,OU448615,OM720768,OK004467,OM765593,OM773358,OL453564,OV097810,MZ613597,OM739820 --protocol=FTP --asperaLocation=null\n",
      "\n",
      "             #. ///////////////////       @@@@@@@      @@@@@@@@   @@@@    @@@    @@@@   @@@@@@@@@             @@@    @@@@@@@@\n",
      "        ###. #. /.   /////////////      @@@@  @@@@    @@@   @@@   @@@@   @@@    @@@@   @@@@  @@@@           @@@@   @@@   @@@@\n",
      "    #### #####.     /    /////////     @@@@          @@@    @@@   @@@@  @@@    @@@@   @@@@   @@@@          @@@@  @@@@   @@@@\n",
      "  ##  ########.        //  //////      @@@@         @@@@   @@@@   @@@@ @@@    @@@@   @@@@   @@@@   @@@@@  @@@@  @@@@@@@@@@@\n",
      " #############.             /////      @@@@   @@@   @@@    @@@    @@@@@@@    @@@@   @@@@   @@@@          @@@@         @@@\n",
      "(#############.             ////       @@@@ @@@@    @@@   @@@     @@@@@@    @@@@   @@@@@@@@@@           @@@@   @@@@  @@@\n",
      "(#############.          .  ////        @@@@@@@     @@@@@@@@      @@@@@    @@@@   @@@@@@@@@            @@@@    @@@@@@@@\n",
      " #############.             ///                                                                                              \n",
      "  ##  ########.        //  ////        ######    ##  #####  ##      #####   ####  #####  #####  ##    #\n",
      "    #### #####.     /    /////,        #    #   ###   ##   # #      #   #  #   #  #   #   #    # #   #\n",
      "        ###. #. /.   /////////         #    #  #  #   #   #  #     #####  #   #  ## ##   #    #  #  #\n",
      "             #, //////////////        ######  #   #  ##  #   #    #      ### #  #   #   #    #   # ####\n",
      "\n",
      " (Copyright © EMBL 2021)\n",
      "\n",
      "Welcome to the Covid-19 Data Portal's data downloader utility!\n",
      "----------------------------------------------\n"
     ]
    },
    {
     "name": "stderr",
     "output_type": "stream",
     "text": [
      "Downloading   ? % [                                           =               ] 3/?MB (0:00:20 / ?) \n"
     ]
    },
    {
     "name": "stdout",
     "output_type": "stream",
     "text": [
      "Download completed to /host/home/user_7321/user_7321_backup/user_7321/docker/ProjectB---Vital/vital/data_collectors/data/covid19_genome//tmp//viral_sequences/sequences/fasta/20240214-2206.fasta.\n",
      "java -jar cdp-file-downloader.jar --domain=VIRAL_SEQUENCES --datatype=SEQUENCES --format=FASTA --location=/host/home/user_7321/user_7321_backup/user_7321/docker/ProjectB---Vital/vital/data_collectors/data/covid19_genome//tmp/ --email=NONE --accessions=OK373063,OV194091,OM773239,OM773294,OU635297,OV160689,OV597065,OU849907,OL754225,OL393953,OK613971,OM765562,OU682438,OV147484,OV282272,OU859129,OU686951,OU537885,OL685825,OK369554,OU612777,OU864925,OL358172,OM139094,OL440439,OL711142,MZ709192,OV074967,ON078366,OU825966,OU651948,OM765939,OU572788,OL722772,OU517122,OU750429,OK154666,OU452107,OV261876,OV162153,OM765699,OM766108,OM720991,OK283268,OL857704,OM013424,OM031501,OM739865,OV138721,OK657608,OU416271,OM766105,OL969997,OV699034,OK655486,OM765705,OU888462,MZ865907,OM766103,OU793384,OU854728,OL969470,OU424158,OU817172,OV145932,OM765843,OU566519,OU520348,ON116604,OU624596,OU680077,OU767458,OM074120,OV073923,MZ888461,OM739794,OV532422,OM765883,OV589619,OV623057,OU653791,OV273410,OM773242,OV099343,OM765873,OL747947,OM078219,OU687386,OK211129,OL344714,ON322686,OU632590,OW097054,OM739831,OM493678,MZ827590,OU867925,OL355587,OL491568,MZ650646,OV232968,MZ683759,OL474872,OM765849,OU701164,OV143801,OM765740,OL783262,OM522330,OV385194,OL447112,OM130226,OM130057,OU893564,OU582985,OU669636,OU659649,OL574239,OL510820,OU925457,MZ943915,OV369790,OM739796,OM739839,OM739815,OL783266,OU833774,OM106012 --protocol=FTP --asperaLocation=null\n",
      "\n",
      "             #. ///////////////////       @@@@@@@      @@@@@@@@   @@@@    @@@    @@@@   @@@@@@@@@             @@@    @@@@@@@@\n",
      "        ###. #. /.   /////////////      @@@@  @@@@    @@@   @@@   @@@@   @@@    @@@@   @@@@  @@@@           @@@@   @@@   @@@@\n",
      "    #### #####.     /    /////////     @@@@          @@@    @@@   @@@@  @@@    @@@@   @@@@   @@@@          @@@@  @@@@   @@@@\n",
      "  ##  ########.        //  //////      @@@@         @@@@   @@@@   @@@@ @@@    @@@@   @@@@   @@@@   @@@@@  @@@@  @@@@@@@@@@@\n",
      " #############.             /////      @@@@   @@@   @@@    @@@    @@@@@@@    @@@@   @@@@   @@@@          @@@@         @@@\n",
      "(#############.             ////       @@@@ @@@@    @@@   @@@     @@@@@@    @@@@   @@@@@@@@@@           @@@@   @@@@  @@@\n",
      "(#############.          .  ////        @@@@@@@     @@@@@@@@      @@@@@    @@@@   @@@@@@@@@            @@@@    @@@@@@@@\n",
      " #############.             ///                                                                                              \n",
      "  ##  ########.        //  ////        ######    ##  #####  ##      #####   ####  #####  #####  ##    #\n",
      "    #### #####.     /    /////,        #    #   ###   ##   # #      #   #  #   #  #   #   #    # #   #\n",
      "        ###. #. /.   /////////         #    #  #  #   #   #  #     #####  #   #  ## ##   #    #  #  #\n",
      "             #, //////////////        ######  #   #  ##  #   #    #      ### #  #   #   #    #   # ####\n",
      "\n",
      " (Copyright © EMBL 2021)\n",
      "\n",
      "Welcome to the Covid-19 Data Portal's data downloader utility!\n",
      "----------------------------------------------\n"
     ]
    },
    {
     "name": "stderr",
     "output_type": "stream",
     "text": [
      "Downloading   ? % [                                                     =     ] 3/?MB (0:00:28 / ?) \n"
     ]
    },
    {
     "name": "stdout",
     "output_type": "stream",
     "text": [
      "Download completed to /host/home/user_7321/user_7321_backup/user_7321/docker/ProjectB---Vital/vital/data_collectors/data/covid19_genome//tmp//viral_sequences/sequences/fasta/20240214-2206.fasta.\n",
      "java -jar cdp-file-downloader.jar --domain=VIRAL_SEQUENCES --datatype=SEQUENCES --format=FASTA --location=/host/home/user_7321/user_7321_backup/user_7321/docker/ProjectB---Vital/vital/data_collectors/data/covid19_genome//tmp/ --email=NONE --accessions=OU495321,OK189635,OM765835,OL693611,OU488132,OK596822,OV392270,OV071440,OK207128,OV223247,OV123589,OK107713,OU691678,OU755278,OM720772,OU637770,OV063598,OU525977,OL708617,OV151376,OU630788,OM765865,ON322691,OU610780,OU476994,OV097834,OM765638,OK522909,OU881506,OL975888,OU737963,OU490393,OU490013,OU530513,OU727273,OV682031,OU664902,OM164858,OK640755,OM765881,OU654493,OU447142,OM725196,OL883915,OK047057,OU566498,OV162931,OU827004,OV475066,OM765957,OL858821,OK574703,OM389694,OV262675,OU613195,OU877444,OU832822,OU791378,OU701273,OU786254,OL318724,OU437883,OV663988,OM765910,OV261287,OM739763,OM766071,OM721007,OM050261,OM765999,OU916655,OL788241,OV050206,OV259680,OM725108,OK047812,OV005291,OV531672,OU669985,OL569092,OL808814,OU760263,OU517546,OL750002,OV641081,OU641110,OM142711,OL308448,OM269848,OM766041,OU518146,OM773364,MZ592681,OM739761,OK306031,OL389047,OU588943,ON055807,OU978274,MZ943759,OV423716,OU429625,OV683397,OK160102,OK344437,OL372925,OM765934,OL394441,OV325879,OM765524,OU435555,OV455661,OK171124,OM051557,OU788650,OU415094,OU485210,OV155497,OV132597,OM766125,OV098210,OU663666,OV130529,OU651187,OU762365,OM766052,OV304747,OM765612 --protocol=FTP --asperaLocation=null\n",
      "\n",
      "             #. ///////////////////       @@@@@@@      @@@@@@@@   @@@@    @@@    @@@@   @@@@@@@@@             @@@    @@@@@@@@\n",
      "        ###. #. /.   /////////////      @@@@  @@@@    @@@   @@@   @@@@   @@@    @@@@   @@@@  @@@@           @@@@   @@@   @@@@\n",
      "    #### #####.     /    /////////     @@@@          @@@    @@@   @@@@  @@@    @@@@   @@@@   @@@@          @@@@  @@@@   @@@@\n",
      "  ##  ########.        //  //////      @@@@         @@@@   @@@@   @@@@ @@@    @@@@   @@@@   @@@@   @@@@@  @@@@  @@@@@@@@@@@\n",
      " #############.             /////      @@@@   @@@   @@@    @@@    @@@@@@@    @@@@   @@@@   @@@@          @@@@         @@@\n",
      "(#############.             ////       @@@@ @@@@    @@@   @@@     @@@@@@    @@@@   @@@@@@@@@@           @@@@   @@@@  @@@\n",
      "(#############.          .  ////        @@@@@@@     @@@@@@@@      @@@@@    @@@@   @@@@@@@@@            @@@@    @@@@@@@@\n",
      " #############.             ///                                                                                              \n",
      "  ##  ########.        //  ////        ######    ##  #####  ##      #####   ####  #####  #####  ##    #\n",
      "    #### #####.     /    /////,        #    #   ###   ##   # #      #   #  #   #  #   #   #    # #   #\n",
      "        ###. #. /.   /////////         #    #  #  #   #   #  #     #####  #   #  ## ##   #    #  #  #\n",
      "             #, //////////////        ######  #   #  ##  #   #    #      ### #  #   #   #    #   # ####\n",
      "\n",
      " (Copyright © EMBL 2021)\n",
      "\n",
      "Welcome to the Covid-19 Data Portal's data downloader utility!\n",
      "----------------------------------------------\n"
     ]
    },
    {
     "name": "stderr",
     "output_type": "stream",
     "text": [
      "Downloading   ? % [                                                  =        ] 3/?MB (0:00:24 / ?) \n"
     ]
    },
    {
     "name": "stdout",
     "output_type": "stream",
     "text": [
      "Download completed to /host/home/user_7321/user_7321_backup/user_7321/docker/ProjectB---Vital/vital/data_collectors/data/covid19_genome//tmp//viral_sequences/sequences/fasta/20240214-2207.fasta.\n",
      "java -jar cdp-file-downloader.jar --domain=VIRAL_SEQUENCES --datatype=SEQUENCES --format=FASTA --location=/host/home/user_7321/user_7321_backup/user_7321/docker/ProjectB---Vital/vital/data_collectors/data/covid19_genome//tmp/ --email=NONE --accessions=OM739834,OM020012,OM765825,OV047658,OV260870,OM766023,OL838736,OU653816,OV367176,OU518284,OU612771,OU597182,OM004864,OV161135,OV618227,OV067630,OU436948,OL356505,OU566612,OU596873,OM765664,OU915949,OM765535,OV261193,OL492814,OL888226,OM076485,OU420606,OV083318,ON150681,OV302085,OM765583,OL720055,OM725116,OV047869,OK455446,OM766058,OU630377,OV642527,OL568379,OM884005,OU567170,OK599259,OV051658,OU859602,OU446582,OL353058,OV065886,OU751240,OV347308,OK639452,MZ938751,OM765848,OM773244,OL487829,OV316981,OU626086,OU606964,OU649350,OU544155,OL887495,OV058400,OL837633,OU758995,OV211648,OK383370,OU750442,OV277753,OL983786,OV228825,OU999075,OL508683,OU597273,OV728218,OV047698,OK463079,OU917926,OK103196,OL591112,OL749789,OV395360,OU690821,OL359082,OM765565,OV292944,OU491040,OU789930,OU589631,OM725096,OL959367,OU518171,OU915957,OU845349,OV265010,OM766149,OU728315,OV459317,OU756151,OV204877,OU526108,OM765829,OU507918,OV138182,OL940330,OV399824,OU582992,OU610480,OK163686,OK644798,OM766014,OV087859,OU705124,OU602472,OK300997,OM898631,OV124879,OL488024,OV337575,OU761209,OM739857,OU615318,OV098179,OU716226,OU557614,OM766078,OM773262,OU518277,OM765549 --protocol=FTP --asperaLocation=null\n",
      "\n",
      "             #. ///////////////////       @@@@@@@      @@@@@@@@   @@@@    @@@    @@@@   @@@@@@@@@             @@@    @@@@@@@@\n",
      "        ###. #. /.   /////////////      @@@@  @@@@    @@@   @@@   @@@@   @@@    @@@@   @@@@  @@@@           @@@@   @@@   @@@@\n",
      "    #### #####.     /    /////////     @@@@          @@@    @@@   @@@@  @@@    @@@@   @@@@   @@@@          @@@@  @@@@   @@@@\n",
      "  ##  ########.        //  //////      @@@@         @@@@   @@@@   @@@@ @@@    @@@@   @@@@   @@@@   @@@@@  @@@@  @@@@@@@@@@@\n",
      " #############.             /////      @@@@   @@@   @@@    @@@    @@@@@@@    @@@@   @@@@   @@@@          @@@@         @@@\n",
      "(#############.             ////       @@@@ @@@@    @@@   @@@     @@@@@@    @@@@   @@@@@@@@@@           @@@@   @@@@  @@@\n",
      "(#############.          .  ////        @@@@@@@     @@@@@@@@      @@@@@    @@@@   @@@@@@@@@            @@@@    @@@@@@@@\n",
      " #############.             ///                                                                                              \n",
      "  ##  ########.        //  ////        ######    ##  #####  ##      #####   ####  #####  #####  ##    #\n",
      "    #### #####.     /    /////,        #    #   ###   ##   # #      #   #  #   #  #   #   #    # #   #\n",
      "        ###. #. /.   /////////         #    #  #  #   #   #  #     #####  #   #  ## ##   #    #  #  #\n",
      "             #, //////////////        ######  #   #  ##  #   #    #      ### #  #   #   #    #   # ####\n",
      "\n",
      " (Copyright © EMBL 2021)\n",
      "\n",
      "Welcome to the Covid-19 Data Portal's data downloader utility!\n",
      "----------------------------------------------\n"
     ]
    },
    {
     "name": "stderr",
     "output_type": "stream",
     "text": [
      "Downloading   ? % [                    =                                      ] 3/?MB (0:00:27 / ?) \n"
     ]
    },
    {
     "name": "stdout",
     "output_type": "stream",
     "text": [
      "Download completed to /host/home/user_7321/user_7321_backup/user_7321/docker/ProjectB---Vital/vital/data_collectors/data/covid19_genome//tmp//viral_sequences/sequences/fasta/20240214-2207.fasta.\n",
      "java -jar cdp-file-downloader.jar --domain=VIRAL_SEQUENCES --datatype=SEQUENCES --format=FASTA --location=/host/home/user_7321/user_7321_backup/user_7321/docker/ProjectB---Vital/vital/data_collectors/data/covid19_genome//tmp/ --email=NONE --accessions=OW325506,OV210036,OK658900,OW301651,OM142801,OV410650,OV412962,OV670115,OL676396,OK237930,OU650022,OV212400,OV116290,OV212716,OV469524,OU936692,OL709053,OV510110,OV117390,OV459945,OK079549,OV657339,OK303144,OK377986,OV211567,OV680381,OU380784,OV182993,OL397818,OL373701,OV343102,OV226139,OM541525,OV430435,OV527112,OL414702,OU616532,OL845807,OV508362,OV232100,OV411764,OV203902,OV196118,OV245583,OV198411,OV466276,OV543407,OV509619,OK636145,OV414893,OU722906,OV245164,OV373271,OV356669,OV119735,OV158766,OV298690,OM180595,OK368197,OK164533,OU998534,OL565507,OK118948,OU479023,OV272488,OV226083,OV263781,OV686132,OL584830,OV212408,OV227698,OV376723,OV226941,OU988451,OU926596,OV210114,OL336698,OL374161,OV064095,OL495823,OV192229,OK302623,OV211650,OV200633,OV526317,OV358926,OM779164,OV020059,OV170754,OL453930,OV386398,OK568177,OV238562,OM095572,OV015744,OM256223,OK508740,OK080866,OV662300,OK658958,OV109296,OU362833,OV370755,OV212326,OM432714,OK631437,OV635288,OK497123,OV578604,OV126556,OK275984,OK378621,OV213519,OK435048,OV508091,OV352370,OV466211,OL974056,OK308041,MZ535640,OV528712,OU517554,OV292047,OL480469,OK309155,OV445534,OU569236,OV036989 --protocol=FTP --asperaLocation=null\n",
      "\n",
      "             #. ///////////////////       @@@@@@@      @@@@@@@@   @@@@    @@@    @@@@   @@@@@@@@@             @@@    @@@@@@@@\n",
      "        ###. #. /.   /////////////      @@@@  @@@@    @@@   @@@   @@@@   @@@    @@@@   @@@@  @@@@           @@@@   @@@   @@@@\n",
      "    #### #####.     /    /////////     @@@@          @@@    @@@   @@@@  @@@    @@@@   @@@@   @@@@          @@@@  @@@@   @@@@\n",
      "  ##  ########.        //  //////      @@@@         @@@@   @@@@   @@@@ @@@    @@@@   @@@@   @@@@   @@@@@  @@@@  @@@@@@@@@@@\n",
      " #############.             /////      @@@@   @@@   @@@    @@@    @@@@@@@    @@@@   @@@@   @@@@          @@@@         @@@\n",
      "(#############.             ////       @@@@ @@@@    @@@   @@@     @@@@@@    @@@@   @@@@@@@@@@           @@@@   @@@@  @@@\n",
      "(#############.          .  ////        @@@@@@@     @@@@@@@@      @@@@@    @@@@   @@@@@@@@@            @@@@    @@@@@@@@\n",
      " #############.             ///                                                                                              \n",
      "  ##  ########.        //  ////        ######    ##  #####  ##      #####   ####  #####  #####  ##    #\n",
      "    #### #####.     /    /////,        #    #   ###   ##   # #      #   #  #   #  #   #   #    # #   #\n",
      "        ###. #. /.   /////////         #    #  #  #   #   #  #     #####  #   #  ## ##   #    #  #  #\n",
      "             #, //////////////        ######  #   #  ##  #   #    #      ### #  #   #   #    #   # ####\n",
      "\n",
      " (Copyright © EMBL 2021)\n",
      "\n",
      "Welcome to the Covid-19 Data Portal's data downloader utility!\n",
      "----------------------------------------------\n"
     ]
    },
    {
     "name": "stderr",
     "output_type": "stream",
     "text": [
      "Downloading   ? % [                                                         = ] 3/?MB (0:00:25 / ?) \n"
     ]
    },
    {
     "name": "stdout",
     "output_type": "stream",
     "text": [
      "Download completed to /host/home/user_7321/user_7321_backup/user_7321/docker/ProjectB---Vital/vital/data_collectors/data/covid19_genome//tmp//viral_sequences/sequences/fasta/20240214-2208.fasta.\n",
      "java -jar cdp-file-downloader.jar --domain=VIRAL_SEQUENCES --datatype=SEQUENCES --format=FASTA --location=/host/home/user_7321/user_7321_backup/user_7321/docker/ProjectB---Vital/vital/data_collectors/data/covid19_genome//tmp/ --email=NONE --accessions=OV415961,OV640911,OV457258,OV530647,OL317478,OM095821,OV211965,OV489185,OK389596,OK635315,OV515458,OV231891,OV260349,OV460383,OV396404,OV844940,OV109966,OV671964,OV487541,OV360902,OV143277,OV226021,OV442259,OV352378,OK406740,OK147362,OV211817,OV126937,OV410400,OM037241,OV117195,OV237876,OV330756,OV510681,OV372948,OU565397,OV018277,OV470088,OL515045,OK635322,OV198075,OK508741,OK006638,OV540812,OV360663,OV227425,OV247464,OV324224,OK629316,OV212217,OL984011,OV330404,OV509103,OV270253,OV316489,OU406759,OV017036,OU958690,OV211826,OV530812,OL307563,OK087764,OL400186,OV254310,OW298521,OK087771,OV227697,MZ815226,OV198844,OV508959,OV199523,OV206328,MZ839115,OL465332,OV226085,OV212080,OV361338,OV685298,OK029015,OK139727,OV673804,OK287831,OV355633,OU373768,OV631033,OM095723,OV210164,OV168749,OV214994,MZ843864,OV110134,OV226462,OV539266,OV109140,OL336659,OV017286,OV527273,OV118108,OM779592,OV300136,OM525440,OL584780,OK247176,OK378517,OL404252,OV389118,OK079966,OV227681,OV240052,OL429463,OK366018,OL983884,OV020194,OK647732,OM069702,OL400788,OV662164,OK276444,OV201081,OV351207,OV110240,OV266350,OV355003,OU928067,OV247768,OK385876,OL584774,OV240900 --protocol=FTP --asperaLocation=null\n",
      "\n",
      "             #. ///////////////////       @@@@@@@      @@@@@@@@   @@@@    @@@    @@@@   @@@@@@@@@             @@@    @@@@@@@@\n",
      "        ###. #. /.   /////////////      @@@@  @@@@    @@@   @@@   @@@@   @@@    @@@@   @@@@  @@@@           @@@@   @@@   @@@@\n",
      "    #### #####.     /    /////////     @@@@          @@@    @@@   @@@@  @@@    @@@@   @@@@   @@@@          @@@@  @@@@   @@@@\n",
      "  ##  ########.        //  //////      @@@@         @@@@   @@@@   @@@@ @@@    @@@@   @@@@   @@@@   @@@@@  @@@@  @@@@@@@@@@@\n",
      " #############.             /////      @@@@   @@@   @@@    @@@    @@@@@@@    @@@@   @@@@   @@@@          @@@@         @@@\n",
      "(#############.             ////       @@@@ @@@@    @@@   @@@     @@@@@@    @@@@   @@@@@@@@@@           @@@@   @@@@  @@@\n",
      "(#############.          .  ////        @@@@@@@     @@@@@@@@      @@@@@    @@@@   @@@@@@@@@            @@@@    @@@@@@@@\n",
      " #############.             ///                                                                                              \n",
      "  ##  ########.        //  ////        ######    ##  #####  ##      #####   ####  #####  #####  ##    #\n",
      "    #### #####.     /    /////,        #    #   ###   ##   # #      #   #  #   #  #   #   #    # #   #\n",
      "        ###. #. /.   /////////         #    #  #  #   #   #  #     #####  #   #  ## ##   #    #  #  #\n",
      "             #, //////////////        ######  #   #  ##  #   #    #      ### #  #   #   #    #   # ####\n",
      "\n",
      " (Copyright © EMBL 2021)\n",
      "\n",
      "Welcome to the Covid-19 Data Portal's data downloader utility!\n",
      "----------------------------------------------\n"
     ]
    },
    {
     "name": "stderr",
     "output_type": "stream",
     "text": [
      "Downloading   ? % [                                                     =     ] 3/?MB (0:00:25 / ?) \n"
     ]
    },
    {
     "name": "stdout",
     "output_type": "stream",
     "text": [
      "Download completed to /host/home/user_7321/user_7321_backup/user_7321/docker/ProjectB---Vital/vital/data_collectors/data/covid19_genome//tmp//viral_sequences/sequences/fasta/20240214-2208.fasta.\n",
      "java -jar cdp-file-downloader.jar --domain=VIRAL_SEQUENCES --datatype=SEQUENCES --format=FASTA --location=/host/home/user_7321/user_7321_backup/user_7321/docker/ProjectB---Vital/vital/data_collectors/data/covid19_genome//tmp/ --email=NONE --accessions=OV301926,OV038461,OV662335,OV349614,OU545752,MZ777936,MZ914435,OK415398,OV210104,OK630292,OK110330,OL407292,OV392430,OL584737,OV019675,OV373547,OV669130,OV179801,OV118582,OK053200,OV239782,OV489195,OV689377,OV238097,OV242127,OV888453,OL584831,OV518845,OV825132,OK481655,OV202879,OL579327,OL241291,OV374201,OV624358,OL336614,OV479361,MZ992481,OK136892,OW309858,OM148385,OK219261,OV204322,OL336657,OV014116,OV227099,OV672105,OK140035,OW300462,OV659525,OL400574,OV247221,OV352967,OV018960,OV679103,OV542347,OK527219,OK291206,OV508822,OU936787,OL454127,OV118460,OV239006,OV211047,OV125095,OM147393,OV511339,OV213345,OU974503,OV351899,OV208997,OK464684,OL345677,OV011782,OK147370,OV213384,OK376435,OK222150,OV528025,OV397756,OV222146,OK626788,OV422371,OV202828,OK464766,OL428105,OK220805,OK390009,OU996352,OV225770,OV111362,OV364895,OV112975,OK137478,OV178420,OV298244,OV243942,OK046456,OV658591,OV542809,OV526001,OV214996,OU975412,OV336875,OV845004,OL465629,OU927959,OL606695,OV301665,OM142800,MZ830828,OV476138,OV539502,OV209257,OV402081,OV543997,OL521571,OV619401,OU930354,OV196283,OK636146,OL428783,OV110948,OV297598,OV209253,OV213674,OW306715,OK406302 --protocol=FTP --asperaLocation=null\n",
      "\n",
      "             #. ///////////////////       @@@@@@@      @@@@@@@@   @@@@    @@@    @@@@   @@@@@@@@@             @@@    @@@@@@@@\n",
      "        ###. #. /.   /////////////      @@@@  @@@@    @@@   @@@   @@@@   @@@    @@@@   @@@@  @@@@           @@@@   @@@   @@@@\n",
      "    #### #####.     /    /////////     @@@@          @@@    @@@   @@@@  @@@    @@@@   @@@@   @@@@          @@@@  @@@@   @@@@\n",
      "  ##  ########.        //  //////      @@@@         @@@@   @@@@   @@@@ @@@    @@@@   @@@@   @@@@   @@@@@  @@@@  @@@@@@@@@@@\n",
      " #############.             /////      @@@@   @@@   @@@    @@@    @@@@@@@    @@@@   @@@@   @@@@          @@@@         @@@\n",
      "(#############.             ////       @@@@ @@@@    @@@   @@@     @@@@@@    @@@@   @@@@@@@@@@           @@@@   @@@@  @@@\n",
      "(#############.          .  ////        @@@@@@@     @@@@@@@@      @@@@@    @@@@   @@@@@@@@@            @@@@    @@@@@@@@\n",
      " #############.             ///                                                                                              \n",
      "  ##  ########.        //  ////        ######    ##  #####  ##      #####   ####  #####  #####  ##    #\n",
      "    #### #####.     /    /////,        #    #   ###   ##   # #      #   #  #   #  #   #   #    # #   #\n",
      "        ###. #. /.   /////////         #    #  #  #   #   #  #     #####  #   #  ## ##   #    #  #  #\n",
      "             #, //////////////        ######  #   #  ##  #   #    #      ### #  #   #   #    #   # ####\n",
      "\n",
      " (Copyright © EMBL 2021)\n",
      "\n",
      "Welcome to the Covid-19 Data Portal's data downloader utility!\n",
      "----------------------------------------------\n"
     ]
    },
    {
     "name": "stderr",
     "output_type": "stream",
     "text": [
      "Downloading   ? % [        =                                                  ] 3/?MB (0:00:24 / ?) \n"
     ]
    },
    {
     "name": "stdout",
     "output_type": "stream",
     "text": [
      "Download completed to /host/home/user_7321/user_7321_backup/user_7321/docker/ProjectB---Vital/vital/data_collectors/data/covid19_genome//tmp//viral_sequences/sequences/fasta/20240214-2209.fasta.\n",
      "java -jar cdp-file-downloader.jar --domain=VIRAL_SEQUENCES --datatype=SEQUENCES --format=FASTA --location=/host/home/user_7321/user_7321_backup/user_7321/docker/ProjectB---Vital/vital/data_collectors/data/covid19_genome//tmp/ --email=NONE --accessions=OL753158,OK079468,OL373282,OK118794,OV526960,OV239649,OV220091,OK483297,OV468507,OK389976,OV483917,OV213891,OV849918,OV659352,OU938165,OM780888,OK647762,OW299109,OU430196,OV683988,OV212786,OM432762,OV225990,OV414657,OV051496,OK390804,OV382766,OK446058,OK462715,OV211698,OV470475,OM095665,OL484319,OV528122,OW304905,OL608668,OV009163,OV241079,OV588429,OU958871,OV214410,OV521258,OV650576,OV208900,OV111951,OK360497,OK647672,OV201214,OV209375,OV530122,OU683957,OV664061,OL916871,OV508563,OL521409,OV394424,OK008959,OV508939,OL305003,OV415190,OV300765,OV211837,OK464674,OL863855,OV414892,OV020299,OV235769,OK046724,OV231164,OV265888,OV343729,OV198666,OV239280,OV212315,OV211518,OV120165,OK273698,OK147303,OU433488,OV488554,OK604390,OV197028,OV339625,OV494800,OV309679,OU998128,OK310098,OV825443,OL383187,OV696318,OL999561,OV240241,OV014774,OV392051,OK579708,OV204290,OV114357,OV232437,OV199249,OK372793,OK650824,OK079552,OV696552,OV242128,OV012668,OV198159,OL567163,OL827457,OV228083,OW299168,OU872005,OK243799,OV232794,OV203212,OW296649,OV396405,OV212178,OU910510,OV128769,OL606662,MZ676440,OL432283,OK658992,OV527019,OV209438,OV110196,OW299691,OV517672 --protocol=FTP --asperaLocation=null\n",
      "\n",
      "             #. ///////////////////       @@@@@@@      @@@@@@@@   @@@@    @@@    @@@@   @@@@@@@@@             @@@    @@@@@@@@\n",
      "        ###. #. /.   /////////////      @@@@  @@@@    @@@   @@@   @@@@   @@@    @@@@   @@@@  @@@@           @@@@   @@@   @@@@\n",
      "    #### #####.     /    /////////     @@@@          @@@    @@@   @@@@  @@@    @@@@   @@@@   @@@@          @@@@  @@@@   @@@@\n",
      "  ##  ########.        //  //////      @@@@         @@@@   @@@@   @@@@ @@@    @@@@   @@@@   @@@@   @@@@@  @@@@  @@@@@@@@@@@\n",
      " #############.             /////      @@@@   @@@   @@@    @@@    @@@@@@@    @@@@   @@@@   @@@@          @@@@         @@@\n",
      "(#############.             ////       @@@@ @@@@    @@@   @@@     @@@@@@    @@@@   @@@@@@@@@@           @@@@   @@@@  @@@\n",
      "(#############.          .  ////        @@@@@@@     @@@@@@@@      @@@@@    @@@@   @@@@@@@@@            @@@@    @@@@@@@@\n",
      " #############.             ///                                                                                              \n",
      "  ##  ########.        //  ////        ######    ##  #####  ##      #####   ####  #####  #####  ##    #\n",
      "    #### #####.     /    /////,        #    #   ###   ##   # #      #   #  #   #  #   #   #    # #   #\n",
      "        ###. #. /.   /////////         #    #  #  #   #   #  #     #####  #   #  ## ##   #    #  #  #\n",
      "             #, //////////////        ######  #   #  ##  #   #    #      ### #  #   #   #    #   # ####\n",
      "\n",
      " (Copyright © EMBL 2021)\n",
      "\n",
      "Welcome to the Covid-19 Data Portal's data downloader utility!\n",
      "----------------------------------------------\n"
     ]
    },
    {
     "name": "stderr",
     "output_type": "stream",
     "text": [
      "Downloading   ? % [                           =                               ] 3/?MB (0:00:23 / ?) \n"
     ]
    },
    {
     "name": "stdout",
     "output_type": "stream",
     "text": [
      "Download completed to /host/home/user_7321/user_7321_backup/user_7321/docker/ProjectB---Vital/vital/data_collectors/data/covid19_genome//tmp//viral_sequences/sequences/fasta/20240214-2209.fasta.\n",
      "java -jar cdp-file-downloader.jar --domain=VIRAL_SEQUENCES --datatype=SEQUENCES --format=FASTA --location=/host/home/user_7321/user_7321_backup/user_7321/docker/ProjectB---Vital/vital/data_collectors/data/covid19_genome//tmp/ --email=NONE --accessions=OK556859,OU424087,OL702508,OV349640,OK403331,OL433725,OV222096,OL414221,OV202005,OV508963,OM095820,OK599185,OV119662,OV213038,OK602017,OV850649,OK487650,OL764928,OU997601,OV529951,OM124577,MZ891948,OV172379,OU838873,OV211697,OK478680,OK068944,OV669868,OK580207,OK406184,OW299621,OV058121,OV669735,OM058066,OV345341,OL606645,OV667785,OV096826,OV616991,OL962742,OL321709,OV677597,MZ831857,OV240217,OV202907,OV210289,OV383541,OV119436,OV677120,OK148257,OV179549,OV488521,OV209665,OV510378,OV192253,OL572628,OL309819,OU966656,OU959040,OL516108,OV227983,OV661286,OL309717,OV591452,OV644582,OV112275,OU567581,OV197435,OV402519,OL463715,OL584808,OV321576,MZ740870,OM005269,OV666551,OV414167,OV199357,OV362165,OV119793,OV114348,OK244085,OV467193,OV373914,OV339337,OV511453,OK273382,OU362916,OV120935,OL454125,OL999552,OV222321,OL424889,OU570112,OK164378,OM779428,OK647668,OV525780,OV447732,OV200193,OL800655,OV304188,OV413862,OV349738,OV395124,OV629403,MZ953815,OV514123,OV674578,OV527020,OV211350,OV412430,OK635311,OK219351,OV422370,OV212340,OV123967,OV273825,OV523319,MZ983066,OL977185,OV329642,OV309967,OV076737,OV671473,OV309698,OV212618,OV430574,OV328138 --protocol=FTP --asperaLocation=null\n",
      "\n",
      "             #. ///////////////////       @@@@@@@      @@@@@@@@   @@@@    @@@    @@@@   @@@@@@@@@             @@@    @@@@@@@@\n",
      "        ###. #. /.   /////////////      @@@@  @@@@    @@@   @@@   @@@@   @@@    @@@@   @@@@  @@@@           @@@@   @@@   @@@@\n",
      "    #### #####.     /    /////////     @@@@          @@@    @@@   @@@@  @@@    @@@@   @@@@   @@@@          @@@@  @@@@   @@@@\n",
      "  ##  ########.        //  //////      @@@@         @@@@   @@@@   @@@@ @@@    @@@@   @@@@   @@@@   @@@@@  @@@@  @@@@@@@@@@@\n",
      " #############.             /////      @@@@   @@@   @@@    @@@    @@@@@@@    @@@@   @@@@   @@@@          @@@@         @@@\n",
      "(#############.             ////       @@@@ @@@@    @@@   @@@     @@@@@@    @@@@   @@@@@@@@@@           @@@@   @@@@  @@@\n",
      "(#############.          .  ////        @@@@@@@     @@@@@@@@      @@@@@    @@@@   @@@@@@@@@            @@@@    @@@@@@@@\n",
      " #############.             ///                                                                                              \n",
      "  ##  ########.        //  ////        ######    ##  #####  ##      #####   ####  #####  #####  ##    #\n",
      "    #### #####.     /    /////,        #    #   ###   ##   # #      #   #  #   #  #   #   #    # #   #\n",
      "        ###. #. /.   /////////         #    #  #  #   #   #  #     #####  #   #  ## ##   #    #  #  #\n",
      "             #, //////////////        ######  #   #  ##  #   #    #      ### #  #   #   #    #   # ####\n",
      "\n",
      " (Copyright © EMBL 2021)\n",
      "\n",
      "Welcome to the Covid-19 Data Portal's data downloader utility!\n",
      "----------------------------------------------\n"
     ]
    },
    {
     "name": "stderr",
     "output_type": "stream",
     "text": [
      "Downloading   ? % [                             =                             ] 3/?MB (0:00:22 / ?) \n"
     ]
    },
    {
     "name": "stdout",
     "output_type": "stream",
     "text": [
      "Download completed to /host/home/user_7321/user_7321_backup/user_7321/docker/ProjectB---Vital/vital/data_collectors/data/covid19_genome//tmp//viral_sequences/sequences/fasta/20240214-2209.fasta.\n",
      "java -jar cdp-file-downloader.jar --domain=VIRAL_SEQUENCES --datatype=SEQUENCES --format=FASTA --location=/host/home/user_7321/user_7321_backup/user_7321/docker/ProjectB---Vital/vital/data_collectors/data/covid19_genome//tmp/ --email=NONE --accessions=OV116000,OK495437,OV247838,OL373422,OL515553,OM255976,OK565190,OU975068,OV212642,OL673357,OK154480,OK238808,OK275086,OV669344,OV367544,OV350115,OL366374,OV376513,OK472754,OV198892,OV201913,OK508746,OL512184,OU980138,OV323996,OL564244,OK150133,OV217837,OV238477,OV128621,OL480351,OK626838,OV199165,OK310313,OV218790,OV854234,OK465014,OV829863,OU966867,OK601987,MZ843632,OV508973,OV587101,OV670558,OV211969,OL336697,OV253901,OV339721,OM031151,OL414640,OU979735,OV015757,MZ934106,OV242312,OL950071,OV173152,OU965040,OV410006,OK464732,OV685322,OV509332,OV232512,OV413213,OV460583,OV239405,OV301472,OU613631,OM084156,OK002925,OV667453,OV353505,OV335635,OM005144,OV351226,OV209465,OV670636,OK222961,OU926867,OV231824,OK137481,OL521166,OV320838,OV232254,OV303461,OV016925,OL941579,OK604223,OK373141,OM255900,OV521733,OV528076,OK243869,OV264204,OV106111,OV509153,OV266301,OK308176,OU382615,OV214233,OV664641,OV266022,OV509742,OV212345,OV211609,OV240104,OV518684,OK338282,OV225329,OV523039,OV307302,OL465134,OV508966,OV048072,OK629237,OW300282,OV292006,OV231888,OM779429,OV212432,OV209597,MZ839181,OV197424,OV386034,OV265631,OL842233,OV628379,OV412062,OK014622 --protocol=FTP --asperaLocation=null\n",
      "\n",
      "             #. ///////////////////       @@@@@@@      @@@@@@@@   @@@@    @@@    @@@@   @@@@@@@@@             @@@    @@@@@@@@\n",
      "        ###. #. /.   /////////////      @@@@  @@@@    @@@   @@@   @@@@   @@@    @@@@   @@@@  @@@@           @@@@   @@@   @@@@\n",
      "    #### #####.     /    /////////     @@@@          @@@    @@@   @@@@  @@@    @@@@   @@@@   @@@@          @@@@  @@@@   @@@@\n",
      "  ##  ########.        //  //////      @@@@         @@@@   @@@@   @@@@ @@@    @@@@   @@@@   @@@@   @@@@@  @@@@  @@@@@@@@@@@\n",
      " #############.             /////      @@@@   @@@   @@@    @@@    @@@@@@@    @@@@   @@@@   @@@@          @@@@         @@@\n",
      "(#############.             ////       @@@@ @@@@    @@@   @@@     @@@@@@    @@@@   @@@@@@@@@@           @@@@   @@@@  @@@\n",
      "(#############.          .  ////        @@@@@@@     @@@@@@@@      @@@@@    @@@@   @@@@@@@@@            @@@@    @@@@@@@@\n",
      " #############.             ///                                                                                              \n",
      "  ##  ########.        //  ////        ######    ##  #####  ##      #####   ####  #####  #####  ##    #\n",
      "    #### #####.     /    /////,        #    #   ###   ##   # #      #   #  #   #  #   #   #    # #   #\n",
      "        ###. #. /.   /////////         #    #  #  #   #   #  #     #####  #   #  ## ##   #    #  #  #\n",
      "             #, //////////////        ######  #   #  ##  #   #    #      ### #  #   #   #    #   # ####\n",
      "\n",
      " (Copyright © EMBL 2021)\n",
      "\n",
      "Welcome to the Covid-19 Data Portal's data downloader utility!\n",
      "----------------------------------------------\n"
     ]
    },
    {
     "name": "stderr",
     "output_type": "stream",
     "text": [
      "Downloading   ? % [                               =                           ] 3/?MB (0:00:23 / ?) \n"
     ]
    },
    {
     "name": "stdout",
     "output_type": "stream",
     "text": [
      "Download completed to /host/home/user_7321/user_7321_backup/user_7321/docker/ProjectB---Vital/vital/data_collectors/data/covid19_genome//tmp//viral_sequences/sequences/fasta/20240214-2210.fasta.\n",
      "java -jar cdp-file-downloader.jar --domain=VIRAL_SEQUENCES --datatype=SEQUENCES --format=FASTA --location=/host/home/user_7321/user_7321_backup/user_7321/docker/ProjectB---Vital/vital/data_collectors/data/covid19_genome//tmp/ --email=NONE --accessions=OV227523,OK024888,OV670472,OV226856,OL611100,OV203971,OL321723,OK618032,OU998480,OV018296,OW310024,OL792024,OV671497,OK203393,OV318175,OM064282,OV467828,OU932564,OK359837,OV361353,OV487550,OM069159,OV507073,OV107314,OV183570,OU570010,OV193244,OV353228,OL626161,OV473432,OV331975,OM064417,OL584809,OV825240,OK039475,OU838706,OK147320,OV226548,OV664674,OV227883,OV211600,OV199843,OV212226,OL673560,OV020638,OV173188,OV205592,OV020762,OV415208,OU817286,OV216470,OU998225,OK388621,OK578792,OV364665,MZ843324,OV110672,OV361251,OK582151,OK048194,OK011514,OV415660,OV213485,OL433441,OV632043,OK487611,OU997469,OU428816,OU978026,OK148306,OU981151,OV359059,OK410333,OV532543,OV117022,OV516652,OV236059,OV266558,OV017386,OK528528,OK137476,OV512048,OV225396,OK004373,OM779887,OV397669,OK309519,OV198163,OL502916,OK302530,OV193070,OK527290,OV218436,OV225534,OV356626,OM022475,OV197689,OV184704,OV520886,OV212055,OK486036,OV360765,OL947746,OV209674,OV509734,OV265346,OV521682,OV416578,OV017391,OL965963,OL687837,OL454126,OV426427,OV119478,OK580158,OV678228,OK587109,OW301406,OU646537,OV394480,OV270479,OV661803,OV208615,OL321648,OK029989,OV208391,OV240377,OV171150 --protocol=FTP --asperaLocation=null\n",
      "\n",
      "             #. ///////////////////       @@@@@@@      @@@@@@@@   @@@@    @@@    @@@@   @@@@@@@@@             @@@    @@@@@@@@\n",
      "        ###. #. /.   /////////////      @@@@  @@@@    @@@   @@@   @@@@   @@@    @@@@   @@@@  @@@@           @@@@   @@@   @@@@\n",
      "    #### #####.     /    /////////     @@@@          @@@    @@@   @@@@  @@@    @@@@   @@@@   @@@@          @@@@  @@@@   @@@@\n",
      "  ##  ########.        //  //////      @@@@         @@@@   @@@@   @@@@ @@@    @@@@   @@@@   @@@@   @@@@@  @@@@  @@@@@@@@@@@\n",
      " #############.             /////      @@@@   @@@   @@@    @@@    @@@@@@@    @@@@   @@@@   @@@@          @@@@         @@@\n",
      "(#############.             ////       @@@@ @@@@    @@@   @@@     @@@@@@    @@@@   @@@@@@@@@@           @@@@   @@@@  @@@\n",
      "(#############.          .  ////        @@@@@@@     @@@@@@@@      @@@@@    @@@@   @@@@@@@@@            @@@@    @@@@@@@@\n",
      " #############.             ///                                                                                              \n",
      "  ##  ########.        //  ////        ######    ##  #####  ##      #####   ####  #####  #####  ##    #\n",
      "    #### #####.     /    /////,        #    #   ###   ##   # #      #   #  #   #  #   #   #    # #   #\n",
      "        ###. #. /.   /////////         #    #  #  #   #   #  #     #####  #   #  ## ##   #    #  #  #\n",
      "             #, //////////////        ######  #   #  ##  #   #    #      ### #  #   #   #    #   # ####\n",
      "\n",
      " (Copyright © EMBL 2021)\n",
      "\n",
      "Welcome to the Covid-19 Data Portal's data downloader utility!\n",
      "----------------------------------------------\n"
     ]
    },
    {
     "name": "stderr",
     "output_type": "stream",
     "text": [
      "Downloading   ? % [             =                                             ] 3/?MB (0:00:18 / ?) \n"
     ]
    },
    {
     "name": "stdout",
     "output_type": "stream",
     "text": [
      "Download completed to /host/home/user_7321/user_7321_backup/user_7321/docker/ProjectB---Vital/vital/data_collectors/data/covid19_genome//tmp//viral_sequences/sequences/fasta/20240214-2210.fasta.\n",
      "java -jar cdp-file-downloader.jar --domain=VIRAL_SEQUENCES --datatype=SEQUENCES --format=FASTA --location=/host/home/user_7321/user_7321_backup/user_7321/docker/ProjectB---Vital/vital/data_collectors/data/covid19_genome//tmp/ --email=NONE --accessions=OV514714,OV005211,OK144768,OK298093,OV327408,OM108922,OK508743,OV245531,OV622656,OV232098,OU966949,OK378519,OV226026,OV212126,OL481308,OK456829,OL626030,OV527755,OL436750,OV626426,OV511119,OV416260,OV192240,OM462547,OK310036,OV202357,OU964191,MZ979558,OV513072,OV114415,OL974093,OV198646,OL516065,OV037187,OV363892,OV506822,OV114679,OV054061,OV170855,OL815071,OV212311,OL751021,OU967751,OV832027,OL584864,OW305425,OV225424,OK220345,OM229443,OK178108,OL321668,OK528529,OV107383,OK464683,OV118179,OV394736,OV112092,OU974189,OV383161,OV240642,OV885148,OV184485,OL717020,OV184037,OV415145,OK614896,OK202699,OV650581,OL382050,OV422437,OU965230,OV354616,OU959608,OV331088,OW296759,OV519163,OV457277,OV225426,OV127124,OK487652,OM779163,OM142799,OU543242,OU997595,OU910296,OV211753,OV349307,OV336919,OV077957,OK567456,OV360972,OK304317,OV373411,OV532414,OV120875,OL424258,OV172875,OL837604,OU617046,OK603038,OW300078,OU622187,OV518348,OV512758,OL867126,OK487651,OU937709,OK221451,OL321688,OV659020,OV488181,OK647773,OU975935,OV446593,OV227718,OV510142,OK472971,OV666399,OV193546,OV538019,OK238979,OV211914,OV374283,OK576342,OV272005,OV678253,MZ977887,MZ830792 --protocol=FTP --asperaLocation=null\n",
      "\n",
      "             #. ///////////////////       @@@@@@@      @@@@@@@@   @@@@    @@@    @@@@   @@@@@@@@@             @@@    @@@@@@@@\n",
      "        ###. #. /.   /////////////      @@@@  @@@@    @@@   @@@   @@@@   @@@    @@@@   @@@@  @@@@           @@@@   @@@   @@@@\n",
      "    #### #####.     /    /////////     @@@@          @@@    @@@   @@@@  @@@    @@@@   @@@@   @@@@          @@@@  @@@@   @@@@\n",
      "  ##  ########.        //  //////      @@@@         @@@@   @@@@   @@@@ @@@    @@@@   @@@@   @@@@   @@@@@  @@@@  @@@@@@@@@@@\n",
      " #############.             /////      @@@@   @@@   @@@    @@@    @@@@@@@    @@@@   @@@@   @@@@          @@@@         @@@\n",
      "(#############.             ////       @@@@ @@@@    @@@   @@@     @@@@@@    @@@@   @@@@@@@@@@           @@@@   @@@@  @@@\n",
      "(#############.          .  ////        @@@@@@@     @@@@@@@@      @@@@@    @@@@   @@@@@@@@@            @@@@    @@@@@@@@\n",
      " #############.             ///                                                                                              \n",
      "  ##  ########.        //  ////        ######    ##  #####  ##      #####   ####  #####  #####  ##    #\n",
      "    #### #####.     /    /////,        #    #   ###   ##   # #      #   #  #   #  #   #   #    # #   #\n",
      "        ###. #. /.   /////////         #    #  #  #   #   #  #     #####  #   #  ## ##   #    #  #  #\n",
      "             #, //////////////        ######  #   #  ##  #   #    #      ### #  #   #   #    #   # ####\n",
      "\n",
      " (Copyright © EMBL 2021)\n",
      "\n",
      "Welcome to the Covid-19 Data Portal's data downloader utility!\n",
      "----------------------------------------------\n"
     ]
    },
    {
     "name": "stderr",
     "output_type": "stream",
     "text": [
      "Downloading   ? % [                    =                                      ] 3/?MB (0:00:25 / ?) \n"
     ]
    },
    {
     "name": "stdout",
     "output_type": "stream",
     "text": [
      "Download completed to /host/home/user_7321/user_7321_backup/user_7321/docker/ProjectB---Vital/vital/data_collectors/data/covid19_genome//tmp//viral_sequences/sequences/fasta/20240214-2211.fasta.\n",
      "java -jar cdp-file-downloader.jar --domain=VIRAL_SEQUENCES --datatype=SEQUENCES --format=FASTA --location=/host/home/user_7321/user_7321_backup/user_7321/docker/ProjectB---Vital/vital/data_collectors/data/covid19_genome//tmp/ --email=NONE --accessions=OW324424,OU620658,OU595880,OV400237,OK567151,OV049041,OV364201,OV531385,OV011779,OU845472,OV205500,OU700366,OL680833,OU755161,OU700598,OV236159,OV328891,OU517180,OV351884,OV489157,OV038196,OV484788,OV367022,OU621239,OV327518,OV664708,OV194528,OV526948,OV216344,OV513157,OU595752,OU407470,OV265609,OU621963,OV360012,OV264022,OU703170,OV265633,OV668862,OU897760,OU567387,OV064121,OV259675,OU703469,OU516434,OV213007,OV407588,OV323267,OV010957,OV413587,OU701940,OV301536,MZ943064,OU841207,OL523765,OU617307,OU932160,OM774322,OV535629,OV229183,OU576839,OV367133,OK206998,OV020370,OU953635,OV220491,OV142805,OU932086,OU572929,OV383139,OU754410,OL337412,OV369699,OV422116,OU849359,OV104951,OV367739,OU574055,OU755366,OV222875,OV337015,OV375228,OV350075,OU702861,OU753597,OV827288,OV651029,OU736230,OV672420,OV016751,OU933578,OV350042,OU934888,OU619218,OU740546,OU923972,OU595873,OV370838,OV120984,OV403404,OV019086,OL316426,OV205785,OM069218,OU952329,OV112269,OV516792,OU964430,OV205041,OU755096,OV107344,OV518937,OV854871,OV425845,OU754684,OM284898,OV671226,OV490442,OV197431,OM161684,OL424623,OV335417,OV311892,OU845642,OV414758,OV919434,OL395271,OV283892 --protocol=FTP --asperaLocation=null\n",
      "\n",
      "             #. ///////////////////       @@@@@@@      @@@@@@@@   @@@@    @@@    @@@@   @@@@@@@@@             @@@    @@@@@@@@\n",
      "        ###. #. /.   /////////////      @@@@  @@@@    @@@   @@@   @@@@   @@@    @@@@   @@@@  @@@@           @@@@   @@@   @@@@\n",
      "    #### #####.     /    /////////     @@@@          @@@    @@@   @@@@  @@@    @@@@   @@@@   @@@@          @@@@  @@@@   @@@@\n",
      "  ##  ########.        //  //////      @@@@         @@@@   @@@@   @@@@ @@@    @@@@   @@@@   @@@@   @@@@@  @@@@  @@@@@@@@@@@\n",
      " #############.             /////      @@@@   @@@   @@@    @@@    @@@@@@@    @@@@   @@@@   @@@@          @@@@         @@@\n",
      "(#############.             ////       @@@@ @@@@    @@@   @@@     @@@@@@    @@@@   @@@@@@@@@@           @@@@   @@@@  @@@\n",
      "(#############.          .  ////        @@@@@@@     @@@@@@@@      @@@@@    @@@@   @@@@@@@@@            @@@@    @@@@@@@@\n",
      " #############.             ///                                                                                              \n",
      "  ##  ########.        //  ////        ######    ##  #####  ##      #####   ####  #####  #####  ##    #\n",
      "    #### #####.     /    /////,        #    #   ###   ##   # #      #   #  #   #  #   #   #    # #   #\n",
      "        ###. #. /.   /////////         #    #  #  #   #   #  #     #####  #   #  ## ##   #    #  #  #\n",
      "             #, //////////////        ######  #   #  ##  #   #    #      ### #  #   #   #    #   # ####\n",
      "\n",
      " (Copyright © EMBL 2021)\n",
      "\n",
      "Welcome to the Covid-19 Data Portal's data downloader utility!\n",
      "----------------------------------------------\n"
     ]
    },
    {
     "name": "stderr",
     "output_type": "stream",
     "text": [
      "Downloading   ? % [                             =                             ] 3/?MB (0:00:22 / ?) \n"
     ]
    },
    {
     "name": "stdout",
     "output_type": "stream",
     "text": [
      "Download completed to /host/home/user_7321/user_7321_backup/user_7321/docker/ProjectB---Vital/vital/data_collectors/data/covid19_genome//tmp//viral_sequences/sequences/fasta/20240214-2211.fasta.\n",
      "java -jar cdp-file-downloader.jar --domain=VIRAL_SEQUENCES --datatype=SEQUENCES --format=FASTA --location=/host/home/user_7321/user_7321_backup/user_7321/docker/ProjectB---Vital/vital/data_collectors/data/covid19_genome//tmp/ --email=NONE --accessions=OV113294,OV360048,OV314347,OV115396,OU576693,OL732374,OU574961,OV284103,OU621103,OV223739,OV339021,OL857540,OU575098,OW319091,OV217199,OU569215,OV265066,OV343076,OU935668,OU572269,OU840831,OV301265,OV668815,OU744387,OV380293,OU731801,OL949950,OU571309,OU787019,OV299898,OU701514,OU925130,OV421825,OU932612,OV405705,OV358168,OV264109,OV326741,OV170817,OV366853,OU857488,OV335714,OU936619,OU923678,OU572645,OU844081,OU571438,OV370747,OV211564,OV513218,OU967510,OV296707,OV508557,OW314391,MZ982843,OU579604,OW302044,OU936586,OU702117,OV176250,OV675626,OV195019,OV655270,OU540710,OW313373,OL727638,OU595867,OK629087,OU753716,OU933802,OU937045,OU938423,OV521503,OL917769,OU967252,OK097501,OL749425,OV469850,OV301245,OU845983,OV296229,OV244736,OU566851,OU963939,OV336441,OV243530,OV352589,OM050408,OV691486,OU928773,OV109704,OV393743,OU734789,OV246917,OU930708,OV113987,OM286265,OU840570,OV349782,OU577068,OU733594,OU745333,OV476441,OV118636,OV837481,OV293149,OV192773,OV831011,OL817693,OV205372,OU840377,OV421476,OM040991,OU963932,OU579558,OV229388,OV659073,OV239592,OV264614,OV205634,OU574235,OV533703,OV420977,OV351933,OV113615,OL324143,OV062451,OV117233 --protocol=FTP --asperaLocation=null\n",
      "\n",
      "             #. ///////////////////       @@@@@@@      @@@@@@@@   @@@@    @@@    @@@@   @@@@@@@@@             @@@    @@@@@@@@\n",
      "        ###. #. /.   /////////////      @@@@  @@@@    @@@   @@@   @@@@   @@@    @@@@   @@@@  @@@@           @@@@   @@@   @@@@\n",
      "    #### #####.     /    /////////     @@@@          @@@    @@@   @@@@  @@@    @@@@   @@@@   @@@@          @@@@  @@@@   @@@@\n",
      "  ##  ########.        //  //////      @@@@         @@@@   @@@@   @@@@ @@@    @@@@   @@@@   @@@@   @@@@@  @@@@  @@@@@@@@@@@\n",
      " #############.             /////      @@@@   @@@   @@@    @@@    @@@@@@@    @@@@   @@@@   @@@@          @@@@         @@@\n",
      "(#############.             ////       @@@@ @@@@    @@@   @@@     @@@@@@    @@@@   @@@@@@@@@@           @@@@   @@@@  @@@\n",
      "(#############.          .  ////        @@@@@@@     @@@@@@@@      @@@@@    @@@@   @@@@@@@@@            @@@@    @@@@@@@@\n",
      " #############.             ///                                                                                              \n",
      "  ##  ########.        //  ////        ######    ##  #####  ##      #####   ####  #####  #####  ##    #\n",
      "    #### #####.     /    /////,        #    #   ###   ##   # #      #   #  #   #  #   #   #    # #   #\n",
      "        ###. #. /.   /////////         #    #  #  #   #   #  #     #####  #   #  ## ##   #    #  #  #\n",
      "             #, //////////////        ######  #   #  ##  #   #    #      ### #  #   #   #    #   # ####\n",
      "\n",
      " (Copyright © EMBL 2021)\n",
      "\n",
      "Welcome to the Covid-19 Data Portal's data downloader utility!\n",
      "----------------------------------------------\n"
     ]
    },
    {
     "name": "stderr",
     "output_type": "stream",
     "text": [
      "Downloading   ? % [                                 =                         ] 3/?MB (0:00:19 / ?) \n"
     ]
    },
    {
     "name": "stdout",
     "output_type": "stream",
     "text": [
      "Download completed to /host/home/user_7321/user_7321_backup/user_7321/docker/ProjectB---Vital/vital/data_collectors/data/covid19_genome//tmp//viral_sequences/sequences/fasta/20240214-2211.fasta.\n",
      "java -jar cdp-file-downloader.jar --domain=VIRAL_SEQUENCES --datatype=SEQUENCES --format=FASTA --location=/host/home/user_7321/user_7321_backup/user_7321/docker/ProjectB---Vital/vital/data_collectors/data/covid19_genome//tmp/ --email=NONE --accessions=OU572154,OU735026,OU572656,OW302283,OV306980,OU734397,OV005836,OU851782,OU662042,OU843481,OV324000,OW249129,OU903667,OU733224,MZ883247,OV107660,OV113841,OU451139,OV264500,OW324240,OU595975,OU578332,OL789033,OV009392,OV122269,OL931154,OV064151,OV381179,OV119961,OV363533,OV649350,OU732397,OU568308,OU576846,OV284337,OV414938,OU536529,OU934937,OV419928,OV360934,OW324777,OU576301,OU572233,OV119585,OV414310,OV654573,OV584126,OU572726,OV848643,OV201100,OV103662,OM358671,OV384378,OW318821,OU926453,OM069069,OV142494,OU616706,OV225310,OV648583,OU700397,OU930486,OV387663,OU936244,OV658079,OV672269,OV062406,OV019688,OV346102,OV375195,OU572316,OL927833,OU576291,OL953697,OK532157,OV217789,OU934346,OV533309,OV373690,OU966291,OV414603,OV227086,OV377000,OM189340,OL471595,OV207718,OU843542,OU516325,OV847608,OV017292,OV238273,OV050267,OK139898,OV345342,OV335974,OV416891,OV215131,OU744893,OV234175,OV295135,OM003027,OV376110,OV918174,OU517926,OV017674,OV347711,OU932313,OW299449,OV886810,OU964020,OU621324,OV384052,OU685677,OU839364,OV204010,OV295385,OU967238,OU936375,OU847871,OV509366,OV208440,OV221899,OU574025,OV362592,OV279240,OU735993,OV352227,OU452052 --protocol=FTP --asperaLocation=null\n",
      "\n",
      "             #. ///////////////////       @@@@@@@      @@@@@@@@   @@@@    @@@    @@@@   @@@@@@@@@             @@@    @@@@@@@@\n",
      "        ###. #. /.   /////////////      @@@@  @@@@    @@@   @@@   @@@@   @@@    @@@@   @@@@  @@@@           @@@@   @@@   @@@@\n",
      "    #### #####.     /    /////////     @@@@          @@@    @@@   @@@@  @@@    @@@@   @@@@   @@@@          @@@@  @@@@   @@@@\n",
      "  ##  ########.        //  //////      @@@@         @@@@   @@@@   @@@@ @@@    @@@@   @@@@   @@@@   @@@@@  @@@@  @@@@@@@@@@@\n",
      " #############.             /////      @@@@   @@@   @@@    @@@    @@@@@@@    @@@@   @@@@   @@@@          @@@@         @@@\n",
      "(#############.             ////       @@@@ @@@@    @@@   @@@     @@@@@@    @@@@   @@@@@@@@@@           @@@@   @@@@  @@@\n",
      "(#############.          .  ////        @@@@@@@     @@@@@@@@      @@@@@    @@@@   @@@@@@@@@            @@@@    @@@@@@@@\n",
      " #############.             ///                                                                                              \n",
      "  ##  ########.        //  ////        ######    ##  #####  ##      #####   ####  #####  #####  ##    #\n",
      "    #### #####.     /    /////,        #    #   ###   ##   # #      #   #  #   #  #   #   #    # #   #\n",
      "        ###. #. /.   /////////         #    #  #  #   #   #  #     #####  #   #  ## ##   #    #  #  #\n",
      "             #, //////////////        ######  #   #  ##  #   #    #      ### #  #   #   #    #   # ####\n",
      "\n",
      " (Copyright © EMBL 2021)\n",
      "\n",
      "Welcome to the Covid-19 Data Portal's data downloader utility!\n",
      "----------------------------------------------\n"
     ]
    },
    {
     "name": "stderr",
     "output_type": "stream",
     "text": [
      "Downloading   ? % [                                                  =        ] 3/?MB (0:00:13 / ?) \n"
     ]
    },
    {
     "name": "stdout",
     "output_type": "stream",
     "text": [
      "Download completed to /host/home/user_7321/user_7321_backup/user_7321/docker/ProjectB---Vital/vital/data_collectors/data/covid19_genome//tmp//viral_sequences/sequences/fasta/20240214-2212.fasta.\n",
      "java -jar cdp-file-downloader.jar --domain=VIRAL_SEQUENCES --datatype=SEQUENCES --format=FASTA --location=/host/home/user_7321/user_7321_backup/user_7321/docker/ProjectB---Vital/vital/data_collectors/data/covid19_genome//tmp/ --email=NONE --accessions=OV248874,OU577678,OU847182,OV059853,OV112994,OV361566,OV199009,OV402334,OK461425,OU616108,OW313139,OV565621,OM057105,OU849197,OV855369,OU702238,OU573950,OV009779,OV422122,OM096544,OV118166,OU567364,OV417454,OL865859,OV389164,OU515340,OV513513,OV064342,OV383234,OU699248,OU198828,OV361073,OU929051,OW314787,OM389818,OV185311,OU699049,OV371284,OU451001,OV355194,OV918643,OM116868,OV332753,OU592523,OV238489,OV396621,OU998081,OV209776,OV658226,OU848916,OU574649,OV117291,OU958942,OV622292,OL404248,OV372984,OV528138,OU572375,OV322043,OV376584,OV098893,OV243125,OL480530,OU925834,OV493845,OW253746,OV858745,OV475655,OU701939,OV263912,OU572654,OM907421,OV254021,OU754976,OU649952,OM052790,OV199409,OV324328,OU574129,OU573959,OV381581,OU753722,OM280710,OU721531,OV509689,OV208648,OV117083,OV635903,OV115080,OU728748,OL388538,OV377153,OV017436,OU930793,OV036557,OU844464,OV489196,OV327958,OV407119,OL570040,OV825005,OL881156,OU573669,OV409028,OV428066,OV311865,OK080006,OU735101,OV239201,OV208012,OU451546,OV009768,OW312820,OU948064,OL622372,OV267429,OV420996,OV117751,OV663689,OV521382,OU996788,OV225849,OV691448,OV011473,OU684647,OU595844,OV438137,OV368443 --protocol=FTP --asperaLocation=null\n",
      "\n",
      "             #. ///////////////////       @@@@@@@      @@@@@@@@   @@@@    @@@    @@@@   @@@@@@@@@             @@@    @@@@@@@@\n",
      "        ###. #. /.   /////////////      @@@@  @@@@    @@@   @@@   @@@@   @@@    @@@@   @@@@  @@@@           @@@@   @@@   @@@@\n",
      "    #### #####.     /    /////////     @@@@          @@@    @@@   @@@@  @@@    @@@@   @@@@   @@@@          @@@@  @@@@   @@@@\n",
      "  ##  ########.        //  //////      @@@@         @@@@   @@@@   @@@@ @@@    @@@@   @@@@   @@@@   @@@@@  @@@@  @@@@@@@@@@@\n",
      " #############.             /////      @@@@   @@@   @@@    @@@    @@@@@@@    @@@@   @@@@   @@@@          @@@@         @@@\n",
      "(#############.             ////       @@@@ @@@@    @@@   @@@     @@@@@@    @@@@   @@@@@@@@@@           @@@@   @@@@  @@@\n",
      "(#############.          .  ////        @@@@@@@     @@@@@@@@      @@@@@    @@@@   @@@@@@@@@            @@@@    @@@@@@@@\n",
      " #############.             ///                                                                                              \n",
      "  ##  ########.        //  ////        ######    ##  #####  ##      #####   ####  #####  #####  ##    #\n",
      "    #### #####.     /    /////,        #    #   ###   ##   # #      #   #  #   #  #   #   #    # #   #\n",
      "        ###. #. /.   /////////         #    #  #  #   #   #  #     #####  #   #  ## ##   #    #  #  #\n",
      "             #, //////////////        ######  #   #  ##  #   #    #      ### #  #   #   #    #   # ####\n",
      "\n",
      " (Copyright © EMBL 2021)\n",
      "\n",
      "Welcome to the Covid-19 Data Portal's data downloader utility!\n",
      "----------------------------------------------\n"
     ]
    },
    {
     "name": "stderr",
     "output_type": "stream",
     "text": [
      "Downloading   ? % [                                            =              ] 3/?MB (0:00:11 / ?) \n"
     ]
    },
    {
     "name": "stdout",
     "output_type": "stream",
     "text": [
      "Download completed to /host/home/user_7321/user_7321_backup/user_7321/docker/ProjectB---Vital/vital/data_collectors/data/covid19_genome//tmp//viral_sequences/sequences/fasta/20240214-2212.fasta.\n",
      "java -jar cdp-file-downloader.jar --domain=VIRAL_SEQUENCES --datatype=SEQUENCES --format=FASTA --location=/host/home/user_7321/user_7321_backup/user_7321/docker/ProjectB---Vital/vital/data_collectors/data/covid19_genome//tmp/ --email=NONE --accessions=OV376167,OU572248,OV210990,OU572255,OK406249,OV523570,OU754413,OV392112,OU572339,OV266400,OV175430,OV371061,OU623269,OV419991,OV206409,OW252005,OV275339,OV240733,OL596749,OV404330,OU595894,OV282812,OU571426,OV115324,OU753694,OL570725,OV298830,OV387047,OL680577,OU565402,OV372115,OU766494,OU703174,OU664048,OV695027,OU754772,OV210179,OL882734,OU574403,OU735870,OU579763,OV234555,OV206269,OV259276,OU844292,OV235973,OU849599,OV064448,OU575036,OU569524,OU569824,OU571627,OV264853,OV651412,OU847178,OU938094,OM222926,OU848940,OU451121,OV637347,OV372113,OW250910,OV302100,OV345939,OU845443,OV316505,OV483322,OV519694,OV390842,OV177431,OL569780,OV008163,OV302106,OV115085,OU936920,OU846939,OV343642,OV412783,OU572341,OV523329,OU595712,OV333924,OU703374,OV371953,OU573994,OV356123,OU643099,OV348995,OU844777,OU924936,OU912138,OU721470,OU620274,OU726727,OV362307,OU937184,OU925099,OU732519,OW251088,OV651032,OM214124,OU572218,OW299362,OL419664,OU930956,OV356094,OU888278,OU937996,OU744871,OU964176,OU907746,OV426612,OU840606,OU574069,OM192958,OU572690,OV338856,OU572679,OU943211,OU574900,OM159545,OU641823,OV504724,OV351351,OU595149,OL465678,OW324013,OU572708 --protocol=FTP --asperaLocation=null\n",
      "\n",
      "             #. ///////////////////       @@@@@@@      @@@@@@@@   @@@@    @@@    @@@@   @@@@@@@@@             @@@    @@@@@@@@\n",
      "        ###. #. /.   /////////////      @@@@  @@@@    @@@   @@@   @@@@   @@@    @@@@   @@@@  @@@@           @@@@   @@@   @@@@\n",
      "    #### #####.     /    /////////     @@@@          @@@    @@@   @@@@  @@@    @@@@   @@@@   @@@@          @@@@  @@@@   @@@@\n",
      "  ##  ########.        //  //////      @@@@         @@@@   @@@@   @@@@ @@@    @@@@   @@@@   @@@@   @@@@@  @@@@  @@@@@@@@@@@\n",
      " #############.             /////      @@@@   @@@   @@@    @@@    @@@@@@@    @@@@   @@@@   @@@@          @@@@         @@@\n",
      "(#############.             ////       @@@@ @@@@    @@@   @@@     @@@@@@    @@@@   @@@@@@@@@@           @@@@   @@@@  @@@\n",
      "(#############.          .  ////        @@@@@@@     @@@@@@@@      @@@@@    @@@@   @@@@@@@@@            @@@@    @@@@@@@@\n",
      " #############.             ///                                                                                              \n",
      "  ##  ########.        //  ////        ######    ##  #####  ##      #####   ####  #####  #####  ##    #\n",
      "    #### #####.     /    /////,        #    #   ###   ##   # #      #   #  #   #  #   #   #    # #   #\n",
      "        ###. #. /.   /////////         #    #  #  #   #   #  #     #####  #   #  ## ##   #    #  #  #\n",
      "             #, //////////////        ######  #   #  ##  #   #    #      ### #  #   #   #    #   # ####\n",
      "\n",
      " (Copyright © EMBL 2021)\n",
      "\n",
      "Welcome to the Covid-19 Data Portal's data downloader utility!\n",
      "----------------------------------------------\n"
     ]
    },
    {
     "name": "stderr",
     "output_type": "stream",
     "text": [
      "Downloading   ? % [          =                                                ] 3/?MB (0:00:13 / ?) \n"
     ]
    },
    {
     "name": "stdout",
     "output_type": "stream",
     "text": [
      "Download completed to /host/home/user_7321/user_7321_backup/user_7321/docker/ProjectB---Vital/vital/data_collectors/data/covid19_genome//tmp//viral_sequences/sequences/fasta/20240214-2212.fasta.\n",
      "java -jar cdp-file-downloader.jar --domain=VIRAL_SEQUENCES --datatype=SEQUENCES --format=FASTA --location=/host/home/user_7321/user_7321_backup/user_7321/docker/ProjectB---Vital/vital/data_collectors/data/covid19_genome//tmp/ --email=NONE --accessions=OU572262,OU574135,OM193555,OV359036,OU735828,OU846049,OV267302,OU753588,OL742599,OV199902,OL708115,OV382470,OV028420,OV200559,OV356040,OU925839,OU595777,OU572671,OU932763,OU576553,OV917633,OL915392,OV262808,OU595704,OL722976,OV263251,OV219876,OV372322,OV120617,OV053305,OU680083,OV359321,OU595313,OV388114,OU570692,OU572222,OU754138,OU685931,OU622650,OV116066,OV001092,OV258737,OV624464,OV366792,OV592177,OK053156,OU754685,OU407513,OU703397,OU558704,OU936934,OL496595,OV197268,OU937116,OV372001,OV520261,OL400259,OV118104,OU754412,OK595013,OU622827,OV279518,OU981920,OV413842,OU937847,OL574646,OU572315,OV258498,OU959727,OV213218,OV671915,OV226830,OL241534,OU845784,OU595918,OU925111,OV015839,OU572231,OM162829,OV064291,OU951844,OU732706,OV221091,OL581891,OV111419,OV661826,OU622655,OV885670,OV511717,OM343222,OV919693,OK019820,OU579614,OL707148,OU959654,OV237208,OU623250,MZ941389,OU754067,OV230056,OV237792,OV111866,OU845901,OV312787,MZ883170,OU572235,OU702930,OV064830,OU579461,OV266236,OV372639,OL617613,OV454882,OV198809,OV330638,OV257996,OU715139,OM886724,OU702625,OU732643,OK654293,OV260889,OV198840,OU840784,OK457478,OL509295,OV451737,OV646985 --protocol=FTP --asperaLocation=null\n",
      "\n",
      "             #. ///////////////////       @@@@@@@      @@@@@@@@   @@@@    @@@    @@@@   @@@@@@@@@             @@@    @@@@@@@@\n",
      "        ###. #. /.   /////////////      @@@@  @@@@    @@@   @@@   @@@@   @@@    @@@@   @@@@  @@@@           @@@@   @@@   @@@@\n",
      "    #### #####.     /    /////////     @@@@          @@@    @@@   @@@@  @@@    @@@@   @@@@   @@@@          @@@@  @@@@   @@@@\n",
      "  ##  ########.        //  //////      @@@@         @@@@   @@@@   @@@@ @@@    @@@@   @@@@   @@@@   @@@@@  @@@@  @@@@@@@@@@@\n",
      " #############.             /////      @@@@   @@@   @@@    @@@    @@@@@@@    @@@@   @@@@   @@@@          @@@@         @@@\n",
      "(#############.             ////       @@@@ @@@@    @@@   @@@     @@@@@@    @@@@   @@@@@@@@@@           @@@@   @@@@  @@@\n",
      "(#############.          .  ////        @@@@@@@     @@@@@@@@      @@@@@    @@@@   @@@@@@@@@            @@@@    @@@@@@@@\n",
      " #############.             ///                                                                                              \n",
      "  ##  ########.        //  ////        ######    ##  #####  ##      #####   ####  #####  #####  ##    #\n",
      "    #### #####.     /    /////,        #    #   ###   ##   # #      #   #  #   #  #   #   #    # #   #\n",
      "        ###. #. /.   /////////         #    #  #  #   #   #  #     #####  #   #  ## ##   #    #  #  #\n",
      "             #, //////////////        ######  #   #  ##  #   #    #      ### #  #   #   #    #   # ####\n",
      "\n",
      " (Copyright © EMBL 2021)\n",
      "\n",
      "Welcome to the Covid-19 Data Portal's data downloader utility!\n",
      "----------------------------------------------\n"
     ]
    },
    {
     "name": "stderr",
     "output_type": "stream",
     "text": [
      "Downloading   ? % [                                                       =   ] 3/?MB (0:00:15 / ?) \n"
     ]
    },
    {
     "name": "stdout",
     "output_type": "stream",
     "text": [
      "Download completed to /host/home/user_7321/user_7321_backup/user_7321/docker/ProjectB---Vital/vital/data_collectors/data/covid19_genome//tmp//viral_sequences/sequences/fasta/20240214-2213.fasta.\n",
      "java -jar cdp-file-downloader.jar --domain=VIRAL_SEQUENCES --datatype=SEQUENCES --format=FASTA --location=/host/home/user_7321/user_7321_backup/user_7321/docker/ProjectB---Vital/vital/data_collectors/data/covid19_genome//tmp/ --email=NONE --accessions=OV336911,OU702122,OV110502,OV523012,OU566972,OV500794,OU959677,OU576359,OV359328,OM753189,OV404323,OW248798,OU571397,OU572310,OU843480,OV120150,OV372599,OU572196,OM097760,OU645994,OV014472,OV109600,OU936425,OV357296,OU574901,OU732193,OV309396,OV006811,OV116637,OK631310,OV283920,OV199988,OV115616,OV525432,OU840250,OV651071,OV264708,OV270512,OV284313,OL961906,OL468098,OV386979,OV614400,OM569879,OV284646,OU620493,OV590875,OU928284,OK530370,OV265549,OU595830,OL958915,OV208750,OU873138,OV418663,OU514776,OV164725,OU572204,OV478522,OU728081,OU936565,OU644810,OL401970,OU572272,OV354049,OU959776,OU579858,OU744530,OU579487,OU976063,OV227103,OV471782,OV428588,OU931103,OV347612,OU967781,OU854675,OV637272,OL963846,OU975027,OL914586,OU754057,OU643175,OV119845,OV397455,OV517114,OU706168,OV421776,OV458578,OV399604,OU576440,OU572237,OU579852,OV015125,OV284636,OV138976,OU847555,OV476175,OV222184,OU646622,OU698614,OU965895,OU576779,OL426486,OV016263,OV334064,OU933639,OU838964,OU592516,OV693362,OV239265,OV388755,OU967686,OV848227,OU515634,OU900312,OV349676,OU753593,OV525619,OV422464,OV490508,OV415887,OV351875,OU699327,OV322335,OV421650,OV324821,OU572282 --protocol=FTP --asperaLocation=null\n",
      "\n",
      "             #. ///////////////////       @@@@@@@      @@@@@@@@   @@@@    @@@    @@@@   @@@@@@@@@             @@@    @@@@@@@@\n",
      "        ###. #. /.   /////////////      @@@@  @@@@    @@@   @@@   @@@@   @@@    @@@@   @@@@  @@@@           @@@@   @@@   @@@@\n",
      "    #### #####.     /    /////////     @@@@          @@@    @@@   @@@@  @@@    @@@@   @@@@   @@@@          @@@@  @@@@   @@@@\n",
      "  ##  ########.        //  //////      @@@@         @@@@   @@@@   @@@@ @@@    @@@@   @@@@   @@@@   @@@@@  @@@@  @@@@@@@@@@@\n",
      " #############.             /////      @@@@   @@@   @@@    @@@    @@@@@@@    @@@@   @@@@   @@@@          @@@@         @@@\n",
      "(#############.             ////       @@@@ @@@@    @@@   @@@     @@@@@@    @@@@   @@@@@@@@@@           @@@@   @@@@  @@@\n",
      "(#############.          .  ////        @@@@@@@     @@@@@@@@      @@@@@    @@@@   @@@@@@@@@            @@@@    @@@@@@@@\n",
      " #############.             ///                                                                                              \n",
      "  ##  ########.        //  ////        ######    ##  #####  ##      #####   ####  #####  #####  ##    #\n",
      "    #### #####.     /    /////,        #    #   ###   ##   # #      #   #  #   #  #   #   #    # #   #\n",
      "        ###. #. /.   /////////         #    #  #  #   #   #  #     #####  #   #  ## ##   #    #  #  #\n",
      "             #, //////////////        ######  #   #  ##  #   #    #      ### #  #   #   #    #   # ####\n",
      "\n",
      " (Copyright © EMBL 2021)\n",
      "\n",
      "Welcome to the Covid-19 Data Portal's data downloader utility!\n",
      "----------------------------------------------\n"
     ]
    },
    {
     "name": "stderr",
     "output_type": "stream",
     "text": [
      "Downloading   ? % [                                          =                ] 3/?MB (0:00:14 / ?) \n"
     ]
    },
    {
     "name": "stdout",
     "output_type": "stream",
     "text": [
      "Download completed to /host/home/user_7321/user_7321_backup/user_7321/docker/ProjectB---Vital/vital/data_collectors/data/covid19_genome//tmp//viral_sequences/sequences/fasta/20240214-2213.fasta.\n",
      "java -jar cdp-file-downloader.jar --domain=VIRAL_SEQUENCES --datatype=SEQUENCES --format=FASTA --location=/host/home/user_7321/user_7321_backup/user_7321/docker/ProjectB---Vital/vital/data_collectors/data/covid19_genome//tmp/ --email=NONE --accessions=OV282900,MZ883482,OV264710,OU573064,OV365189,OV117613,OV239522,OV261777,OV013762,OU572648,OU924694,OU576290,OM047713,OU572716,OU753814,OU958674,OV510380,OU595846,OL682788,OV200488,OV695585,OV210274,OU937426,OV376118,OU838477,OU576347,OU578854,OV112148,OU572713,OV667359,OL468053,OV308005,OW306516,OU848910,OL888713,OV234036,OV064687,OV265545,OL719166,OU592578,OV217475,OL730888,OL390777,OU660518,OU744712,OV407397,OU897696,OV651414,OV680763,OV528403,OU753824,OU931352,OU932568,OU623763,OV227920,OU577336,OV425514,OV244769,OU699367,OU959691,OV405835,OU568546,OV362923,OU963933,OK516890,OV229281,OV117910,OL706726,OV376787,OV691547,OU621021,OV104912,OU927918,OU926981,OV406825,OU595791,OU929968,OV033305,OM896501,OV520339,OV361252,OV421706,OV404727,OU838163,OU968005,OV301958,OL468049,OV109379,OW247695,OV659001,OU574089,OV403854,OU935877,OU565390,OU977355,OU571388,OU926960,OL683244,OV423083,OU574102,OU932969,OV366212,OV617059,OU838841,OK597869,OV016641,OV105984,OV107082,OU935328,OV103615,OK517776,OV847669,OV413905,OV014153,OV542375,OV237460,OU572689,OU738156,OU897338,OV422384,OV479762,OV332069,OU573553,OU974363,OV533809,OV399181,OV242040,OU568539 --protocol=FTP --asperaLocation=null\n",
      "\n",
      "             #. ///////////////////       @@@@@@@      @@@@@@@@   @@@@    @@@    @@@@   @@@@@@@@@             @@@    @@@@@@@@\n",
      "        ###. #. /.   /////////////      @@@@  @@@@    @@@   @@@   @@@@   @@@    @@@@   @@@@  @@@@           @@@@   @@@   @@@@\n",
      "    #### #####.     /    /////////     @@@@          @@@    @@@   @@@@  @@@    @@@@   @@@@   @@@@          @@@@  @@@@   @@@@\n",
      "  ##  ########.        //  //////      @@@@         @@@@   @@@@   @@@@ @@@    @@@@   @@@@   @@@@   @@@@@  @@@@  @@@@@@@@@@@\n",
      " #############.             /////      @@@@   @@@   @@@    @@@    @@@@@@@    @@@@   @@@@   @@@@          @@@@         @@@\n",
      "(#############.             ////       @@@@ @@@@    @@@   @@@     @@@@@@    @@@@   @@@@@@@@@@           @@@@   @@@@  @@@\n",
      "(#############.          .  ////        @@@@@@@     @@@@@@@@      @@@@@    @@@@   @@@@@@@@@            @@@@    @@@@@@@@\n",
      " #############.             ///                                                                                              \n",
      "  ##  ########.        //  ////        ######    ##  #####  ##      #####   ####  #####  #####  ##    #\n",
      "    #### #####.     /    /////,        #    #   ###   ##   # #      #   #  #   #  #   #   #    # #   #\n",
      "        ###. #. /.   /////////         #    #  #  #   #   #  #     #####  #   #  ## ##   #    #  #  #\n",
      "             #, //////////////        ######  #   #  ##  #   #    #      ### #  #   #   #    #   # ####\n",
      "\n",
      " (Copyright © EMBL 2021)\n",
      "\n",
      "Welcome to the Covid-19 Data Portal's data downloader utility!\n",
      "----------------------------------------------\n"
     ]
    },
    {
     "name": "stderr",
     "output_type": "stream",
     "text": [
      "Downloading   ? % [                                             =             ] 2/?MB (0:00:07 / ?) "
     ]
    }
   ],
   "source": [
    "covid19_genome = Covid19Genome()\n",
    "covid19_genome.downloadLineages(accs_thresh = 1024, max_accs = 1024)"
   ]
  },
  {
   "cell_type": "code",
   "execution_count": null,
   "metadata": {},
   "outputs": [
    {
     "name": "stdout",
     "output_type": "stream",
     "text": [
      "0\n"
     ]
    },
    {
     "name": "stdout",
     "output_type": "stream",
     "text": [
      "1000\n",
      "2000\n",
      "3000\n",
      "4000\n",
      "5000\n",
      "6000\n",
      "7000\n",
      "8000\n",
      "9000\n",
      "10000\n",
      "11000\n",
      "12000\n",
      "13000\n",
      "14000\n",
      "18000\n",
      "19000\n",
      "20000\n",
      "21000\n",
      "22000\n",
      "25000\n",
      "26000\n",
      "27000\n",
      "28000\n",
      "29000\n",
      "30000\n",
      "31000\n",
      "32000\n",
      "33000\n",
      "34000\n",
      "35000\n",
      "36000\n",
      "37000\n",
      "38000\n",
      "39000\n",
      "40000\n",
      "41000\n",
      "42000\n",
      "43000\n",
      "44000\n",
      "45000\n",
      "46000\n",
      "47000\n",
      "48000\n",
      "49000\n",
      "50000\n",
      "51000\n",
      "52000\n",
      "53000\n",
      "54000\n",
      "56000\n",
      "57000\n",
      "58000\n",
      "59000\n",
      "60000\n",
      "61000\n",
      "62000\n",
      "63000\n",
      "64000\n",
      "65000\n",
      "66000\n",
      "67000\n",
      "68000\n",
      "69000\n",
      "70000\n",
      "71000\n",
      "72000\n",
      "73000\n",
      "74000\n",
      "75000\n",
      "76000\n",
      "77000\n",
      "78000\n",
      "79000\n",
      "80000\n",
      "81000\n",
      "82000\n",
      "83000\n",
      "84000\n",
      "85000\n",
      "86000\n",
      "87000\n",
      "88000\n",
      "89000\n",
      "90000\n",
      "91000\n",
      "92000\n",
      "93000\n",
      "95000\n",
      "96000\n",
      "97000\n",
      "98000\n",
      "99000\n",
      "100000\n",
      "101000\n",
      "102000\n",
      "103000\n",
      "104000\n",
      "105000\n",
      "106000\n",
      "107000\n",
      "108000\n",
      "109000\n",
      "110000\n",
      "111000\n",
      "112000\n",
      "113000\n",
      "114000\n",
      "115000\n",
      "116000\n",
      "117000\n",
      "118000\n",
      "119000\n",
      "120000\n",
      "121000\n",
      "122000\n",
      "123000\n",
      "124000\n",
      "125000\n",
      "126000\n",
      "127000\n",
      "128000\n",
      "129000\n",
      "130000\n",
      "131000\n",
      "132000\n",
      "133000\n",
      "134000\n",
      "135000\n",
      "136000\n",
      "137000\n",
      "138000\n",
      "139000\n",
      "140000\n",
      "141000\n",
      "142000\n",
      "143000\n",
      "144000\n",
      "145000\n",
      "146000\n",
      "147000\n",
      "148000\n",
      "149000\n",
      "150000\n",
      "151000\n",
      "152000\n",
      "153000\n",
      "154000\n",
      "155000\n",
      "156000\n",
      "157000\n",
      "158000\n",
      "159000\n",
      "160000\n",
      "161000\n",
      "162000\n",
      "163000\n",
      "164000\n",
      "165000\n",
      "166000\n",
      "167000\n",
      "168000\n",
      "169000\n",
      "170000\n",
      "171000\n",
      "172000\n",
      "173000\n",
      "174000\n",
      "175000\n",
      "176000\n",
      "177000\n",
      "178000\n",
      "179000\n",
      "180000\n",
      "181000\n",
      "182000\n",
      "183000\n",
      "184000\n",
      "185000\n",
      "186000\n",
      "187000\n",
      "188000\n",
      "189000\n",
      "190000\n",
      "191000\n",
      "192000\n",
      "193000\n",
      "194000\n",
      "196000\n",
      "197000\n",
      "198000\n",
      "199000\n",
      "200000\n",
      "201000\n",
      "202000\n",
      "203000\n",
      "204000\n",
      "205000\n",
      "206000\n",
      "207000\n",
      "208000\n",
      "209000\n",
      "210000\n",
      "211000\n",
      "212000\n",
      "213000\n",
      "214000\n",
      "215000\n",
      "216000\n",
      "217000\n",
      "218000\n",
      "219000\n",
      "220000\n",
      "221000\n",
      "222000\n",
      "223000\n",
      "224000\n",
      "225000\n",
      "226000\n",
      "227000\n",
      "228000\n",
      "229000\n",
      "230000\n",
      "231000\n",
      "232000\n",
      "233000\n",
      "234000\n",
      "235000\n",
      "236000\n",
      "237000\n",
      "238000\n",
      "239000\n",
      "240000\n",
      "241000\n",
      "242000\n",
      "243000\n",
      "244000\n",
      "245000\n",
      "246000\n",
      "247000\n",
      "248000\n",
      "249000\n",
      "250000\n",
      "251000\n",
      "252000\n",
      "253000\n",
      "254000\n",
      "255000\n",
      "256000\n",
      "257000\n",
      "258000\n",
      "259000\n",
      "260000\n",
      "261000\n",
      "262000\n",
      "263000\n",
      "264000\n",
      "265000\n",
      "266000\n",
      "267000\n",
      "268000\n",
      "269000\n",
      "270000\n",
      "271000\n",
      "272000\n",
      "273000\n",
      "274000\n",
      "275000\n",
      "276000\n",
      "277000\n",
      "278000\n",
      "279000\n",
      "280000\n",
      "281000\n",
      "283000\n",
      "284000\n",
      "285000\n",
      "286000\n",
      "287000\n",
      "288000\n",
      "289000\n",
      "290000\n",
      "291000\n",
      "292000\n",
      "293000\n",
      "294000\n",
      "295000\n",
      "296000\n",
      "297000\n",
      "298000\n",
      "299000\n",
      "300000\n",
      "301000\n",
      "302000\n",
      "303000\n",
      "304000\n",
      "305000\n",
      "306000\n",
      "307000\n",
      "308000\n",
      "309000\n",
      "310000\n",
      "311000\n",
      "312000\n",
      "313000\n",
      "314000\n",
      "315000\n",
      "316000\n",
      "317000\n",
      "318000\n",
      "319000\n",
      "320000\n",
      "321000\n",
      "322000\n",
      "323000\n",
      "324000\n",
      "325000\n",
      "326000\n",
      "327000\n",
      "328000\n",
      "329000\n",
      "330000\n",
      "331000\n",
      "332000\n",
      "333000\n",
      "334000\n",
      "335000\n",
      "336000\n",
      "337000\n",
      "339000\n",
      "340000\n",
      "341000\n",
      "342000\n",
      "343000\n",
      "344000\n",
      "345000\n",
      "346000\n",
      "347000\n",
      "348000\n",
      "349000\n",
      "350000\n",
      "351000\n",
      "352000\n",
      "353000\n",
      "354000\n",
      "355000\n",
      "356000\n",
      "357000\n",
      "358000\n",
      "359000\n",
      "360000\n",
      "361000\n",
      "362000\n",
      "363000\n",
      "364000\n",
      "365000\n",
      "366000\n",
      "367000\n",
      "368000\n",
      "369000\n",
      "370000\n",
      "371000\n",
      "372000\n",
      "373000\n",
      "374000\n",
      "375000\n",
      "377000\n",
      "378000\n",
      "379000\n",
      "380000\n",
      "381000\n",
      "382000\n",
      "383000\n",
      "384000\n",
      "385000\n",
      "386000\n",
      "387000\n",
      "388000\n",
      "389000\n",
      "390000\n",
      "391000\n",
      "392000\n",
      "393000\n",
      "394000\n",
      "395000\n",
      "396000\n",
      "397000\n",
      "398000\n",
      "399000\n",
      "400000\n",
      "401000\n",
      "402000\n",
      "403000\n",
      "404000\n",
      "405000\n",
      "407000\n",
      "408000\n",
      "409000\n",
      "410000\n",
      "411000\n",
      "412000\n",
      "413000\n",
      "414000\n",
      "415000\n",
      "416000\n",
      "417000\n",
      "418000\n",
      "419000\n",
      "420000\n",
      "421000\n",
      "422000\n",
      "423000\n",
      "424000\n",
      "425000\n",
      "426000\n",
      "427000\n",
      "428000\n",
      "429000\n",
      "430000\n",
      "431000\n",
      "432000\n",
      "433000\n",
      "434000\n",
      "435000\n",
      "436000\n",
      "437000\n",
      "438000\n",
      "439000\n",
      "440000\n",
      "441000\n",
      "442000\n",
      "443000\n",
      "444000\n",
      "445000\n",
      "446000\n",
      "447000\n",
      "448000\n",
      "449000\n",
      "450000\n",
      "451000\n",
      "452000\n",
      "453000\n",
      "454000\n",
      "455000\n",
      "456000\n",
      "457000\n"
     ]
    },
    {
     "ename": "KeyboardInterrupt",
     "evalue": "",
     "output_type": "error",
     "traceback": [
      "\u001b[0;31m---------------------------------------------------------------------------\u001b[0m",
      "\u001b[0;31mAttributeError\u001b[0m                            Traceback (most recent call last)",
      "File \u001b[0;32m/usr/local/lib/python3.10/dist-packages/pandas/core/generic.py:5914\u001b[0m, in \u001b[0;36mNDFrame.__setattr__\u001b[0;34m(self, name, value)\u001b[0m\n\u001b[1;32m   5913\u001b[0m \u001b[38;5;28;01mtry\u001b[39;00m:\n\u001b[0;32m-> 5914\u001b[0m     \u001b[38;5;28;43mobject\u001b[39;49m\u001b[38;5;241;43m.\u001b[39;49m\u001b[38;5;21;43m__getattribute__\u001b[39;49m\u001b[43m(\u001b[49m\u001b[38;5;28;43mself\u001b[39;49m\u001b[43m,\u001b[49m\u001b[43m \u001b[49m\u001b[43mname\u001b[49m\u001b[43m)\u001b[49m\n\u001b[1;32m   5915\u001b[0m     \u001b[38;5;28;01mreturn\u001b[39;00m \u001b[38;5;28mobject\u001b[39m\u001b[38;5;241m.\u001b[39m\u001b[38;5;21m__setattr__\u001b[39m(\u001b[38;5;28mself\u001b[39m, name, value)\n",
      "File \u001b[0;32m/usr/local/lib/python3.10/dist-packages/pandas/core/series.py:659\u001b[0m, in \u001b[0;36mSeries.name\u001b[0;34m(self)\u001b[0m\n\u001b[1;32m    613\u001b[0m \u001b[38;5;124;03m\"\"\"\u001b[39;00m\n\u001b[1;32m    614\u001b[0m \u001b[38;5;124;03mReturn the name of the Series.\u001b[39;00m\n\u001b[1;32m    615\u001b[0m \n\u001b[0;32m   (...)\u001b[0m\n\u001b[1;32m    657\u001b[0m \u001b[38;5;124;03m'Even Numbers'\u001b[39;00m\n\u001b[1;32m    658\u001b[0m \u001b[38;5;124;03m\"\"\"\u001b[39;00m\n\u001b[0;32m--> 659\u001b[0m \u001b[38;5;28;01mreturn\u001b[39;00m \u001b[38;5;28;43mself\u001b[39;49m\u001b[38;5;241;43m.\u001b[39;49m\u001b[43m_name\u001b[49m\n",
      "File \u001b[0;32m/usr/local/lib/python3.10/dist-packages/pandas/core/generic.py:5902\u001b[0m, in \u001b[0;36mNDFrame.__getattr__\u001b[0;34m(self, name)\u001b[0m\n\u001b[1;32m   5901\u001b[0m     \u001b[38;5;28;01mreturn\u001b[39;00m \u001b[38;5;28mself\u001b[39m[name]\n\u001b[0;32m-> 5902\u001b[0m \u001b[38;5;28;01mreturn\u001b[39;00m \u001b[38;5;28;43mobject\u001b[39;49m\u001b[38;5;241;43m.\u001b[39;49m\u001b[38;5;21;43m__getattribute__\u001b[39;49m\u001b[43m(\u001b[49m\u001b[38;5;28;43mself\u001b[39;49m\u001b[43m,\u001b[49m\u001b[43m \u001b[49m\u001b[43mname\u001b[49m\u001b[43m)\u001b[49m\n",
      "\u001b[0;31mAttributeError\u001b[0m: 'Series' object has no attribute '_name'",
      "\nDuring handling of the above exception, another exception occurred:\n",
      "\u001b[0;31mKeyboardInterrupt\u001b[0m                         Traceback (most recent call last)",
      "Cell \u001b[0;32mIn[4], line 14\u001b[0m\n\u001b[1;32m     12\u001b[0m \u001b[38;5;66;03m# Iterate over the data frame and save in a dict as a keys the lineages and as value the earliest collection date\u001b[39;00m\n\u001b[1;32m     13\u001b[0m lineage_dict \u001b[38;5;241m=\u001b[39m {}\n\u001b[0;32m---> 14\u001b[0m \u001b[38;5;28;01mfor\u001b[39;00m index, row \u001b[38;5;129;01min\u001b[39;00m df\u001b[38;5;241m.\u001b[39miterrows():\n\u001b[1;32m     15\u001b[0m     \u001b[38;5;28;01mif\u001b[39;00m index \u001b[38;5;241m%\u001b[39m \u001b[38;5;241m1000\u001b[39m \u001b[38;5;241m==\u001b[39m \u001b[38;5;241m0\u001b[39m:\n\u001b[1;32m     16\u001b[0m         \u001b[38;5;28mprint\u001b[39m(index)\n",
      "File \u001b[0;32m/usr/local/lib/python3.10/dist-packages/pandas/core/frame.py:1410\u001b[0m, in \u001b[0;36mDataFrame.iterrows\u001b[0;34m(self)\u001b[0m\n\u001b[1;32m   1408\u001b[0m klass \u001b[38;5;241m=\u001b[39m \u001b[38;5;28mself\u001b[39m\u001b[38;5;241m.\u001b[39m_constructor_sliced\n\u001b[1;32m   1409\u001b[0m \u001b[38;5;28;01mfor\u001b[39;00m k, v \u001b[38;5;129;01min\u001b[39;00m \u001b[38;5;28mzip\u001b[39m(\u001b[38;5;28mself\u001b[39m\u001b[38;5;241m.\u001b[39mindex, \u001b[38;5;28mself\u001b[39m\u001b[38;5;241m.\u001b[39mvalues):\n\u001b[0;32m-> 1410\u001b[0m     s \u001b[38;5;241m=\u001b[39m \u001b[43mklass\u001b[49m\u001b[43m(\u001b[49m\u001b[43mv\u001b[49m\u001b[43m,\u001b[49m\u001b[43m \u001b[49m\u001b[43mindex\u001b[49m\u001b[38;5;241;43m=\u001b[39;49m\u001b[43mcolumns\u001b[49m\u001b[43m,\u001b[49m\u001b[43m \u001b[49m\u001b[43mname\u001b[49m\u001b[38;5;241;43m=\u001b[39;49m\u001b[43mk\u001b[49m\u001b[43m)\u001b[49m\u001b[38;5;241m.\u001b[39m__finalize__(\u001b[38;5;28mself\u001b[39m)\n\u001b[1;32m   1411\u001b[0m     \u001b[38;5;28;01myield\u001b[39;00m k, s\n",
      "File \u001b[0;32m/usr/local/lib/python3.10/dist-packages/pandas/core/series.py:483\u001b[0m, in \u001b[0;36mSeries.__init__\u001b[0;34m(self, data, index, dtype, name, copy, fastpath)\u001b[0m\n\u001b[1;32m    481\u001b[0m     \u001b[38;5;28mobject\u001b[39m\u001b[38;5;241m.\u001b[39m\u001b[38;5;21m__setattr__\u001b[39m(\u001b[38;5;28mself\u001b[39m, \u001b[38;5;124m\"\u001b[39m\u001b[38;5;124m_name\u001b[39m\u001b[38;5;124m\"\u001b[39m, name)\n\u001b[1;32m    482\u001b[0m \u001b[38;5;28;01melse\u001b[39;00m:\n\u001b[0;32m--> 483\u001b[0m     \u001b[38;5;28;43mself\u001b[39;49m\u001b[38;5;241;43m.\u001b[39;49m\u001b[43mname\u001b[49m \u001b[38;5;241m=\u001b[39m name\n\u001b[1;32m    484\u001b[0m     \u001b[38;5;28mself\u001b[39m\u001b[38;5;241m.\u001b[39m_set_axis(\u001b[38;5;241m0\u001b[39m, index)\n",
      "File \u001b[0;32m/usr/local/lib/python3.10/dist-packages/pandas/core/generic.py:5914\u001b[0m, in \u001b[0;36mNDFrame.__setattr__\u001b[0;34m(self, name, value)\u001b[0m\n\u001b[1;32m   5909\u001b[0m \u001b[38;5;66;03m# first try regular attribute access via __getattribute__, so that\u001b[39;00m\n\u001b[1;32m   5910\u001b[0m \u001b[38;5;66;03m# e.g. ``obj.x`` and ``obj.x = 4`` will always reference/modify\u001b[39;00m\n\u001b[1;32m   5911\u001b[0m \u001b[38;5;66;03m# the same attribute.\u001b[39;00m\n\u001b[1;32m   5913\u001b[0m \u001b[38;5;28;01mtry\u001b[39;00m:\n\u001b[0;32m-> 5914\u001b[0m     \u001b[38;5;28;43mobject\u001b[39;49m\u001b[38;5;241;43m.\u001b[39;49m\u001b[38;5;21;43m__getattribute__\u001b[39;49m\u001b[43m(\u001b[49m\u001b[38;5;28;43mself\u001b[39;49m\u001b[43m,\u001b[49m\u001b[43m \u001b[49m\u001b[43mname\u001b[49m\u001b[43m)\u001b[49m\n\u001b[1;32m   5915\u001b[0m     \u001b[38;5;28;01mreturn\u001b[39;00m \u001b[38;5;28mobject\u001b[39m\u001b[38;5;241m.\u001b[39m\u001b[38;5;21m__setattr__\u001b[39m(\u001b[38;5;28mself\u001b[39m, name, value)\n\u001b[1;32m   5916\u001b[0m \u001b[38;5;28;01mexcept\u001b[39;00m \u001b[38;5;167;01mAttributeError\u001b[39;00m:\n",
      "\u001b[0;31mKeyboardInterrupt\u001b[0m: "
     ]
    }
   ],
   "source": [
    "import datetime\n",
    "\n",
    "def transform_into_date(date_str):\n",
    "    try:\n",
    "        if int(date_str[:4]) < 2019:\n",
    "            return None\n",
    "        return datetime.datetime(int(date_str[:4]), int(date_str[4:6]), int(date_str[6:8]))\n",
    "    except:\n",
    "        return None\n",
    "\n",
    "df = covid19_genome.df[[\"acc\", \"lineage\", \"collection_date\"]]\n",
    "# Iterate over the data frame and save in a dict as a keys the lineages and as value the earliest collection date\n",
    "lineage_dict = {}\n",
    "for index, row in df.iterrows():\n",
    "    if index % 1000 == 0:\n",
    "        print(index)\n",
    "    if len(str(row[\"collection_date\"])) != 8:\n",
    "        continue\n",
    "    new_date = transform_into_date(str(row[\"collection_date\"]))\n",
    "    if new_date is None:\n",
    "        continue\n",
    "    if row[\"lineage\"] not in lineage_dict:\n",
    "        lineage_dict[row[\"lineage\"]] = new_date\n",
    "    else:\n",
    "        if new_date < lineage_dict[row[\"lineage\"]]:\n",
    "            lineage_dict[row[\"lineage\"]] = new_date"
   ]
  },
  {
   "cell_type": "code",
   "execution_count": null,
   "metadata": {},
   "outputs": [],
   "source": [
    "local_lineages = covid19_genome.getLocalLineages(1024)\n",
    "#  Sort the local lineages by the earliest collection date\n",
    "sorted_lineages = sorted(local_lineages, key=lambda x: lineage_dict[x])\n"
   ]
  },
  {
   "cell_type": "code",
   "execution_count": null,
   "metadata": {},
   "outputs": [
    {
     "data": {
      "image/png": "[encoded data removed]",
      "text/plain": [
       "<Figure size 2000x1000 with 1 Axes>"
      ]
     },
     "metadata": {},
     "output_type": "display_data"
    }
   ],
   "source": [
    "# Plot the lineages\n",
    "import matplotlib.pyplot as plt\n",
    "import numpy as np\n",
    "# sorted_lineages = sorted_lineages[-50:]\n",
    "\n",
    "fig, ax = plt.subplots(figsize=(20, 10))\n",
    "ax.set_title(\"Lineages\")\n",
    "ax.set_xlabel(\"Collection date\")\n",
    "ax.set_ylabel(\"Lineage\")\n",
    "ax.set_yticks(np.arange(len(sorted_lineages)))\n",
    "ax.set_yticklabels(sorted_lineages)\n",
    "ax.set_ylim(-1, len(sorted_lineages))\n",
    "ax.grid(True)\n",
    "for index, lineage in enumerate(sorted_lineages):\n",
    "    if lineage_dict[lineage] is None:\n",
    "        continue\n",
    "    ax.plot([lineage_dict[lineage], lineage_dict[lineage]], [index - 0.5, index + 0.5], color=\"black\")\n",
    "plt.show()\n"
   ]
  },
  {
   "cell_type": "code",
   "execution_count": null,
   "metadata": {},
   "outputs": [],
   "source": [
    "# for example, if we have the lineage B.1.1.7. Its relatives will be B.1.1 (his father) and B.1.1.* (where * means just a number, and those are his brothers)\n",
    "def get_relatives(lineage, lineages):\n",
    "    lineage_father = \".\".join(lineage.split(\".\")[:-1])\n",
    "    depth = len(lineage.split(\".\"))\n",
    "    relatives = []\n",
    "    for l in lineages:\n",
    "        if l == lineage:\n",
    "            continue\n",
    "        if l == lineage_father:\n",
    "            relatives.append(l)\n",
    "            continue\n",
    "        if l.startswith(lineage_father + \".\") and len(l.split(\".\")) == depth:\n",
    "            relatives.append(l)\n",
    "    return relatives"
   ]
  },
  {
   "cell_type": "code",
   "execution_count": null,
   "metadata": {},
   "outputs": [
    {
     "data": {
      "text/plain": [
       "['B.1.1',\n",
       " 'B.1.1.519',\n",
       " 'B.1.1.39',\n",
       " 'B.1.1.222',\n",
       " 'B.1.1.291',\n",
       " 'B.1.1.37',\n",
       " 'B.1.1.317',\n",
       " 'B.1.1.311',\n",
       " 'B.1.1.307',\n",
       " 'B.1.1.318']"
      ]
     },
     "execution_count": 24,
     "metadata": {},
     "output_type": "execute_result"
    }
   ],
   "source": [
    "get_relatives(\"B.1.1.7\", sorted_lineages)"
   ]
  },
  {
   "cell_type": "code",
   "execution_count": null,
   "metadata": {},
   "outputs": [],
   "source": []
  }
 ],
 "metadata": {
  "kernelspec": {
   "display_name": "covit",
   "language": "python",
   "name": "python3"
  },
  "language_info": {
   "codemirror_mode": {
    "name": "ipython",
    "version": 3
   },
   "file_extension": ".py",
   "mimetype": "text/x-python",
   "name": "python",
   "nbconvert_exporter": "python",
   "pygments_lexer": "ipython3",
   "version": "3.10.6"
  },
  "orig_nbformat": 4
 },
 "nbformat": 4,
 "nbformat_minor": 2
}
