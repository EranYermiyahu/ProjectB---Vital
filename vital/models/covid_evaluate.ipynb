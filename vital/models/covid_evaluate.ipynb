{
 "cells": [
  {
   "cell_type": "code",
   "execution_count": 51,
   "metadata": {},
   "outputs": [],
   "source": [
    "import os\n",
    "os.environ[\"CUDA_VISIBLE_DEVICES\"] = \"-1\" # Uncomment to disable GPU\n",
    "import glob\n",
    "import random\n",
    "import Levenshtein as lv\n",
    "\n",
    "from model import Model, DatasetName, load_model, remove_model\n",
    "\n",
    "__ORIG_WD__ = os.getcwd()\n",
    "\n",
    "os.chdir(f\"{__ORIG_WD__}/../data_collectors/\")\n",
    "from covid19_genome import Covid19Genome\n",
    "\n",
    "os.chdir(__ORIG_WD__)\n"
   ]
  },
  {
   "cell_type": "code",
   "execution_count": 52,
   "metadata": {},
   "outputs": [],
   "source": [
    "model_name = \"covid19-1024examples\"\n",
    "model = load_model(model_name)"
   ]
  },
  {
   "cell_type": "markdown",
   "metadata": {},
   "source": [
    "#### Extract examples from lineages you did not train on."
   ]
  },
  {
   "cell_type": "code",
   "execution_count": 53,
   "metadata": {},
   "outputs": [
    {
     "name": "stdout",
     "output_type": "stream",
     "text": [
      "Building Data frame\n",
      "Done building Data frame\n",
      "Building remote dicts\n",
      "Done building remote dicts\n",
      "Building local dicts\n",
      "Done building local dicts\n"
     ]
    }
   ],
   "source": [
    "dc = Covid19Genome()"
   ]
  },
  {
   "cell_type": "code",
   "execution_count": 54,
   "metadata": {},
   "outputs": [],
   "source": [
    "accessions_threshold = 1024"
   ]
  },
  {
   "cell_type": "code",
   "execution_count": 55,
   "metadata": {},
   "outputs": [],
   "source": [
    "lineage_to_accessions_map = {}\n",
    "accession_to_lineage_map ={}\n",
    "lineages = dc.getLocalLineages(0)\n",
    "for lineage in lineages:\n",
    "    lineage_to_accessions_map[lineage] = []\n",
    "    accessions = dc.getLocalAccessionsPath(lineage)\n",
    "    for accession in accessions:\n",
    "        lineage_to_accessions_map[lineage].append(accession)\n",
    "        accession_to_lineage_map[accession] = lineage\n",
    "\n",
    "accessions_of_unknown_lineages = []\n",
    "for accession, lineage in accession_to_lineage_map.items():\n",
    "    if len(lineage_to_accessions_map[lineage]) < accessions_threshold:\n",
    "        accessions_of_unknown_lineages.append(accession)\n",
    "\n",
    "random.shuffle(accessions_of_unknown_lineages)\n"
   ]
  },
  {
   "cell_type": "code",
   "execution_count": 56,
   "metadata": {},
   "outputs": [],
   "source": [
    "sequencer_instrument_to_error_profile_map = {\n",
    "    \"illumina\": {\n",
    "        \"substitution_rate\": 0.005,\n",
    "        \"insertion_rate\": 0.001,\n",
    "        \"deletion_rate\": 0.001\n",
    "    },\n",
    "    \"ont\": {\n",
    "        \"substitution_rate\": 0.01,\n",
    "        \"insertion_rate\": 0.04,\n",
    "        \"deletion_rate\": 0.04\n",
    "    },\n",
    "    \"pacbio\": {\n",
    "        \"substitution_rate\": 0.005,\n",
    "        \"insertion_rate\": 0.025,\n",
    "        \"deletion_rate\": 0.025\n",
    "    },\n",
    "    \"roche\": {\n",
    "        \"substitution_rate\": 0.002,\n",
    "        \"insertion_rate\": 0.01,\n",
    "        \"deletion_rate\": 0.01\n",
    "    }\n",
    "}"
   ]
  },
  {
   "cell_type": "code",
   "execution_count": 8,
   "metadata": {},
   "outputs": [],
   "source": [
    "coverage = 4\n",
    "ml_model_depth = 2\n",
    "sequencer_instrument = \"roche\"\n",
    "\n",
    "def get_model_name(ml_model_depth, coverage, sequencer_instrument):\n",
    "    if not sequencer_instrument in sequencer_instrument_to_error_profile_map:\n",
    "        raise Exception(f\"Invalid sequencer instrument: {sequencer_instrument}\")\n",
    "    return f\"vit.{ml_model_depth}.{coverage}x.{sequencer_instrument}\"\n",
    "\n",
    "ml_model_name = get_model_name(ml_model_depth, coverage, sequencer_instrument)"
   ]
  },
  {
   "cell_type": "code",
   "execution_count": 85,
   "metadata": {},
   "outputs": [],
   "source": [
    "meow = model.predict(\n",
    "    ml_model_name,\n",
    "    model.get_ds_types()[0],\n",
    "    dataset_props= {\n",
    "        \"coverage\": 4,\n",
    "    } | sequencer_instrument_to_error_profile_map[sequencer_instrument],\n",
    "    examples=accessions_of_unknown_lineages[:128]\n",
    "\n",
    ")"
   ]
  },
  {
   "cell_type": "code",
   "execution_count": null,
   "metadata": {},
   "outputs": [],
   "source": [
    "import tensorflow as tf\n",
    "\n",
    "labels = model.get_labels()\n",
    "\n",
    "example_number = 1\n",
    "\n",
    "example_id = meow[example_number][0]\n",
    "\n",
    "top_5_label_values, top_5_label_indices = tf.math.top_k(meow[example_number][1], k=5)\n",
    "down_5_label_values, down_5_label_indices = tf.math.top_k(-1*meow[example_number][1], k=5)\n",
    "\n",
    "top_5_labels = [labels[i] for i in top_5_label_indices]\n",
    "down_5_labels = [labels[i] for i in down_5_label_indices]\n",
    "\n",
    "\n",
    "print(\"Tested accession: \"accession_to_lineage_map[example_id])\n",
    "print(\"~~~~~~~~~~~~~~~~~~~~~~~~~~~\")\n",
    "print(\"Top 5 labels:\")\n",
    "for i in range(5):\n",
    "    print(f\"{top_5_labels[i]}: {top_5_label_values[i]}\")\n",
    "print(\"~~~~~~~~~~~~~~~~~~~~~~~~~~~\")\n",
    "print(\"Down 5 labels:\")\n",
    "for i in range(5):\n",
    "    print(f\"{down_5_labels[i]}: {-1*down_5_label_values[i]}\")"
   ]
  },
  {
   "cell_type": "code",
   "execution_count": 104,
   "metadata": {},
   "outputs": [
    {
     "data": {
      "text/plain": [
       "<BarContainer object of 5 artists>"
      ]
     },
     "execution_count": 104,
     "metadata": {},
     "output_type": "execute_result"
    },
    {
     "data": {
      "image/png": "[encoded data removed]",
      "text/plain": [
       "<Figure size 640x480 with 1 Axes>"
      ]
     },
     "metadata": {},
     "output_type": "display_data"
    }
   ],
   "source": [
    "# plot the labels and their values\n",
    "import matplotlib.pyplot as plt\n",
    "\n",
    "plt.bar(top_5_labels, top_5_label_values)"
   ]
  },
  {
   "cell_type": "code",
   "execution_count": 105,
   "metadata": {},
   "outputs": [
    {
     "data": {
      "text/plain": [
       "<BarContainer object of 5 artists>"
      ]
     },
     "execution_count": 105,
     "metadata": {},
     "output_type": "execute_result"
    },
    {
     "data": {
      "image/png": "[encoded data removed]",
      "text/plain": [
       "<Figure size 640x480 with 1 Axes>"
      ]
     },
     "metadata": {},
     "output_type": "display_data"
    }
   ],
   "source": [
    "plt.bar(down_5_labels, down_5_label_values)"
   ]
  },
  {
   "cell_type": "code",
   "execution_count": 96,
   "metadata": {},
   "outputs": [],
   "source": [
    "def get_genome(input_filepath):\n",
    "    genome = \"\"\n",
    "    with open(input_filepath, \"r\") as f:\n",
    "        for line in f:\n",
    "            if line.startswith(\">\"):\n",
    "                continue\n",
    "            genome += line.strip()\n",
    "    return genome"
   ]
  },
  {
   "cell_type": "code",
   "execution_count": 97,
   "metadata": {},
   "outputs": [],
   "source": [
    "example_genome = get_genome(example_id)"
   ]
  },
  {
   "cell_type": "code",
   "execution_count": 98,
   "metadata": {},
   "outputs": [
    {
     "name": "stdout",
     "output_type": "stream",
     "text": [
      "0.9860341759828113\n",
      "0.9804821658932131\n",
      "0.9861679983885047\n",
      "0.939733479309578\n",
      "0.9861777434830744\n",
      "~~~~~~~~~~~~~~~~\n",
      "0.9064198027772188\n",
      "0.9827828766664434\n",
      "0.9827493803175454\n",
      "0.9835164835164835\n",
      "0.9842860014742344\n"
     ]
    }
   ],
   "source": [
    "for lineage in top_5_labels:\n",
    "    accession = lineage_to_accessions_map[lineage][0]\n",
    "    lineage_genome = get_genome(accession)\n",
    "    print(lv.ratio(example_genome, lineage_genome))\n",
    "print(\"~~~~~~~~~~~~~~~~\")\n",
    "for lineage in down_5_labels:\n",
    "    accession = lineage_to_accessions_map[lineage][0]\n",
    "    lineage_genome = get_genome(accession)\n",
    "    print(lv.ratio(example_genome, lineage_genome))"
   ]
  },
  {
   "cell_type": "code",
   "execution_count": 99,
   "metadata": {},
   "outputs": [
    {
     "name": "stdout",
     "output_type": "stream",
     "text": [
      "0.9757191126114364\n",
      "0.967950908950385\n"
     ]
    }
   ],
   "source": [
    "# print the avarage of the top 5 against the bottom 5\n",
    "top_5_avg = 0\n",
    "for lineage in top_5_labels:\n",
    "    accession = lineage_to_accessions_map[lineage][0]\n",
    "    lineage_genome = get_genome(accession)\n",
    "    top_5_avg += lv.ratio(example_genome, lineage_genome)\n",
    "top_5_avg /= 5\n",
    "\n",
    "down_5_avg = 0\n",
    "for lineage in down_5_labels:\n",
    "    accession = lineage_to_accessions_map[lineage][0]\n",
    "    lineage_genome = get_genome(accession)\n",
    "    down_5_avg += lv.ratio(example_genome, lineage_genome)\n",
    "down_5_avg /= 5\n",
    "\n",
    "print(top_5_avg)\n",
    "print(down_5_avg)"
   ]
  },
  {
   "cell_type": "code",
   "execution_count": 111,
   "metadata": {},
   "outputs": [],
   "source": [
    "lineages = dc.getLocalLineages(1024)\n",
    "# sort(lineages)"
   ]
  },
  {
   "cell_type": "code",
   "execution_count": 112,
   "metadata": {},
   "outputs": [],
   "source": [
    "# write list of lineages to file\n",
    "with open(\"lineages.txt\", \"w\") as f:\n",
    "    for lineage in lineages:\n",
    "        f.write(f\"{lineage}\\n\")"
   ]
  },
  {
   "cell_type": "code",
   "execution_count": null,
   "metadata": {},
   "outputs": [],
   "source": []
  }
 ],
 "metadata": {
  "kernelspec": {
   "display_name": "covit",
   "language": "python",
   "name": "python3"
  },
  "language_info": {
   "codemirror_mode": {
    "name": "ipython",
    "version": 3
   },
   "file_extension": ".py",
   "mimetype": "text/x-python",
   "name": "python",
   "nbconvert_exporter": "python",
   "pygments_lexer": "ipython3",
   "version": "3.9.17"
  },
  "orig_nbformat": 4
 },
 "nbformat": 4,
 "nbformat_minor": 2
}
