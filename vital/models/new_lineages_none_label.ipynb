{
 "cells": [
  {
   "attachments": {},
   "cell_type": "markdown",
   "metadata": {},
   "source": [
    "# Training covid models\n",
    "### This notebook is an example usage of how to use the model alongside the covid-data-collector in order to train, evaluate and test the model\n",
    "#### In this notebook you will find example usages on how to use the core functionalities of the model "
   ]
  },
  {
   "attachments": {},
   "cell_type": "markdown",
   "metadata": {},
   "source": [
    "#### Import third party modules, and also the data_collector: covid19_genome and the model module"
   ]
  },
  {
   "cell_type": "code",
   "execution_count": 1,
   "metadata": {},
   "outputs": [
    {
     "name": "stderr",
     "output_type": "stream",
     "text": [
      "2023-12-09 15:33:55.183209: I tensorflow/core/util/port.cc:110] oneDNN custom operations are on. You may see slightly different numerical results due to floating-point round-off errors from different computation orders. To turn them off, set the environment variable `TF_ENABLE_ONEDNN_OPTS=0`.\n",
      "2023-12-09 15:33:55.206834: I tensorflow/core/platform/cpu_feature_guard.cc:182] This TensorFlow binary is optimized to use available CPU instructions in performance-critical operations.\n",
      "To enable the following instructions: AVX2 AVX_VNNI FMA, in other operations, rebuild TensorFlow with the appropriate compiler flags.\n",
      "2023-12-09 15:33:55.596952: W tensorflow/compiler/tf2tensorrt/utils/py_utils.cc:38] TF-TRT Warning: Could not find TensorRT\n"
     ]
    }
   ],
   "source": [
    "import os\n",
    "os.environ[\"CUDA_VISIBLE_DEVICES\"] = \"-1\" # Uncomment to disable GPU\n",
    "import glob\n",
    "import sys\n",
    "\n",
    "from model import Model, DatasetName, load_model, remove_model\n",
    "\n",
    "__ORIG_WD__ = os.getcwd()\n",
    "\n",
    "sys.path.append(f\"{__ORIG_WD__}/../data_collectors/\")\n",
    "os.chdir(f\"{__ORIG_WD__}/../data_collectors/\")\n",
    "from covid19_genome import Covid19Genome\n",
    "\n",
    "os.chdir(__ORIG_WD__)\n"
   ]
  },
  {
   "attachments": {},
   "cell_type": "markdown",
   "metadata": {},
   "source": [
    "#### Create a model, or try to load it, if it was already have been created.\n",
    "\n",
    "In order to use the model, the first thing you have to do is provide it with a dataset (with the help of the data_collector). In the following cell you are provided with an example that create the dataset.\n",
    "\n",
    "In this instance, we will load the lineages of the 10/1/2021 UShER tree. This notebook is created for the study of identifying new lineages.\n",
    "\n",
    "You should note that when you are creating the dataset, you are passing the dataset type. You can obtain the available dataset types in the system by calling the model class function ```get_ds_types()```"
   ]
  },
  {
   "cell_type": "code",
   "execution_count": 3,
   "metadata": {},
   "outputs": [],
   "source": [
    "model_name = \"covid19-new_lineages-new_labels\"\n",
    "\n",
    "try:\n",
    "    model = load_model(model_name)\n",
    "except Exception:\n",
    "    covid19_genome = Covid19Genome()\n",
    "    lineages = covid19_genome.getLocalLineages(512)\n",
    "    lineages_set = set(lineages)\n",
    "    \n",
    "    # Decide lineages to train on (defined in the lineages_in_tree.txt file)\n",
    "    lineages_in_tree = []\n",
    "    with open(\"lineages_in_tree.txt\", \"r\") as f:\n",
    "        for line in f:\n",
    "            lineage = line.split(\"\\t\")[0]\n",
    "            if lineage in lineages_set:\n",
    "                lineages_in_tree.append(lineage)\n",
    "    print(f\"The number of lineages located in the tree is: {len(lineages_in_tree)}\")\n",
    "\n",
    "    lineages_in_tree.sort()\n",
    "    dataset = []\n",
    "    def get_dataset():\n",
    "        lineages_in_tree_set = set(lineages_in_tree)\n",
    "        for lineage in lineages:\n",
    "            if lineage in lineages_in_tree_set:\n",
    "                dataset.append((lineage, covid19_genome.getLocalAccessionsPath(lineage)))\n",
    "            else:\n",
    "                dataset.append((\"new_lineage\", covid19_genome.getLocalAccessionsPath(lineage)))\n",
    "        return dataset\n",
    "\n",
    "    portions = {\n",
    "        DatasetName.trainset.name: 0.8,\n",
    "        DatasetName.validset.name: 0.1,\n",
    "        DatasetName.testset.name: 0.1\n",
    "    }\n",
    "\n",
    "    dataset = get_dataset()\n",
    "    \n",
    "    model = Model(model_name)\n",
    "    model.create_datasets(model.get_ds_types()[0], dataset, portions)"
   ]
  },
  {
   "attachments": {},
   "cell_type": "markdown",
   "metadata": {},
   "source": [
    "After you have created the model, and created its datasets. You can check which neural network structures is available. You can do that by calling the model class function ```get_ml_model_structure()```.\n",
    "\n",
    "After you see all the ml_model structures available in the system, you can check which hyper parameters are needed to define each and every ml_model structure. This is done by calling the model class function ```get_ml_model_structure_hps()```. The ```get_ml_model_structure_hps()``` will return which hps are required, and what it their type."
   ]
  },
  {
   "cell_type": "code",
   "execution_count": 4,
   "metadata": {},
   "outputs": [
    {
     "name": "stdout",
     "output_type": "stream",
     "text": [
      "['VitStructure', 'IreneStructure', 'SandyStructure']\n",
      "{'d_model': 'required', 'd_val': 'required', 'd_key': 'required', 'd_ff': 'required', 'heads': 'required', 'dropout_rate': 'optional', 'regularizer': 'optional', 'initializer': 'optional', 'activation': 'optional', 'encoder_repeats': 'required', 'labels': 'required'}\n"
     ]
    }
   ],
   "source": [
    "print(model.get_ml_model_structures())\n",
    "print(model.get_ml_model_structure_hps(model.get_ml_model_structures()[0]))"
   ]
  },
  {
   "attachments": {},
   "cell_type": "markdown",
   "metadata": {},
   "source": [
    "You can also see which properties help define the current type of dataset by calling to the model class function ```get_ds_props()``` This function could be called only after the dataset have been succesfully created. This function will return the properties of the dataset as well as their values."
   ]
  },
  {
   "cell_type": "code",
   "execution_count": 29,
   "metadata": {},
   "outputs": [
    {
     "name": "stdout",
     "output_type": "stream",
     "text": [
      "{'coverage': 4, 'substitution_rate': 0.0, 'insertion_rate': 0.0, 'deletion_rate': 0.0, 'read_length': 128, 'frag_len': 288, 'num_frags': 256}\n"
     ]
    }
   ],
   "source": [
    "print(model.get_ds_props())"
   ]
  },
  {
   "attachments": {},
   "cell_type": "markdown",
   "metadata": {},
   "source": [
    "A use case of the system with the VitStructure model and the minhash genome datasets (a.k.a. mh_genome_ds).\n",
    "\n",
    "In the mh_genome_ds the coverage is a dataset property that sets the genome coverage rate.\n",
    "\n",
    "In the VitStructure, the model_depth is the number of transformer encoders.\n",
    "\n",
    "In this example use-case these two parameters will help us define a neural network that will be trained on the dataset (with the current coverage rate)"
   ]
  },
  {
   "cell_type": "code",
   "execution_count": 30,
   "metadata": {},
   "outputs": [],
   "source": [
    "coverage = 4\n",
    "ml_model_depth = 1\n",
    "sequencer_instrument = \"ideal\""
   ]
  },
  {
   "cell_type": "code",
   "execution_count": 31,
   "metadata": {},
   "outputs": [],
   "source": [
    "sequencer_instrument_to_error_profile_map = {\n",
    "    \"ideal\": {\n",
    "        \"substitution_rate\": 0.0,\n",
    "        \"insertion_rate\": 0.0,\n",
    "        \"deletion_rate\": 0.0\n",
    "    },\n",
    "    \"illumina\": {\n",
    "        \"substitution_rate\": 0.005,\n",
    "        \"insertion_rate\": 0.001,\n",
    "        \"deletion_rate\": 0.001\n",
    "    },\n",
    "    \"ont\": {\n",
    "        \"substitution_rate\": 0.01,\n",
    "        \"insertion_rate\": 0.04,\n",
    "        \"deletion_rate\": 0.04\n",
    "    },\n",
    "    \"pacbio\": {\n",
    "        \"substitution_rate\": 0.005,\n",
    "        \"insertion_rate\": 0.025,\n",
    "        \"deletion_rate\": 0.025\n",
    "    },\n",
    "    \"roche\": {\n",
    "        \"substitution_rate\": 0.002,\n",
    "        \"insertion_rate\": 0.01,\n",
    "        \"deletion_rate\": 0.01\n",
    "    }\n",
    "}\n",
    "\n",
    "def get_model_name(ml_model_depth, coverage, sequencer_instrument):\n",
    "    if not sequencer_instrument in sequencer_instrument_to_error_profile_map:\n",
    "        raise Exception(f\"Invalid sequencer instrument: {sequencer_instrument}\")\n",
    "    return f\"vit.{ml_model_depth}.{coverage}x.{sequencer_instrument}\"\n",
    "\n",
    "ml_model_name = get_model_name(ml_model_depth, coverage, sequencer_instrument)"
   ]
  },
  {
   "attachments": {},
   "cell_type": "markdown",
   "metadata": {},
   "source": [
    "#### Adding a new neural network\n",
    "\n",
    "In this cell we will create an ml_model with the required hps (and also optional) as outputted earlier."
   ]
  },
  {
   "cell_type": "code",
   "execution_count": 32,
   "metadata": {},
   "outputs": [
    {
     "name": "stdout",
     "output_type": "stream",
     "text": [
      "Model already exists\n"
     ]
    }
   ],
   "source": [
    "newly_added = True\n",
    "try:\n",
    "    model.add_ml_model(ml_model_name, hps={\n",
    "        \"structure\": model.get_ml_model_structures()[0],\n",
    "        \"d_model\": model.get_ds_props()[\"frag_len\"],\n",
    "        \"d_val\": 128,\n",
    "        \"d_key\": 128,\n",
    "        \"heads\": 8,\n",
    "        \"d_ff\": 1024+256,\n",
    "        \"labels\":  len(model.get_labels()),\n",
    "        \"activation\": \"relu\",\n",
    "        \"optimizer\": {\n",
    "            \"name\": \"AdamW\",\n",
    "            \"params\": {\n",
    "                \"learning_rate\": 0.001,\n",
    "            },\n",
    "        },\n",
    "        \"encoder_repeats\": ml_model_depth,\n",
    "        \"regularizer\": {\n",
    "            \"name\": \"l2\",\n",
    "            \"params\": {\n",
    "                \"l2\": 0.0001\n",
    "            }\n",
    "        },\n",
    "        \"dropout\": 0.2,\n",
    "    })\n",
    "except:\n",
    "    newly_added = False\n",
    "    print(\"Model already exists\")"
   ]
  },
  {
   "cell_type": "code",
   "execution_count": 33,
   "metadata": {},
   "outputs": [
    {
     "name": "stdout",
     "output_type": "stream",
     "text": [
      "['vit.1.4x.ideal']\n"
     ]
    }
   ],
   "source": [
    "models = model.list_ml_models()\n",
    "print(models)"
   ]
  },
  {
   "cell_type": "code",
   "execution_count": 34,
   "metadata": {},
   "outputs": [],
   "source": [
    "if newly_added:\n",
    "    # assert False, \"Please consider doing transfer learning\"\n",
    "    pass\n",
    "# model.transfer(get_model_name(ml_model_depth, coverage * 2, sequencer_instrument), ml_model_name, False)"
   ]
  },
  {
   "cell_type": "code",
   "execution_count": 35,
   "metadata": {},
   "outputs": [],
   "source": [
    "# model.change_ml_hps(ml_model_name, {\n",
    "#     \"regularizer\": {\n",
    "#         \"name\": \"l2\",\n",
    "#         \"params\": {\n",
    "#             \"l2\": 0.00005,\n",
    "#         },\n",
    "#     },\n",
    "#     \"optimizer\": {\n",
    "#         \"name\": \"AdamW\",\n",
    "#         \"params\": {\n",
    "#             \"learning_rate\": 0.0002,\n",
    "#         },\n",
    "#     },\n",
    "# })"
   ]
  },
  {
   "attachments": {},
   "cell_type": "markdown",
   "metadata": {},
   "source": [
    "#### Updating the dataset coverage"
   ]
  },
  {
   "cell_type": "code",
   "execution_count": 36,
   "metadata": {},
   "outputs": [],
   "source": [
    "# model.update_ds_props({\n",
    "#     \"coverage\": coverage,\n",
    "#     } | sequencer_instrument_to_error_profile_map[sequencer_instrument])"
   ]
  },
  {
   "attachments": {},
   "cell_type": "markdown",
   "metadata": {},
   "source": [
    "#### Setting dataset batch size and training"
   ]
  },
  {
   "cell_type": "code",
   "execution_count": 37,
   "metadata": {},
   "outputs": [],
   "source": [
    "# model.set_ds_batch_size(512)\n",
    "# model.train(ml_model_name, epochs=1000)"
   ]
  },
  {
   "cell_type": "code",
   "execution_count": 38,
   "metadata": {},
   "outputs": [
    {
     "name": "stdout",
     "output_type": "stream",
     "text": [
      "Building Data frame\n"
     ]
    },
    {
     "name": "stdout",
     "output_type": "stream",
     "text": [
      "Done building Data frame\n",
      "Building remote dicts\n",
      "Done building remote dicts\n",
      "Building local dicts\n",
      "Done building local dicts\n",
      "The number of lineages located in the tree is: 77\n"
     ]
    }
   ],
   "source": [
    "# prepare data of new lineages\n",
    "covid19_genome = Covid19Genome()\n",
    "lineages = covid19_genome.getLocalLineages(512)\n",
    "lineages_set = set(lineages)\n",
    "\n",
    "# Decide lineages to train on (defined in the lineages_in_tree.txt file)\n",
    "lineages_in_tree = []\n",
    "with open(\"lineages_in_tree.txt\", \"r\") as f:\n",
    "    for line in f:\n",
    "        lineage = line.split(\"\\t\")[0]\n",
    "        if lineage in lineages_set:\n",
    "            lineages_in_tree.append(lineage)\n",
    "print(f\"The number of lineages located in the tree is: {len(lineages_in_tree)}\")\n",
    "\n",
    "lineages_not_in_tree = list(lineages_set - set(lineages_in_tree))\n",
    "lineages_not_in_tree.sort()"
   ]
  },
  {
   "cell_type": "code",
   "execution_count": 39,
   "metadata": {},
   "outputs": [],
   "source": [
    "# print(\"dataset types: \")\n",
    "# print(model.get_ds_types())\n",
    "# print(\"dataset properties: \")\n",
    "# print(model.get_ds_props())"
   ]
  },
  {
   "cell_type": "code",
   "execution_count": 40,
   "metadata": {},
   "outputs": [],
   "source": [
    "new_accessions_list = []\n",
    "for lineage in lineages_not_in_tree:\n",
    "    accessions = covid19_genome.getLocalAccessionsPath(lineage)[:10]\n",
    "    new_accessions_list += accessions"
   ]
  },
  {
   "cell_type": "code",
   "execution_count": 41,
   "metadata": {},
   "outputs": [],
   "source": [
    "predicted = model.predict(\n",
    "    ml_model_name=ml_model_name,\n",
    "    dataset_type=model.get_ds_types()[0],\n",
    "    dataset_props=model.get_ds_props(),\n",
    "    examples=new_accessions_list,\n",
    "    top_k=1\n",
    ")"
   ]
  },
  {
   "cell_type": "code",
   "execution_count": 42,
   "metadata": {},
   "outputs": [],
   "source": [
    "vital_results = {}\n",
    "for accession_path in predicted:\n",
    "    accession = accession_path.split(\"/\")[-1].split(\".\")[0]\n",
    "    lineage = covid19_genome.getAccessionLineage(accession)\n",
    "    predicted_lineages = predicted[accession_path][\"labels\"]\n",
    "    for predicted_lineage in predicted_lineages:\n",
    "        if not lineage in vital_results:\n",
    "            vital_results[lineage] = {}\n",
    "        if not predicted_lineage in vital_results[lineage]:\n",
    "            vital_results[lineage][predicted_lineage] = 0\n",
    "        vital_results[lineage][predicted_lineage] += 1"
   ]
  },
  {
   "cell_type": "code",
   "execution_count": 43,
   "metadata": {},
   "outputs": [],
   "source": [
    "usher_results = {}\n",
    "with open(\"usher_results.txt\", \"r\") as f:\n",
    "    for idx, line in enumerate(f):\n",
    "        if idx % 2 == 1:\n",
    "            continue\n",
    "        else:\n",
    "            real_lineage = line.split(\"\\t\")[0]\n",
    "            predicted_lineages = [result.split(\"(\")[0] for result in line.split(\"\\t\")[-1].split(\"|\")[-1].split(\",\")]\n",
    "            if not real_lineage in usher_results:\n",
    "                usher_results[real_lineage] = {}\n",
    "            for predicted_lineage in predicted_lineages:\n",
    "                if not predicted_lineage in usher_results[real_lineage]:\n",
    "                    usher_results[real_lineage][predicted_lineage] = 0\n",
    "                usher_results[real_lineage][predicted_lineage] += 1\n"
   ]
  },
  {
   "cell_type": "code",
   "execution_count": 45,
   "metadata": {},
   "outputs": [],
   "source": [
    "all_lineages = covid19_genome.getLocalLineages(512)"
   ]
  },
  {
   "cell_type": "code",
   "execution_count": 48,
   "metadata": {},
   "outputs": [
    {
     "name": "stdout",
     "output_type": "stream",
     "text": [
      "0.9831460674157303\n"
     ]
    }
   ],
   "source": [
    "not_appearing = 0\n",
    "appearing = 0\n",
    "for real_lineage in usher_results:\n",
    "    for predicted_lineage in usher_results[real_lineage]:\n",
    "        if not real_lineage in vital_results:\n",
    "            assert False, f\"Lineage {real_lineage} is not in vital results\"\n",
    "        if not predicted_lineage in vital_results[real_lineage] and\\\n",
    "            not predicted_lineage in all_lineages:\n",
    "            not_appearing += 1\n",
    "        else:\n",
    "            appearing += 1\n",
    "\n",
    "print(appearing / (appearing + not_appearing))"
   ]
  },
  {
   "cell_type": "code",
   "execution_count": 49,
   "metadata": {},
   "outputs": [],
   "source": [
    "tree_accessions_list = []\n",
    "for lineage in lineages_in_tree:\n",
    "    accessions = covid19_genome.getLocalAccessionsPath(lineage)[:10]\n",
    "    tree_accessions_list += accessions"
   ]
  },
  {
   "cell_type": "code",
   "execution_count": 50,
   "metadata": {},
   "outputs": [],
   "source": [
    "tree_predicted = model.predict(\n",
    "    ml_model_name=ml_model_name,\n",
    "    dataset_type=model.get_ds_types()[0],\n",
    "    dataset_props=model.get_ds_props(),\n",
    "    examples=tree_accessions_list,\n",
    "    top_k=1\n",
    ")"
   ]
  },
  {
   "cell_type": "code",
   "execution_count": 53,
   "metadata": {},
   "outputs": [],
   "source": [
    "blue_ones = []\n",
    "for acc in tree_predicted:\n",
    "    blue_ones.append(tree_predicted[acc][\"probs\"][0])"
   ]
  },
  {
   "cell_type": "code",
   "execution_count": 54,
   "metadata": {},
   "outputs": [],
   "source": [
    "red_ones = []\n",
    "for acc in predicted:\n",
    "    red_ones.append(predicted[acc][\"probs\"][0])"
   ]
  },
  {
   "cell_type": "code",
   "execution_count": 60,
   "metadata": {},
   "outputs": [
    {
     "name": "stderr",
     "output_type": "stream",
     "text": [
      "/home/zuherj/miniconda3/envs/vital/lib/python3.9/site-packages/seaborn/_oldcore.py:1498: FutureWarning: is_categorical_dtype is deprecated and will be removed in a future version. Use isinstance(dtype, CategoricalDtype) instead\n",
      "  if pd.api.types.is_categorical_dtype(vector):\n",
      "/home/zuherj/miniconda3/envs/vital/lib/python3.9/site-packages/seaborn/_oldcore.py:1498: FutureWarning: is_categorical_dtype is deprecated and will be removed in a future version. Use isinstance(dtype, CategoricalDtype) instead\n",
      "  if pd.api.types.is_categorical_dtype(vector):\n",
      "/home/zuherj/miniconda3/envs/vital/lib/python3.9/site-packages/seaborn/_oldcore.py:1498: FutureWarning: is_categorical_dtype is deprecated and will be removed in a future version. Use isinstance(dtype, CategoricalDtype) instead\n",
      "  if pd.api.types.is_categorical_dtype(vector):\n"
     ]
    },
    {
     "data": {
      "image/png": "[encoded data removed]",
      "text/plain": [
       "<Figure size 640x480 with 1 Axes>"
      ]
     },
     "metadata": {},
     "output_type": "display_data"
    }
   ],
   "source": [
    "# plot blue plots and red plots with ggplot style using box plot\n",
    "import matplotlib.pyplot as plt\n",
    "import seaborn as sns\n",
    "import pandas as pd\n",
    "import numpy as np\n",
    "\n",
    "df = pd.DataFrame({\n",
    "    \"color\": [\"blue\"] * len(blue_ones) + [\"red\"] * len(red_ones),\n",
    "    \"prob\": blue_ones + red_ones\n",
    "})\n",
    "\n",
    "sns.set_theme(style=\"whitegrid\")\n",
    "ax = sns.boxplot(x=\"color\", y=\"prob\", data=df)\n",
    "ax.set_title(\"Box plot of probabilities\")\n",
    "plt.show()\n"
   ]
  },
  {
   "cell_type": "code",
   "execution_count": 61,
   "metadata": {},
   "outputs": [
    {
     "name": "stderr",
     "output_type": "stream",
     "text": [
      "/home/zuherj/miniconda3/envs/vital/lib/python3.9/site-packages/seaborn/_oldcore.py:1498: FutureWarning: is_categorical_dtype is deprecated and will be removed in a future version. Use isinstance(dtype, CategoricalDtype) instead\n",
      "  if pd.api.types.is_categorical_dtype(vector):\n",
      "/home/zuherj/miniconda3/envs/vital/lib/python3.9/site-packages/seaborn/_oldcore.py:1498: FutureWarning: is_categorical_dtype is deprecated and will be removed in a future version. Use isinstance(dtype, CategoricalDtype) instead\n",
      "  if pd.api.types.is_categorical_dtype(vector):\n",
      "/home/zuherj/miniconda3/envs/vital/lib/python3.9/site-packages/seaborn/_oldcore.py:1498: FutureWarning: is_categorical_dtype is deprecated and will be removed in a future version. Use isinstance(dtype, CategoricalDtype) instead\n",
      "  if pd.api.types.is_categorical_dtype(vector):\n"
     ]
    },
    {
     "data": {
      "image/png": "[encoded data removed]",
      "text/plain": [
       "<Figure size 640x480 with 1 Axes>"
      ]
     },
     "metadata": {},
     "output_type": "display_data"
    }
   ],
   "source": [
    "# plot blue plots and red plots with ggplot style using violin plot\n",
    "import matplotlib.pyplot as plt\n",
    "import seaborn as sns\n",
    "import pandas as pd\n",
    "import numpy as np\n",
    "\n",
    "df = pd.DataFrame({\n",
    "    \"color\": [\"blue\"] * len(blue_ones) + [\"red\"] * len(red_ones),\n",
    "    \"prob\": blue_ones + red_ones\n",
    "})\n",
    "\n",
    "sns.set_theme(style=\"whitegrid\")\n",
    "ax = sns.violinplot(x=\"color\", y=\"prob\", data=df)\n",
    "ax.set_title(\"Violin plot of probabilities\")\n",
    "plt.show()"
   ]
  },
  {
   "cell_type": "code",
   "execution_count": 68,
   "metadata": {},
   "outputs": [],
   "source": [
    "# find threshold that differentiates blue and red best\n",
    "best_threshold = 0.9\n",
    "best_accuracy = 0\n",
    "for threshold in np.arange(0.9, 1, 0.002):\n",
    "    accuracy = 0\n",
    "    for prob in blue_ones:\n",
    "        if prob >= threshold:\n",
    "            accuracy += 1\n",
    "    for prob in red_ones:\n",
    "        if prob < threshold:\n",
    "            accuracy += 1\n",
    "    accuracy /= len(blue_ones) + len(red_ones)\n",
    "    if accuracy > best_accuracy:\n",
    "        best_accuracy = accuracy\n",
    "        best_threshold = threshold"
   ]
  },
  {
   "cell_type": "code",
   "execution_count": 69,
   "metadata": {},
   "outputs": [
    {
     "data": {
      "text/plain": [
       "0.805759162303665"
      ]
     },
     "execution_count": 69,
     "metadata": {},
     "output_type": "execute_result"
    }
   ],
   "source": [
    "best_accuracy"
   ]
  },
  {
   "cell_type": "code",
   "execution_count": 70,
   "metadata": {},
   "outputs": [
    {
     "data": {
      "text/plain": [
       "0.9980000000000001"
      ]
     },
     "execution_count": 70,
     "metadata": {},
     "output_type": "execute_result"
    }
   ],
   "source": [
    "best_threshold"
   ]
  },
  {
   "cell_type": "code",
   "execution_count": 58,
   "metadata": {},
   "outputs": [
    {
     "name": "stdout",
     "output_type": "stream",
     "text": [
      "0.9527269006162494\n",
      "0.7930009059869406\n",
      "0.12123120613163858\n",
      "0.17651995294463135\n"
     ]
    }
   ],
   "source": [
    "# calculate the mean of blue and red points\n",
    "import numpy as np\n",
    "print(np.mean(blue_ones))\n",
    "print(np.mean(red_ones))\n",
    "\n",
    "# calculate the standard deviation of blue and red points\n",
    "print(np.std(blue_ones))\n",
    "print(np.std(red_ones))"
   ]
  },
  {
   "cell_type": "code",
   "execution_count": null,
   "metadata": {},
   "outputs": [],
   "source": []
  }
 ],
 "metadata": {
  "kernelspec": {
   "display_name": "covit",
   "language": "python",
   "name": "python3"
  },
  "language_info": {
   "codemirror_mode": {
    "name": "ipython",
    "version": 3
   },
   "file_extension": ".py",
   "mimetype": "text/x-python",
   "name": "python",
   "nbconvert_exporter": "python",
   "pygments_lexer": "ipython3",
   "version": "3.9.18"
  },
  "orig_nbformat": 4
 },
 "nbformat": 4,
 "nbformat_minor": 2
}
