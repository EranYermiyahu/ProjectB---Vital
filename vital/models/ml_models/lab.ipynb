{
 "cells": [
  {
   "cell_type": "code",
   "execution_count": 1,
   "metadata": {},
   "outputs": [
    {
     "name": "stderr",
     "output_type": "stream",
     "text": [
      "2023-08-27 17:31:20.048791: I tensorflow/core/util/port.cc:110] oneDNN custom operations are on. You may see slightly different numerical results due to floating-point round-off errors from different computation orders. To turn them off, set the environment variable `TF_ENABLE_ONEDNN_OPTS=0`.\n",
      "2023-08-27 17:31:20.075399: I tensorflow/core/platform/cpu_feature_guard.cc:182] This TensorFlow binary is optimized to use available CPU instructions in performance-critical operations.\n",
      "To enable the following instructions: AVX2 AVX_VNNI FMA, in other operations, rebuild TensorFlow with the appropriate compiler flags.\n",
      "2023-08-27 17:31:20.515561: W tensorflow/compiler/tf2tensorrt/utils/py_utils.cc:38] TF-TRT Warning: Could not find TensorRT\n"
     ]
    }
   ],
   "source": [
    "from ml_model import *"
   ]
  },
  {
   "cell_type": "code",
   "execution_count": 2,
   "metadata": {},
   "outputs": [
    {
     "name": "stdout",
     "output_type": "stream",
     "text": [
      "arrived here\n",
      "structure\n",
      "labels\n"
     ]
    },
    {
     "name": "stderr",
     "output_type": "stream",
     "text": [
      "2023-08-27 17:31:21.023960: I tensorflow/compiler/xla/stream_executor/cuda/cuda_gpu_executor.cc:995] successful NUMA node read from SysFS had negative value (-1), but there must be at least one NUMA node, so returning NUMA node zero. See more at https://github.com/torvalds/linux/blob/v6.0/Documentation/ABI/testing/sysfs-bus-pci#L344-L355\n",
      "2023-08-27 17:31:21.176235: I tensorflow/compiler/xla/stream_executor/cuda/cuda_gpu_executor.cc:995] successful NUMA node read from SysFS had negative value (-1), but there must be at least one NUMA node, so returning NUMA node zero. See more at https://github.com/torvalds/linux/blob/v6.0/Documentation/ABI/testing/sysfs-bus-pci#L344-L355\n",
      "2023-08-27 17:31:21.176351: I tensorflow/compiler/xla/stream_executor/cuda/cuda_gpu_executor.cc:995] successful NUMA node read from SysFS had negative value (-1), but there must be at least one NUMA node, so returning NUMA node zero. See more at https://github.com/torvalds/linux/blob/v6.0/Documentation/ABI/testing/sysfs-bus-pci#L344-L355\n",
      "2023-08-27 17:31:21.177029: I tensorflow/compiler/xla/stream_executor/cuda/cuda_gpu_executor.cc:995] successful NUMA node read from SysFS had negative value (-1), but there must be at least one NUMA node, so returning NUMA node zero. See more at https://github.com/torvalds/linux/blob/v6.0/Documentation/ABI/testing/sysfs-bus-pci#L344-L355\n",
      "2023-08-27 17:31:21.177105: I tensorflow/compiler/xla/stream_executor/cuda/cuda_gpu_executor.cc:995] successful NUMA node read from SysFS had negative value (-1), but there must be at least one NUMA node, so returning NUMA node zero. See more at https://github.com/torvalds/linux/blob/v6.0/Documentation/ABI/testing/sysfs-bus-pci#L344-L355\n",
      "2023-08-27 17:31:21.177153: I tensorflow/compiler/xla/stream_executor/cuda/cuda_gpu_executor.cc:995] successful NUMA node read from SysFS had negative value (-1), but there must be at least one NUMA node, so returning NUMA node zero. See more at https://github.com/torvalds/linux/blob/v6.0/Documentation/ABI/testing/sysfs-bus-pci#L344-L355\n",
      "2023-08-27 17:31:21.877052: I tensorflow/compiler/xla/stream_executor/cuda/cuda_gpu_executor.cc:995] successful NUMA node read from SysFS had negative value (-1), but there must be at least one NUMA node, so returning NUMA node zero. See more at https://github.com/torvalds/linux/blob/v6.0/Documentation/ABI/testing/sysfs-bus-pci#L344-L355\n",
      "2023-08-27 17:31:21.877190: I tensorflow/compiler/xla/stream_executor/cuda/cuda_gpu_executor.cc:995] successful NUMA node read from SysFS had negative value (-1), but there must be at least one NUMA node, so returning NUMA node zero. See more at https://github.com/torvalds/linux/blob/v6.0/Documentation/ABI/testing/sysfs-bus-pci#L344-L355\n",
      "2023-08-27 17:31:21.877319: I tensorflow/compiler/xla/stream_executor/cuda/cuda_gpu_executor.cc:995] successful NUMA node read from SysFS had negative value (-1), but there must be at least one NUMA node, so returning NUMA node zero. See more at https://github.com/torvalds/linux/blob/v6.0/Documentation/ABI/testing/sysfs-bus-pci#L344-L355\n",
      "2023-08-27 17:31:21.877948: I tensorflow/core/common_runtime/gpu/gpu_device.cc:1639] Created device /job:localhost/replica:0/task:0/device:GPU:0 with 22325 MB memory:  -> device: 0, name: NVIDIA RTX A5000, pci bus id: 0000:01:00.0, compute capability: 8.6\n"
     ]
    },
    {
     "ename": "Exception",
     "evalue": "Attribute encoder_repeats not found in model hyper parameters",
     "output_type": "error",
     "traceback": [
      "\u001b[0;31m---------------------------------------------------------------------------\u001b[0m",
      "\u001b[0;31mException\u001b[0m                                 Traceback (most recent call last)",
      "Cell \u001b[0;32mIn[2], line 1\u001b[0m\n\u001b[0;32m----> 1\u001b[0m ml_model \u001b[39m=\u001b[39m MLModel(dirpath\u001b[39m=\u001b[39;49m\u001b[39m\"\u001b[39;49m\u001b[39mtmp/\u001b[39;49m\u001b[39m\"\u001b[39;49m, name\u001b[39m=\u001b[39;49m\u001b[39m\"\u001b[39;49m\u001b[39mmeow\u001b[39;49m\u001b[39m\"\u001b[39;49m, hps\u001b[39m=\u001b[39;49m{\n\u001b[1;32m      2\u001b[0m     \u001b[39m\"\u001b[39;49m\u001b[39mstructure\u001b[39;49m\u001b[39m\"\u001b[39;49m: \u001b[39m\"\u001b[39;49m\u001b[39mVitStructure\u001b[39;49m\u001b[39m\"\u001b[39;49m,\n\u001b[1;32m      3\u001b[0m     \u001b[39m\"\u001b[39;49m\u001b[39mlabels\u001b[39;49m\u001b[39m\"\u001b[39;49m: \u001b[39m2\u001b[39;49m\n\u001b[1;32m      4\u001b[0m })\n",
      "File \u001b[0;32m~/codehub/active/vital/models/ml_models/ml_model.py:47\u001b[0m, in \u001b[0;36mMLModel.__init__\u001b[0;34m(self, dirpath, name, hps, load)\u001b[0m\n\u001b[1;32m     45\u001b[0m     \u001b[39mself\u001b[39m\u001b[39m.\u001b[39m_load_state()\n\u001b[1;32m     46\u001b[0m \u001b[39melse\u001b[39;00m:\n\u001b[0;32m---> 47\u001b[0m     \u001b[39mself\u001b[39;49m\u001b[39m.\u001b[39;49m_create_ml_model()\n\u001b[1;32m     48\u001b[0m     \u001b[39mself\u001b[39m\u001b[39m.\u001b[39msave()\n",
      "File \u001b[0;32m~/codehub/active/vital/models/ml_models/ml_model.py:255\u001b[0m, in \u001b[0;36mMLModel._create_ml_model\u001b[0;34m(self)\u001b[0m\n\u001b[1;32m    253\u001b[0m \u001b[39mdef\u001b[39;00m \u001b[39m_create_ml_model\u001b[39m(\u001b[39mself\u001b[39m):\n\u001b[1;32m    254\u001b[0m     \u001b[39m# create the model\u001b[39;00m\n\u001b[0;32m--> 255\u001b[0m     \u001b[39mself\u001b[39m\u001b[39m.\u001b[39mnet \u001b[39m=\u001b[39m get_structure(\u001b[39mself\u001b[39;49m\u001b[39m.\u001b[39;49mhps\u001b[39m.\u001b[39;49mget(HPs\u001b[39m.\u001b[39;49mattributes\u001b[39m.\u001b[39;49mstructure\u001b[39m.\u001b[39;49mname))(\u001b[39mself\u001b[39;49m\u001b[39m.\u001b[39;49mhps)\n\u001b[1;32m    257\u001b[0m     \u001b[39m# compile the model\u001b[39;00m\n\u001b[1;32m    258\u001b[0m     \u001b[39mself\u001b[39m\u001b[39m.\u001b[39mnet\u001b[39m.\u001b[39mcompile(\n\u001b[1;32m    259\u001b[0m         optimizer \u001b[39m=\u001b[39m \u001b[39mself\u001b[39m\u001b[39m.\u001b[39mhps\u001b[39m.\u001b[39mget(HPs\u001b[39m.\u001b[39mattributes\u001b[39m.\u001b[39moptimizer\u001b[39m.\u001b[39mname),\n\u001b[1;32m    260\u001b[0m         loss \u001b[39m=\u001b[39m \u001b[39mself\u001b[39m\u001b[39m.\u001b[39mhps\u001b[39m.\u001b[39mget(HPs\u001b[39m.\u001b[39mattributes\u001b[39m.\u001b[39mloss\u001b[39m.\u001b[39mname),\n\u001b[1;32m    261\u001b[0m         metrics \u001b[39m=\u001b[39m \u001b[39mself\u001b[39m\u001b[39m.\u001b[39mhps\u001b[39m.\u001b[39mget(HPs\u001b[39m.\u001b[39mattributes\u001b[39m.\u001b[39mmetrics\u001b[39m.\u001b[39mname)\n\u001b[1;32m    262\u001b[0m     )\n",
      "File \u001b[0;32m~/codehub/active/vital/models/ml_models/vit_v2.py:121\u001b[0m, in \u001b[0;36mVitStructure.__init__\u001b[0;34m(self, hps)\u001b[0m\n\u001b[1;32m    104\u001b[0m \u001b[39m# define the different netowrk layers\u001b[39;00m\n\u001b[1;32m    105\u001b[0m \u001b[39mself\u001b[39m\u001b[39m.\u001b[39membedding \u001b[39m=\u001b[39m tf\u001b[39m.\u001b[39mkeras\u001b[39m.\u001b[39mlayers\u001b[39m.\u001b[39mDense(\n\u001b[1;32m    106\u001b[0m     units\u001b[39m=\u001b[39m\u001b[39m1\u001b[39m,\n\u001b[1;32m    107\u001b[0m     activation\u001b[39m=\u001b[39m\u001b[39m\"\u001b[39m\u001b[39mlinear\u001b[39m\u001b[39m\"\u001b[39m,\n\u001b[1;32m    108\u001b[0m     kernel_initializer\u001b[39m=\u001b[39m\u001b[39mself\u001b[39m\u001b[39m.\u001b[39mhps\u001b[39m.\u001b[39mget(HPs\u001b[39m.\u001b[39mattributes\u001b[39m.\u001b[39minitializer\u001b[39m.\u001b[39mname),\n\u001b[1;32m    109\u001b[0m     kernel_regularizer\u001b[39m=\u001b[39m\u001b[39mself\u001b[39m\u001b[39m.\u001b[39mhps\u001b[39m.\u001b[39mget(HPs\u001b[39m.\u001b[39mattributes\u001b[39m.\u001b[39mregularizer\u001b[39m.\u001b[39mname),\n\u001b[1;32m    110\u001b[0m )\n\u001b[1;32m    111\u001b[0m \u001b[39mself\u001b[39m\u001b[39m.\u001b[39mencoders \u001b[39m=\u001b[39m [Encoder(\n\u001b[1;32m    112\u001b[0m     d_model\u001b[39m=\u001b[39m\u001b[39mself\u001b[39m\u001b[39m.\u001b[39mhps\u001b[39m.\u001b[39mget(\u001b[39m\"\u001b[39m\u001b[39md_model\u001b[39m\u001b[39m\"\u001b[39m),\n\u001b[1;32m    113\u001b[0m     d_val\u001b[39m=\u001b[39m\u001b[39mself\u001b[39m\u001b[39m.\u001b[39mhps\u001b[39m.\u001b[39mget(\u001b[39m\"\u001b[39m\u001b[39md_val\u001b[39m\u001b[39m\"\u001b[39m),\n\u001b[1;32m    114\u001b[0m     d_key\u001b[39m=\u001b[39m\u001b[39mself\u001b[39m\u001b[39m.\u001b[39mhps\u001b[39m.\u001b[39mget(\u001b[39m\"\u001b[39m\u001b[39md_key\u001b[39m\u001b[39m\"\u001b[39m),\n\u001b[1;32m    115\u001b[0m     d_ff\u001b[39m=\u001b[39m\u001b[39mself\u001b[39m\u001b[39m.\u001b[39mhps\u001b[39m.\u001b[39mget(\u001b[39m\"\u001b[39m\u001b[39md_ff\u001b[39m\u001b[39m\"\u001b[39m),\n\u001b[1;32m    116\u001b[0m     heads\u001b[39m=\u001b[39m\u001b[39mself\u001b[39m\u001b[39m.\u001b[39mhps\u001b[39m.\u001b[39mget(\u001b[39m\"\u001b[39m\u001b[39mheads\u001b[39m\u001b[39m\"\u001b[39m),\n\u001b[1;32m    117\u001b[0m     dropout_rate\u001b[39m=\u001b[39m\u001b[39mself\u001b[39m\u001b[39m.\u001b[39mhps\u001b[39m.\u001b[39mget(HPs\u001b[39m.\u001b[39mattributes\u001b[39m.\u001b[39mdropout_rate\u001b[39m.\u001b[39mname),\n\u001b[1;32m    118\u001b[0m     regularizer\u001b[39m=\u001b[39m\u001b[39mself\u001b[39m\u001b[39m.\u001b[39mhps\u001b[39m.\u001b[39mget(HPs\u001b[39m.\u001b[39mattributes\u001b[39m.\u001b[39mregularizer\u001b[39m.\u001b[39mname),\n\u001b[1;32m    119\u001b[0m     initializer\u001b[39m=\u001b[39m\u001b[39mself\u001b[39m\u001b[39m.\u001b[39mhps\u001b[39m.\u001b[39mget(HPs\u001b[39m.\u001b[39mattributes\u001b[39m.\u001b[39minitializer\u001b[39m.\u001b[39mname),\n\u001b[1;32m    120\u001b[0m     activation\u001b[39m=\u001b[39m\u001b[39mself\u001b[39m\u001b[39m.\u001b[39mhps\u001b[39m.\u001b[39mget(HPs\u001b[39m.\u001b[39mattributes\u001b[39m.\u001b[39mactivation\u001b[39m.\u001b[39mname),\n\u001b[0;32m--> 121\u001b[0m ) \u001b[39mfor\u001b[39;00m _ \u001b[39min\u001b[39;00m \u001b[39mrange\u001b[39m(\u001b[39mself\u001b[39;49m\u001b[39m.\u001b[39;49mhps\u001b[39m.\u001b[39;49mget(\u001b[39m\"\u001b[39;49m\u001b[39mencoder_repeats\u001b[39;49m\u001b[39m\"\u001b[39;49m))]\n\u001b[1;32m    122\u001b[0m \u001b[39mself\u001b[39m\u001b[39m.\u001b[39msoftmax_dense \u001b[39m=\u001b[39m tf\u001b[39m.\u001b[39mkeras\u001b[39m.\u001b[39mlayers\u001b[39m.\u001b[39mDense(\n\u001b[1;32m    123\u001b[0m     units\u001b[39m=\u001b[39m\u001b[39mself\u001b[39m\u001b[39m.\u001b[39mhps\u001b[39m.\u001b[39mget(\u001b[39m\"\u001b[39m\u001b[39mlabels\u001b[39m\u001b[39m\"\u001b[39m),\n\u001b[1;32m    124\u001b[0m     activation\u001b[39m=\u001b[39m\u001b[39m\"\u001b[39m\u001b[39msoftmax\u001b[39m\u001b[39m\"\u001b[39m,\n\u001b[0;32m   (...)\u001b[0m\n\u001b[1;32m    127\u001b[0m     name\u001b[39m=\u001b[39m\u001b[39m\"\u001b[39m\u001b[39msoftmax_dense\u001b[39m\u001b[39m\"\u001b[39m\n\u001b[1;32m    128\u001b[0m )\n",
      "File \u001b[0;32m~/codehub/active/vital/models/ml_models/hps.py:57\u001b[0m, in \u001b[0;36mHPs.get\u001b[0;34m(self, attribute)\u001b[0m\n\u001b[1;32m     56\u001b[0m \u001b[39mdef\u001b[39;00m \u001b[39mget\u001b[39m(\u001b[39mself\u001b[39m, attribute):\n\u001b[0;32m---> 57\u001b[0m     \u001b[39mreturn\u001b[39;00m \u001b[39mself\u001b[39;49m\u001b[39m.\u001b[39;49mhps_get_behavior\u001b[39m.\u001b[39;49mget(attribute, \u001b[39mself\u001b[39;49m\u001b[39m.\u001b[39;49mdefault_behavior)(attribute)\n",
      "File \u001b[0;32m~/codehub/active/vital/models/ml_models/hps.py:86\u001b[0m, in \u001b[0;36mHPs.default_behavior\u001b[0;34m(self, attribute)\u001b[0m\n\u001b[1;32m     84\u001b[0m     \u001b[39mreturn\u001b[39;00m \u001b[39mself\u001b[39m\u001b[39m.\u001b[39mhps[attribute]\n\u001b[1;32m     85\u001b[0m \u001b[39melse\u001b[39;00m:\n\u001b[0;32m---> 86\u001b[0m     \u001b[39mraise\u001b[39;00m \u001b[39mException\u001b[39;00m(\u001b[39mf\u001b[39m\u001b[39m\"\u001b[39m\u001b[39mAttribute \u001b[39m\u001b[39m{\u001b[39;00mattribute\u001b[39m}\u001b[39;00m\u001b[39m not found in model hyper parameters\u001b[39m\u001b[39m\"\u001b[39m)\n",
      "\u001b[0;31mException\u001b[0m: Attribute encoder_repeats not found in model hyper parameters"
     ]
    }
   ],
   "source": [
    "ml_model = MLModel(dirpath=\"tmp/\", name=\"meow\", hps={\n",
    "    \"structure\": \"VitStructure\",\n",
    "    \"labels\": 2,\n",
    "    \"encoder_repeats\": 1,\n",
    "    \"d_model\": 128,\n",
    "    \"d_val\": 128,\n",
    "    \"d_key\": 128,\n",
    "    \"d_ff\": 128,\n",
    "    \"heads\": 4,\n",
    "    \"dropout_rate\": 0.1,\n",
    "})"
   ]
  }
 ],
 "metadata": {
  "kernelspec": {
   "display_name": "covit",
   "language": "python",
   "name": "python3"
  },
  "language_info": {
   "codemirror_mode": {
    "name": "ipython",
    "version": 3
   },
   "file_extension": ".py",
   "mimetype": "text/x-python",
   "name": "python",
   "nbconvert_exporter": "python",
   "pygments_lexer": "ipython3",
   "version": "3.9.17"
  },
  "orig_nbformat": 4
 },
 "nbformat": 4,
 "nbformat_minor": 2
}
